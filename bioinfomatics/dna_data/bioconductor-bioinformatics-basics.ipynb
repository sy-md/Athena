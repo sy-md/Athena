{
 "cells": [
  {
   "cell_type": "code",
   "execution_count": 1,
   "id": "3f979240",
   "metadata": {
    "_execution_state": "idle",
    "_kg_hide-output": true,
    "_uuid": "051d70d956493feee0c6d64651c6a088724dca2a",
    "execution": {
     "iopub.execute_input": "2022-08-02T17:06:10.433661Z",
     "iopub.status.busy": "2022-08-02T17:06:10.431031Z",
     "iopub.status.idle": "2022-08-02T17:06:11.803486Z",
     "shell.execute_reply": "2022-08-02T17:06:11.801408Z"
    },
    "papermill": {
     "duration": 1.626518,
     "end_time": "2022-08-02T17:06:11.803669",
     "exception": false,
     "start_time": "2022-08-02T17:06:10.177151",
     "status": "completed"
    },
    "tags": []
   },
   "outputs": [
    {
     "name": "stderr",
     "output_type": "stream",
     "text": [
      "── \u001b[1mAttaching packages\u001b[22m ─────────────────────────────────────── tidyverse 1.3.1 ──\n",
      "\n",
      "\u001b[32m✔\u001b[39m \u001b[34mggplot2\u001b[39m 3.3.5     \u001b[32m✔\u001b[39m \u001b[34mpurrr  \u001b[39m 0.3.4\n",
      "\u001b[32m✔\u001b[39m \u001b[34mtibble \u001b[39m 3.1.5     \u001b[32m✔\u001b[39m \u001b[34mdplyr  \u001b[39m 1.0.7\n",
      "\u001b[32m✔\u001b[39m \u001b[34mtidyr  \u001b[39m 1.1.4     \u001b[32m✔\u001b[39m \u001b[34mstringr\u001b[39m 1.4.0\n",
      "\u001b[32m✔\u001b[39m \u001b[34mreadr  \u001b[39m 2.0.2     \u001b[32m✔\u001b[39m \u001b[34mforcats\u001b[39m 0.5.1\n",
      "\n",
      "── \u001b[1mConflicts\u001b[22m ────────────────────────────────────────── tidyverse_conflicts() ──\n",
      "\u001b[31m✖\u001b[39m \u001b[34mdplyr\u001b[39m::\u001b[32mfilter()\u001b[39m masks \u001b[34mstats\u001b[39m::filter()\n",
      "\u001b[31m✖\u001b[39m \u001b[34mdplyr\u001b[39m::\u001b[32mlag()\u001b[39m    masks \u001b[34mstats\u001b[39m::lag()\n",
      "\n"
     ]
    },
    {
     "data": {
      "text/html": [
       "<style>\n",
       ".list-inline {list-style: none; margin:0; padding: 0}\n",
       ".list-inline>li {display: inline-block}\n",
       ".list-inline>li:not(:last-child)::after {content: \"\\00b7\"; padding: 0 .5ex}\n",
       "</style>\n",
       "<ol class=list-inline><li>'1MRR_A.gp'</li><li>'AAH12844.1.faa'</li><li>'arab1.gb'</li><li>'bad_loc_wrap.gb'</li><li>'bad_origin_wrap_CDS.gb'</li><li>'bad_origin_wrap_fuzzy.gb'</li><li>'bad_origin_wrap_linear.gb'</li><li>'bad_origin_wrap.gb'</li><li>'blank_seq.gb'</li><li>'cor6_6.gb'</li><li>'dbsource_wrap.gb'</li><li>'DS830848.gb'</li><li>'empty_accession.gbk'</li><li>'empty_feature_qualifier.gb'</li><li>'empty_version.gbk'</li><li>'EU851978_output.gbk'</li><li>'EU851978.gbk'</li><li>'example.fasta'</li><li>'example.gb'</li><li>'extra_keywords.gb'</li><li>'gbvrl1_start.seq'</li><li>'GU949562.1.gb'</li><li>'HM138502_output.gbk'</li><li>'HM138502.gbk'</li><li>'invalid_locus_line_spacing.gb'</li><li>'invalid_misc_feature.gb'</li><li>'invalid_product.gb'</li><li>'invalid_structured_comment.gb'</li><li>'iro.gb'</li><li>'KF527485_output.gbk'</li><li>'KF527485.gbk'</li><li>'NC_000932.faa'</li><li>'NC_000932.gb'</li><li>'NC_005816.faa'</li><li>'NC_005816.ffn'</li><li>'NC_005816.fna'</li><li>'NC_005816.gb'</li><li>'negative_location.gb'</li><li>'no_end_marker.gb'</li><li>'no_origin_no_end.gb'</li><li>'noref.gb'</li><li>'NP_001265185.1.faa'</li><li>'NT_019265.gb'</li><li>'one_of.gb'</li><li>'origin_line.gb'</li><li>'P38398.fasta'</li><li>'pBAD30.gb'</li><li>'pri1.gb'</li><li>'protein_refseq.gb'</li><li>'protein_refseq2.gb'</li><li>'qualifier_escaping_read.gb'</li><li>'qualifier_escaping_write.gb'</li><li>'tls_KDHP01000000.gb'</li><li>'tsa_acropora.gb'</li><li>'wrong_sequence_indent.gb'</li></ol>\n"
      ],
      "text/latex": [
       "\\begin{enumerate*}\n",
       "\\item '1MRR\\_A.gp'\n",
       "\\item 'AAH12844.1.faa'\n",
       "\\item 'arab1.gb'\n",
       "\\item 'bad\\_loc\\_wrap.gb'\n",
       "\\item 'bad\\_origin\\_wrap\\_CDS.gb'\n",
       "\\item 'bad\\_origin\\_wrap\\_fuzzy.gb'\n",
       "\\item 'bad\\_origin\\_wrap\\_linear.gb'\n",
       "\\item 'bad\\_origin\\_wrap.gb'\n",
       "\\item 'blank\\_seq.gb'\n",
       "\\item 'cor6\\_6.gb'\n",
       "\\item 'dbsource\\_wrap.gb'\n",
       "\\item 'DS830848.gb'\n",
       "\\item 'empty\\_accession.gbk'\n",
       "\\item 'empty\\_feature\\_qualifier.gb'\n",
       "\\item 'empty\\_version.gbk'\n",
       "\\item 'EU851978\\_output.gbk'\n",
       "\\item 'EU851978.gbk'\n",
       "\\item 'example.fasta'\n",
       "\\item 'example.gb'\n",
       "\\item 'extra\\_keywords.gb'\n",
       "\\item 'gbvrl1\\_start.seq'\n",
       "\\item 'GU949562.1.gb'\n",
       "\\item 'HM138502\\_output.gbk'\n",
       "\\item 'HM138502.gbk'\n",
       "\\item 'invalid\\_locus\\_line\\_spacing.gb'\n",
       "\\item 'invalid\\_misc\\_feature.gb'\n",
       "\\item 'invalid\\_product.gb'\n",
       "\\item 'invalid\\_structured\\_comment.gb'\n",
       "\\item 'iro.gb'\n",
       "\\item 'KF527485\\_output.gbk'\n",
       "\\item 'KF527485.gbk'\n",
       "\\item 'NC\\_000932.faa'\n",
       "\\item 'NC\\_000932.gb'\n",
       "\\item 'NC\\_005816.faa'\n",
       "\\item 'NC\\_005816.ffn'\n",
       "\\item 'NC\\_005816.fna'\n",
       "\\item 'NC\\_005816.gb'\n",
       "\\item 'negative\\_location.gb'\n",
       "\\item 'no\\_end\\_marker.gb'\n",
       "\\item 'no\\_origin\\_no\\_end.gb'\n",
       "\\item 'noref.gb'\n",
       "\\item 'NP\\_001265185.1.faa'\n",
       "\\item 'NT\\_019265.gb'\n",
       "\\item 'one\\_of.gb'\n",
       "\\item 'origin\\_line.gb'\n",
       "\\item 'P38398.fasta'\n",
       "\\item 'pBAD30.gb'\n",
       "\\item 'pri1.gb'\n",
       "\\item 'protein\\_refseq.gb'\n",
       "\\item 'protein\\_refseq2.gb'\n",
       "\\item 'qualifier\\_escaping\\_read.gb'\n",
       "\\item 'qualifier\\_escaping\\_write.gb'\n",
       "\\item 'tls\\_KDHP01000000.gb'\n",
       "\\item 'tsa\\_acropora.gb'\n",
       "\\item 'wrong\\_sequence\\_indent.gb'\n",
       "\\end{enumerate*}\n"
      ],
      "text/markdown": [
       "1. '1MRR_A.gp'\n",
       "2. 'AAH12844.1.faa'\n",
       "3. 'arab1.gb'\n",
       "4. 'bad_loc_wrap.gb'\n",
       "5. 'bad_origin_wrap_CDS.gb'\n",
       "6. 'bad_origin_wrap_fuzzy.gb'\n",
       "7. 'bad_origin_wrap_linear.gb'\n",
       "8. 'bad_origin_wrap.gb'\n",
       "9. 'blank_seq.gb'\n",
       "10. 'cor6_6.gb'\n",
       "11. 'dbsource_wrap.gb'\n",
       "12. 'DS830848.gb'\n",
       "13. 'empty_accession.gbk'\n",
       "14. 'empty_feature_qualifier.gb'\n",
       "15. 'empty_version.gbk'\n",
       "16. 'EU851978_output.gbk'\n",
       "17. 'EU851978.gbk'\n",
       "18. 'example.fasta'\n",
       "19. 'example.gb'\n",
       "20. 'extra_keywords.gb'\n",
       "21. 'gbvrl1_start.seq'\n",
       "22. 'GU949562.1.gb'\n",
       "23. 'HM138502_output.gbk'\n",
       "24. 'HM138502.gbk'\n",
       "25. 'invalid_locus_line_spacing.gb'\n",
       "26. 'invalid_misc_feature.gb'\n",
       "27. 'invalid_product.gb'\n",
       "28. 'invalid_structured_comment.gb'\n",
       "29. 'iro.gb'\n",
       "30. 'KF527485_output.gbk'\n",
       "31. 'KF527485.gbk'\n",
       "32. 'NC_000932.faa'\n",
       "33. 'NC_000932.gb'\n",
       "34. 'NC_005816.faa'\n",
       "35. 'NC_005816.ffn'\n",
       "36. 'NC_005816.fna'\n",
       "37. 'NC_005816.gb'\n",
       "38. 'negative_location.gb'\n",
       "39. 'no_end_marker.gb'\n",
       "40. 'no_origin_no_end.gb'\n",
       "41. 'noref.gb'\n",
       "42. 'NP_001265185.1.faa'\n",
       "43. 'NT_019265.gb'\n",
       "44. 'one_of.gb'\n",
       "45. 'origin_line.gb'\n",
       "46. 'P38398.fasta'\n",
       "47. 'pBAD30.gb'\n",
       "48. 'pri1.gb'\n",
       "49. 'protein_refseq.gb'\n",
       "50. 'protein_refseq2.gb'\n",
       "51. 'qualifier_escaping_read.gb'\n",
       "52. 'qualifier_escaping_write.gb'\n",
       "53. 'tls_KDHP01000000.gb'\n",
       "54. 'tsa_acropora.gb'\n",
       "55. 'wrong_sequence_indent.gb'\n",
       "\n",
       "\n"
      ],
      "text/plain": [
       " [1] \"1MRR_A.gp\"                     \"AAH12844.1.faa\"               \n",
       " [3] \"arab1.gb\"                      \"bad_loc_wrap.gb\"              \n",
       " [5] \"bad_origin_wrap_CDS.gb\"        \"bad_origin_wrap_fuzzy.gb\"     \n",
       " [7] \"bad_origin_wrap_linear.gb\"     \"bad_origin_wrap.gb\"           \n",
       " [9] \"blank_seq.gb\"                  \"cor6_6.gb\"                    \n",
       "[11] \"dbsource_wrap.gb\"              \"DS830848.gb\"                  \n",
       "[13] \"empty_accession.gbk\"           \"empty_feature_qualifier.gb\"   \n",
       "[15] \"empty_version.gbk\"             \"EU851978_output.gbk\"          \n",
       "[17] \"EU851978.gbk\"                  \"example.fasta\"                \n",
       "[19] \"example.gb\"                    \"extra_keywords.gb\"            \n",
       "[21] \"gbvrl1_start.seq\"              \"GU949562.1.gb\"                \n",
       "[23] \"HM138502_output.gbk\"           \"HM138502.gbk\"                 \n",
       "[25] \"invalid_locus_line_spacing.gb\" \"invalid_misc_feature.gb\"      \n",
       "[27] \"invalid_product.gb\"            \"invalid_structured_comment.gb\"\n",
       "[29] \"iro.gb\"                        \"KF527485_output.gbk\"          \n",
       "[31] \"KF527485.gbk\"                  \"NC_000932.faa\"                \n",
       "[33] \"NC_000932.gb\"                  \"NC_005816.faa\"                \n",
       "[35] \"NC_005816.ffn\"                 \"NC_005816.fna\"                \n",
       "[37] \"NC_005816.gb\"                  \"negative_location.gb\"         \n",
       "[39] \"no_end_marker.gb\"              \"no_origin_no_end.gb\"          \n",
       "[41] \"noref.gb\"                      \"NP_001265185.1.faa\"           \n",
       "[43] \"NT_019265.gb\"                  \"one_of.gb\"                    \n",
       "[45] \"origin_line.gb\"                \"P38398.fasta\"                 \n",
       "[47] \"pBAD30.gb\"                     \"pri1.gb\"                      \n",
       "[49] \"protein_refseq.gb\"             \"protein_refseq2.gb\"           \n",
       "[51] \"qualifier_escaping_read.gb\"    \"qualifier_escaping_write.gb\"  \n",
       "[53] \"tls_KDHP01000000.gb\"           \"tsa_acropora.gb\"              \n",
       "[55] \"wrong_sequence_indent.gb\"     "
      ]
     },
     "metadata": {},
     "output_type": "display_data"
    },
    {
     "data": {
      "text/html": [
       "<pre class=language-r><code>function (expr) \n",
       "{\n",
       "<span style=white-space:pre-wrap>    enexpr(expr)</span>\n",
       "}</code></pre>"
      ],
      "text/latex": [
       "\\begin{minted}{r}\n",
       "function (expr) \n",
       "\\{\n",
       "    enexpr(expr)\n",
       "\\}\n",
       "\\end{minted}"
      ],
      "text/markdown": [
       "```r\n",
       "function (expr) \n",
       "{\n",
       "    enexpr(expr)\n",
       "}\n",
       "```"
      ],
      "text/plain": [
       "function (expr) \n",
       "{\n",
       "    enexpr(expr)\n",
       "}\n",
       "<bytecode: 0x558df0b7be20>\n",
       "<environment: namespace:rlang>"
      ]
     },
     "metadata": {},
     "output_type": "display_data"
    }
   ],
   "source": [
    "library(tidyverse) # metapackage of all tidyverse packages\n",
    "list.files(path = \"../input/bioinformatics/sequences/\")\n",
    "suppressWarnings(expr)"
   ]
  },
  {
   "cell_type": "code",
   "execution_count": 2,
   "id": "96a1c799",
   "metadata": {
    "_kg_hide-output": true,
    "execution": {
     "iopub.execute_input": "2022-08-02T17:06:12.347029Z",
     "iopub.status.busy": "2022-08-02T17:06:12.316871Z",
     "iopub.status.idle": "2022-08-02T17:16:01.834873Z",
     "shell.execute_reply": "2022-08-02T17:16:01.835480Z"
    },
    "papermill": {
     "duration": 589.774568,
     "end_time": "2022-08-02T17:16:01.835748",
     "exception": false,
     "start_time": "2022-08-02T17:06:12.061180",
     "status": "completed"
    },
    "tags": []
   },
   "outputs": [
    {
     "name": "stderr",
     "output_type": "stream",
     "text": [
      "'getOption(\"repos\")' replaces Bioconductor standard repositories, see\n",
      "'?repositories' for details\n",
      "\n",
      "replacement repositories:\n",
      "    CRAN: http://cran.rstudio.com/\n",
      "\n",
      "\n",
      "Bioconductor version 3.12 (BiocManager 1.30.15), R 4.0.5 (2021-03-31)\n",
      "\n",
      "Installing package(s) 'Biostrings'\n",
      "\n",
      "also installing the dependencies ‘zlibbioc’, ‘S4Vectors’, ‘IRanges’, ‘XVector’\n",
      "\n",
      "\n",
      "Old packages: 'additivityTests', 'ade4', 'adegraphics', 'admisc', 'AER',\n",
      "  'afex', 'agricolae', 'AID', 'akima', 'alabama', 'AlgDesign', 'Amelia',\n",
      "  'anacor', 'animation', 'antiword', 'aod', 'apcluster', 'ape', 'aplpack',\n",
      "  'aqp', 'arfima', 'arm', 'arrow', 'arsenal', 'ARTool', 'arules', 'arulesViz',\n",
      "  'assertive.properties', 'astsa', 'asymmetry', 'AUC', 'autocogs', 'automap',\n",
      "  'autothresholdr', 'backports', 'baguette', 'BAS', 'BatchGetSymbols',\n",
      "  'BayesFactor', 'bayesplot', 'bayestestR', 'BBmisc', 'bbmle', 'bbotk',\n",
      "  'BDgraph', 'bdsmatrix', 'beeswarm', 'benchmarkme', 'berryFunctions',\n",
      "  'bestNormalize', 'BH', 'bibliometrix', 'bibliometrixData', 'biclust',\n",
      "  'bigmemory', 'bigrquery', 'bigtabulate', 'binom', 'binr', 'BiocManager',\n",
      "  'BiodiversityR', 'biotools', 'bipartite', 'bizdays', 'blob', 'BMA',\n",
      "  'bnlearn', 'bnstruct', 'bookdown', 'Boom', 'BoomSpikeSlab', 'bootnet',\n",
      "  'brew', 'brio', 'brms', 'Brobdingnag', 'broom', 'broom.helpers',\n",
      "  'broom.mixed', 'BSDA', 'bslib', 'bsts', 'btergm', 'BTYD', 'bupaR', 'butcher',\n",
      "  'C50', 'cachem', 'Cairo', 'callr', 'candisc', 'car', 'carData', 'caret',\n",
      "  'cartography', 'cat', 'CausalImpact', 'CCP', 'cdata', 'cellWise', 'cem',\n",
      "  'censusxy', 'ChainLadder', 'changepoint', 'ChannelAttribution', 'checkmate',\n",
      "  'checkpoint', 'chron', 'circlize', 'circular', 'class', 'classInt', 'cli',\n",
      "  'clifro', 'climate', 'clipr', 'clock', 'clue', 'cluster', 'ClusterR',\n",
      "  'clustertend', 'clustMixType', 'clustree', 'cmprsk', 'coarseDataTools',\n",
      "  'cocor', 'coefplot', 'coin', 'collapse', 'colorRamps', 'colorspace',\n",
      "  'colourpicker', 'commonmark', 'compareDF', 'compositions', 'conflicted',\n",
      "  'conquer', 'contrast', 'coop', 'copula', 'coro', 'corpcor', 'correlation',\n",
      "  'corrplot', 'countrycode', 'COVID19', 'covid19br', 'cplm', 'cpp11', 'crayon',\n",
      "  'credentials', 'crosstalk', 'crossval', 'crul', 'csv', 'cubature', 'Cubist',\n",
      "  'cvAUC', 'cvms', 'CVXR', 'd3r', 'DAAG', 'dae', 'DALEX', 'DALEXtra',\n",
      "  'dataMaid', 'datamods', 'dataPreparation', 'datasauRus', 'DBI', 'dbplyr',\n",
      "  'dbscan', 'deaR', 'deldir', 'dendextend', 'DEoptimR', 'desc', 'desctable',\n",
      "  'DescTools', 'deSolve', 'devtools', 'dfidx', 'dgof', 'DiagrammeR', 'dials',\n",
      "  'dichromat', 'digest', 'dimensionsR', 'DirichletReg', 'discrim', 'dismo',\n",
      "  'distr6', 'distributional', 'distrom', 'dLagM', 'dlookr', 'dlstats', 'dm',\n",
      "  'doBy', 'DoE.base', 'doFuture', 'doMC', 'doParallel', 'doSNOW', 'dotwhisker',\n",
      "  'DoubleML', 'dplR', 'dplyr', 'drat', 'DT', 'dtplyr', 'dtwclust', 'e1071',\n",
      "  'earth', 'easyr', 'Ecdat', 'Ecfun', 'ecodist', 'effects', 'effectsize',\n",
      "  'elevatr', 'ellipse', 'elo', 'emmeans', 'EMT', 'energy', 'english',\n",
      "  'entropy', 'EnvStats', 'Epi', 'epiDisplay', 'epiR', 'ergm', 'ergm.count',\n",
      "  'esquisse', 'estimability', 'estimatr', 'eulerr', 'eurostat', 'evaluate',\n",
      "  'evd', 'eventdataR', 'Exact', 'exactRankTests', 'expint', 'explore', 'expss',\n",
      "  'extrafont', 'fabletools', 'FAdist', 'fanplot', 'fansi', 'farver', 'fastai',\n",
      "  'fastcluster', 'fastGHQuad', 'fastICA', 'fastmatch', 'fastmatrix',\n",
      "  'fasttime', 'fBasics', 'FD', 'fda', 'fdrtool', 'feasts', 'ff', 'ffscrapr',\n",
      "  'fftw', 'fGarch', 'fields', 'filehash', 'finalfit', 'finetune',\n",
      "  'fitdistrplus', 'fitur', 'fitzRoy', 'fivethirtyeight', 'fixest', 'FKF',\n",
      "  'flexclust', 'flexmix', 'flexsurv', 'flextable', 'float', 'fmsb',\n",
      "  'fMultivar', 'FNN', 'foreach', 'forecast', 'foreign', 'formatR', 'FrF2',\n",
      "  'FrF2.catlg128', 'fs', 'FSA', 'fst', 'FunChisq', 'furrr', 'future',\n",
      "  'future.apply', 'FuzzyNumbers', 'FuzzyR', 'fuzzywuzzyR', 'GA', 'gam',\n",
      "  'gamlss', 'gamlss.data', 'gamlss.dist', 'gargle', 'gdata', 'gdtools', 'gee',\n",
      "  'geepack', 'genalg', 'gender', 'generics', 'genius', 'geojsonsf', 'geometry',\n",
      "  'geosphere', 'gert', 'GGally', 'ggdag', 'ggdendro', 'ggdist', 'ggeffects',\n",
      "  'ggExtra', 'ggfortify', 'gghalves', 'gghighlight', 'ggimage', 'ggiraph',\n",
      "  'ggnetwork', 'ggplot2', 'ggplotify', 'ggpmisc', 'ggsignif', 'ggspatial',\n",
      "  'ggstatsplot', 'ggtern', 'ggVennDiagram', 'gifski', 'gld', 'GLDEX', 'glmnet',\n",
      "  'globals', 'glue', 'gmailr', 'gmodels', 'gmp', 'gmt', 'gnm', 'goftest',\n",
      "  'googledrive', 'googlesheets4', 'googleVis', 'gower', 'GPArotation',\n",
      "  'gplots', 'graphicalVAR', 'graphlayouts', 'greybox', 'gridSVG', 'grImport',\n",
      "  'groupdata2', 'grpreg', 'gsl', 'gss', 'gstat', 'gsw', 'gsynth', 'gt',\n",
      "  'gtools', 'gtrendsR', 'gtsummary', 'gutenbergr', 'h2o', 'h2o4gpu',\n",
      "  'HaploSim', 'hardhat', 'HardyWeinberg', 'hash', 'haven', 'hdi', 'heatmaply',\n",
      "  'heplots', 'HH', 'highcharter', 'highfrequency', 'Hmisc', 'HRW', 'HSAUR',\n",
      "  'HSAUR2', 'htmltab', 'htmlTable', 'htmltools', 'hts', 'httpuv', 'httr',\n",
      "  'huge', 'huxtable', 'ibdreg', 'ica', 'igraph', 'ijtiff', 'imager', 'iml',\n",
      "  'infer', 'infotheo', 'inline', 'insight', 'interactions', 'ipred',\n",
      "  'IRdisplay', 'IRkernel', 'irlba', 'ISLR', 'ISOcodes', 'isotree', 'iterators',\n",
      "  'ivreg', 'JGR', 'JM', 'jmv', 'jmvcore', 'JointAI', 'jqr', 'jsonlite',\n",
      "  'jsonvalidate', 'jtools', 'Kendall', 'keras', 'kerastuneR', 'KernelKnn',\n",
      "  'kernlab', 'KFAS', 'khroma', 'kit', 'klaR', 'km.ci', 'knitr', 'kohonen',\n",
      "  'koRpus', 'ks', 'kselection', 'L1pack', 'labelled', 'laeken', 'lagged',\n",
      "  'Lahman', 'LambertW', 'lamW', 'lars', 'later', 'latex2exp', 'lattice',\n",
      "  'latticeExtra', 'lava', 'lavaan', 'lbfgs', 'lcmm', 'leafem', 'leaflet',\n",
      "  'leafpop', 'leiden', 'lessR', 'lfe', 'lgr', 'lhs', 'libcoin', 'lidR',\n",
      "  'lightgbm', 'linprog', 'lintr', 'lisrelToR', 'littler', 'lme4', 'lmom',\n",
      "  'lmtest', 'lobstr', 'logger', 'LogicReg', 'logistf', 'logspline', 'lomb',\n",
      "  'loo', 'lsa', 'lsr', 'ltm', 'lubridate', 'lwgeom', 'maditr', 'magic',\n",
      "  'magick', 'magrittr', 'manipulateWidget', 'maotai', 'MAPA', 'mapproj',\n",
      "  'maps', 'maptools', 'maptree', 'mapview', 'markovchain', 'MASS', 'Matching',\n",
      "  'matchingR', 'MatchIt', 'mathjaxr', 'matlab', 'matlib', 'Matrix',\n",
      "  'matrixcalc', 'matrixStats', 'matrixTests', 'maxLik', 'mboost', 'mc2d',\n",
      "  'mclust', 'mclustcomp', 'MCMCpack', 'mcmcse', 'mda', 'meboot', 'mefa',\n",
      "  'memisc', 'memoise', 'MESS', 'meta', 'metafor', 'metaSEM', 'mets', 'mgcv',\n",
      "  'mgm', 'mgsub', 'mi', 'mice', 'miceRanger', 'microbenchmark', 'micromap',\n",
      "  'minerva', 'minpack.lm', 'mirt', 'misc3d', 'missForest', 'missMethods',\n",
      "  'mistr', 'MKdescr', 'mlapi', 'mlegp', 'mlr3', 'mlr3cluster', 'mlr3data',\n",
      "  'mlr3filters', 'mlr3fselect', 'mlr3learners', 'mlr3measures', 'mlr3misc',\n",
      "  'mlr3pipelines', 'mlr3tuning', 'mlr3verse', 'mlr3viz', 'mlrMBO', 'mnormt',\n",
      "  'modeldata', 'modeltime', 'moderndive', 'moments', 'momentuHMM', 'moonBook',\n",
      "  'moveHMM', 'mpath', 'MPV', 'msm', 'MSQC', 'mstate', 'MTS', 'multcomp',\n",
      "  'multicool', 'multidplyr', 'multilevel', 'MuMIn', 'MVA', 'MVar', 'MVN',\n",
      "  'mvoutlier', 'mvtnorm', 'nasapower', 'nat', 'NbClust', 'ncdf4', 'nCov2019',\n",
      "  'ndtv', 'network', 'networkDynamic', 'NetworkToolbox', 'networktools',\n",
      "  'NeuralNetTools', 'nflfastR', 'ngram', 'nlme', 'nloptr', 'nlstools', 'nnet',\n",
      "  'nnfor', 'NNS', 'nomclust', 'NonCompart', 'norm', 'np', 'nse2r', 'oce',\n",
      "  'odbc', 'officer', 'ompr', 'openair', 'opendatatoronto', 'OpenImageR',\n",
      "  'openintro', 'OpenMx', 'openssl', 'openxlsx', 'optimx', 'optiSolve',\n",
      "  'oro.nifti', 'osmdata', 'osqp', 'osrm', 'outliers', 'overlapping', 'packrat',\n",
      "  'padr', 'paletteer', 'pander', 'paradox', 'parallelly', 'parallelMap',\n",
      "  'parameters', 'ParamHelpers', 'parsnip', 'partitions', 'party', 'partykit',\n",
      "  'PASWR', 'PASWR2', 'patchwork', 'pbdZMQ', 'pbmcapply', 'pcaPP', 'pdftools',\n",
      "  'pdp', 'pedigree', 'pedometrics', 'penalized', 'penalizedSVM', 'performance',\n",
      "  'PermAlgo', 'permute', 'phenofit', 'phytools', 'pillar', 'pins',\n",
      "  'pivottabler', 'pkgbuild', 'pkgload', 'plan', 'plm', 'plot3D', 'plotly',\n",
      "  'plotmo', 'plotrix', 'plotROC', 'pls', 'plsRglm', 'plsVarSel', 'plyr',\n",
      "  'PMCMR', 'PMCMRplus', 'pmsampsize', 'PNADcIBGE', 'poissonreg', 'poLCA',\n",
      "  'polspline', 'polycor', 'polynom', 'PolynomF', 'pomp', 'popsom',\n",
      "  'PostcodesioR', 'pracma', 'prais', 'praznik', 'pre', 'precrec', 'PReMiuM',\n",
      "  'PresenceAbsence', 'prettymapr', 'prevR', 'printr', 'prismatic', 'pROC',\n",
      "  'processx', 'progressr', 'proj4', 'projpred', 'protolite', 'proxy', 'pryr',\n",
      "  'ps', 'pspline', 'psy', 'psych', 'psychometric', 'psychTools', 'ptw', 'qap',\n",
      "  'qdapRegex', 'qgraph', 'qpdf', 'qs', 'qtl', 'qtlcharts', 'qualtRics',\n",
      "  'Quandl', 'quanteda', 'quantmod', 'QuantPsyc', 'quantreg', 'questionr',\n",
      "  'R.cache', 'R.methodsS3', 'R.oo', 'R.utils', 'r2d3', 'R2jags', 'r3PG', 'r5r',\n",
      "  'ragg', 'RandomFieldsUtils', 'randomForestSRC', 'ranger', 'rapportools',\n",
      "  'raster', 'rasterVis', 'rattle', 'rayimage', 'rayrender',\n",
      "  'rBayesianOptimization', 'rbibutils', 'rbokeh', 'Rcgmin', 'rcmdcheck',\n",
      "  'Rcmdr', 'RcmdrMisc', 'RColorBrewer', 'Rcpp', 'RcppAnnoy', 'RcppArmadillo',\n",
      "  'RcppCNPy', 'RcppEigen', 'RcppGSL', 'RcppParallel', 'RcppThread', 'Rcsdp',\n",
      "  'RCurl', 'Rdimtools', 'Rdpack', 'reactable', 'readr', 'readstata13',\n",
      "  'readxl', 'recipes', 'recommenderlab', 'RecordLinkage', 'recosystem',\n",
      "  'REdaS', 'regsem', 'relaimpo', 'reldist', 'remotes', 'repr', 'reprex',\n",
      "  'reshape', 'reticulate', 'rex', 'Rfast', 'rgbif', 'rgdal', 'rgee', 'rgenoud',\n",
      "  'rgeos', 'rgl', 'RhpcBLASctl', 'RIA', 'rio', 'riskRegression', 'rjags',\n",
      "  'rJava', 'RJDBC', 'rjson', 'RJSONIO', 'rlang', 'rlas', 'rlist', 'rmapshaper',\n",
      "  'RMariaDB', 'rmarkdown', 'rmdformats', 'rmgarch', 'Rmisc', 'Rmixmod',\n",
      "  'Rmpfr', 'rms', 'rmutil', 'RMySQL', 'rngtools', 'RNifti', 'robCompositions',\n",
      "  'robustbase', 'rockchalk', 'RODBC', 'rootSolve', 'ROSE', 'rosm', 'roxygen2',\n",
      "  'rpart', 'rpart.plot', 'rpf', 'RPostgres', 'RPostgreSQL', 'rprojroot',\n",
      "  'rqdatatable', 'rqPen', 'RQuantLib', 'rquery', 'rrcov', 'RRF', 'rsample',\n",
      "  'rsconnect', 'RSEIS', 'RSiena', 'RSNNS', 'rsparse', 'RSpectra', 'RSQLite',\n",
      "  'Rssa', 'rstac', 'rstan', 'rstanarm', 'rstantools', 'RStoolbox', 'rstpm2',\n",
      "  'rsvg', 'Rtsne', 'Rttf2pt1', 'rtweet', 'rugarch', 'rules', 'rvcheck',\n",
      "  'rversions', 'rvest', 'Rwave', 'RWeka', 'rwhatsapp', 'rWind', 'Rwtss', 's2',\n",
      "  's20x', 'sandwich', 'santoku', 'sarima', 'sas7bdat', 'sass', 'satellite',\n",
      "  'scales', 'scattermore', 'schoolmath', 'scico', 'scorecard', 'scs',\n",
      "  'sctransform', 'sda', 'SearchTrees', 'seasonal', 'seastests', 'see',\n",
      "  'seewave', 'segmented', 'sem', 'semPlot', 'semTools', 'sensemakr',\n",
      "  'sentimentr', 'seqinr', 'seriation', 'servr', 'sessioninfo', 'set6',\n",
      "  'setRNG', 'sets', 'Seurat', 'SeuratObject', 'sf', 'sfsmisc', 'shadowtext',\n",
      "  'shape', 'shiny', 'shinyBS', 'shinydashboard', 'shinyjs', 'shinystan',\n",
      "  'shinyWidgets', 'showtext', 'sigmoid', 'signal', 'sigr', 'SimDesign',\n",
      "  'simmer', 'simputation', 'sitmo', 'sjlabelled', 'sjmisc', 'sjPlot',\n",
      "  'skedastic', 'skimr', 'skmeans', 'slam', 'slider', 'sm', 'smacof',\n",
      "  'SmartEDA', 'smooth', 'sn', 'sna', 'snow', 'snowfall', 'soilDB', 'solitude',\n",
      "  'sp', 'spacefillr', 'spacesXYZ', 'spacetime', 'spam', 'sparklyr', 'spatstat',\n",
      "  'spatstat.core', 'spatstat.data', 'spatstat.geom', 'spatstat.linnet',\n",
      "  'spatstat.sparse', 'spatstat.utils', 'spData', 'spdep', 'speedglm',\n",
      "  'spikeslab', 'spinifex', 'splancs', 'splitTools', 'splm', 'stable', 'stacks',\n",
      "  'stargazer', 'stars', 'StatMatch', 'statnet.common', 'stats19',\n",
      "  'statsExpressions', 'stopwords', 'strex', 'stringdist', 'stringfish',\n",
      "  'stringi', 'strucchange', 'styler', 'summarytools', 'sunburstR', 'superml',\n",
      "  'SuppDists', 'survey', 'survival', 'survMisc', 'survRM2', 'svd', 'svglite',\n",
      "  'svMisc', 'sysfonts', 'systemfit', 'systemfonts', 'tableone', 'tabnet',\n",
      "  'tau', 'tensorflow', 'tergm', 'terra', 'tesseract', 'testthat', 'texreg',\n",
      "  'text2vec', 'textdata', 'textmineR', 'textrecipes', 'textshape',\n",
      "  'textshaping', 'tfdatasets', 'tfestimators', 'tfprobability', 'tgp',\n",
      "  'TH.data', 'thematic', 'themis', 'tibble', 'tidybayes', 'tidycensus',\n",
      "  'tidygeocoder', 'tidygraph', 'tidymodels', 'tidyquant', 'tidyr',\n",
      "  'tidyselect', 'tidytext', 'tidytuesdayR', 'tidyverse', 'tiff', 'tigris',\n",
      "  'timeDate', 'timereg', 'timeSeries', 'timetk', 'tinytex', 'tis', 'tmap',\n",
      "  'TMB', 'tmvtnorm', 'toOrdinal', 'torch', 'torchdatasets', 'torchvision',\n",
      "  'TOSTER', 'totalcensus', 'TraMineR', 'tree', 'treemap', 'TSA', 'tsbox',\n",
      "  'tsDyn', 'tseries', 'tsfgrnn', 'tsibble', 'tsibbledata', 'tsintermittent',\n",
      "  'tsna', 'tsne', 'TSP', 'tsutils', 'TTR', 'tufte', 'tune', 'tuneR',\n",
      "  'tvthemes', 'tzdb', 'udpipe', 'udunits2', 'uklr', 'umap', 'Unicode', 'units',\n",
      "  'univOutl', 'unmarked', 'usdata', 'usemodels', 'usethis', 'USgas', 'UsingR',\n",
      "  'usmap', 'uuid', 'uwot', 'V8', 'validate', 'vars', 'vcd', 'vcdExtra',\n",
      "  'vctrs', 'vegan', 'vembedr', 'venn', 'VennDiagram', 'venneuler', 'VGAM',\n",
      "  'VIM', 'vioplot', 'viridis', 'vitae', 'vroom', 'vtable', 'vtreat', 'vtree',\n",
      "  'waldo', 'waveslim', 'wavethresh', 'WDI', 'webshot', 'weights', 'WeightSVM',\n",
      "  'wellknown', 'widyr', 'withr', 'wk', 'wooldridge', 'workflows',\n",
      "  'workflowsets', 'wrapr', 'WriteXLS', 'WRS2', 'x12', 'x13binary', 'xfun',\n",
      "  'xgboost', 'XLConnect', 'XML', 'xml2', 'xplorerr', 'yaml', 'yardstick',\n",
      "  'zCompositions', 'zip', 'zoo', 'ztable', 'boot', 'KernSmooth', 'spatial'\n",
      "\n",
      "'getOption(\"repos\")' replaces Bioconductor standard repositories, see\n",
      "'?repositories' for details\n",
      "\n",
      "replacement repositories:\n",
      "    CRAN: http://cran.rstudio.com/\n",
      "\n",
      "\n",
      "Bioconductor version 3.12 (BiocManager 1.30.15), R 4.0.5 (2021-03-31)\n",
      "\n",
      "Installing package(s) 'msa'\n",
      "\n",
      "Old packages: 'additivityTests', 'ade4', 'adegraphics', 'admisc', 'AER',\n",
      "  'afex', 'agricolae', 'AID', 'akima', 'alabama', 'AlgDesign', 'Amelia',\n",
      "  'anacor', 'animation', 'antiword', 'aod', 'apcluster', 'ape', 'aplpack',\n",
      "  'aqp', 'arfima', 'arm', 'arrow', 'arsenal', 'ARTool', 'arules', 'arulesViz',\n",
      "  'assertive.properties', 'astsa', 'asymmetry', 'AUC', 'autocogs', 'automap',\n",
      "  'autothresholdr', 'backports', 'baguette', 'BAS', 'BatchGetSymbols',\n",
      "  'BayesFactor', 'bayesplot', 'bayestestR', 'BBmisc', 'bbmle', 'bbotk',\n",
      "  'BDgraph', 'bdsmatrix', 'beeswarm', 'benchmarkme', 'berryFunctions',\n",
      "  'bestNormalize', 'BH', 'bibliometrix', 'bibliometrixData', 'biclust',\n",
      "  'bigmemory', 'bigrquery', 'bigtabulate', 'binom', 'binr', 'BiocManager',\n",
      "  'BiodiversityR', 'biotools', 'bipartite', 'bizdays', 'blob', 'BMA',\n",
      "  'bnlearn', 'bnstruct', 'bookdown', 'Boom', 'BoomSpikeSlab', 'bootnet',\n",
      "  'brew', 'brio', 'brms', 'Brobdingnag', 'broom', 'broom.helpers',\n",
      "  'broom.mixed', 'BSDA', 'bslib', 'bsts', 'btergm', 'BTYD', 'bupaR', 'butcher',\n",
      "  'C50', 'cachem', 'Cairo', 'callr', 'candisc', 'car', 'carData', 'caret',\n",
      "  'cartography', 'cat', 'CausalImpact', 'CCP', 'cdata', 'cellWise', 'cem',\n",
      "  'censusxy', 'ChainLadder', 'changepoint', 'ChannelAttribution', 'checkmate',\n",
      "  'checkpoint', 'chron', 'circlize', 'circular', 'class', 'classInt', 'cli',\n",
      "  'clifro', 'climate', 'clipr', 'clock', 'clue', 'cluster', 'ClusterR',\n",
      "  'clustertend', 'clustMixType', 'clustree', 'cmprsk', 'coarseDataTools',\n",
      "  'cocor', 'coefplot', 'coin', 'collapse', 'colorRamps', 'colorspace',\n",
      "  'colourpicker', 'commonmark', 'compareDF', 'compositions', 'conflicted',\n",
      "  'conquer', 'contrast', 'coop', 'copula', 'coro', 'corpcor', 'correlation',\n",
      "  'corrplot', 'countrycode', 'COVID19', 'covid19br', 'cplm', 'cpp11', 'crayon',\n",
      "  'credentials', 'crosstalk', 'crossval', 'crul', 'csv', 'cubature', 'Cubist',\n",
      "  'cvAUC', 'cvms', 'CVXR', 'd3r', 'DAAG', 'dae', 'DALEX', 'DALEXtra',\n",
      "  'dataMaid', 'datamods', 'dataPreparation', 'datasauRus', 'DBI', 'dbplyr',\n",
      "  'dbscan', 'deaR', 'deldir', 'dendextend', 'DEoptimR', 'desc', 'desctable',\n",
      "  'DescTools', 'deSolve', 'devtools', 'dfidx', 'dgof', 'DiagrammeR', 'dials',\n",
      "  'dichromat', 'digest', 'dimensionsR', 'DirichletReg', 'discrim', 'dismo',\n",
      "  'distr6', 'distributional', 'distrom', 'dLagM', 'dlookr', 'dlstats', 'dm',\n",
      "  'doBy', 'DoE.base', 'doFuture', 'doMC', 'doParallel', 'doSNOW', 'dotwhisker',\n",
      "  'DoubleML', 'dplR', 'dplyr', 'drat', 'DT', 'dtplyr', 'dtwclust', 'e1071',\n",
      "  'earth', 'easyr', 'Ecdat', 'Ecfun', 'ecodist', 'effects', 'effectsize',\n",
      "  'elevatr', 'ellipse', 'elo', 'emmeans', 'EMT', 'energy', 'english',\n",
      "  'entropy', 'EnvStats', 'Epi', 'epiDisplay', 'epiR', 'ergm', 'ergm.count',\n",
      "  'esquisse', 'estimability', 'estimatr', 'eulerr', 'eurostat', 'evaluate',\n",
      "  'evd', 'eventdataR', 'Exact', 'exactRankTests', 'expint', 'explore', 'expss',\n",
      "  'extrafont', 'fabletools', 'FAdist', 'fanplot', 'fansi', 'farver', 'fastai',\n",
      "  'fastcluster', 'fastGHQuad', 'fastICA', 'fastmatch', 'fastmatrix',\n",
      "  'fasttime', 'fBasics', 'FD', 'fda', 'fdrtool', 'feasts', 'ff', 'ffscrapr',\n",
      "  'fftw', 'fGarch', 'fields', 'filehash', 'finalfit', 'finetune',\n",
      "  'fitdistrplus', 'fitur', 'fitzRoy', 'fivethirtyeight', 'fixest', 'FKF',\n",
      "  'flexclust', 'flexmix', 'flexsurv', 'flextable', 'float', 'fmsb',\n",
      "  'fMultivar', 'FNN', 'foreach', 'forecast', 'foreign', 'formatR', 'FrF2',\n",
      "  'FrF2.catlg128', 'fs', 'FSA', 'fst', 'FunChisq', 'furrr', 'future',\n",
      "  'future.apply', 'FuzzyNumbers', 'FuzzyR', 'fuzzywuzzyR', 'GA', 'gam',\n",
      "  'gamlss', 'gamlss.data', 'gamlss.dist', 'gargle', 'gdata', 'gdtools', 'gee',\n",
      "  'geepack', 'genalg', 'gender', 'generics', 'genius', 'geojsonsf', 'geometry',\n",
      "  'geosphere', 'gert', 'GGally', 'ggdag', 'ggdendro', 'ggdist', 'ggeffects',\n",
      "  'ggExtra', 'ggfortify', 'gghalves', 'gghighlight', 'ggimage', 'ggiraph',\n",
      "  'ggnetwork', 'ggplot2', 'ggplotify', 'ggpmisc', 'ggsignif', 'ggspatial',\n",
      "  'ggstatsplot', 'ggtern', 'ggVennDiagram', 'gifski', 'gld', 'GLDEX', 'glmnet',\n",
      "  'globals', 'glue', 'gmailr', 'gmodels', 'gmp', 'gmt', 'gnm', 'goftest',\n",
      "  'googledrive', 'googlesheets4', 'googleVis', 'gower', 'GPArotation',\n",
      "  'gplots', 'graphicalVAR', 'graphlayouts', 'greybox', 'gridSVG', 'grImport',\n",
      "  'groupdata2', 'grpreg', 'gsl', 'gss', 'gstat', 'gsw', 'gsynth', 'gt',\n",
      "  'gtools', 'gtrendsR', 'gtsummary', 'gutenbergr', 'h2o', 'h2o4gpu',\n",
      "  'HaploSim', 'hardhat', 'HardyWeinberg', 'hash', 'haven', 'hdi', 'heatmaply',\n",
      "  'heplots', 'HH', 'highcharter', 'highfrequency', 'Hmisc', 'HRW', 'HSAUR',\n",
      "  'HSAUR2', 'htmltab', 'htmlTable', 'htmltools', 'hts', 'httpuv', 'httr',\n",
      "  'huge', 'huxtable', 'ibdreg', 'ica', 'igraph', 'ijtiff', 'imager', 'iml',\n",
      "  'infer', 'infotheo', 'inline', 'insight', 'interactions', 'ipred',\n",
      "  'IRdisplay', 'IRkernel', 'irlba', 'ISLR', 'ISOcodes', 'isotree', 'iterators',\n",
      "  'ivreg', 'JGR', 'JM', 'jmv', 'jmvcore', 'JointAI', 'jqr', 'jsonlite',\n",
      "  'jsonvalidate', 'jtools', 'Kendall', 'keras', 'kerastuneR', 'KernelKnn',\n",
      "  'kernlab', 'KFAS', 'khroma', 'kit', 'klaR', 'km.ci', 'knitr', 'kohonen',\n",
      "  'koRpus', 'ks', 'kselection', 'L1pack', 'labelled', 'laeken', 'lagged',\n",
      "  'Lahman', 'LambertW', 'lamW', 'lars', 'later', 'latex2exp', 'lattice',\n",
      "  'latticeExtra', 'lava', 'lavaan', 'lbfgs', 'lcmm', 'leafem', 'leaflet',\n",
      "  'leafpop', 'leiden', 'lessR', 'lfe', 'lgr', 'lhs', 'libcoin', 'lidR',\n",
      "  'lightgbm', 'linprog', 'lintr', 'lisrelToR', 'littler', 'lme4', 'lmom',\n",
      "  'lmtest', 'lobstr', 'logger', 'LogicReg', 'logistf', 'logspline', 'lomb',\n",
      "  'loo', 'lsa', 'lsr', 'ltm', 'lubridate', 'lwgeom', 'maditr', 'magic',\n",
      "  'magick', 'magrittr', 'manipulateWidget', 'maotai', 'MAPA', 'mapproj',\n",
      "  'maps', 'maptools', 'maptree', 'mapview', 'markovchain', 'MASS', 'Matching',\n",
      "  'matchingR', 'MatchIt', 'mathjaxr', 'matlab', 'matlib', 'Matrix',\n",
      "  'matrixcalc', 'matrixStats', 'matrixTests', 'maxLik', 'mboost', 'mc2d',\n",
      "  'mclust', 'mclustcomp', 'MCMCpack', 'mcmcse', 'mda', 'meboot', 'mefa',\n",
      "  'memisc', 'memoise', 'MESS', 'meta', 'metafor', 'metaSEM', 'mets', 'mgcv',\n",
      "  'mgm', 'mgsub', 'mi', 'mice', 'miceRanger', 'microbenchmark', 'micromap',\n",
      "  'minerva', 'minpack.lm', 'mirt', 'misc3d', 'missForest', 'missMethods',\n",
      "  'mistr', 'MKdescr', 'mlapi', 'mlegp', 'mlr3', 'mlr3cluster', 'mlr3data',\n",
      "  'mlr3filters', 'mlr3fselect', 'mlr3learners', 'mlr3measures', 'mlr3misc',\n",
      "  'mlr3pipelines', 'mlr3tuning', 'mlr3verse', 'mlr3viz', 'mlrMBO', 'mnormt',\n",
      "  'modeldata', 'modeltime', 'moderndive', 'moments', 'momentuHMM', 'moonBook',\n",
      "  'moveHMM', 'mpath', 'MPV', 'msm', 'MSQC', 'mstate', 'MTS', 'multcomp',\n",
      "  'multicool', 'multidplyr', 'multilevel', 'MuMIn', 'MVA', 'MVar', 'MVN',\n",
      "  'mvoutlier', 'mvtnorm', 'nasapower', 'nat', 'NbClust', 'ncdf4', 'nCov2019',\n",
      "  'ndtv', 'network', 'networkDynamic', 'NetworkToolbox', 'networktools',\n",
      "  'NeuralNetTools', 'nflfastR', 'ngram', 'nlme', 'nloptr', 'nlstools', 'nnet',\n",
      "  'nnfor', 'NNS', 'nomclust', 'NonCompart', 'norm', 'np', 'nse2r', 'oce',\n",
      "  'odbc', 'officer', 'ompr', 'openair', 'opendatatoronto', 'OpenImageR',\n",
      "  'openintro', 'OpenMx', 'openssl', 'openxlsx', 'optimx', 'optiSolve',\n",
      "  'oro.nifti', 'osmdata', 'osqp', 'osrm', 'outliers', 'overlapping', 'packrat',\n",
      "  'padr', 'paletteer', 'pander', 'paradox', 'parallelly', 'parallelMap',\n",
      "  'parameters', 'ParamHelpers', 'parsnip', 'partitions', 'party', 'partykit',\n",
      "  'PASWR', 'PASWR2', 'patchwork', 'pbdZMQ', 'pbmcapply', 'pcaPP', 'pdftools',\n",
      "  'pdp', 'pedigree', 'pedometrics', 'penalized', 'penalizedSVM', 'performance',\n",
      "  'PermAlgo', 'permute', 'phenofit', 'phytools', 'pillar', 'pins',\n",
      "  'pivottabler', 'pkgbuild', 'pkgload', 'plan', 'plm', 'plot3D', 'plotly',\n",
      "  'plotmo', 'plotrix', 'plotROC', 'pls', 'plsRglm', 'plsVarSel', 'plyr',\n",
      "  'PMCMR', 'PMCMRplus', 'pmsampsize', 'PNADcIBGE', 'poissonreg', 'poLCA',\n",
      "  'polspline', 'polycor', 'polynom', 'PolynomF', 'pomp', 'popsom',\n",
      "  'PostcodesioR', 'pracma', 'prais', 'praznik', 'pre', 'precrec', 'PReMiuM',\n",
      "  'PresenceAbsence', 'prettymapr', 'prevR', 'printr', 'prismatic', 'pROC',\n",
      "  'processx', 'progressr', 'proj4', 'projpred', 'protolite', 'proxy', 'pryr',\n",
      "  'ps', 'pspline', 'psy', 'psych', 'psychometric', 'psychTools', 'ptw', 'qap',\n",
      "  'qdapRegex', 'qgraph', 'qpdf', 'qs', 'qtl', 'qtlcharts', 'qualtRics',\n",
      "  'Quandl', 'quanteda', 'quantmod', 'QuantPsyc', 'quantreg', 'questionr',\n",
      "  'R.cache', 'R.methodsS3', 'R.oo', 'R.utils', 'r2d3', 'R2jags', 'r3PG', 'r5r',\n",
      "  'ragg', 'RandomFieldsUtils', 'randomForestSRC', 'ranger', 'rapportools',\n",
      "  'raster', 'rasterVis', 'rattle', 'rayimage', 'rayrender',\n",
      "  'rBayesianOptimization', 'rbibutils', 'rbokeh', 'Rcgmin', 'rcmdcheck',\n",
      "  'Rcmdr', 'RcmdrMisc', 'RColorBrewer', 'Rcpp', 'RcppAnnoy', 'RcppArmadillo',\n",
      "  'RcppCNPy', 'RcppEigen', 'RcppGSL', 'RcppParallel', 'RcppThread', 'Rcsdp',\n",
      "  'RCurl', 'Rdimtools', 'Rdpack', 'reactable', 'readr', 'readstata13',\n",
      "  'readxl', 'recipes', 'recommenderlab', 'RecordLinkage', 'recosystem',\n",
      "  'REdaS', 'regsem', 'relaimpo', 'reldist', 'remotes', 'repr', 'reprex',\n",
      "  'reshape', 'reticulate', 'rex', 'Rfast', 'rgbif', 'rgdal', 'rgee', 'rgenoud',\n",
      "  'rgeos', 'rgl', 'RhpcBLASctl', 'RIA', 'rio', 'riskRegression', 'rjags',\n",
      "  'rJava', 'RJDBC', 'rjson', 'RJSONIO', 'rlang', 'rlas', 'rlist', 'rmapshaper',\n",
      "  'RMariaDB', 'rmarkdown', 'rmdformats', 'rmgarch', 'Rmisc', 'Rmixmod',\n",
      "  'Rmpfr', 'rms', 'rmutil', 'RMySQL', 'rngtools', 'RNifti', 'robCompositions',\n",
      "  'robustbase', 'rockchalk', 'RODBC', 'rootSolve', 'ROSE', 'rosm', 'roxygen2',\n",
      "  'rpart', 'rpart.plot', 'rpf', 'RPostgres', 'RPostgreSQL', 'rprojroot',\n",
      "  'rqdatatable', 'rqPen', 'RQuantLib', 'rquery', 'rrcov', 'RRF', 'rsample',\n",
      "  'rsconnect', 'RSEIS', 'RSiena', 'RSNNS', 'rsparse', 'RSpectra', 'RSQLite',\n",
      "  'Rssa', 'rstac', 'rstan', 'rstanarm', 'rstantools', 'RStoolbox', 'rstpm2',\n",
      "  'rsvg', 'Rtsne', 'Rttf2pt1', 'rtweet', 'rugarch', 'rules', 'rvcheck',\n",
      "  'rversions', 'rvest', 'Rwave', 'RWeka', 'rwhatsapp', 'rWind', 'Rwtss', 's2',\n",
      "  's20x', 'sandwich', 'santoku', 'sarima', 'sas7bdat', 'sass', 'satellite',\n",
      "  'scales', 'scattermore', 'schoolmath', 'scico', 'scorecard', 'scs',\n",
      "  'sctransform', 'sda', 'SearchTrees', 'seasonal', 'seastests', 'see',\n",
      "  'seewave', 'segmented', 'sem', 'semPlot', 'semTools', 'sensemakr',\n",
      "  'sentimentr', 'seqinr', 'seriation', 'servr', 'sessioninfo', 'set6',\n",
      "  'setRNG', 'sets', 'Seurat', 'SeuratObject', 'sf', 'sfsmisc', 'shadowtext',\n",
      "  'shape', 'shiny', 'shinyBS', 'shinydashboard', 'shinyjs', 'shinystan',\n",
      "  'shinyWidgets', 'showtext', 'sigmoid', 'signal', 'sigr', 'SimDesign',\n",
      "  'simmer', 'simputation', 'sitmo', 'sjlabelled', 'sjmisc', 'sjPlot',\n",
      "  'skedastic', 'skimr', 'skmeans', 'slam', 'slider', 'sm', 'smacof',\n",
      "  'SmartEDA', 'smooth', 'sn', 'sna', 'snow', 'snowfall', 'soilDB', 'solitude',\n",
      "  'sp', 'spacefillr', 'spacesXYZ', 'spacetime', 'spam', 'sparklyr', 'spatstat',\n",
      "  'spatstat.core', 'spatstat.data', 'spatstat.geom', 'spatstat.linnet',\n",
      "  'spatstat.sparse', 'spatstat.utils', 'spData', 'spdep', 'speedglm',\n",
      "  'spikeslab', 'spinifex', 'splancs', 'splitTools', 'splm', 'stable', 'stacks',\n",
      "  'stargazer', 'stars', 'StatMatch', 'statnet.common', 'stats19',\n",
      "  'statsExpressions', 'stopwords', 'strex', 'stringdist', 'stringfish',\n",
      "  'stringi', 'strucchange', 'styler', 'summarytools', 'sunburstR', 'superml',\n",
      "  'SuppDists', 'survey', 'survival', 'survMisc', 'survRM2', 'svd', 'svglite',\n",
      "  'svMisc', 'sysfonts', 'systemfit', 'systemfonts', 'tableone', 'tabnet',\n",
      "  'tau', 'tensorflow', 'tergm', 'terra', 'tesseract', 'testthat', 'texreg',\n",
      "  'text2vec', 'textdata', 'textmineR', 'textrecipes', 'textshape',\n",
      "  'textshaping', 'tfdatasets', 'tfestimators', 'tfprobability', 'tgp',\n",
      "  'TH.data', 'thematic', 'themis', 'tibble', 'tidybayes', 'tidycensus',\n",
      "  'tidygeocoder', 'tidygraph', 'tidymodels', 'tidyquant', 'tidyr',\n",
      "  'tidyselect', 'tidytext', 'tidytuesdayR', 'tidyverse', 'tiff', 'tigris',\n",
      "  'timeDate', 'timereg', 'timeSeries', 'timetk', 'tinytex', 'tis', 'tmap',\n",
      "  'TMB', 'tmvtnorm', 'toOrdinal', 'torch', 'torchdatasets', 'torchvision',\n",
      "  'TOSTER', 'totalcensus', 'TraMineR', 'tree', 'treemap', 'TSA', 'tsbox',\n",
      "  'tsDyn', 'tseries', 'tsfgrnn', 'tsibble', 'tsibbledata', 'tsintermittent',\n",
      "  'tsna', 'tsne', 'TSP', 'tsutils', 'TTR', 'tufte', 'tune', 'tuneR',\n",
      "  'tvthemes', 'tzdb', 'udpipe', 'udunits2', 'uklr', 'umap', 'Unicode', 'units',\n",
      "  'univOutl', 'unmarked', 'usdata', 'usemodels', 'usethis', 'USgas', 'UsingR',\n",
      "  'usmap', 'uuid', 'uwot', 'V8', 'validate', 'vars', 'vcd', 'vcdExtra',\n",
      "  'vctrs', 'vegan', 'vembedr', 'venn', 'VennDiagram', 'venneuler', 'VGAM',\n",
      "  'VIM', 'vioplot', 'viridis', 'vitae', 'vroom', 'vtable', 'vtreat', 'vtree',\n",
      "  'waldo', 'waveslim', 'wavethresh', 'WDI', 'webshot', 'weights', 'WeightSVM',\n",
      "  'wellknown', 'widyr', 'withr', 'wk', 'wooldridge', 'workflows',\n",
      "  'workflowsets', 'wrapr', 'WriteXLS', 'WRS2', 'x12', 'x13binary', 'xfun',\n",
      "  'xgboost', 'XLConnect', 'XML', 'xml2', 'xplorerr', 'yaml', 'yardstick',\n",
      "  'zCompositions', 'zip', 'zoo', 'ztable', 'boot', 'KernSmooth', 'spatial'\n",
      "\n"
     ]
    }
   ],
   "source": [
    "# Install Packages\n",
    "if (!requireNamespace(\"BiocManager\", quietly = TRUE))\n",
    "    install.packages(\"BiocManager\")\n",
    "BiocManager::install(\"Biostrings\")\n",
    "BiocManager::install(\"msa\")"
   ]
  },
  {
   "cell_type": "markdown",
   "id": "0e5161fa",
   "metadata": {
    "papermill": {
     "duration": 0.326178,
     "end_time": "2022-08-02T17:16:02.492390",
     "exception": false,
     "start_time": "2022-08-02T17:16:02.166212",
     "status": "completed"
    },
    "tags": []
   },
   "source": [
    "# <b><span style='color:#6846D5'>BIOCONDUCTOR</span></b>\n",
    "\n",
    "- **<span style='color:#6846D5'>Bioconductor</span>** is quite more advanced compared to say **[Biopython](https://biopython.org)** & requires minimal programming on the user end.\n",
    "- I've covered some basic sequence operations in a **[biopython notebook](https://www.kaggle.com/shtrausslearning/biopython-bioinformatics-basics)** or **[Working with Sequences noteobook](https://www.kaggle.com/shtrausslearning/biological-sequence-operations?scriptVersionId=79937107)** on a relatable topic.\n",
    "\n",
    "The libraries used in this notebook:\n",
    "- (I) **<mark style=\"background-color:#6846D5;color:white;border-radius:5px;opacity:0.9\">Biostrings</mark>** ( General base library for work with strings, uses **<span style='color:#6846D5'>FASTA</span>** for imports )\n",
    "- (II) **<mark style=\"background-color:#6846D5;color:white;border-radius:5px;opacity:0.9\">msa</mark>** ( Library for multiple sequence alignment, containing more advanced methods than the progressive approach covered in **[biological sequence alignment](https://www.kaggle.com/shtrausslearning/biological-sequence-alignment)** )\n",
    "\n",
    "# <b>BIOCONDUCTOR :: <span style='color:#6846D5'>BIOSTRINGS</span></b>"
   ]
  },
  {
   "cell_type": "code",
   "execution_count": 3,
   "id": "c8e6ce68",
   "metadata": {
    "execution": {
     "iopub.execute_input": "2022-08-02T17:16:03.162226Z",
     "iopub.status.busy": "2022-08-02T17:16:03.160868Z",
     "iopub.status.idle": "2022-08-02T17:16:06.258082Z",
     "shell.execute_reply": "2022-08-02T17:16:06.255472Z"
    },
    "papermill": {
     "duration": 3.437143,
     "end_time": "2022-08-02T17:16:06.258341",
     "exception": false,
     "start_time": "2022-08-02T17:16:02.821198",
     "status": "completed"
    },
    "tags": []
   },
   "outputs": [],
   "source": [
    "# import library w/o messages\n",
    "suppressPackageStartupMessages(library(Biostrings))"
   ]
  },
  {
   "cell_type": "markdown",
   "id": "991e7885",
   "metadata": {
    "papermill": {
     "duration": 0.329578,
     "end_time": "2022-08-02T17:16:06.920029",
     "exception": false,
     "start_time": "2022-08-02T17:16:06.590451",
     "status": "completed"
    },
    "tags": []
   },
   "source": [
    "# <b>1 <span style='color:#6846D5'>|</span> SEQUENCE OPERATIONS</b>\n",
    "\n",
    "- There are two types alphabets we probably should be familar with; **<mark style=\"background-color:#6846D5;color:white;border-radius:5px;opacity:0.9\">Nucleotides</mark>** & **<mark style=\"background-color:#6846D5;color:white;border-radius:5px;opacity:0.9\">amino acids</mark>** to begin\n",
    "- Library to work with **<span style='color:#6846D5'>biological sequences</span>**:\n",
    "> - Example Nucleotide biological sequence: 'ACTTCACCAGCTCCCTGGCGGTAAGTTGATCAAAGGAAAC'\n",
    "> - Example Amino acid biological sequence: 'HEAGAWGHEE'\n",
    "- A more detailed background was shown in notebook **[biopython | bioinformatics basics](https://www.kaggle.com/shtrausslearning/biopython-bioinformatics-basics)**\n",
    "- <code>FASTA</code> specific I/O format library (**<span style='color:#6846D5'>single sequences</span>**, **<span style='color:#6846D5'>multiple sequences</span>**, **<span style='color:#6846D5'>alignments</span>**)\n",
    "- **<span style='color:#6846D5'>Sequence operations</span>** w/ <code>XString</code>, <code>XStringSet</code>\n",
    "\n",
    "<div style=\"color:white;display:fill;border-radius:8px;\n",
    "            background-color:#323232;font-size:150%;\n",
    "            font-family:Nexa;letter-spacing:0.5px\">\n",
    "    <p style=\"padding: 8px;color:white;\"><b>1.1 | DEFINING SEQUENCES </b></p>\n",
    "</div>\n",
    "\n",
    "### **<span style='color:#6846D5'>CHARACTERS</span>** -> **<span style='color:#6846D5'>STRINGS</span>**\n",
    "\n",
    "- Let's define a <code>character</code> string & convert it to:\n",
    "> - a **<mark style=\"background-color:#6846D5;color:white;border-radius:5px;opacity:0.9\">DNAString</mark>** (sequence containing nucleotides) \n",
    "> - a **<mark style=\"background-color:#6846D5;color:white;border-radius:5px;opacity:0.9\">AAString</mark>** (sequence containing amino acids)"
   ]
  },
  {
   "cell_type": "code",
   "execution_count": 4,
   "id": "3c65bb4e",
   "metadata": {
    "execution": {
     "iopub.execute_input": "2022-08-02T17:16:07.464949Z",
     "iopub.status.busy": "2022-08-02T17:16:07.461479Z",
     "iopub.status.idle": "2022-08-02T17:16:07.569719Z",
     "shell.execute_reply": "2022-08-02T17:16:07.566196Z"
    },
    "papermill": {
     "duration": 0.377575,
     "end_time": "2022-08-02T17:16:07.569916",
     "exception": false,
     "start_time": "2022-08-02T17:16:07.192341",
     "status": "completed"
    },
    "tags": []
   },
   "outputs": [
    {
     "data": {
      "text/plain": [
       "40-letter DNAString object\n",
       "seq: \u001b[47m\u001b[30mT\u001b[39m\u001b[49m\u001b[47m\u001b[30mT\u001b[39m\u001b[49m\u001b[47m\u001b[30mT\u001b[39m\u001b[49m\u001b[47m\u001b[30mC\u001b[39m\u001b[49m\u001b[47m\u001b[30mG\u001b[39m\u001b[49m\u001b[47m\u001b[30mG\u001b[39m\u001b[49m\u001b[47m\u001b[30mG\u001b[39m\u001b[49m\u001b[47m\u001b[30mT\u001b[39m\u001b[49m\u001b[47m\u001b[30mA\u001b[39m\u001b[49m\u001b[47m\u001b[30mA\u001b[39m\u001b[49m\u001b[47m\u001b[30mG\u001b[39m\u001b[49m\u001b[47m\u001b[30mT\u001b[39m\u001b[49m\u001b[47m\u001b[30mA\u001b[39m\u001b[49m\u001b[47m\u001b[30mA\u001b[39m\u001b[49m\u001b[47m\u001b[30mA\u001b[39m\u001b[49m\u001b[47m\u001b[30mT\u001b[39m\u001b[49m\u001b[47m\u001b[30mA\u001b[39m\u001b[49m\u001b[47m\u001b[30mT\u001b[39m\u001b[49m\u001b[47m\u001b[30mA\u001b[39m\u001b[49m\u001b[47m\u001b[30mT\u001b[39m\u001b[49m\u001b[47m\u001b[30mG\u001b[39m\u001b[49m\u001b[47m\u001b[30mT\u001b[39m\u001b[49m\u001b[47m\u001b[30mT\u001b[39m\u001b[49m\u001b[47m\u001b[30mT\u001b[39m\u001b[49m\u001b[47m\u001b[30mC\u001b[39m\u001b[49m\u001b[47m\u001b[30mA\u001b[39m\u001b[49m\u001b[47m\u001b[30mC\u001b[39m\u001b[49m\u001b[47m\u001b[30mT\u001b[39m\u001b[49m\u001b[47m\u001b[30mA\u001b[39m\u001b[49m\u001b[47m\u001b[30mC\u001b[39m\u001b[49m\u001b[47m\u001b[30mT\u001b[39m\u001b[49m\u001b[47m\u001b[30mT\u001b[39m\u001b[49m\u001b[47m\u001b[30mC\u001b[39m\u001b[49m\u001b[47m\u001b[30mC\u001b[39m\u001b[49m\u001b[47m\u001b[30mT\u001b[39m\u001b[49m\u001b[47m\u001b[30mT\u001b[39m\u001b[49m\u001b[47m\u001b[30mT\u001b[39m\u001b[49m\u001b[47m\u001b[30mC\u001b[39m\u001b[49m\u001b[47m\u001b[30mG\u001b[39m\u001b[49m\u001b[47m\u001b[30mG\u001b[39m\u001b[49m"
      ]
     },
     "metadata": {},
     "output_type": "display_data"
    },
    {
     "data": {
      "text/plain": [
       "10-letter AAString object\n",
       "seq: HEAGAWGHEE"
      ]
     },
     "metadata": {},
     "output_type": "display_data"
    }
   ],
   "source": [
    "# define characters of dna & amino acids\n",
    "chr_n1 = \"ACTTCACCAGCTCCCTGGCGGTAAGTTGATCAAAGGAAAC\"\n",
    "chr_n2 = \"TTTCGGGTAAGTAAATATATGTTTCACTACTTCCTTTCGG\"\n",
    "chr_aa1 = 'PAWHEAE'\n",
    "chr_aa2 = 'HEAGAWGHEE'\n",
    "\n",
    "# ''' Nucleotide String '''\n",
    "s1_n <- DNAString(chr_n1) # DNAString objects\n",
    "s2_n <- DNAString(chr_n2)\n",
    "s2_n\n",
    "\n",
    "# ''' Amino Acid String '''\n",
    "s1_aa = AAString(chr_aa1)  # AAString Object\n",
    "s2_aa = AAString(chr_aa2)\n",
    "s2_aa"
   ]
  },
  {
   "cell_type": "markdown",
   "id": "f0a01232",
   "metadata": {
    "papermill": {
     "duration": 0.302118,
     "end_time": "2022-08-02T17:16:08.204350",
     "exception": false,
     "start_time": "2022-08-02T17:16:07.902232",
     "status": "completed"
    },
    "tags": []
   },
   "source": [
    "### **<span style='color:#6846D5'>CHARACTERS</span>** -> **<span style='color:#6846D5'>STRINGSET</span>**\n",
    "- Aside from **<span style='color:#6846D5'>basic sequences</span>** we can create **<span style='color:#6846D5'>sets/groups of sequences</span>** using **<mark style=\"background-color:#6846D5;color:white;border-radius:5px;opacity:0.9\">DNAStringSet</mark>** / **<mark style=\"background-color:#6846D5;color:white;border-radius:5px;opacity:0.9\">AAStringSet</mark>** objects"
   ]
  },
  {
   "cell_type": "code",
   "execution_count": 5,
   "id": "46878c0d",
   "metadata": {
    "execution": {
     "iopub.execute_input": "2022-08-02T17:16:08.826411Z",
     "iopub.status.busy": "2022-08-02T17:16:08.822476Z",
     "iopub.status.idle": "2022-08-02T17:16:08.946460Z",
     "shell.execute_reply": "2022-08-02T17:16:08.943248Z"
    },
    "papermill": {
     "duration": 0.448308,
     "end_time": "2022-08-02T17:16:08.946846",
     "exception": false,
     "start_time": "2022-08-02T17:16:08.498538",
     "status": "completed"
    },
    "tags": []
   },
   "outputs": [
    {
     "data": {
      "text/plain": [
       "AAStringSet object of length 3:\n",
       "    width seq\n",
       "[1]     4 ACGT\n",
       "[2]     4 GTCA\n",
       "[3]     4 GCTA"
      ]
     },
     "metadata": {},
     "output_type": "display_data"
    },
    {
     "data": {
      "text/plain": [
       "DNAStringSet object of length 1:\n",
       "    width seq\n",
       "[1]     4 \u001b[47m\u001b[30mA\u001b[39m\u001b[49m\u001b[47m\u001b[30mC\u001b[39m\u001b[49m\u001b[47m\u001b[30mG\u001b[39m\u001b[49m\u001b[47m\u001b[30mT\u001b[39m\u001b[49m"
      ]
     },
     "metadata": {},
     "output_type": "display_data"
    }
   ],
   "source": [
    "# [1] Define a new XStringSet from chacaters (3 sequences)\n",
    "# concat to make vector w/ c()\n",
    "str_concat = c(\"ACGT\",\"GTCA\",\"GCTA\")\n",
    "n_set <- AAStringSet(str_concat)\n",
    "n_set\n",
    "\n",
    "# Define a new XStringSet from characers (1 sequence)\n",
    "n_set_1 <- DNAStringSet(c(\"ACGT\"))\n",
    "n_set_1"
   ]
  },
  {
   "cell_type": "markdown",
   "id": "156945c8",
   "metadata": {
    "papermill": {
     "duration": 0.363823,
     "end_time": "2022-08-02T17:16:09.626954",
     "exception": false,
     "start_time": "2022-08-02T17:16:09.263131",
     "status": "completed"
    },
    "tags": []
   },
   "source": [
    "- Give a sequence a **<span style='color:#6846D5'>particular name</span>** using <code>names()</code> and <code>paste0</code> with the characters "
   ]
  },
  {
   "cell_type": "code",
   "execution_count": 6,
   "id": "fee9c146",
   "metadata": {
    "execution": {
     "iopub.execute_input": "2022-08-02T17:16:10.346006Z",
     "iopub.status.busy": "2022-08-02T17:16:10.341835Z",
     "iopub.status.idle": "2022-08-02T17:16:10.397978Z",
     "shell.execute_reply": "2022-08-02T17:16:10.393438Z"
    },
    "papermill": {
     "duration": 0.36013,
     "end_time": "2022-08-02T17:16:10.398165",
     "exception": false,
     "start_time": "2022-08-02T17:16:10.038035",
     "status": "completed"
    },
    "tags": []
   },
   "outputs": [
    {
     "data": {
      "text/plain": [
       "AAStringSet object of length 3:\n",
       "    width seq                                               names               \n",
       "[1]     4 ACGT                                              seq1\n",
       "[2]     4 GTCA                                              seq2\n",
       "[3]     4 GCTA                                              seq3"
      ]
     },
     "metadata": {},
     "output_type": "display_data"
    }
   ],
   "source": [
    "# We probably should add names to our sequences as well\n",
    "seq_name = c('seq1','seq2','seq3')\n",
    "names(n_set) <- paste0(seq_name)\n",
    "n_set"
   ]
  },
  {
   "cell_type": "markdown",
   "id": "b502065a",
   "metadata": {
    "papermill": {
     "duration": 0.272815,
     "end_time": "2022-08-02T17:16:10.945772",
     "exception": false,
     "start_time": "2022-08-02T17:16:10.672957",
     "status": "completed"
    },
    "tags": []
   },
   "source": [
    "- Create a **<span style='color:#6846D5'>StringSet</span>** from a sequence string"
   ]
  },
  {
   "cell_type": "code",
   "execution_count": 7,
   "id": "c9c6bf96",
   "metadata": {
    "execution": {
     "iopub.execute_input": "2022-08-02T17:16:11.516999Z",
     "iopub.status.busy": "2022-08-02T17:16:11.510837Z",
     "iopub.status.idle": "2022-08-02T17:16:11.638365Z",
     "shell.execute_reply": "2022-08-02T17:16:11.635939Z"
    },
    "papermill": {
     "duration": 0.411809,
     "end_time": "2022-08-02T17:16:11.638607",
     "exception": false,
     "start_time": "2022-08-02T17:16:11.226798",
     "status": "completed"
    },
    "tags": []
   },
   "outputs": [
    {
     "data": {
      "text/plain": [
       "DNAStringSet object of length 1:\n",
       "    width seq\n",
       "[1]    40 \u001b[47m\u001b[30mA\u001b[39m\u001b[49m\u001b[47m\u001b[30mC\u001b[39m\u001b[49m\u001b[47m\u001b[30mT\u001b[39m\u001b[49m\u001b[47m\u001b[30mT\u001b[39m\u001b[49m\u001b[47m\u001b[30mC\u001b[39m\u001b[49m\u001b[47m\u001b[30mA\u001b[39m\u001b[49m\u001b[47m\u001b[30mC\u001b[39m\u001b[49m\u001b[47m\u001b[30mC\u001b[39m\u001b[49m\u001b[47m\u001b[30mA\u001b[39m\u001b[49m\u001b[47m\u001b[30mG\u001b[39m\u001b[49m\u001b[47m\u001b[30mC\u001b[39m\u001b[49m\u001b[47m\u001b[30mT\u001b[39m\u001b[49m\u001b[47m\u001b[30mC\u001b[39m\u001b[49m\u001b[47m\u001b[30mC\u001b[39m\u001b[49m\u001b[47m\u001b[30mC\u001b[39m\u001b[49m\u001b[47m\u001b[30mT\u001b[39m\u001b[49m\u001b[47m\u001b[30mG\u001b[39m\u001b[49m\u001b[47m\u001b[30mG\u001b[39m\u001b[49m\u001b[47m\u001b[30mC\u001b[39m\u001b[49m\u001b[47m\u001b[30mG\u001b[39m\u001b[49m\u001b[47m\u001b[30mG\u001b[39m\u001b[49m\u001b[47m\u001b[30mT\u001b[39m\u001b[49m\u001b[47m\u001b[30mA\u001b[39m\u001b[49m\u001b[47m\u001b[30mA\u001b[39m\u001b[49m\u001b[47m\u001b[30mG\u001b[39m\u001b[49m\u001b[47m\u001b[30mT\u001b[39m\u001b[49m\u001b[47m\u001b[30mT\u001b[39m\u001b[49m\u001b[47m\u001b[30mG\u001b[39m\u001b[49m\u001b[47m\u001b[30mA\u001b[39m\u001b[49m\u001b[47m\u001b[30mT\u001b[39m\u001b[49m\u001b[47m\u001b[30mC\u001b[39m\u001b[49m\u001b[47m\u001b[30mA\u001b[39m\u001b[49m\u001b[47m\u001b[30mA\u001b[39m\u001b[49m\u001b[47m\u001b[30mA\u001b[39m\u001b[49m\u001b[47m\u001b[30mG\u001b[39m\u001b[49m\u001b[47m\u001b[30mG\u001b[39m\u001b[49m\u001b[47m\u001b[30mA\u001b[39m\u001b[49m\u001b[47m\u001b[30mA\u001b[39m\u001b[49m\u001b[47m\u001b[30mA\u001b[39m\u001b[49m\u001b[47m\u001b[30mC\u001b[39m\u001b[49m"
      ]
     },
     "metadata": {},
     "output_type": "display_data"
    }
   ],
   "source": [
    "# # [3] Using DNAString -> DNAStringSet\n",
    "str_strset = DNAStringSet(s1_n)\n",
    "str_strset"
   ]
  },
  {
   "cell_type": "markdown",
   "id": "4550b2a8",
   "metadata": {
    "papermill": {
     "duration": 0.274638,
     "end_time": "2022-08-02T17:16:12.452704",
     "exception": false,
     "start_time": "2022-08-02T17:16:12.178066",
     "status": "completed"
    },
    "tags": []
   },
   "source": [
    "### **<span style='color:#6846D5'>SEQUENCE SETS</span>** -> **<span style='color:#6846D5'>CHARACTERS</span>**\n",
    "We might need to also obtain **<mark style=\"background-color:#6846D5;color:white;border-radius:5px;opacity:0.9\">characters</mark>** from sequences (sequence sets)"
   ]
  },
  {
   "cell_type": "code",
   "execution_count": 8,
   "id": "5a3f4848",
   "metadata": {
    "execution": {
     "iopub.execute_input": "2022-08-02T17:16:13.009224Z",
     "iopub.status.busy": "2022-08-02T17:16:13.007118Z",
     "iopub.status.idle": "2022-08-02T17:16:13.049923Z",
     "shell.execute_reply": "2022-08-02T17:16:13.048102Z"
    },
    "papermill": {
     "duration": 0.323286,
     "end_time": "2022-08-02T17:16:13.050092",
     "exception": false,
     "start_time": "2022-08-02T17:16:12.726806",
     "status": "completed"
    },
    "tags": []
   },
   "outputs": [
    {
     "data": {
      "text/plain": [
       "AAStringSet object of length 1:\n",
       "    width seq                                               names               \n",
       "[1]     4 ACGT                                              seq1"
      ]
     },
     "metadata": {},
     "output_type": "display_data"
    },
    {
     "data": {
      "text/html": [
       "'AAStringSet'"
      ],
      "text/latex": [
       "'AAStringSet'"
      ],
      "text/markdown": [
       "'AAStringSet'"
      ],
      "text/plain": [
       "[1] \"AAStringSet\"\n",
       "attr(,\"package\")\n",
       "[1] \"Biostrings\""
      ]
     },
     "metadata": {},
     "output_type": "display_data"
    }
   ],
   "source": [
    "# Start with set (just the one)\n",
    "string = n_set[1]\n",
    "string\n",
    "class(string)"
   ]
  },
  {
   "cell_type": "code",
   "execution_count": 9,
   "id": "650f0967",
   "metadata": {
    "execution": {
     "iopub.execute_input": "2022-08-02T17:16:13.606621Z",
     "iopub.status.busy": "2022-08-02T17:16:13.604100Z",
     "iopub.status.idle": "2022-08-02T17:16:13.639825Z",
     "shell.execute_reply": "2022-08-02T17:16:13.637781Z"
    },
    "papermill": {
     "duration": 0.318262,
     "end_time": "2022-08-02T17:16:13.640002",
     "exception": false,
     "start_time": "2022-08-02T17:16:13.321740",
     "status": "completed"
    },
    "tags": []
   },
   "outputs": [
    {
     "data": {
      "text/html": [
       "'character'"
      ],
      "text/latex": [
       "'character'"
      ],
      "text/markdown": [
       "'character'"
      ],
      "text/plain": [
       "[1] \"character\""
      ]
     },
     "metadata": {},
     "output_type": "display_data"
    },
    {
     "data": {
      "text/html": [
       "'ACGT'"
      ],
      "text/latex": [
       "'ACGT'"
      ],
      "text/markdown": [
       "'ACGT'"
      ],
      "text/plain": [
       "[1] \"ACGT\""
      ]
     },
     "metadata": {},
     "output_type": "display_data"
    }
   ],
   "source": [
    "# Convert XStringSet to Character\n",
    "dna_char <- toString(n_set[1])\n",
    "class(dna_char) # check the class type\n",
    "dna_char # print character"
   ]
  },
  {
   "cell_type": "code",
   "execution_count": 10,
   "id": "68b8457a",
   "metadata": {
    "execution": {
     "iopub.execute_input": "2022-08-02T17:16:14.213801Z",
     "iopub.status.busy": "2022-08-02T17:16:14.211943Z",
     "iopub.status.idle": "2022-08-02T17:16:14.234567Z",
     "shell.execute_reply": "2022-08-02T17:16:14.232915Z"
    },
    "papermill": {
     "duration": 0.313196,
     "end_time": "2022-08-02T17:16:14.234739",
     "exception": false,
     "start_time": "2022-08-02T17:16:13.921543",
     "status": "completed"
    },
    "tags": []
   },
   "outputs": [
    {
     "name": "stdout",
     "output_type": "stream",
     "text": [
      "AAStringSet object of length 3:\n",
      "    width seq                                               names               \n",
      "[1]     4 ACGT                                              seq1\n",
      "[2]     4 GTCA                                              seq2\n",
      "[3]     4 GCTA                                              seq3\n"
     ]
    }
   ],
   "source": [
    "# Start with many strings in a stringset\n",
    "print(n_set)"
   ]
  },
  {
   "cell_type": "code",
   "execution_count": 11,
   "id": "24918ff5",
   "metadata": {
    "execution": {
     "iopub.execute_input": "2022-08-02T17:16:14.803367Z",
     "iopub.status.busy": "2022-08-02T17:16:14.801636Z",
     "iopub.status.idle": "2022-08-02T17:16:14.840808Z",
     "shell.execute_reply": "2022-08-02T17:16:14.839097Z"
    },
    "papermill": {
     "duration": 0.326075,
     "end_time": "2022-08-02T17:16:14.840971",
     "exception": false,
     "start_time": "2022-08-02T17:16:14.514896",
     "status": "completed"
    },
    "tags": []
   },
   "outputs": [
    {
     "data": {
      "text/html": [
       "<ol>\n",
       "\t<li>'ACGT'</li>\n",
       "\t<li>'GTCA'</li>\n",
       "\t<li>'GCTA'</li>\n",
       "</ol>\n"
      ],
      "text/latex": [
       "\\begin{enumerate}\n",
       "\\item 'ACGT'\n",
       "\\item 'GTCA'\n",
       "\\item 'GCTA'\n",
       "\\end{enumerate}\n"
      ],
      "text/markdown": [
       "1. 'ACGT'\n",
       "2. 'GTCA'\n",
       "3. 'GCTA'\n",
       "\n",
       "\n"
      ],
      "text/plain": [
       "[[1]]\n",
       "[1] \"ACGT\"\n",
       "\n",
       "[[2]]\n",
       "[1] \"GTCA\"\n",
       "\n",
       "[[3]]\n",
       "[1] \"GCTA\"\n"
      ]
     },
     "metadata": {},
     "output_type": "display_data"
    }
   ],
   "source": [
    "lst <- list() # define empty list\n",
    "\n",
    "# loop through all in n_set\n",
    "for(i in 1:length(n_set)) {\n",
    "    lst <- c(lst,toString(n_set[i]))\n",
    "}\n",
    "\n",
    "lst # list containing characters"
   ]
  },
  {
   "cell_type": "code",
   "execution_count": 12,
   "id": "9d0e6cdb",
   "metadata": {
    "execution": {
     "iopub.execute_input": "2022-08-02T17:16:15.409348Z",
     "iopub.status.busy": "2022-08-02T17:16:15.407710Z",
     "iopub.status.idle": "2022-08-02T17:16:15.445909Z",
     "shell.execute_reply": "2022-08-02T17:16:15.444344Z"
    },
    "papermill": {
     "duration": 0.327484,
     "end_time": "2022-08-02T17:16:15.446081",
     "exception": false,
     "start_time": "2022-08-02T17:16:15.118597",
     "status": "completed"
    },
    "tags": []
   },
   "outputs": [
    {
     "data": {
      "text/plain": [
       "4-letter AAString object\n",
       "seq: ACGT"
      ]
     },
     "metadata": {},
     "output_type": "display_data"
    },
    {
     "data": {
      "text/html": [
       "'ACGT'"
      ],
      "text/latex": [
       "'ACGT'"
      ],
      "text/markdown": [
       "'ACGT'"
      ],
      "text/plain": [
       "[1] \"ACGT\""
      ]
     },
     "metadata": {},
     "output_type": "display_data"
    },
    {
     "data": {
      "text/html": [
       "'character'"
      ],
      "text/latex": [
       "'character'"
      ],
      "text/markdown": [
       "'character'"
      ],
      "text/plain": [
       "[1] \"character\""
      ]
     },
     "metadata": {},
     "output_type": "display_data"
    }
   ],
   "source": [
    "# Set - > Single sequence\n",
    "string = n_set[[1]] # extract single sequence \n",
    "string # print string\n",
    "\n",
    "# use toString\n",
    "char = toString(string)\n",
    "char  # print character\n",
    "class(char) # print char type"
   ]
  },
  {
   "cell_type": "markdown",
   "id": "73a4ba64",
   "metadata": {
    "papermill": {
     "duration": 0.29509,
     "end_time": "2022-08-02T17:16:16.092130",
     "exception": false,
     "start_time": "2022-08-02T17:16:15.797040",
     "status": "completed"
    },
    "tags": []
   },
   "source": [
    "<div style=\"color:white;display:fill;border-radius:8px;\n",
    "            background-color:#323232;font-size:150%;\n",
    "            font-family:Nexa;letter-spacing:0.5px\">\n",
    "    <p style=\"padding: 8px;color:white;\"><b>1.2 | READING & SAVING SEQUENCES</b></p>\n",
    "</div>\n",
    "\n",
    "### **<span style='color:#6846D5'>READING SEQUENCES FROM FASTA FILE</span>**\n",
    "\n",
    "- Usually when working with realistic sequences formats such as  **<mark style=\"background-color:#6846D5;color:white;border-radius:5px;opacity:0.9\">FASTA</mark>** & **<mark style=\"background-color:#6846D5;color:white;border-radius:5px;opacity:0.9\">GenBank</mark>** are used\n",
    "- **<span style='color:#6846D5'>Biostrings</span>** uses the FASTA format for operations, loading & saving.\n",
    "- The two class formats used upon the sequence(s) being read:\n",
    "> - **<mark style=\"background-color:#6846D5;color:white;border-radius:5px;opacity:0.9\">DNAStringSet</mark>** for nucleotide sequence set (**even just the one**)\n",
    "> - **<mark style=\"background-color:#6846D5;color:white;border-radius:5px;opacity:0.9\">AAStringSet</mark>** for amino acid sequences"
   ]
  },
  {
   "cell_type": "code",
   "execution_count": 13,
   "id": "ea6daff4",
   "metadata": {
    "execution": {
     "iopub.execute_input": "2022-08-02T17:16:16.697433Z",
     "iopub.status.busy": "2022-08-02T17:16:16.695060Z",
     "iopub.status.idle": "2022-08-02T17:16:16.769889Z",
     "shell.execute_reply": "2022-08-02T17:16:16.768179Z"
    },
    "papermill": {
     "duration": 0.380054,
     "end_time": "2022-08-02T17:16:16.770063",
     "exception": false,
     "start_time": "2022-08-02T17:16:16.390009",
     "status": "completed"
    },
    "tags": []
   },
   "outputs": [
    {
     "data": {
      "text/plain": [
       "DNAStringSet object of length 1:\n",
       "    width seq                                               names               \n",
       "[1]  1231 \u001b[47m\u001b[30mG\u001b[39m\u001b[49m\u001b[47m\u001b[30mG\u001b[39m\u001b[49m\u001b[47m\u001b[30mC\u001b[39m\u001b[49m\u001b[47m\u001b[30mA\u001b[39m\u001b[49m\u001b[47m\u001b[30mG\u001b[39m\u001b[49m\u001b[47m\u001b[30mA\u001b[39m\u001b[49m\u001b[47m\u001b[30mT\u001b[39m\u001b[49m\u001b[47m\u001b[30mT\u001b[39m\u001b[49m\u001b[47m\u001b[30mC\u001b[39m\u001b[49m\u001b[47m\u001b[30mC\u001b[39m\u001b[49m\u001b[47m\u001b[30mC\u001b[39m\u001b[49m\u001b[47m\u001b[30mC\u001b[39m\u001b[49m\u001b[47m\u001b[30mC\u001b[39m\u001b[49m\u001b[47m\u001b[30mT\u001b[39m\u001b[49m\u001b[47m\u001b[30mA\u001b[39m\u001b[49m\u001b[47m\u001b[30mG\u001b[39m\u001b[49m\u001b[47m\u001b[30mA\u001b[39m\u001b[49m\u001b[47m\u001b[30mC\u001b[39m\u001b[49m\u001b[47m\u001b[30mC\u001b[39m\u001b[49m\u001b[47m\u001b[30mC\u001b[39m\u001b[49m\u001b[47m\u001b[30mG\u001b[39m\u001b[49m\u001b[47m\u001b[30mC\u001b[39m\u001b[49m\u001b[47m\u001b[30mC\u001b[39m\u001b[49m...\u001b[47m\u001b[30mT\u001b[39m\u001b[49m\u001b[47m\u001b[30mG\u001b[39m\u001b[49m\u001b[47m\u001b[30mC\u001b[39m\u001b[49m\u001b[47m\u001b[30mT\u001b[39m\u001b[49m\u001b[47m\u001b[30mC\u001b[39m\u001b[49m\u001b[47m\u001b[30mC\u001b[39m\u001b[49m\u001b[47m\u001b[30mC\u001b[39m\u001b[49m\u001b[47m\u001b[30mA\u001b[39m\u001b[49m\u001b[47m\u001b[30mA\u001b[39m\u001b[49m\u001b[47m\u001b[30mA\u001b[39m\u001b[49m\u001b[47m\u001b[30mT\u001b[39m\u001b[49m\u001b[47m\u001b[30mA\u001b[39m\u001b[49m\u001b[47m\u001b[30mA\u001b[39m\u001b[49m\u001b[47m\u001b[30mA\u001b[39m\u001b[49m\u001b[47m\u001b[30mC\u001b[39m\u001b[49m\u001b[47m\u001b[30mT\u001b[39m\u001b[49m\u001b[47m\u001b[30mC\u001b[39m\u001b[49m\u001b[47m\u001b[30mC\u001b[39m\u001b[49m\u001b[47m\u001b[30mA\u001b[39m\u001b[49m\u001b[47m\u001b[30mG\u001b[39m\u001b[49m\u001b[47m\u001b[30mA\u001b[39m\u001b[49m\u001b[47m\u001b[30mA\u001b[39m\u001b[49m\u001b[47m\u001b[30mG\u001b[39m\u001b[49m HSBGPG Human gene..."
      ]
     },
     "metadata": {},
     "output_type": "display_data"
    },
    {
     "data": {
      "text/html": [
       "'DNAStringSet'"
      ],
      "text/latex": [
       "'DNAStringSet'"
      ],
      "text/markdown": [
       "'DNAStringSet'"
      ],
      "text/plain": [
       "[1] \"DNAStringSet\"\n",
       "attr(,\"package\")\n",
       "[1] \"Biostrings\""
      ]
     },
     "metadata": {},
     "output_type": "display_data"
    },
    {
     "data": {
      "text/html": [
       "'HSBGPG Human gene for bone gla protein (BGP)'"
      ],
      "text/latex": [
       "'HSBGPG Human gene for bone gla protein (BGP)'"
      ],
      "text/markdown": [
       "'HSBGPG Human gene for bone gla protein (BGP)'"
      ],
      "text/plain": [
       "[1] \"HSBGPG Human gene for bone gla protein (BGP)\""
      ]
     },
     "metadata": {},
     "output_type": "display_data"
    }
   ],
   "source": [
    "# File Containing One Sequence\n",
    "fasta_n = readDNAStringSet('/kaggle/input/bioinformatics/sequences/example.fasta')\n",
    "fasta_n # print read data \n",
    "class(fasta_n) # print read class format\n",
    "names(fasta_n) # print name of sequence"
   ]
  },
  {
   "cell_type": "code",
   "execution_count": 14,
   "id": "f79ab88f",
   "metadata": {
    "execution": {
     "iopub.execute_input": "2022-08-02T17:16:17.382066Z",
     "iopub.status.busy": "2022-08-02T17:16:17.379986Z",
     "iopub.status.idle": "2022-08-02T17:16:17.451859Z",
     "shell.execute_reply": "2022-08-02T17:16:17.450199Z"
    },
    "papermill": {
     "duration": 0.383313,
     "end_time": "2022-08-02T17:16:17.452041",
     "exception": false,
     "start_time": "2022-08-02T17:16:17.068728",
     "status": "completed"
    },
    "tags": []
   },
   "outputs": [
    {
     "data": {
      "text/plain": [
       "AAStringSet object of length 10:\n",
       "     width seq                                              names               \n",
       " [1]   340 MVTFETVMEIKILHKQGMSSRAI...NFDKHPLHHPLSIYDSFCRGVA gi|45478712|ref|N...\n",
       " [2]   260 MMMELQHQRLMALAGQLQLESLI...KGESYRLRQKRKAGVIAEANPE gi|45478713|ref|N...\n",
       " [3]    64 MNKQQQTALNMARFIRSQSLILL...ELAEELQNSIQARFEAESETGT gi|45478714|ref|N...\n",
       " [4]   123 MSKKRRPQKRPRRRRFFHRLRPP...TNPPFSPTTAPYPVTIVLSPTR gi|45478715|ref|N...\n",
       " [5]   145 MGGGMISKLFCLALIFLSSSGLA...SGNFIVVKEIKKSIPGCTVYYH gi|45478716|ref|N...\n",
       " [6]   357 MSDTMVVNGSGGVPAFLFSGSTL...MSDRRKREGALVQKDIDSGLLK gi|45478717|ref|N...\n",
       " [7]   138 MKFHFCDLNHSYKNQEGKIRSRK...YLSGKKPEGVEPREGQEREDLP gi|45478718|ref|N...\n",
       " [8]   312 MKKSSIVATIITILSGSANAASS...GGDAAGISNKNYTVTAGLQYRF gi|45478719|ref|N...\n",
       " [9]    99 MRTLDEVIASRSPESQTRIKEMA...AMGGKLSLDVELPTGRRVAFHV gi|45478720|ref|N...\n",
       "[10]    90 MADLKKLQVYGPELPRPYADTVK...YEKLVRIAEDEFTAHLNTLESK gi|45478721|ref|N..."
      ]
     },
     "metadata": {},
     "output_type": "display_data"
    },
    {
     "data": {
      "text/html": [
       "'AAStringSet'"
      ],
      "text/latex": [
       "'AAStringSet'"
      ],
      "text/markdown": [
       "'AAStringSet'"
      ],
      "text/plain": [
       "[1] \"AAStringSet\"\n",
       "attr(,\"package\")\n",
       "[1] \"Biostrings\""
      ]
     },
     "metadata": {},
     "output_type": "display_data"
    }
   ],
   "source": [
    "# can use (Biostrings::) prefix as well\n",
    "fasta_aa = Biostrings::readAAStringSet('/kaggle/input/bioinformatics/sequences/NC_005816.faa')\n",
    "fasta_aa\n",
    "class(fasta_aa) # AAStringSet object"
   ]
  },
  {
   "cell_type": "code",
   "execution_count": 15,
   "id": "f28c6509",
   "metadata": {
    "execution": {
     "iopub.execute_input": "2022-08-02T17:16:18.075281Z",
     "iopub.status.busy": "2022-08-02T17:16:18.073718Z",
     "iopub.status.idle": "2022-08-02T17:16:18.096559Z",
     "shell.execute_reply": "2022-08-02T17:16:18.095054Z"
    },
    "papermill": {
     "duration": 0.334836,
     "end_time": "2022-08-02T17:16:18.096728",
     "exception": false,
     "start_time": "2022-08-02T17:16:17.761892",
     "status": "completed"
    },
    "tags": []
   },
   "outputs": [
    {
     "data": {
      "text/plain": [
       "AAStringSet object of length 1:\n",
       "    width seq                                               names               \n",
       "[1]   340 MVTFETVMEIKILHKQGMSSRAI...VNFDKHPLHHPLSIYDSFCRGVA gi|45478712|ref|N..."
      ]
     },
     "metadata": {},
     "output_type": "display_data"
    }
   ],
   "source": [
    "# always start with 1 not 0, unlike in python\n",
    "fasta_aa[1] # Still AA StringSet object, but length of 1"
   ]
  },
  {
   "cell_type": "code",
   "execution_count": 16,
   "id": "f360a4f9",
   "metadata": {
    "execution": {
     "iopub.execute_input": "2022-08-02T17:16:18.705428Z",
     "iopub.status.busy": "2022-08-02T17:16:18.704388Z",
     "iopub.status.idle": "2022-08-02T17:16:18.748718Z",
     "shell.execute_reply": "2022-08-02T17:16:18.747216Z"
    },
    "papermill": {
     "duration": 0.352254,
     "end_time": "2022-08-02T17:16:18.748902",
     "exception": false,
     "start_time": "2022-08-02T17:16:18.396648",
     "status": "completed"
    },
    "tags": []
   },
   "outputs": [
    {
     "data": {
      "text/html": [
       "340"
      ],
      "text/latex": [
       "340"
      ],
      "text/markdown": [
       "340"
      ],
      "text/plain": [
       "[1] 340"
      ]
     },
     "metadata": {},
     "output_type": "display_data"
    },
    {
     "data": {
      "text/html": [
       "1"
      ],
      "text/latex": [
       "1"
      ],
      "text/markdown": [
       "1"
      ],
      "text/plain": [
       "[1] 1"
      ]
     },
     "metadata": {},
     "output_type": "display_data"
    },
    {
     "data": {
      "text/html": [
       "'gi|45478712|ref|NP_995567.1| putative transposase [Yersinia pestis biovar Microtus str. 91001]'"
      ],
      "text/latex": [
       "'gi\\textbar{}45478712\\textbar{}ref\\textbar{}NP\\_995567.1\\textbar{} putative transposase {[}Yersinia pestis biovar Microtus str. 91001{]}'"
      ],
      "text/markdown": [
       "'gi|45478712|ref|NP_995567.1| putative transposase [Yersinia pestis biovar Microtus str. 91001]'"
      ],
      "text/plain": [
       "[1] \"gi|45478712|ref|NP_995567.1| putative transposase [Yersinia pestis biovar Microtus str. 91001]\""
      ]
     },
     "metadata": {},
     "output_type": "display_data"
    },
    {
     "data": {
      "text/html": [
       "'character'"
      ],
      "text/latex": [
       "'character'"
      ],
      "text/markdown": [
       "'character'"
      ],
      "text/plain": [
       "[1] \"character\""
      ]
     },
     "metadata": {},
     "output_type": "display_data"
    }
   ],
   "source": [
    "# Some other operations\n",
    "width(fasta_aa[1]) # get the length of the sequence \n",
    "seq(fasta_aa[1]) # sequence number\n",
    "names(fasta_aa[1]) # sequence description\n",
    "char_seq = toString(fasta_aa[1]) # get the character object type of the sequence\n",
    "class(char_seq) # show object class "
   ]
  },
  {
   "cell_type": "markdown",
   "id": "66e06354",
   "metadata": {
    "papermill": {
     "duration": 0.32263,
     "end_time": "2022-08-02T17:16:19.380136",
     "exception": false,
     "start_time": "2022-08-02T17:16:19.057506",
     "status": "completed"
    },
    "tags": []
   },
   "source": [
    "### **<span style='color:#6846D5'>SAVING SEQUENCES TO FASTA FORMAT</span>**\n",
    "\n",
    "**<mark style=\"background-color:#6846D5;color:white;border-radius:5px;opacity:0.9\">writeXStringSet</mark>** is used to save a **<span style='color:#6846D5'>StringSet</span>**, which has the option to save in **FASTA** format"
   ]
  },
  {
   "cell_type": "code",
   "execution_count": 17,
   "id": "79cdb8e1",
   "metadata": {
    "execution": {
     "iopub.execute_input": "2022-08-02T17:16:20.072574Z",
     "iopub.status.busy": "2022-08-02T17:16:20.070940Z",
     "iopub.status.idle": "2022-08-02T17:16:20.103010Z",
     "shell.execute_reply": "2022-08-02T17:16:20.101784Z"
    },
    "papermill": {
     "duration": 0.398097,
     "end_time": "2022-08-02T17:16:20.103240",
     "exception": false,
     "start_time": "2022-08-02T17:16:19.705143",
     "status": "completed"
    },
    "tags": []
   },
   "outputs": [
    {
     "data": {
      "text/plain": [
       "AAStringSet object of length 3:\n",
       "    width seq                                               names               \n",
       "[1]     4 ACGT                                              seq1\n",
       "[2]     4 GTCA                                              seq2\n",
       "[3]     4 GCTA                                              seq3"
      ]
     },
     "metadata": {},
     "output_type": "display_data"
    }
   ],
   "source": [
    "n_set # an aastringset we wish to save"
   ]
  },
  {
   "cell_type": "code",
   "execution_count": 18,
   "id": "193ca0b5",
   "metadata": {
    "execution": {
     "iopub.execute_input": "2022-08-02T17:16:20.796234Z",
     "iopub.status.busy": "2022-08-02T17:16:20.794574Z",
     "iopub.status.idle": "2022-08-02T17:16:20.810978Z",
     "shell.execute_reply": "2022-08-02T17:16:20.809508Z"
    },
    "papermill": {
     "duration": 0.367947,
     "end_time": "2022-08-02T17:16:20.811143",
     "exception": false,
     "start_time": "2022-08-02T17:16:20.443196",
     "status": "completed"
    },
    "tags": []
   },
   "outputs": [],
   "source": [
    "# Save our XStringSet\n",
    "writeXStringSet(n_set,\n",
    "                filepath='/kaggle/working/dna_list.fasta',\n",
    "                format='fasta')"
   ]
  },
  {
   "cell_type": "code",
   "execution_count": 19,
   "id": "f8de418b",
   "metadata": {
    "execution": {
     "iopub.execute_input": "2022-08-02T17:16:21.490089Z",
     "iopub.status.busy": "2022-08-02T17:16:21.488068Z",
     "iopub.status.idle": "2022-08-02T17:16:21.522203Z",
     "shell.execute_reply": "2022-08-02T17:16:21.520743Z"
    },
    "papermill": {
     "duration": 0.372381,
     "end_time": "2022-08-02T17:16:21.522413",
     "exception": false,
     "start_time": "2022-08-02T17:16:21.150032",
     "status": "completed"
    },
    "tags": []
   },
   "outputs": [
    {
     "data": {
      "text/plain": [
       "DNAStringSet object of length 3:\n",
       "    width seq                                               names               \n",
       "[1]     4 \u001b[47m\u001b[30mA\u001b[39m\u001b[49m\u001b[47m\u001b[30mC\u001b[39m\u001b[49m\u001b[47m\u001b[30mG\u001b[39m\u001b[49m\u001b[47m\u001b[30mT\u001b[39m\u001b[49m                                              seq1\n",
       "[2]     4 \u001b[47m\u001b[30mG\u001b[39m\u001b[49m\u001b[47m\u001b[30mT\u001b[39m\u001b[49m\u001b[47m\u001b[30mC\u001b[39m\u001b[49m\u001b[47m\u001b[30mA\u001b[39m\u001b[49m                                              seq2\n",
       "[3]     4 \u001b[47m\u001b[30mG\u001b[39m\u001b[49m\u001b[47m\u001b[30mC\u001b[39m\u001b[49m\u001b[47m\u001b[30mT\u001b[39m\u001b[49m\u001b[47m\u001b[30mA\u001b[39m\u001b[49m                                              seq3"
      ]
     },
     "metadata": {},
     "output_type": "display_data"
    }
   ],
   "source": [
    "# confirmation only (read the file)\n",
    "confirm_dna_xstrset = readDNAStringSet('/kaggle/working/dna_list.fasta')\n",
    "confirm_dna_xstrset"
   ]
  },
  {
   "cell_type": "markdown",
   "id": "2a5032c3",
   "metadata": {
    "papermill": {
     "duration": 0.316431,
     "end_time": "2022-08-02T17:16:22.164526",
     "exception": false,
     "start_time": "2022-08-02T17:16:21.848095",
     "status": "completed"
    },
    "tags": []
   },
   "source": [
    "<div style=\"color:white;display:fill;border-radius:8px;\n",
    "            background-color:#323232;font-size:150%;\n",
    "            font-family:Nexa;letter-spacing:0.5px\">\n",
    "    <p style=\"padding: 8px;color:white;\"><b>1.3 | ADDING & REMOVING SEQUENCE SETS</b></p>\n",
    "</div>\n",
    "\n",
    "### **<span style='color:#6846D5'>COMBINE STRING SETS</span>**\n",
    "\n",
    "Combine **<span style='color:#6846D5'>Stringsets</span>** & create a single set, created from **concatenated vectors** of <code>characters</code>"
   ]
  },
  {
   "cell_type": "code",
   "execution_count": 20,
   "id": "2fcfaea8",
   "metadata": {
    "execution": {
     "iopub.execute_input": "2022-08-02T17:16:22.825024Z",
     "iopub.status.busy": "2022-08-02T17:16:22.823266Z",
     "iopub.status.idle": "2022-08-02T17:16:22.890672Z",
     "shell.execute_reply": "2022-08-02T17:16:22.889099Z"
    },
    "papermill": {
     "duration": 0.413808,
     "end_time": "2022-08-02T17:16:22.890863",
     "exception": false,
     "start_time": "2022-08-02T17:16:22.477055",
     "status": "completed"
    },
    "tags": []
   },
   "outputs": [
    {
     "data": {
      "text/plain": [
       "DNAStringSet object of length 9:\n",
       "    width seq\n",
       "[1]    10 \u001b[47m\u001b[30mC\u001b[39m\u001b[49m\u001b[47m\u001b[30mT\u001b[39m\u001b[49m\u001b[47m\u001b[30mC\u001b[39m\u001b[49m\u001b[47m\u001b[30mC\u001b[39m\u001b[49m\u001b[47m\u001b[30mC\u001b[39m\u001b[49m\u001b[47m\u001b[30mA\u001b[39m\u001b[49m\u001b[47m\u001b[30mG\u001b[39m\u001b[49m\u001b[47m\u001b[30mT\u001b[39m\u001b[49m\u001b[47m\u001b[30mA\u001b[39m\u001b[49m\u001b[47m\u001b[30mT\u001b[39m\u001b[49m\n",
       "[2]     7 \u001b[47m\u001b[30mT\u001b[39m\u001b[49m\u001b[47m\u001b[30mT\u001b[39m\u001b[49m\u001b[47m\u001b[30mC\u001b[39m\u001b[49m\u001b[47m\u001b[30mC\u001b[39m\u001b[49m\u001b[47m\u001b[30mC\u001b[39m\u001b[49m\u001b[47m\u001b[30mG\u001b[39m\u001b[49m\u001b[47m\u001b[30mA\u001b[39m\u001b[49m\n",
       "[3]     9 \u001b[47m\u001b[30mT\u001b[39m\u001b[49m\u001b[47m\u001b[30mA\u001b[39m\u001b[49m\u001b[47m\u001b[30mC\u001b[39m\u001b[49m\u001b[47m\u001b[30mC\u001b[39m\u001b[49m\u001b[47m\u001b[30mT\u001b[39m\u001b[49m\u001b[47m\u001b[30mA\u001b[39m\u001b[49m\u001b[47m\u001b[30mG\u001b[39m\u001b[49m\u001b[47m\u001b[30mA\u001b[39m\u001b[49m\u001b[47m\u001b[30mG\u001b[39m\u001b[49m\n",
       "[4]     7 \u001b[47m\u001b[30mA\u001b[39m\u001b[49m\u001b[47m\u001b[30mG\u001b[39m\u001b[49m\u001b[47m\u001b[30mG\u001b[39m\u001b[49m\u001b[47m\u001b[30mT\u001b[39m\u001b[49m\u001b[47m\u001b[30mC\u001b[39m\u001b[49m\u001b[47m\u001b[30mG\u001b[39m\u001b[49m\u001b[47m\u001b[30mT\u001b[39m\u001b[49m\n",
       "[5]    13 \u001b[47m\u001b[30mG\u001b[39m\u001b[49m\u001b[47m\u001b[30mT\u001b[39m\u001b[49m\u001b[47m\u001b[30mC\u001b[39m\u001b[49m\u001b[47m\u001b[30mA\u001b[39m\u001b[49m\u001b[47m\u001b[30mG\u001b[39m\u001b[49m\u001b[47m\u001b[30mT\u001b[39m\u001b[49m\u001b[47m\u001b[30mG\u001b[39m\u001b[49m\u001b[47m\u001b[30mG\u001b[39m\u001b[49m\u001b[47m\u001b[30mT\u001b[39m\u001b[49m\u001b[47m\u001b[30mC\u001b[39m\u001b[49m\u001b[47m\u001b[30mC\u001b[39m\u001b[49m\u001b[47m\u001b[30mC\u001b[39m\u001b[49m\u001b[47m\u001b[30mC\u001b[39m\u001b[49m\n",
       "[6]     9 \u001b[47m\u001b[30mC\u001b[39m\u001b[49m\u001b[47m\u001b[30mA\u001b[39m\u001b[49m\u001b[47m\u001b[30mT\u001b[39m\u001b[49m\u001b[47m\u001b[30mT\u001b[39m\u001b[49m\u001b[47m\u001b[30mT\u001b[39m\u001b[49m\u001b[47m\u001b[30mT\u001b[39m\u001b[49m\u001b[47m\u001b[30mA\u001b[39m\u001b[49m\u001b[47m\u001b[30mG\u001b[39m\u001b[49m\u001b[47m\u001b[30mG\u001b[39m\u001b[49m\n",
       "[7]     9 \u001b[47m\u001b[30mT\u001b[39m\u001b[49m\u001b[47m\u001b[30mG\u001b[39m\u001b[49m\u001b[47m\u001b[30mC\u001b[39m\u001b[49m\u001b[47m\u001b[30mT\u001b[39m\u001b[49m\u001b[47m\u001b[30mA\u001b[39m\u001b[49m\u001b[47m\u001b[30mG\u001b[39m\u001b[49m\u001b[47m\u001b[30mC\u001b[39m\u001b[49m\u001b[47m\u001b[30mT\u001b[39m\u001b[49m\u001b[47m\u001b[30mA\u001b[39m\u001b[49m\n",
       "[8]     8 \u001b[47m\u001b[30mA\u001b[39m\u001b[49m\u001b[47m\u001b[30mG\u001b[39m\u001b[49m\u001b[47m\u001b[30mT\u001b[39m\u001b[49m\u001b[47m\u001b[30mC\u001b[39m\u001b[49m\u001b[47m\u001b[30mT\u001b[39m\u001b[49m\u001b[47m\u001b[30mT\u001b[39m\u001b[49m\u001b[47m\u001b[30mG\u001b[39m\u001b[49m\u001b[47m\u001b[30mC\u001b[39m\u001b[49m\n",
       "[9]    10 \u001b[47m\u001b[30mA\u001b[39m\u001b[49m\u001b[47m\u001b[30mG\u001b[39m\u001b[49m\u001b[47m\u001b[30mC\u001b[39m\u001b[49m\u001b[47m\u001b[30mT\u001b[39m\u001b[49m\u001b[47m\u001b[30mT\u001b[39m\u001b[49m\u001b[47m\u001b[30mT\u001b[39m\u001b[49m\u001b[47m\u001b[30mC\u001b[39m\u001b[49m\u001b[47m\u001b[30mG\u001b[39m\u001b[49m\u001b[47m\u001b[30mA\u001b[39m\u001b[49m\u001b[47m\u001b[30mG\u001b[39m\u001b[49m"
      ]
     },
     "metadata": {},
     "output_type": "display_data"
    }
   ],
   "source": [
    "# combine characters \n",
    "x0 <- DNAStringSet(c(\"CTCCCAGTAT\", \"TTCCCGA\", \"TACCTAGAG\"))  # String Set #1\n",
    "x1 <- DNAStringSet(c(\"AGGTCGT\", \"GTCAGTGGTCCCC\", \"CATTTTAGG\")) # String Set #2\n",
    "x2 <- DNAStringSet(c(\"TGCTAGCTA\", \"AGTCTTGC\", \"AGCTTTCGAG\")) # String Set #3\n",
    "\n",
    "dna_list <- list(x0, x1, x2) # create a list of String Sets\n",
    "dna_xstrset = do.call(c, dna_list) # concentrate \n",
    "dna_xstrset"
   ]
  },
  {
   "cell_type": "markdown",
   "id": "6386ff06",
   "metadata": {
    "papermill": {
     "duration": 0.315002,
     "end_time": "2022-08-02T17:16:23.519557",
     "exception": false,
     "start_time": "2022-08-02T17:16:23.204555",
     "status": "completed"
    },
    "tags": []
   },
   "source": [
    "### **<span style='color:#6846D5'>CHOOSE ONLY SPECIFIC SEQUENCE IN SET</span>**\n",
    "\n",
    "We can choose only a specific subset of the entire set & store it as a new subset"
   ]
  },
  {
   "cell_type": "code",
   "execution_count": 21,
   "id": "3d30d0f7",
   "metadata": {
    "execution": {
     "iopub.execute_input": "2022-08-02T17:16:24.154187Z",
     "iopub.status.busy": "2022-08-02T17:16:24.152661Z",
     "iopub.status.idle": "2022-08-02T17:16:24.181998Z",
     "shell.execute_reply": "2022-08-02T17:16:24.180614Z"
    },
    "papermill": {
     "duration": 0.350616,
     "end_time": "2022-08-02T17:16:24.182168",
     "exception": false,
     "start_time": "2022-08-02T17:16:23.831552",
     "status": "completed"
    },
    "tags": []
   },
   "outputs": [
    {
     "data": {
      "text/plain": [
       "DNAStringSet object of length 2:\n",
       "    width seq\n",
       "[1]    10 \u001b[47m\u001b[30mC\u001b[39m\u001b[49m\u001b[47m\u001b[30mT\u001b[39m\u001b[49m\u001b[47m\u001b[30mC\u001b[39m\u001b[49m\u001b[47m\u001b[30mC\u001b[39m\u001b[49m\u001b[47m\u001b[30mC\u001b[39m\u001b[49m\u001b[47m\u001b[30mA\u001b[39m\u001b[49m\u001b[47m\u001b[30mG\u001b[39m\u001b[49m\u001b[47m\u001b[30mT\u001b[39m\u001b[49m\u001b[47m\u001b[30mA\u001b[39m\u001b[49m\u001b[47m\u001b[30mT\u001b[39m\u001b[49m\n",
       "[2]     7 \u001b[47m\u001b[30mT\u001b[39m\u001b[49m\u001b[47m\u001b[30mT\u001b[39m\u001b[49m\u001b[47m\u001b[30mC\u001b[39m\u001b[49m\u001b[47m\u001b[30mC\u001b[39m\u001b[49m\u001b[47m\u001b[30mC\u001b[39m\u001b[49m\u001b[47m\u001b[30mG\u001b[39m\u001b[49m\u001b[47m\u001b[30mA\u001b[39m\u001b[49m"
      ]
     },
     "metadata": {},
     "output_type": "display_data"
    }
   ],
   "source": [
    "# Select only specific sequences from Set\n",
    "dna_xstrset[1:2] # indexing a Set -> selecting sequences\n",
    "new_set <- dna_xstrset[9] # set to new variable"
   ]
  },
  {
   "cell_type": "code",
   "execution_count": 22,
   "id": "62323465",
   "metadata": {
    "execution": {
     "iopub.execute_input": "2022-08-02T17:16:24.823679Z",
     "iopub.status.busy": "2022-08-02T17:16:24.821769Z",
     "iopub.status.idle": "2022-08-02T17:16:24.843971Z",
     "shell.execute_reply": "2022-08-02T17:16:24.842288Z"
    },
    "papermill": {
     "duration": 0.345524,
     "end_time": "2022-08-02T17:16:24.844131",
     "exception": false,
     "start_time": "2022-08-02T17:16:24.498607",
     "status": "completed"
    },
    "tags": []
   },
   "outputs": [
    {
     "data": {
      "text/plain": [
       "5-letter AAString object\n",
       "seq: HEAGA"
      ]
     },
     "metadata": {},
     "output_type": "display_data"
    }
   ],
   "source": [
    "# Selecting Sequence Subset w/ range\n",
    "subseq_aa = subseq(s2_aa, start=1,end=5)\n",
    "subseq_aa"
   ]
  },
  {
   "cell_type": "markdown",
   "id": "28f1dd38",
   "metadata": {
    "papermill": {
     "duration": 0.324819,
     "end_time": "2022-08-02T17:16:25.488826",
     "exception": false,
     "start_time": "2022-08-02T17:16:25.164007",
     "status": "completed"
    },
    "tags": []
   },
   "source": [
    "<div style=\"color:white;display:fill;border-radius:8px;\n",
    "            background-color:#323232;font-size:150%;\n",
    "            font-family:Nexa;letter-spacing:0.5px\">\n",
    "    <p style=\"padding: 8px;color:white;\"><b>1.4 | BASIC FUNCTIONALITY</b></p>\n",
    "</div>\n",
    "\n",
    "- Some basic functions appliable to <code>StringSet</code>, some of which haven't been used yet, mainly to do with ordering or visualisation inside the set"
   ]
  },
  {
   "cell_type": "code",
   "execution_count": 23,
   "id": "2114650f",
   "metadata": {
    "execution": {
     "iopub.execute_input": "2022-08-02T17:16:26.148080Z",
     "iopub.status.busy": "2022-08-02T17:16:26.146250Z",
     "iopub.status.idle": "2022-08-02T17:16:26.212826Z",
     "shell.execute_reply": "2022-08-02T17:16:26.211143Z"
    },
    "papermill": {
     "duration": 0.396811,
     "end_time": "2022-08-02T17:16:26.213007",
     "exception": false,
     "start_time": "2022-08-02T17:16:25.816196",
     "status": "completed"
    },
    "tags": []
   },
   "outputs": [
    {
     "data": {
      "text/html": [
       "9"
      ],
      "text/latex": [
       "9"
      ],
      "text/markdown": [
       "9"
      ],
      "text/plain": [
       "[1] 9"
      ]
     },
     "metadata": {},
     "output_type": "display_data"
    },
    {
     "data": {
      "text/plain": [
       "NULL"
      ]
     },
     "metadata": {},
     "output_type": "display_data"
    },
    {
     "data": {
      "text/plain": [
       "DNAStringSet object of length 6:\n",
       "    width seq\n",
       "[1]    10 \u001b[47m\u001b[30mC\u001b[39m\u001b[49m\u001b[47m\u001b[30mT\u001b[39m\u001b[49m\u001b[47m\u001b[30mC\u001b[39m\u001b[49m\u001b[47m\u001b[30mC\u001b[39m\u001b[49m\u001b[47m\u001b[30mC\u001b[39m\u001b[49m\u001b[47m\u001b[30mA\u001b[39m\u001b[49m\u001b[47m\u001b[30mG\u001b[39m\u001b[49m\u001b[47m\u001b[30mT\u001b[39m\u001b[49m\u001b[47m\u001b[30mA\u001b[39m\u001b[49m\u001b[47m\u001b[30mT\u001b[39m\u001b[49m\n",
       "[2]     7 \u001b[47m\u001b[30mT\u001b[39m\u001b[49m\u001b[47m\u001b[30mT\u001b[39m\u001b[49m\u001b[47m\u001b[30mC\u001b[39m\u001b[49m\u001b[47m\u001b[30mC\u001b[39m\u001b[49m\u001b[47m\u001b[30mC\u001b[39m\u001b[49m\u001b[47m\u001b[30mG\u001b[39m\u001b[49m\u001b[47m\u001b[30mA\u001b[39m\u001b[49m\n",
       "[3]     9 \u001b[47m\u001b[30mT\u001b[39m\u001b[49m\u001b[47m\u001b[30mA\u001b[39m\u001b[49m\u001b[47m\u001b[30mC\u001b[39m\u001b[49m\u001b[47m\u001b[30mC\u001b[39m\u001b[49m\u001b[47m\u001b[30mT\u001b[39m\u001b[49m\u001b[47m\u001b[30mA\u001b[39m\u001b[49m\u001b[47m\u001b[30mG\u001b[39m\u001b[49m\u001b[47m\u001b[30mA\u001b[39m\u001b[49m\u001b[47m\u001b[30mG\u001b[39m\u001b[49m\n",
       "[4]     7 \u001b[47m\u001b[30mA\u001b[39m\u001b[49m\u001b[47m\u001b[30mG\u001b[39m\u001b[49m\u001b[47m\u001b[30mG\u001b[39m\u001b[49m\u001b[47m\u001b[30mT\u001b[39m\u001b[49m\u001b[47m\u001b[30mC\u001b[39m\u001b[49m\u001b[47m\u001b[30mG\u001b[39m\u001b[49m\u001b[47m\u001b[30mT\u001b[39m\u001b[49m\n",
       "[5]    13 \u001b[47m\u001b[30mG\u001b[39m\u001b[49m\u001b[47m\u001b[30mT\u001b[39m\u001b[49m\u001b[47m\u001b[30mC\u001b[39m\u001b[49m\u001b[47m\u001b[30mA\u001b[39m\u001b[49m\u001b[47m\u001b[30mG\u001b[39m\u001b[49m\u001b[47m\u001b[30mT\u001b[39m\u001b[49m\u001b[47m\u001b[30mG\u001b[39m\u001b[49m\u001b[47m\u001b[30mG\u001b[39m\u001b[49m\u001b[47m\u001b[30mT\u001b[39m\u001b[49m\u001b[47m\u001b[30mC\u001b[39m\u001b[49m\u001b[47m\u001b[30mC\u001b[39m\u001b[49m\u001b[47m\u001b[30mC\u001b[39m\u001b[49m\u001b[47m\u001b[30mC\u001b[39m\u001b[49m\n",
       "[6]     9 \u001b[47m\u001b[30mC\u001b[39m\u001b[49m\u001b[47m\u001b[30mA\u001b[39m\u001b[49m\u001b[47m\u001b[30mT\u001b[39m\u001b[49m\u001b[47m\u001b[30mT\u001b[39m\u001b[49m\u001b[47m\u001b[30mT\u001b[39m\u001b[49m\u001b[47m\u001b[30mT\u001b[39m\u001b[49m\u001b[47m\u001b[30mA\u001b[39m\u001b[49m\u001b[47m\u001b[30mG\u001b[39m\u001b[49m\u001b[47m\u001b[30mG\u001b[39m\u001b[49m"
      ]
     },
     "metadata": {},
     "output_type": "display_data"
    },
    {
     "data": {
      "text/plain": [
       "DNAStringSet object of length 6:\n",
       "    width seq\n",
       "[1]     7 \u001b[47m\u001b[30mA\u001b[39m\u001b[49m\u001b[47m\u001b[30mG\u001b[39m\u001b[49m\u001b[47m\u001b[30mG\u001b[39m\u001b[49m\u001b[47m\u001b[30mT\u001b[39m\u001b[49m\u001b[47m\u001b[30mC\u001b[39m\u001b[49m\u001b[47m\u001b[30mG\u001b[39m\u001b[49m\u001b[47m\u001b[30mT\u001b[39m\u001b[49m\n",
       "[2]    13 \u001b[47m\u001b[30mG\u001b[39m\u001b[49m\u001b[47m\u001b[30mT\u001b[39m\u001b[49m\u001b[47m\u001b[30mC\u001b[39m\u001b[49m\u001b[47m\u001b[30mA\u001b[39m\u001b[49m\u001b[47m\u001b[30mG\u001b[39m\u001b[49m\u001b[47m\u001b[30mT\u001b[39m\u001b[49m\u001b[47m\u001b[30mG\u001b[39m\u001b[49m\u001b[47m\u001b[30mG\u001b[39m\u001b[49m\u001b[47m\u001b[30mT\u001b[39m\u001b[49m\u001b[47m\u001b[30mC\u001b[39m\u001b[49m\u001b[47m\u001b[30mC\u001b[39m\u001b[49m\u001b[47m\u001b[30mC\u001b[39m\u001b[49m\u001b[47m\u001b[30mC\u001b[39m\u001b[49m\n",
       "[3]     9 \u001b[47m\u001b[30mC\u001b[39m\u001b[49m\u001b[47m\u001b[30mA\u001b[39m\u001b[49m\u001b[47m\u001b[30mT\u001b[39m\u001b[49m\u001b[47m\u001b[30mT\u001b[39m\u001b[49m\u001b[47m\u001b[30mT\u001b[39m\u001b[49m\u001b[47m\u001b[30mT\u001b[39m\u001b[49m\u001b[47m\u001b[30mA\u001b[39m\u001b[49m\u001b[47m\u001b[30mG\u001b[39m\u001b[49m\u001b[47m\u001b[30mG\u001b[39m\u001b[49m\n",
       "[4]     9 \u001b[47m\u001b[30mT\u001b[39m\u001b[49m\u001b[47m\u001b[30mG\u001b[39m\u001b[49m\u001b[47m\u001b[30mC\u001b[39m\u001b[49m\u001b[47m\u001b[30mT\u001b[39m\u001b[49m\u001b[47m\u001b[30mA\u001b[39m\u001b[49m\u001b[47m\u001b[30mG\u001b[39m\u001b[49m\u001b[47m\u001b[30mC\u001b[39m\u001b[49m\u001b[47m\u001b[30mT\u001b[39m\u001b[49m\u001b[47m\u001b[30mA\u001b[39m\u001b[49m\n",
       "[5]     8 \u001b[47m\u001b[30mA\u001b[39m\u001b[49m\u001b[47m\u001b[30mG\u001b[39m\u001b[49m\u001b[47m\u001b[30mT\u001b[39m\u001b[49m\u001b[47m\u001b[30mC\u001b[39m\u001b[49m\u001b[47m\u001b[30mT\u001b[39m\u001b[49m\u001b[47m\u001b[30mT\u001b[39m\u001b[49m\u001b[47m\u001b[30mG\u001b[39m\u001b[49m\u001b[47m\u001b[30mC\u001b[39m\u001b[49m\n",
       "[6]    10 \u001b[47m\u001b[30mA\u001b[39m\u001b[49m\u001b[47m\u001b[30mG\u001b[39m\u001b[49m\u001b[47m\u001b[30mC\u001b[39m\u001b[49m\u001b[47m\u001b[30mT\u001b[39m\u001b[49m\u001b[47m\u001b[30mT\u001b[39m\u001b[49m\u001b[47m\u001b[30mT\u001b[39m\u001b[49m\u001b[47m\u001b[30mC\u001b[39m\u001b[49m\u001b[47m\u001b[30mG\u001b[39m\u001b[49m\u001b[47m\u001b[30mA\u001b[39m\u001b[49m\u001b[47m\u001b[30mG\u001b[39m\u001b[49m"
      ]
     },
     "metadata": {},
     "output_type": "display_data"
    },
    {
     "data": {
      "text/html": [
       "<style>\n",
       ".list-inline {list-style: none; margin:0; padding: 0}\n",
       ".list-inline>li {display: inline-block}\n",
       ".list-inline>li:not(:last-child)::after {content: \"\\00b7\"; padding: 0 .5ex}\n",
       "</style>\n",
       "<ol class=list-inline><li>10</li><li>7</li><li>9</li><li>7</li><li>13</li><li>9</li><li>9</li><li>8</li><li>10</li></ol>\n"
      ],
      "text/latex": [
       "\\begin{enumerate*}\n",
       "\\item 10\n",
       "\\item 7\n",
       "\\item 9\n",
       "\\item 7\n",
       "\\item 13\n",
       "\\item 9\n",
       "\\item 9\n",
       "\\item 8\n",
       "\\item 10\n",
       "\\end{enumerate*}\n"
      ],
      "text/markdown": [
       "1. 10\n",
       "2. 7\n",
       "3. 9\n",
       "4. 7\n",
       "5. 13\n",
       "6. 9\n",
       "7. 9\n",
       "8. 8\n",
       "9. 10\n",
       "\n",
       "\n"
      ],
      "text/plain": [
       "[1] 10  7  9  7 13  9  9  8 10"
      ]
     },
     "metadata": {},
     "output_type": "display_data"
    }
   ],
   "source": [
    "# [1] basic operations\n",
    "\n",
    "length(dna_xstrset) # number of sequences\n",
    "names(dna_xstrset) # sequence names in set\n",
    "head(dna_xstrset) # show top sequences  \n",
    "tail(dna_xstrset) # show bottom sequences\n",
    "width(dna_xstrset) # length of sequences in set"
   ]
  },
  {
   "cell_type": "markdown",
   "id": "022969e8",
   "metadata": {
    "papermill": {
     "duration": 0.333137,
     "end_time": "2022-08-02T17:16:26.871960",
     "exception": false,
     "start_time": "2022-08-02T17:16:26.538823",
     "status": "completed"
    },
    "tags": []
   },
   "source": [
    "- <code>sort</code> & <code>rev</code> are sorters of **String Sets**, by using the sequence alphabet"
   ]
  },
  {
   "cell_type": "code",
   "execution_count": 24,
   "id": "8459bbc6",
   "metadata": {
    "execution": {
     "iopub.execute_input": "2022-08-02T17:16:27.545262Z",
     "iopub.status.busy": "2022-08-02T17:16:27.544253Z",
     "iopub.status.idle": "2022-08-02T17:16:27.601431Z",
     "shell.execute_reply": "2022-08-02T17:16:27.599220Z"
    },
    "papermill": {
     "duration": 0.396941,
     "end_time": "2022-08-02T17:16:27.601670",
     "exception": false,
     "start_time": "2022-08-02T17:16:27.204729",
     "status": "completed"
    },
    "tags": []
   },
   "outputs": [
    {
     "data": {
      "text/plain": [
       "DNAStringSet object of length 9:\n",
       "    width seq\n",
       "[1]    10 \u001b[47m\u001b[30mA\u001b[39m\u001b[49m\u001b[47m\u001b[30mG\u001b[39m\u001b[49m\u001b[47m\u001b[30mC\u001b[39m\u001b[49m\u001b[47m\u001b[30mT\u001b[39m\u001b[49m\u001b[47m\u001b[30mT\u001b[39m\u001b[49m\u001b[47m\u001b[30mT\u001b[39m\u001b[49m\u001b[47m\u001b[30mC\u001b[39m\u001b[49m\u001b[47m\u001b[30mG\u001b[39m\u001b[49m\u001b[47m\u001b[30mA\u001b[39m\u001b[49m\u001b[47m\u001b[30mG\u001b[39m\u001b[49m\n",
       "[2]     7 \u001b[47m\u001b[30mA\u001b[39m\u001b[49m\u001b[47m\u001b[30mG\u001b[39m\u001b[49m\u001b[47m\u001b[30mG\u001b[39m\u001b[49m\u001b[47m\u001b[30mT\u001b[39m\u001b[49m\u001b[47m\u001b[30mC\u001b[39m\u001b[49m\u001b[47m\u001b[30mG\u001b[39m\u001b[49m\u001b[47m\u001b[30mT\u001b[39m\u001b[49m\n",
       "[3]     8 \u001b[47m\u001b[30mA\u001b[39m\u001b[49m\u001b[47m\u001b[30mG\u001b[39m\u001b[49m\u001b[47m\u001b[30mT\u001b[39m\u001b[49m\u001b[47m\u001b[30mC\u001b[39m\u001b[49m\u001b[47m\u001b[30mT\u001b[39m\u001b[49m\u001b[47m\u001b[30mT\u001b[39m\u001b[49m\u001b[47m\u001b[30mG\u001b[39m\u001b[49m\u001b[47m\u001b[30mC\u001b[39m\u001b[49m\n",
       "[4]     9 \u001b[47m\u001b[30mC\u001b[39m\u001b[49m\u001b[47m\u001b[30mA\u001b[39m\u001b[49m\u001b[47m\u001b[30mT\u001b[39m\u001b[49m\u001b[47m\u001b[30mT\u001b[39m\u001b[49m\u001b[47m\u001b[30mT\u001b[39m\u001b[49m\u001b[47m\u001b[30mT\u001b[39m\u001b[49m\u001b[47m\u001b[30mA\u001b[39m\u001b[49m\u001b[47m\u001b[30mG\u001b[39m\u001b[49m\u001b[47m\u001b[30mG\u001b[39m\u001b[49m\n",
       "[5]    10 \u001b[47m\u001b[30mC\u001b[39m\u001b[49m\u001b[47m\u001b[30mT\u001b[39m\u001b[49m\u001b[47m\u001b[30mC\u001b[39m\u001b[49m\u001b[47m\u001b[30mC\u001b[39m\u001b[49m\u001b[47m\u001b[30mC\u001b[39m\u001b[49m\u001b[47m\u001b[30mA\u001b[39m\u001b[49m\u001b[47m\u001b[30mG\u001b[39m\u001b[49m\u001b[47m\u001b[30mT\u001b[39m\u001b[49m\u001b[47m\u001b[30mA\u001b[39m\u001b[49m\u001b[47m\u001b[30mT\u001b[39m\u001b[49m\n",
       "[6]    13 \u001b[47m\u001b[30mG\u001b[39m\u001b[49m\u001b[47m\u001b[30mT\u001b[39m\u001b[49m\u001b[47m\u001b[30mC\u001b[39m\u001b[49m\u001b[47m\u001b[30mA\u001b[39m\u001b[49m\u001b[47m\u001b[30mG\u001b[39m\u001b[49m\u001b[47m\u001b[30mT\u001b[39m\u001b[49m\u001b[47m\u001b[30mG\u001b[39m\u001b[49m\u001b[47m\u001b[30mG\u001b[39m\u001b[49m\u001b[47m\u001b[30mT\u001b[39m\u001b[49m\u001b[47m\u001b[30mC\u001b[39m\u001b[49m\u001b[47m\u001b[30mC\u001b[39m\u001b[49m\u001b[47m\u001b[30mC\u001b[39m\u001b[49m\u001b[47m\u001b[30mC\u001b[39m\u001b[49m\n",
       "[7]     9 \u001b[47m\u001b[30mT\u001b[39m\u001b[49m\u001b[47m\u001b[30mA\u001b[39m\u001b[49m\u001b[47m\u001b[30mC\u001b[39m\u001b[49m\u001b[47m\u001b[30mC\u001b[39m\u001b[49m\u001b[47m\u001b[30mT\u001b[39m\u001b[49m\u001b[47m\u001b[30mA\u001b[39m\u001b[49m\u001b[47m\u001b[30mG\u001b[39m\u001b[49m\u001b[47m\u001b[30mA\u001b[39m\u001b[49m\u001b[47m\u001b[30mG\u001b[39m\u001b[49m\n",
       "[8]     9 \u001b[47m\u001b[30mT\u001b[39m\u001b[49m\u001b[47m\u001b[30mG\u001b[39m\u001b[49m\u001b[47m\u001b[30mC\u001b[39m\u001b[49m\u001b[47m\u001b[30mT\u001b[39m\u001b[49m\u001b[47m\u001b[30mA\u001b[39m\u001b[49m\u001b[47m\u001b[30mG\u001b[39m\u001b[49m\u001b[47m\u001b[30mC\u001b[39m\u001b[49m\u001b[47m\u001b[30mT\u001b[39m\u001b[49m\u001b[47m\u001b[30mA\u001b[39m\u001b[49m\n",
       "[9]     7 \u001b[47m\u001b[30mT\u001b[39m\u001b[49m\u001b[47m\u001b[30mT\u001b[39m\u001b[49m\u001b[47m\u001b[30mC\u001b[39m\u001b[49m\u001b[47m\u001b[30mC\u001b[39m\u001b[49m\u001b[47m\u001b[30mC\u001b[39m\u001b[49m\u001b[47m\u001b[30mG\u001b[39m\u001b[49m\u001b[47m\u001b[30mA\u001b[39m\u001b[49m"
      ]
     },
     "metadata": {},
     "output_type": "display_data"
    },
    {
     "data": {
      "text/plain": [
       "DNAStringSet object of length 9:\n",
       "    width seq\n",
       "[1]    10 \u001b[47m\u001b[30mA\u001b[39m\u001b[49m\u001b[47m\u001b[30mG\u001b[39m\u001b[49m\u001b[47m\u001b[30mC\u001b[39m\u001b[49m\u001b[47m\u001b[30mT\u001b[39m\u001b[49m\u001b[47m\u001b[30mT\u001b[39m\u001b[49m\u001b[47m\u001b[30mT\u001b[39m\u001b[49m\u001b[47m\u001b[30mC\u001b[39m\u001b[49m\u001b[47m\u001b[30mG\u001b[39m\u001b[49m\u001b[47m\u001b[30mA\u001b[39m\u001b[49m\u001b[47m\u001b[30mG\u001b[39m\u001b[49m\n",
       "[2]     8 \u001b[47m\u001b[30mA\u001b[39m\u001b[49m\u001b[47m\u001b[30mG\u001b[39m\u001b[49m\u001b[47m\u001b[30mT\u001b[39m\u001b[49m\u001b[47m\u001b[30mC\u001b[39m\u001b[49m\u001b[47m\u001b[30mT\u001b[39m\u001b[49m\u001b[47m\u001b[30mT\u001b[39m\u001b[49m\u001b[47m\u001b[30mG\u001b[39m\u001b[49m\u001b[47m\u001b[30mC\u001b[39m\u001b[49m\n",
       "[3]     9 \u001b[47m\u001b[30mT\u001b[39m\u001b[49m\u001b[47m\u001b[30mG\u001b[39m\u001b[49m\u001b[47m\u001b[30mC\u001b[39m\u001b[49m\u001b[47m\u001b[30mT\u001b[39m\u001b[49m\u001b[47m\u001b[30mA\u001b[39m\u001b[49m\u001b[47m\u001b[30mG\u001b[39m\u001b[49m\u001b[47m\u001b[30mC\u001b[39m\u001b[49m\u001b[47m\u001b[30mT\u001b[39m\u001b[49m\u001b[47m\u001b[30mA\u001b[39m\u001b[49m\n",
       "[4]     9 \u001b[47m\u001b[30mC\u001b[39m\u001b[49m\u001b[47m\u001b[30mA\u001b[39m\u001b[49m\u001b[47m\u001b[30mT\u001b[39m\u001b[49m\u001b[47m\u001b[30mT\u001b[39m\u001b[49m\u001b[47m\u001b[30mT\u001b[39m\u001b[49m\u001b[47m\u001b[30mT\u001b[39m\u001b[49m\u001b[47m\u001b[30mA\u001b[39m\u001b[49m\u001b[47m\u001b[30mG\u001b[39m\u001b[49m\u001b[47m\u001b[30mG\u001b[39m\u001b[49m\n",
       "[5]    13 \u001b[47m\u001b[30mG\u001b[39m\u001b[49m\u001b[47m\u001b[30mT\u001b[39m\u001b[49m\u001b[47m\u001b[30mC\u001b[39m\u001b[49m\u001b[47m\u001b[30mA\u001b[39m\u001b[49m\u001b[47m\u001b[30mG\u001b[39m\u001b[49m\u001b[47m\u001b[30mT\u001b[39m\u001b[49m\u001b[47m\u001b[30mG\u001b[39m\u001b[49m\u001b[47m\u001b[30mG\u001b[39m\u001b[49m\u001b[47m\u001b[30mT\u001b[39m\u001b[49m\u001b[47m\u001b[30mC\u001b[39m\u001b[49m\u001b[47m\u001b[30mC\u001b[39m\u001b[49m\u001b[47m\u001b[30mC\u001b[39m\u001b[49m\u001b[47m\u001b[30mC\u001b[39m\u001b[49m\n",
       "[6]     7 \u001b[47m\u001b[30mA\u001b[39m\u001b[49m\u001b[47m\u001b[30mG\u001b[39m\u001b[49m\u001b[47m\u001b[30mG\u001b[39m\u001b[49m\u001b[47m\u001b[30mT\u001b[39m\u001b[49m\u001b[47m\u001b[30mC\u001b[39m\u001b[49m\u001b[47m\u001b[30mG\u001b[39m\u001b[49m\u001b[47m\u001b[30mT\u001b[39m\u001b[49m\n",
       "[7]     9 \u001b[47m\u001b[30mT\u001b[39m\u001b[49m\u001b[47m\u001b[30mA\u001b[39m\u001b[49m\u001b[47m\u001b[30mC\u001b[39m\u001b[49m\u001b[47m\u001b[30mC\u001b[39m\u001b[49m\u001b[47m\u001b[30mT\u001b[39m\u001b[49m\u001b[47m\u001b[30mA\u001b[39m\u001b[49m\u001b[47m\u001b[30mG\u001b[39m\u001b[49m\u001b[47m\u001b[30mA\u001b[39m\u001b[49m\u001b[47m\u001b[30mG\u001b[39m\u001b[49m\n",
       "[8]     7 \u001b[47m\u001b[30mT\u001b[39m\u001b[49m\u001b[47m\u001b[30mT\u001b[39m\u001b[49m\u001b[47m\u001b[30mC\u001b[39m\u001b[49m\u001b[47m\u001b[30mC\u001b[39m\u001b[49m\u001b[47m\u001b[30mC\u001b[39m\u001b[49m\u001b[47m\u001b[30mG\u001b[39m\u001b[49m\u001b[47m\u001b[30mA\u001b[39m\u001b[49m\n",
       "[9]    10 \u001b[47m\u001b[30mC\u001b[39m\u001b[49m\u001b[47m\u001b[30mT\u001b[39m\u001b[49m\u001b[47m\u001b[30mC\u001b[39m\u001b[49m\u001b[47m\u001b[30mC\u001b[39m\u001b[49m\u001b[47m\u001b[30mC\u001b[39m\u001b[49m\u001b[47m\u001b[30mA\u001b[39m\u001b[49m\u001b[47m\u001b[30mG\u001b[39m\u001b[49m\u001b[47m\u001b[30mT\u001b[39m\u001b[49m\u001b[47m\u001b[30mA\u001b[39m\u001b[49m\u001b[47m\u001b[30mT\u001b[39m\u001b[49m"
      ]
     },
     "metadata": {},
     "output_type": "display_data"
    }
   ],
   "source": [
    "# [2] sorting by alphabet\n",
    "sort(dna_xstrset) # sort by sequence alphabet content\n",
    "rev(dna_xstrset) # reverse sequence order "
   ]
  },
  {
   "cell_type": "markdown",
   "id": "6e2eb621",
   "metadata": {
    "papermill": {
     "duration": 0.337707,
     "end_time": "2022-08-02T17:16:28.271728",
     "exception": false,
     "start_time": "2022-08-02T17:16:27.934021",
     "status": "completed"
    },
    "tags": []
   },
   "source": [
    "\n",
    "- <code>chartr</code> used to replace characters in a sequence set"
   ]
  },
  {
   "cell_type": "code",
   "execution_count": 25,
   "id": "b9a2af22",
   "metadata": {
    "execution": {
     "iopub.execute_input": "2022-08-02T17:16:28.950898Z",
     "iopub.status.busy": "2022-08-02T17:16:28.948723Z",
     "iopub.status.idle": "2022-08-02T17:16:28.999184Z",
     "shell.execute_reply": "2022-08-02T17:16:28.996965Z"
    },
    "papermill": {
     "duration": 0.394256,
     "end_time": "2022-08-02T17:16:28.999420",
     "exception": false,
     "start_time": "2022-08-02T17:16:28.605164",
     "status": "completed"
    },
    "tags": []
   },
   "outputs": [
    {
     "data": {
      "text/plain": [
       "DNAStringSet object of length 1:\n",
       "    width seq\n",
       "[1]    10 \u001b[47m\u001b[30mC\u001b[39m\u001b[49m\u001b[47m\u001b[30mT\u001b[39m\u001b[49m\u001b[47m\u001b[30mC\u001b[39m\u001b[49m\u001b[47m\u001b[30mC\u001b[39m\u001b[49m\u001b[47m\u001b[30mC\u001b[39m\u001b[49m\u001b[47m\u001b[30mA\u001b[39m\u001b[49m\u001b[47m\u001b[30mG\u001b[39m\u001b[49m\u001b[47m\u001b[30mT\u001b[39m\u001b[49m\u001b[47m\u001b[30mA\u001b[39m\u001b[49m\u001b[47m\u001b[30mT\u001b[39m\u001b[49m"
      ]
     },
     "metadata": {},
     "output_type": "display_data"
    },
    {
     "data": {
      "text/plain": [
       "DNAStringSet object of length 1:\n",
       "    width seq\n",
       "[1]    10 \u001b[47m\u001b[30mT\u001b[39m\u001b[49m\u001b[47m\u001b[30mT\u001b[39m\u001b[49m\u001b[47m\u001b[30mT\u001b[39m\u001b[49m\u001b[47m\u001b[30mT\u001b[39m\u001b[49m\u001b[47m\u001b[30mT\u001b[39m\u001b[49m\u001b[47m\u001b[30mA\u001b[39m\u001b[49m\u001b[47m\u001b[30mG\u001b[39m\u001b[49m\u001b[47m\u001b[30mT\u001b[39m\u001b[49m\u001b[47m\u001b[30mA\u001b[39m\u001b[49m\u001b[47m\u001b[30mT\u001b[39m\u001b[49m"
      ]
     },
     "metadata": {},
     "output_type": "display_data"
    }
   ],
   "source": [
    "# [3] replace parts of a sequene in a set\n",
    "# Replace Certain parts of the sequence\n",
    "# let's replace C with T\n",
    "\n",
    "dna_xstrset[1] # dna string set object\n",
    "\n",
    "dna_chartr <- chartr(\"C\", # from\n",
    "                     \"T\", # to \n",
    "                     dna_xstrset[1]) # in string set\n",
    "dna_chartr"
   ]
  },
  {
   "cell_type": "markdown",
   "id": "c7a50a66",
   "metadata": {
    "papermill": {
     "duration": 0.335991,
     "end_time": "2022-08-02T17:16:29.669987",
     "exception": false,
     "start_time": "2022-08-02T17:16:29.333996",
     "status": "completed"
    },
    "tags": []
   },
   "source": [
    "\n",
    "- <code>findPalindromes</code> can be used to find **<span style='color:#6846D5'>palindromes</span>** in a sequence"
   ]
  },
  {
   "cell_type": "code",
   "execution_count": 26,
   "id": "9124dc06",
   "metadata": {
    "execution": {
     "iopub.execute_input": "2022-08-02T17:16:30.354213Z",
     "iopub.status.busy": "2022-08-02T17:16:30.351941Z",
     "iopub.status.idle": "2022-08-02T17:16:30.386196Z",
     "shell.execute_reply": "2022-08-02T17:16:30.384405Z"
    },
    "papermill": {
     "duration": 0.377309,
     "end_time": "2022-08-02T17:16:30.386387",
     "exception": false,
     "start_time": "2022-08-02T17:16:30.009078",
     "status": "completed"
    },
    "tags": []
   },
   "outputs": [
    {
     "data": {
      "text/plain": [
       "Views on a 23-letter DNAString subject\n",
       "subject: \u001b[47m\u001b[30mC\u001b[39m\u001b[49m\u001b[47m\u001b[30mC\u001b[39m\u001b[49m\u001b[47m\u001b[30mG\u001b[39m\u001b[49m\u001b[47m\u001b[30mA\u001b[39m\u001b[49m\u001b[47m\u001b[30mA\u001b[39m\u001b[49m\u001b[47m\u001b[30mA\u001b[39m\u001b[49m\u001b[47m\u001b[30mA\u001b[39m\u001b[49m\u001b[47m\u001b[30mC\u001b[39m\u001b[49m\u001b[47m\u001b[30mC\u001b[39m\u001b[49m\u001b[47m\u001b[30mA\u001b[39m\u001b[49m\u001b[47m\u001b[30mT\u001b[39m\u001b[49m\u001b[47m\u001b[30mG\u001b[39m\u001b[49m\u001b[47m\u001b[30mA\u001b[39m\u001b[49m\u001b[47m\u001b[30mT\u001b[39m\u001b[49m\u001b[47m\u001b[30mG\u001b[39m\u001b[49m\u001b[47m\u001b[30mG\u001b[39m\u001b[49m\u001b[47m\u001b[30mT\u001b[39m\u001b[49m\u001b[47m\u001b[30mT\u001b[39m\u001b[49m\u001b[47m\u001b[30mG\u001b[39m\u001b[49m\u001b[47m\u001b[30mC\u001b[39m\u001b[49m\u001b[47m\u001b[30mC\u001b[39m\u001b[49m\u001b[47m\u001b[30mA\u001b[39m\u001b[49m\u001b[47m\u001b[30mG\u001b[39m\u001b[49m\n",
       "views:\n",
       "      start end width\n",
       "  [1]     6  18    13 [\u001b[47m\u001b[30mA\u001b[39m\u001b[49m\u001b[47m\u001b[30mA\u001b[39m\u001b[49m\u001b[47m\u001b[30mC\u001b[39m\u001b[49m\u001b[47m\u001b[30mC\u001b[39m\u001b[49m\u001b[47m\u001b[30mA\u001b[39m\u001b[49m\u001b[47m\u001b[30mT\u001b[39m\u001b[49m\u001b[47m\u001b[30mG\u001b[39m\u001b[49m\u001b[47m\u001b[30mA\u001b[39m\u001b[49m\u001b[47m\u001b[30mT\u001b[39m\u001b[49m\u001b[47m\u001b[30mG\u001b[39m\u001b[49m\u001b[47m\u001b[30mG\u001b[39m\u001b[49m\u001b[47m\u001b[30mT\u001b[39m\u001b[49m\u001b[47m\u001b[30mT\u001b[39m\u001b[49m]"
      ]
     },
     "metadata": {},
     "output_type": "display_data"
    }
   ],
   "source": [
    "# [4] find palindomes in a sequence\n",
    "\n",
    "# On a DNA or RNA sequence:\n",
    "dna_seq <- DNAString(\"CCGAAAACCATGATGGTTGCCAG\")\n",
    "findPalindromes(dna_seq)"
   ]
  },
  {
   "cell_type": "markdown",
   "id": "e085a3a9",
   "metadata": {
    "papermill": {
     "duration": 0.339403,
     "end_time": "2022-08-02T17:16:31.059583",
     "exception": false,
     "start_time": "2022-08-02T17:16:30.720180",
     "status": "completed"
    },
    "tags": []
   },
   "source": [
    "<div style=\"color:white;display:fill;border-radius:8px;\n",
    "            background-color:#323232;font-size:150%;\n",
    "            font-family:Nexa;letter-spacing:0.5px\">\n",
    "    <p style=\"padding: 8px;color:white;\"><b>1.5 | BIOLOGICAL FUNCTIONS</b></p>\n",
    "</div>\n",
    "\n",
    "- **<span style='color:#6846D5'>Biological functality</span>** relating to **<span style='color:#6846D5'>DNA</span>** is found in <code>Biostrings</code> as well\n",
    "- Having one of the strands, we can get its **<mark style=\"background-color:#6846D5;color:white;border-radius:5px;opacity:0.9\">reverse</mark>**, **<mark style=\"background-color:#6846D5;color:white;border-radius:5px;opacity:0.9\">complement</mark>** & **<mark style=\"background-color:#6846D5;color:white;border-radius:5px;opacity:0.9\">reverse complement</mark>**, similar to that was shown in notebook **[Biological Sequence Operations](https://www.kaggle.com/shtrausslearning/biological-sequence-operations)**\n",
    "- **<span style='color:#6846D5'>Translation</span>** from **<span style='color:#6846D5'>DNA</span>** (or <b>RNA</b>) to chains of **<mark style=\"background-color:#6846D5;color:white;border-radius:5px;opacity:0.9\">amino acids / proteins</mark>** can be done via <code>translate</code>\n",
    "- **<mark style=\"background-color:#6846D5;color:white;border-radius:5px;opacity:0.9\">Translation</mark>** works with both **strings** & **string set** objects"
   ]
  },
  {
   "cell_type": "code",
   "execution_count": 27,
   "id": "6a6797ee",
   "metadata": {
    "execution": {
     "iopub.execute_input": "2022-08-02T17:16:31.742148Z",
     "iopub.status.busy": "2022-08-02T17:16:31.741481Z",
     "iopub.status.idle": "2022-08-02T17:16:31.830425Z",
     "shell.execute_reply": "2022-08-02T17:16:31.828752Z"
    },
    "papermill": {
     "duration": 0.437363,
     "end_time": "2022-08-02T17:16:31.830586",
     "exception": false,
     "start_time": "2022-08-02T17:16:31.393223",
     "status": "completed"
    },
    "tags": []
   },
   "outputs": [
    {
     "data": {
      "text/plain": [
       "40-letter DNAString object\n",
       "seq: \u001b[47m\u001b[30mC\u001b[39m\u001b[49m\u001b[47m\u001b[30mA\u001b[39m\u001b[49m\u001b[47m\u001b[30mA\u001b[39m\u001b[49m\u001b[47m\u001b[30mA\u001b[39m\u001b[49m\u001b[47m\u001b[30mG\u001b[39m\u001b[49m\u001b[47m\u001b[30mG\u001b[39m\u001b[49m\u001b[47m\u001b[30mA\u001b[39m\u001b[49m\u001b[47m\u001b[30mA\u001b[39m\u001b[49m\u001b[47m\u001b[30mA\u001b[39m\u001b[49m\u001b[47m\u001b[30mC\u001b[39m\u001b[49m\u001b[47m\u001b[30mT\u001b[39m\u001b[49m\u001b[47m\u001b[30mA\u001b[39m\u001b[49m\u001b[47m\u001b[30mG\u001b[39m\u001b[49m\u001b[47m\u001b[30mT\u001b[39m\u001b[49m\u001b[47m\u001b[30mT\u001b[39m\u001b[49m\u001b[47m\u001b[30mG\u001b[39m\u001b[49m\u001b[47m\u001b[30mA\u001b[39m\u001b[49m\u001b[47m\u001b[30mA\u001b[39m\u001b[49m\u001b[47m\u001b[30mT\u001b[39m\u001b[49m\u001b[47m\u001b[30mG\u001b[39m\u001b[49m\u001b[47m\u001b[30mG\u001b[39m\u001b[49m\u001b[47m\u001b[30mC\u001b[39m\u001b[49m\u001b[47m\u001b[30mG\u001b[39m\u001b[49m\u001b[47m\u001b[30mG\u001b[39m\u001b[49m\u001b[47m\u001b[30mT\u001b[39m\u001b[49m\u001b[47m\u001b[30mC\u001b[39m\u001b[49m\u001b[47m\u001b[30mC\u001b[39m\u001b[49m\u001b[47m\u001b[30mC\u001b[39m\u001b[49m\u001b[47m\u001b[30mT\u001b[39m\u001b[49m\u001b[47m\u001b[30mC\u001b[39m\u001b[49m\u001b[47m\u001b[30mG\u001b[39m\u001b[49m\u001b[47m\u001b[30mA\u001b[39m\u001b[49m\u001b[47m\u001b[30mC\u001b[39m\u001b[49m\u001b[47m\u001b[30mC\u001b[39m\u001b[49m\u001b[47m\u001b[30mA\u001b[39m\u001b[49m\u001b[47m\u001b[30mC\u001b[39m\u001b[49m\u001b[47m\u001b[30mT\u001b[39m\u001b[49m\u001b[47m\u001b[30mT\u001b[39m\u001b[49m\u001b[47m\u001b[30mC\u001b[39m\u001b[49m\u001b[47m\u001b[30mA\u001b[39m\u001b[49m"
      ]
     },
     "metadata": {},
     "output_type": "display_data"
    },
    {
     "data": {
      "text/plain": [
       "40-letter DNAString object\n",
       "seq: \u001b[47m\u001b[30mT\u001b[39m\u001b[49m\u001b[47m\u001b[30mG\u001b[39m\u001b[49m\u001b[47m\u001b[30mA\u001b[39m\u001b[49m\u001b[47m\u001b[30mA\u001b[39m\u001b[49m\u001b[47m\u001b[30mG\u001b[39m\u001b[49m\u001b[47m\u001b[30mT\u001b[39m\u001b[49m\u001b[47m\u001b[30mG\u001b[39m\u001b[49m\u001b[47m\u001b[30mG\u001b[39m\u001b[49m\u001b[47m\u001b[30mT\u001b[39m\u001b[49m\u001b[47m\u001b[30mC\u001b[39m\u001b[49m\u001b[47m\u001b[30mG\u001b[39m\u001b[49m\u001b[47m\u001b[30mA\u001b[39m\u001b[49m\u001b[47m\u001b[30mG\u001b[39m\u001b[49m\u001b[47m\u001b[30mG\u001b[39m\u001b[49m\u001b[47m\u001b[30mG\u001b[39m\u001b[49m\u001b[47m\u001b[30mA\u001b[39m\u001b[49m\u001b[47m\u001b[30mC\u001b[39m\u001b[49m\u001b[47m\u001b[30mC\u001b[39m\u001b[49m\u001b[47m\u001b[30mG\u001b[39m\u001b[49m\u001b[47m\u001b[30mC\u001b[39m\u001b[49m\u001b[47m\u001b[30mC\u001b[39m\u001b[49m\u001b[47m\u001b[30mA\u001b[39m\u001b[49m\u001b[47m\u001b[30mT\u001b[39m\u001b[49m\u001b[47m\u001b[30mT\u001b[39m\u001b[49m\u001b[47m\u001b[30mC\u001b[39m\u001b[49m\u001b[47m\u001b[30mA\u001b[39m\u001b[49m\u001b[47m\u001b[30mA\u001b[39m\u001b[49m\u001b[47m\u001b[30mC\u001b[39m\u001b[49m\u001b[47m\u001b[30mT\u001b[39m\u001b[49m\u001b[47m\u001b[30mA\u001b[39m\u001b[49m\u001b[47m\u001b[30mG\u001b[39m\u001b[49m\u001b[47m\u001b[30mT\u001b[39m\u001b[49m\u001b[47m\u001b[30mT\u001b[39m\u001b[49m\u001b[47m\u001b[30mT\u001b[39m\u001b[49m\u001b[47m\u001b[30mC\u001b[39m\u001b[49m\u001b[47m\u001b[30mC\u001b[39m\u001b[49m\u001b[47m\u001b[30mT\u001b[39m\u001b[49m\u001b[47m\u001b[30mT\u001b[39m\u001b[49m\u001b[47m\u001b[30mT\u001b[39m\u001b[49m\u001b[47m\u001b[30mG\u001b[39m\u001b[49m"
      ]
     },
     "metadata": {},
     "output_type": "display_data"
    },
    {
     "data": {
      "text/plain": [
       "40-letter DNAString object\n",
       "seq: \u001b[47m\u001b[30mG\u001b[39m\u001b[49m\u001b[47m\u001b[30mT\u001b[39m\u001b[49m\u001b[47m\u001b[30mT\u001b[39m\u001b[49m\u001b[47m\u001b[30mT\u001b[39m\u001b[49m\u001b[47m\u001b[30mC\u001b[39m\u001b[49m\u001b[47m\u001b[30mC\u001b[39m\u001b[49m\u001b[47m\u001b[30mT\u001b[39m\u001b[49m\u001b[47m\u001b[30mT\u001b[39m\u001b[49m\u001b[47m\u001b[30mT\u001b[39m\u001b[49m\u001b[47m\u001b[30mG\u001b[39m\u001b[49m\u001b[47m\u001b[30mA\u001b[39m\u001b[49m\u001b[47m\u001b[30mT\u001b[39m\u001b[49m\u001b[47m\u001b[30mC\u001b[39m\u001b[49m\u001b[47m\u001b[30mA\u001b[39m\u001b[49m\u001b[47m\u001b[30mA\u001b[39m\u001b[49m\u001b[47m\u001b[30mC\u001b[39m\u001b[49m\u001b[47m\u001b[30mT\u001b[39m\u001b[49m\u001b[47m\u001b[30mT\u001b[39m\u001b[49m\u001b[47m\u001b[30mA\u001b[39m\u001b[49m\u001b[47m\u001b[30mC\u001b[39m\u001b[49m\u001b[47m\u001b[30mC\u001b[39m\u001b[49m\u001b[47m\u001b[30mG\u001b[39m\u001b[49m\u001b[47m\u001b[30mC\u001b[39m\u001b[49m\u001b[47m\u001b[30mC\u001b[39m\u001b[49m\u001b[47m\u001b[30mA\u001b[39m\u001b[49m\u001b[47m\u001b[30mG\u001b[39m\u001b[49m\u001b[47m\u001b[30mG\u001b[39m\u001b[49m\u001b[47m\u001b[30mG\u001b[39m\u001b[49m\u001b[47m\u001b[30mA\u001b[39m\u001b[49m\u001b[47m\u001b[30mG\u001b[39m\u001b[49m\u001b[47m\u001b[30mC\u001b[39m\u001b[49m\u001b[47m\u001b[30mT\u001b[39m\u001b[49m\u001b[47m\u001b[30mG\u001b[39m\u001b[49m\u001b[47m\u001b[30mG\u001b[39m\u001b[49m\u001b[47m\u001b[30mT\u001b[39m\u001b[49m\u001b[47m\u001b[30mG\u001b[39m\u001b[49m\u001b[47m\u001b[30mA\u001b[39m\u001b[49m\u001b[47m\u001b[30mA\u001b[39m\u001b[49m\u001b[47m\u001b[30mG\u001b[39m\u001b[49m\u001b[47m\u001b[30mT\u001b[39m\u001b[49m"
      ]
     },
     "metadata": {},
     "output_type": "display_data"
    },
    {
     "data": {
      "text/html": [
       "'DNAStringSet'"
      ],
      "text/latex": [
       "'DNAStringSet'"
      ],
      "text/markdown": [
       "'DNAStringSet'"
      ],
      "text/plain": [
       "[1] \"DNAStringSet\"\n",
       "attr(,\"package\")\n",
       "[1] \"Biostrings\""
      ]
     },
     "metadata": {},
     "output_type": "display_data"
    },
    {
     "data": {
      "text/plain": [
       "DNAStringSet object of length 1:\n",
       "    width seq                                               names               \n",
       "[1]  1231 \u001b[47m\u001b[30mG\u001b[39m\u001b[49m\u001b[47m\u001b[30mA\u001b[39m\u001b[49m\u001b[47m\u001b[30mA\u001b[39m\u001b[49m\u001b[47m\u001b[30mG\u001b[39m\u001b[49m\u001b[47m\u001b[30mA\u001b[39m\u001b[49m\u001b[47m\u001b[30mC\u001b[39m\u001b[49m\u001b[47m\u001b[30mC\u001b[39m\u001b[49m\u001b[47m\u001b[30mT\u001b[39m\u001b[49m\u001b[47m\u001b[30mC\u001b[39m\u001b[49m\u001b[47m\u001b[30mA\u001b[39m\u001b[49m\u001b[47m\u001b[30mA\u001b[39m\u001b[49m\u001b[47m\u001b[30mA\u001b[39m\u001b[49m\u001b[47m\u001b[30mT\u001b[39m\u001b[49m\u001b[47m\u001b[30mA\u001b[39m\u001b[49m\u001b[47m\u001b[30mA\u001b[39m\u001b[49m\u001b[47m\u001b[30mA\u001b[39m\u001b[49m\u001b[47m\u001b[30mC\u001b[39m\u001b[49m\u001b[47m\u001b[30mC\u001b[39m\u001b[49m\u001b[47m\u001b[30mC\u001b[39m\u001b[49m\u001b[47m\u001b[30mT\u001b[39m\u001b[49m\u001b[47m\u001b[30mC\u001b[39m\u001b[49m\u001b[47m\u001b[30mG\u001b[39m\u001b[49m\u001b[47m\u001b[30mT\u001b[39m\u001b[49m...\u001b[47m\u001b[30mC\u001b[39m\u001b[49m\u001b[47m\u001b[30mC\u001b[39m\u001b[49m\u001b[47m\u001b[30mG\u001b[39m\u001b[49m\u001b[47m\u001b[30mC\u001b[39m\u001b[49m\u001b[47m\u001b[30mC\u001b[39m\u001b[49m\u001b[47m\u001b[30mC\u001b[39m\u001b[49m\u001b[47m\u001b[30mA\u001b[39m\u001b[49m\u001b[47m\u001b[30mG\u001b[39m\u001b[49m\u001b[47m\u001b[30mA\u001b[39m\u001b[49m\u001b[47m\u001b[30mT\u001b[39m\u001b[49m\u001b[47m\u001b[30mC\u001b[39m\u001b[49m\u001b[47m\u001b[30mC\u001b[39m\u001b[49m\u001b[47m\u001b[30mC\u001b[39m\u001b[49m\u001b[47m\u001b[30mC\u001b[39m\u001b[49m\u001b[47m\u001b[30mC\u001b[39m\u001b[49m\u001b[47m\u001b[30mT\u001b[39m\u001b[49m\u001b[47m\u001b[30mT\u001b[39m\u001b[49m\u001b[47m\u001b[30mA\u001b[39m\u001b[49m\u001b[47m\u001b[30mG\u001b[39m\u001b[49m\u001b[47m\u001b[30mA\u001b[39m\u001b[49m\u001b[47m\u001b[30mC\u001b[39m\u001b[49m\u001b[47m\u001b[30mG\u001b[39m\u001b[49m\u001b[47m\u001b[30mG\u001b[39m\u001b[49m HSBGPG Human gene..."
      ]
     },
     "metadata": {},
     "output_type": "display_data"
    }
   ],
   "source": [
    "# Operations using DNAString & AAString objects\n",
    "s1_reverse = reverse(s1_n) \n",
    "s1_complement = complement(s1_n)\n",
    "s1_reversecomplement = reverseComplement(s1_n)\n",
    "\n",
    "c(s1_reverse)\n",
    "c(s1_complement)\n",
    "c(s1_reversecomplement)\n",
    "\n",
    "# Same goes for DNAStringSet class sequences\n",
    "class(fasta_n) # check class\n",
    "s1_reverse_xstr = reverse(fasta_n)\n",
    "s1_reverse_xstr"
   ]
  },
  {
   "cell_type": "code",
   "execution_count": 28,
   "id": "28caf33b",
   "metadata": {
    "execution": {
     "iopub.execute_input": "2022-08-02T17:16:32.538401Z",
     "iopub.status.busy": "2022-08-02T17:16:32.536550Z",
     "iopub.status.idle": "2022-08-02T17:16:32.568527Z",
     "shell.execute_reply": "2022-08-02T17:16:32.567015Z"
    },
    "papermill": {
     "duration": 0.3883,
     "end_time": "2022-08-02T17:16:32.568768",
     "exception": false,
     "start_time": "2022-08-02T17:16:32.180468",
     "status": "completed"
    },
    "tags": []
   },
   "outputs": [
    {
     "data": {
      "text/plain": [
       "3-letter AAString object\n",
       "seq: YLE"
      ]
     },
     "metadata": {},
     "output_type": "display_data"
    }
   ],
   "source": [
    "# Translation works w/ Sets or just the XString\n",
    "s1_translate <- translate(dna_xstrset[[3]], no.init.codon=TRUE)\n",
    "s1_translate"
   ]
  },
  {
   "cell_type": "markdown",
   "id": "4ec37d09",
   "metadata": {
    "papermill": {
     "duration": 0.350709,
     "end_time": "2022-08-02T17:16:33.284878",
     "exception": false,
     "start_time": "2022-08-02T17:16:32.934169",
     "status": "completed"
    },
    "tags": []
   },
   "source": [
    "<div style=\"color:white;display:fill;border-radius:8px;\n",
    "            background-color:#323232;font-size:150%;\n",
    "            font-family:Nexa;letter-spacing:0.5px\">\n",
    "    <p style=\"padding: 8px;color:white;\"><b>1.6 | COUNTING CHARACTERS</b></p>\n",
    "</div>\n",
    "\n",
    "- Sequence **<span style='color:#6846D5'>alphabet counts</span>** are quite relevant in bioinformatics, eg. **<span style='color:#6846D5'>GC Content</span>** is the dinucleotide count\n",
    "\n",
    "Other sequence alphabet counters:\n",
    "> - **<mark style=\"background-color:#6846D5;color:white;border-radius:5px;opacity:0.9\">alphabetFrequency</mark>** - For a general alphabet count of the sequence/set\n",
    "> - **<mark style=\"background-color:#6846D5;color:white;border-radius:5px;opacity:0.9\">dinucleotideFrequency</mark>** - For two character pair counts\n",
    "> - **<mark style=\"background-color:#6846D5;color:white;border-radius:5px;opacity:0.9\">trinucleotideFrequency</mark>** - For three character pair counts (codons)\n",
    "> - **<mark style=\"background-color:#6846D5;color:white;border-radius:5px;opacity:0.9\">oligonucleotideFrequency</mark>** - General form of the three above & beyond, description below:\n",
    "\n",
    "**<span style='color:#6846D5'>Oligonucleotides</span>** | **[ScienceDirect](https://www.sciencedirect.com/science/article/abs/pii/S0091679X19300755)**\n",
    "\n",
    "> - Oligonucleotides are small molecules 8–50 nucleotides in length that bind via Watson-Crick base pairing to enhance or repress the expression of target RNA"
   ]
  },
  {
   "cell_type": "code",
   "execution_count": 29,
   "id": "c5946237",
   "metadata": {
    "execution": {
     "iopub.execute_input": "2022-08-02T17:16:34.026411Z",
     "iopub.status.busy": "2022-08-02T17:16:34.024883Z",
     "iopub.status.idle": "2022-08-02T17:16:34.062014Z",
     "shell.execute_reply": "2022-08-02T17:16:34.060519Z"
    },
    "papermill": {
     "duration": 0.401607,
     "end_time": "2022-08-02T17:16:34.062168",
     "exception": false,
     "start_time": "2022-08-02T17:16:33.660561",
     "status": "completed"
    },
    "tags": []
   },
   "outputs": [
    {
     "data": {
      "text/html": [
       "<table class=\"dataframe\">\n",
       "<caption>A matrix: 1 × 18 of type int</caption>\n",
       "<thead>\n",
       "\t<tr><th scope=col>A</th><th scope=col>C</th><th scope=col>G</th><th scope=col>T</th><th scope=col>M</th><th scope=col>R</th><th scope=col>W</th><th scope=col>S</th><th scope=col>Y</th><th scope=col>K</th><th scope=col>V</th><th scope=col>H</th><th scope=col>D</th><th scope=col>B</th><th scope=col>N</th><th scope=col>-</th><th scope=col>+</th><th scope=col>.</th></tr>\n",
       "</thead>\n",
       "<tbody>\n",
       "\t<tr><td>8</td><td>9</td><td>11</td><td>12</td><td>0</td><td>0</td><td>0</td><td>0</td><td>0</td><td>0</td><td>0</td><td>0</td><td>0</td><td>0</td><td>0</td><td>0</td><td>0</td><td>0</td></tr>\n",
       "</tbody>\n",
       "</table>\n"
      ],
      "text/latex": [
       "A matrix: 1 × 18 of type int\n",
       "\\begin{tabular}{llllllllllllllllll}\n",
       " A & C & G & T & M & R & W & S & Y & K & V & H & D & B & N & - & + & .\\\\\n",
       "\\hline\n",
       "\t 8 & 9 & 11 & 12 & 0 & 0 & 0 & 0 & 0 & 0 & 0 & 0 & 0 & 0 & 0 & 0 & 0 & 0\\\\\n",
       "\\end{tabular}\n"
      ],
      "text/markdown": [
       "\n",
       "A matrix: 1 × 18 of type int\n",
       "\n",
       "| A | C | G | T | M | R | W | S | Y | K | V | H | D | B | N | - | + | . |\n",
       "|---|---|---|---|---|---|---|---|---|---|---|---|---|---|---|---|---|---|\n",
       "| 8 | 9 | 11 | 12 | 0 | 0 | 0 | 0 | 0 | 0 | 0 | 0 | 0 | 0 | 0 | 0 | 0 | 0 |\n",
       "\n"
      ],
      "text/plain": [
       "     A C G  T  M R W S Y K V H D B N - + .\n",
       "[1,] 8 9 11 12 0 0 0 0 0 0 0 0 0 0 0 0 0 0"
      ]
     },
     "metadata": {},
     "output_type": "display_data"
    }
   ],
   "source": [
    "alphabetFrequency(DNAStringSet(s1_complement)) # calculate the alphabet frequence DNA sequence"
   ]
  },
  {
   "cell_type": "code",
   "execution_count": 30,
   "id": "f2dda0d0",
   "metadata": {
    "execution": {
     "iopub.execute_input": "2022-08-02T17:16:34.799344Z",
     "iopub.status.busy": "2022-08-02T17:16:34.797360Z",
     "iopub.status.idle": "2022-08-02T17:16:34.819022Z",
     "shell.execute_reply": "2022-08-02T17:16:34.817144Z"
    },
    "papermill": {
     "duration": 0.404831,
     "end_time": "2022-08-02T17:16:34.819220",
     "exception": false,
     "start_time": "2022-08-02T17:16:34.414389",
     "status": "completed"
    },
    "tags": []
   },
   "outputs": [
    {
     "data": {
      "text/html": [
       "<style>\n",
       ".list-inline {list-style: none; margin:0; padding: 0}\n",
       ".list-inline>li {display: inline-block}\n",
       ".list-inline>li:not(:last-child)::after {content: \"\\00b7\"; padding: 0 .5ex}\n",
       "</style>\n",
       "<ol class=list-inline><li>'A'</li><li>'C'</li><li>'G'</li><li>'T'</li></ol>\n"
      ],
      "text/latex": [
       "\\begin{enumerate*}\n",
       "\\item 'A'\n",
       "\\item 'C'\n",
       "\\item 'G'\n",
       "\\item 'T'\n",
       "\\end{enumerate*}\n"
      ],
      "text/markdown": [
       "1. 'A'\n",
       "2. 'C'\n",
       "3. 'G'\n",
       "4. 'T'\n",
       "\n",
       "\n"
      ],
      "text/plain": [
       "[1] \"A\" \"C\" \"G\" \"T\""
      ]
     },
     "metadata": {},
     "output_type": "display_data"
    }
   ],
   "source": [
    "uniqueLetters(dna_xstrset[1]) # show all unique characters in a sequence"
   ]
  },
  {
   "cell_type": "code",
   "execution_count": 31,
   "id": "563fe1db",
   "metadata": {
    "execution": {
     "iopub.execute_input": "2022-08-02T17:16:35.585205Z",
     "iopub.status.busy": "2022-08-02T17:16:35.583476Z",
     "iopub.status.idle": "2022-08-02T17:16:35.663968Z",
     "shell.execute_reply": "2022-08-02T17:16:35.662452Z"
    },
    "papermill": {
     "duration": 0.460332,
     "end_time": "2022-08-02T17:16:35.664151",
     "exception": false,
     "start_time": "2022-08-02T17:16:35.203819",
     "status": "completed"
    },
    "tags": []
   },
   "outputs": [
    {
     "data": {
      "text/plain": [
       "DNAStringSet object of length 1:\n",
       "    width seq\n",
       "[1]    10 \u001b[47m\u001b[30mC\u001b[39m\u001b[49m\u001b[47m\u001b[30mT\u001b[39m\u001b[49m\u001b[47m\u001b[30mC\u001b[39m\u001b[49m\u001b[47m\u001b[30mC\u001b[39m\u001b[49m\u001b[47m\u001b[30mC\u001b[39m\u001b[49m\u001b[47m\u001b[30mA\u001b[39m\u001b[49m\u001b[47m\u001b[30mG\u001b[39m\u001b[49m\u001b[47m\u001b[30mT\u001b[39m\u001b[49m\u001b[47m\u001b[30mA\u001b[39m\u001b[49m\u001b[47m\u001b[30mT\u001b[39m\u001b[49m"
      ]
     },
     "metadata": {},
     "output_type": "display_data"
    },
    {
     "data": {
      "text/html": [
       "<table class=\"dataframe\">\n",
       "<caption>A matrix: 1 × 16 of type int</caption>\n",
       "<thead>\n",
       "\t<tr><th scope=col>AA</th><th scope=col>AC</th><th scope=col>AG</th><th scope=col>AT</th><th scope=col>CA</th><th scope=col>CC</th><th scope=col>CG</th><th scope=col>CT</th><th scope=col>GA</th><th scope=col>GC</th><th scope=col>GG</th><th scope=col>GT</th><th scope=col>TA</th><th scope=col>TC</th><th scope=col>TG</th><th scope=col>TT</th></tr>\n",
       "</thead>\n",
       "<tbody>\n",
       "\t<tr><td>0</td><td>0</td><td>1</td><td>1</td><td>1</td><td>2</td><td>0</td><td>1</td><td>0</td><td>0</td><td>0</td><td>1</td><td>1</td><td>1</td><td>0</td><td>0</td></tr>\n",
       "</tbody>\n",
       "</table>\n"
      ],
      "text/latex": [
       "A matrix: 1 × 16 of type int\n",
       "\\begin{tabular}{llllllllllllllll}\n",
       " AA & AC & AG & AT & CA & CC & CG & CT & GA & GC & GG & GT & TA & TC & TG & TT\\\\\n",
       "\\hline\n",
       "\t 0 & 0 & 1 & 1 & 1 & 2 & 0 & 1 & 0 & 0 & 0 & 1 & 1 & 1 & 0 & 0\\\\\n",
       "\\end{tabular}\n"
      ],
      "text/markdown": [
       "\n",
       "A matrix: 1 × 16 of type int\n",
       "\n",
       "| AA | AC | AG | AT | CA | CC | CG | CT | GA | GC | GG | GT | TA | TC | TG | TT |\n",
       "|---|---|---|---|---|---|---|---|---|---|---|---|---|---|---|---|\n",
       "| 0 | 0 | 1 | 1 | 1 | 2 | 0 | 1 | 0 | 0 | 0 | 1 | 1 | 1 | 0 | 0 |\n",
       "\n"
      ],
      "text/plain": [
       "     AA AC AG AT CA CC CG CT GA GC GG GT TA TC TG TT\n",
       "[1,] 0  0  1  1  1  2  0  1  0  0  0  1  1  1  0  0 "
      ]
     },
     "metadata": {},
     "output_type": "display_data"
    },
    {
     "data": {
      "text/html": [
       "<table class=\"dataframe\">\n",
       "<caption>A matrix: 1 × 64 of type int</caption>\n",
       "<thead>\n",
       "\t<tr><th scope=col>AAA</th><th scope=col>AAC</th><th scope=col>AAG</th><th scope=col>AAT</th><th scope=col>ACA</th><th scope=col>ACC</th><th scope=col>ACG</th><th scope=col>ACT</th><th scope=col>AGA</th><th scope=col>AGC</th><th scope=col>⋯</th><th scope=col>TCG</th><th scope=col>TCT</th><th scope=col>TGA</th><th scope=col>TGC</th><th scope=col>TGG</th><th scope=col>TGT</th><th scope=col>TTA</th><th scope=col>TTC</th><th scope=col>TTG</th><th scope=col>TTT</th></tr>\n",
       "</thead>\n",
       "<tbody>\n",
       "\t<tr><td>0</td><td>0</td><td>0</td><td>0</td><td>0</td><td>0</td><td>0</td><td>0</td><td>0</td><td>0</td><td>⋯</td><td>0</td><td>0</td><td>0</td><td>0</td><td>0</td><td>0</td><td>0</td><td>0</td><td>0</td><td>0</td></tr>\n",
       "</tbody>\n",
       "</table>\n"
      ],
      "text/latex": [
       "A matrix: 1 × 64 of type int\n",
       "\\begin{tabular}{lllllllllllllllllllll}\n",
       " AAA & AAC & AAG & AAT & ACA & ACC & ACG & ACT & AGA & AGC & ⋯ & TCG & TCT & TGA & TGC & TGG & TGT & TTA & TTC & TTG & TTT\\\\\n",
       "\\hline\n",
       "\t 0 & 0 & 0 & 0 & 0 & 0 & 0 & 0 & 0 & 0 & ⋯ & 0 & 0 & 0 & 0 & 0 & 0 & 0 & 0 & 0 & 0\\\\\n",
       "\\end{tabular}\n"
      ],
      "text/markdown": [
       "\n",
       "A matrix: 1 × 64 of type int\n",
       "\n",
       "| AAA | AAC | AAG | AAT | ACA | ACC | ACG | ACT | AGA | AGC | ⋯ | TCG | TCT | TGA | TGC | TGG | TGT | TTA | TTC | TTG | TTT |\n",
       "|---|---|---|---|---|---|---|---|---|---|---|---|---|---|---|---|---|---|---|---|---|\n",
       "| 0 | 0 | 0 | 0 | 0 | 0 | 0 | 0 | 0 | 0 | ⋯ | 0 | 0 | 0 | 0 | 0 | 0 | 0 | 0 | 0 | 0 |\n",
       "\n"
      ],
      "text/plain": [
       "     AAA AAC AAG AAT ACA ACC ACG ACT AGA AGC ⋯ TCG TCT TGA TGC TGG TGT TTA TTC\n",
       "[1,] 0   0   0   0   0   0   0   0   0   0   ⋯ 0   0   0   0   0   0   0   0  \n",
       "     TTG TTT\n",
       "[1,] 0   0  "
      ]
     },
     "metadata": {},
     "output_type": "display_data"
    },
    {
     "data": {
      "text/html": [
       "<table class=\"dataframe\">\n",
       "<caption>A matrix: 1 × 16 of type int</caption>\n",
       "<thead>\n",
       "\t<tr><th scope=col>AA</th><th scope=col>AC</th><th scope=col>AG</th><th scope=col>AT</th><th scope=col>CA</th><th scope=col>CC</th><th scope=col>CG</th><th scope=col>CT</th><th scope=col>GA</th><th scope=col>GC</th><th scope=col>GG</th><th scope=col>GT</th><th scope=col>TA</th><th scope=col>TC</th><th scope=col>TG</th><th scope=col>TT</th></tr>\n",
       "</thead>\n",
       "<tbody>\n",
       "\t<tr><td>0</td><td>0</td><td>1</td><td>1</td><td>1</td><td>2</td><td>0</td><td>1</td><td>0</td><td>0</td><td>0</td><td>1</td><td>1</td><td>1</td><td>0</td><td>0</td></tr>\n",
       "</tbody>\n",
       "</table>\n"
      ],
      "text/latex": [
       "A matrix: 1 × 16 of type int\n",
       "\\begin{tabular}{llllllllllllllll}\n",
       " AA & AC & AG & AT & CA & CC & CG & CT & GA & GC & GG & GT & TA & TC & TG & TT\\\\\n",
       "\\hline\n",
       "\t 0 & 0 & 1 & 1 & 1 & 2 & 0 & 1 & 0 & 0 & 0 & 1 & 1 & 1 & 0 & 0\\\\\n",
       "\\end{tabular}\n"
      ],
      "text/markdown": [
       "\n",
       "A matrix: 1 × 16 of type int\n",
       "\n",
       "| AA | AC | AG | AT | CA | CC | CG | CT | GA | GC | GG | GT | TA | TC | TG | TT |\n",
       "|---|---|---|---|---|---|---|---|---|---|---|---|---|---|---|---|\n",
       "| 0 | 0 | 1 | 1 | 1 | 2 | 0 | 1 | 0 | 0 | 0 | 1 | 1 | 1 | 0 | 0 |\n",
       "\n"
      ],
      "text/plain": [
       "     AA AC AG AT CA CC CG CT GA GC GG GT TA TC TG TT\n",
       "[1,] 0  0  1  1  1  2  0  1  0  0  0  1  1  1  0  0 "
      ]
     },
     "metadata": {},
     "output_type": "display_data"
    },
    {
     "data": {
      "text/html": [
       "<table class=\"dataframe\">\n",
       "<caption>A matrix: 1 × 256 of type int</caption>\n",
       "<thead>\n",
       "\t<tr><th scope=col>AAAA</th><th scope=col>AAAC</th><th scope=col>AAAG</th><th scope=col>AAAT</th><th scope=col>AACA</th><th scope=col>AACC</th><th scope=col>AACG</th><th scope=col>AACT</th><th scope=col>AAGA</th><th scope=col>AAGC</th><th scope=col>⋯</th><th scope=col>TTCG</th><th scope=col>TTCT</th><th scope=col>TTGA</th><th scope=col>TTGC</th><th scope=col>TTGG</th><th scope=col>TTGT</th><th scope=col>TTTA</th><th scope=col>TTTC</th><th scope=col>TTTG</th><th scope=col>TTTT</th></tr>\n",
       "</thead>\n",
       "<tbody>\n",
       "\t<tr><td>0</td><td>0</td><td>0</td><td>0</td><td>0</td><td>0</td><td>0</td><td>0</td><td>0</td><td>0</td><td>⋯</td><td>0</td><td>0</td><td>0</td><td>0</td><td>0</td><td>0</td><td>0</td><td>0</td><td>0</td><td>0</td></tr>\n",
       "</tbody>\n",
       "</table>\n"
      ],
      "text/latex": [
       "A matrix: 1 × 256 of type int\n",
       "\\begin{tabular}{lllllllllllllllllllll}\n",
       " AAAA & AAAC & AAAG & AAAT & AACA & AACC & AACG & AACT & AAGA & AAGC & ⋯ & TTCG & TTCT & TTGA & TTGC & TTGG & TTGT & TTTA & TTTC & TTTG & TTTT\\\\\n",
       "\\hline\n",
       "\t 0 & 0 & 0 & 0 & 0 & 0 & 0 & 0 & 0 & 0 & ⋯ & 0 & 0 & 0 & 0 & 0 & 0 & 0 & 0 & 0 & 0\\\\\n",
       "\\end{tabular}\n"
      ],
      "text/markdown": [
       "\n",
       "A matrix: 1 × 256 of type int\n",
       "\n",
       "| AAAA | AAAC | AAAG | AAAT | AACA | AACC | AACG | AACT | AAGA | AAGC | ⋯ | TTCG | TTCT | TTGA | TTGC | TTGG | TTGT | TTTA | TTTC | TTTG | TTTT |\n",
       "|---|---|---|---|---|---|---|---|---|---|---|---|---|---|---|---|---|---|---|---|---|\n",
       "| 0 | 0 | 0 | 0 | 0 | 0 | 0 | 0 | 0 | 0 | ⋯ | 0 | 0 | 0 | 0 | 0 | 0 | 0 | 0 | 0 | 0 |\n",
       "\n"
      ],
      "text/plain": [
       "     AAAA AAAC AAAG AAAT AACA AACC AACG AACT AAGA AAGC ⋯ TTCG TTCT TTGA TTGC\n",
       "[1,] 0    0    0    0    0    0    0    0    0    0    ⋯ 0    0    0    0   \n",
       "     TTGG TTGT TTTA TTTC TTTG TTTT\n",
       "[1,] 0    0    0    0    0    0   "
      ]
     },
     "metadata": {},
     "output_type": "display_data"
    }
   ],
   "source": [
    "# Character frequency functions\n",
    "sequence <- dna_xstrset[1]\n",
    "sequence\n",
    "\n",
    "dinucleotideFrequency(sequence)\n",
    "trinucleotideFrequency(sequence)\n",
    "oligonucleotideFrequency(sequence,width=2)\n",
    "oligonucleotideFrequency(sequence,width=4)"
   ]
  },
  {
   "cell_type": "markdown",
   "id": "4502ce20",
   "metadata": {
    "papermill": {
     "duration": 0.400055,
     "end_time": "2022-08-02T17:16:36.461581",
     "exception": false,
     "start_time": "2022-08-02T17:16:36.061526",
     "status": "completed"
    },
    "tags": []
   },
   "source": [
    "Similar to Pandas, if the list is too long, the default view will use <code>...</code>, we can use **<span style='color:#6846D5'>options</span>** to change the maximum column count"
   ]
  },
  {
   "cell_type": "code",
   "execution_count": 32,
   "id": "7e8a569d",
   "metadata": {
    "execution": {
     "iopub.execute_input": "2022-08-02T17:16:37.256412Z",
     "iopub.status.busy": "2022-08-02T17:16:37.254908Z",
     "iopub.status.idle": "2022-08-02T17:16:37.270738Z",
     "shell.execute_reply": "2022-08-02T17:16:37.268996Z"
    },
    "papermill": {
     "duration": 0.414634,
     "end_time": "2022-08-02T17:16:37.270914",
     "exception": false,
     "start_time": "2022-08-02T17:16:36.856280",
     "status": "completed"
    },
    "tags": []
   },
   "outputs": [],
   "source": [
    "# \n",
    "options(repr.matrix.max.cols=70, \n",
    "        repr.matrix.max.rows=100)"
   ]
  },
  {
   "cell_type": "code",
   "execution_count": 33,
   "id": "71d81e90",
   "metadata": {
    "execution": {
     "iopub.execute_input": "2022-08-02T17:16:38.065428Z",
     "iopub.status.busy": "2022-08-02T17:16:38.063202Z",
     "iopub.status.idle": "2022-08-02T17:16:38.097275Z",
     "shell.execute_reply": "2022-08-02T17:16:38.095359Z"
    },
    "papermill": {
     "duration": 0.442439,
     "end_time": "2022-08-02T17:16:38.097478",
     "exception": false,
     "start_time": "2022-08-02T17:16:37.655039",
     "status": "completed"
    },
    "tags": []
   },
   "outputs": [
    {
     "data": {
      "text/html": [
       "<table class=\"dataframe\">\n",
       "<caption>A matrix: 1 × 64 of type int</caption>\n",
       "<thead>\n",
       "\t<tr><th scope=col>AAA</th><th scope=col>AAC</th><th scope=col>AAG</th><th scope=col>AAT</th><th scope=col>ACA</th><th scope=col>ACC</th><th scope=col>ACG</th><th scope=col>ACT</th><th scope=col>AGA</th><th scope=col>AGC</th><th scope=col>AGG</th><th scope=col>AGT</th><th scope=col>ATA</th><th scope=col>ATC</th><th scope=col>ATG</th><th scope=col>ATT</th><th scope=col>CAA</th><th scope=col>CAC</th><th scope=col>CAG</th><th scope=col>CAT</th><th scope=col>CCA</th><th scope=col>CCC</th><th scope=col>CCG</th><th scope=col>CCT</th><th scope=col>CGA</th><th scope=col>CGC</th><th scope=col>CGG</th><th scope=col>CGT</th><th scope=col>CTA</th><th scope=col>CTC</th><th scope=col>CTG</th><th scope=col>CTT</th><th scope=col>GAA</th><th scope=col>GAC</th><th scope=col>GAG</th><th scope=col>GAT</th><th scope=col>GCA</th><th scope=col>GCC</th><th scope=col>GCG</th><th scope=col>GCT</th><th scope=col>GGA</th><th scope=col>GGC</th><th scope=col>GGG</th><th scope=col>GGT</th><th scope=col>GTA</th><th scope=col>GTC</th><th scope=col>GTG</th><th scope=col>GTT</th><th scope=col>TAA</th><th scope=col>TAC</th><th scope=col>TAG</th><th scope=col>TAT</th><th scope=col>TCA</th><th scope=col>TCC</th><th scope=col>TCG</th><th scope=col>TCT</th><th scope=col>TGA</th><th scope=col>TGC</th><th scope=col>TGG</th><th scope=col>TGT</th><th scope=col>TTA</th><th scope=col>TTC</th><th scope=col>TTG</th><th scope=col>TTT</th></tr>\n",
       "</thead>\n",
       "<tbody>\n",
       "\t<tr><td>0</td><td>0</td><td>0</td><td>0</td><td>0</td><td>0</td><td>0</td><td>0</td><td>0</td><td>0</td><td>0</td><td>1</td><td>0</td><td>0</td><td>0</td><td>0</td><td>0</td><td>0</td><td>1</td><td>0</td><td>1</td><td>1</td><td>0</td><td>0</td><td>0</td><td>0</td><td>0</td><td>0</td><td>0</td><td>1</td><td>0</td><td>0</td><td>0</td><td>0</td><td>0</td><td>0</td><td>0</td><td>0</td><td>0</td><td>0</td><td>0</td><td>0</td><td>0</td><td>0</td><td>1</td><td>0</td><td>0</td><td>0</td><td>0</td><td>0</td><td>0</td><td>1</td><td>0</td><td>1</td><td>0</td><td>0</td><td>0</td><td>0</td><td>0</td><td>0</td><td>0</td><td>0</td><td>0</td><td>0</td></tr>\n",
       "</tbody>\n",
       "</table>\n"
      ],
      "text/latex": [
       "A matrix: 1 × 64 of type int\n",
       "\\begin{tabular}{llllllllllllllllllllllllllllllllllllllllllllllllllllllllllllllll}\n",
       " AAA & AAC & AAG & AAT & ACA & ACC & ACG & ACT & AGA & AGC & AGG & AGT & ATA & ATC & ATG & ATT & CAA & CAC & CAG & CAT & CCA & CCC & CCG & CCT & CGA & CGC & CGG & CGT & CTA & CTC & CTG & CTT & GAA & GAC & GAG & GAT & GCA & GCC & GCG & GCT & GGA & GGC & GGG & GGT & GTA & GTC & GTG & GTT & TAA & TAC & TAG & TAT & TCA & TCC & TCG & TCT & TGA & TGC & TGG & TGT & TTA & TTC & TTG & TTT\\\\\n",
       "\\hline\n",
       "\t 0 & 0 & 0 & 0 & 0 & 0 & 0 & 0 & 0 & 0 & 0 & 1 & 0 & 0 & 0 & 0 & 0 & 0 & 1 & 0 & 1 & 1 & 0 & 0 & 0 & 0 & 0 & 0 & 0 & 1 & 0 & 0 & 0 & 0 & 0 & 0 & 0 & 0 & 0 & 0 & 0 & 0 & 0 & 0 & 1 & 0 & 0 & 0 & 0 & 0 & 0 & 1 & 0 & 1 & 0 & 0 & 0 & 0 & 0 & 0 & 0 & 0 & 0 & 0\\\\\n",
       "\\end{tabular}\n"
      ],
      "text/markdown": [
       "\n",
       "A matrix: 1 × 64 of type int\n",
       "\n",
       "| AAA | AAC | AAG | AAT | ACA | ACC | ACG | ACT | AGA | AGC | AGG | AGT | ATA | ATC | ATG | ATT | CAA | CAC | CAG | CAT | CCA | CCC | CCG | CCT | CGA | CGC | CGG | CGT | CTA | CTC | CTG | CTT | GAA | GAC | GAG | GAT | GCA | GCC | GCG | GCT | GGA | GGC | GGG | GGT | GTA | GTC | GTG | GTT | TAA | TAC | TAG | TAT | TCA | TCC | TCG | TCT | TGA | TGC | TGG | TGT | TTA | TTC | TTG | TTT |\n",
       "|---|---|---|---|---|---|---|---|---|---|---|---|---|---|---|---|---|---|---|---|---|---|---|---|---|---|---|---|---|---|---|---|---|---|---|---|---|---|---|---|---|---|---|---|---|---|---|---|---|---|---|---|---|---|---|---|---|---|---|---|---|---|---|---|\n",
       "| 0 | 0 | 0 | 0 | 0 | 0 | 0 | 0 | 0 | 0 | 0 | 1 | 0 | 0 | 0 | 0 | 0 | 0 | 1 | 0 | 1 | 1 | 0 | 0 | 0 | 0 | 0 | 0 | 0 | 1 | 0 | 0 | 0 | 0 | 0 | 0 | 0 | 0 | 0 | 0 | 0 | 0 | 0 | 0 | 1 | 0 | 0 | 0 | 0 | 0 | 0 | 1 | 0 | 1 | 0 | 0 | 0 | 0 | 0 | 0 | 0 | 0 | 0 | 0 |\n",
       "\n"
      ],
      "text/plain": [
       "     AAA AAC AAG AAT ACA ACC ACG ACT AGA AGC AGG AGT ATA ATC ATG ATT CAA CAC\n",
       "[1,] 0   0   0   0   0   0   0   0   0   0   0   1   0   0   0   0   0   0  \n",
       "     CAG CAT CCA CCC CCG CCT CGA CGC CGG CGT CTA CTC CTG CTT GAA GAC GAG GAT\n",
       "[1,] 1   0   1   1   0   0   0   0   0   0   0   1   0   0   0   0   0   0  \n",
       "     GCA GCC GCG GCT GGA GGC GGG GGT GTA GTC GTG GTT TAA TAC TAG TAT TCA TCC\n",
       "[1,] 0   0   0   0   0   0   0   0   1   0   0   0   0   0   0   1   0   1  \n",
       "     TCG TCT TGA TGC TGG TGT TTA TTC TTG TTT\n",
       "[1,] 0   0   0   0   0   0   0   0   0   0  "
      ]
     },
     "metadata": {},
     "output_type": "display_data"
    }
   ],
   "source": [
    "trinucleotideFrequency(dna_xstrset[1])"
   ]
  },
  {
   "cell_type": "markdown",
   "id": "e0fda2c9",
   "metadata": {
    "papermill": {
     "duration": 0.400058,
     "end_time": "2022-08-02T17:16:38.866207",
     "exception": false,
     "start_time": "2022-08-02T17:16:38.466149",
     "status": "completed"
    },
    "tags": []
   },
   "source": [
    "We can also calculate the **<mark style=\"background-color:#6846D5;color:white;border-radius:5px;opacity:0.9\">consensus matrix</mark>** for a StringSet"
   ]
  },
  {
   "cell_type": "code",
   "execution_count": 34,
   "id": "96ff9ec9",
   "metadata": {
    "execution": {
     "iopub.execute_input": "2022-08-02T17:16:39.653642Z",
     "iopub.status.busy": "2022-08-02T17:16:39.651716Z",
     "iopub.status.idle": "2022-08-02T17:16:39.685450Z",
     "shell.execute_reply": "2022-08-02T17:16:39.683460Z"
    },
    "papermill": {
     "duration": 0.44237,
     "end_time": "2022-08-02T17:16:39.685637",
     "exception": false,
     "start_time": "2022-08-02T17:16:39.243267",
     "status": "completed"
    },
    "tags": []
   },
   "outputs": [
    {
     "data": {
      "text/plain": [
       "DNAStringSet object of length 9:\n",
       "    width seq\n",
       "[1]    10 \u001b[47m\u001b[30mC\u001b[39m\u001b[49m\u001b[47m\u001b[30mT\u001b[39m\u001b[49m\u001b[47m\u001b[30mC\u001b[39m\u001b[49m\u001b[47m\u001b[30mC\u001b[39m\u001b[49m\u001b[47m\u001b[30mC\u001b[39m\u001b[49m\u001b[47m\u001b[30mA\u001b[39m\u001b[49m\u001b[47m\u001b[30mG\u001b[39m\u001b[49m\u001b[47m\u001b[30mT\u001b[39m\u001b[49m\u001b[47m\u001b[30mA\u001b[39m\u001b[49m\u001b[47m\u001b[30mT\u001b[39m\u001b[49m\n",
       "[2]     7 \u001b[47m\u001b[30mT\u001b[39m\u001b[49m\u001b[47m\u001b[30mT\u001b[39m\u001b[49m\u001b[47m\u001b[30mC\u001b[39m\u001b[49m\u001b[47m\u001b[30mC\u001b[39m\u001b[49m\u001b[47m\u001b[30mC\u001b[39m\u001b[49m\u001b[47m\u001b[30mG\u001b[39m\u001b[49m\u001b[47m\u001b[30mA\u001b[39m\u001b[49m\n",
       "[3]     9 \u001b[47m\u001b[30mT\u001b[39m\u001b[49m\u001b[47m\u001b[30mA\u001b[39m\u001b[49m\u001b[47m\u001b[30mC\u001b[39m\u001b[49m\u001b[47m\u001b[30mC\u001b[39m\u001b[49m\u001b[47m\u001b[30mT\u001b[39m\u001b[49m\u001b[47m\u001b[30mA\u001b[39m\u001b[49m\u001b[47m\u001b[30mG\u001b[39m\u001b[49m\u001b[47m\u001b[30mA\u001b[39m\u001b[49m\u001b[47m\u001b[30mG\u001b[39m\u001b[49m\n",
       "[4]     7 \u001b[47m\u001b[30mA\u001b[39m\u001b[49m\u001b[47m\u001b[30mG\u001b[39m\u001b[49m\u001b[47m\u001b[30mG\u001b[39m\u001b[49m\u001b[47m\u001b[30mT\u001b[39m\u001b[49m\u001b[47m\u001b[30mC\u001b[39m\u001b[49m\u001b[47m\u001b[30mG\u001b[39m\u001b[49m\u001b[47m\u001b[30mT\u001b[39m\u001b[49m\n",
       "[5]    13 \u001b[47m\u001b[30mG\u001b[39m\u001b[49m\u001b[47m\u001b[30mT\u001b[39m\u001b[49m\u001b[47m\u001b[30mC\u001b[39m\u001b[49m\u001b[47m\u001b[30mA\u001b[39m\u001b[49m\u001b[47m\u001b[30mG\u001b[39m\u001b[49m\u001b[47m\u001b[30mT\u001b[39m\u001b[49m\u001b[47m\u001b[30mG\u001b[39m\u001b[49m\u001b[47m\u001b[30mG\u001b[39m\u001b[49m\u001b[47m\u001b[30mT\u001b[39m\u001b[49m\u001b[47m\u001b[30mC\u001b[39m\u001b[49m\u001b[47m\u001b[30mC\u001b[39m\u001b[49m\u001b[47m\u001b[30mC\u001b[39m\u001b[49m\u001b[47m\u001b[30mC\u001b[39m\u001b[49m\n",
       "[6]     9 \u001b[47m\u001b[30mC\u001b[39m\u001b[49m\u001b[47m\u001b[30mA\u001b[39m\u001b[49m\u001b[47m\u001b[30mT\u001b[39m\u001b[49m\u001b[47m\u001b[30mT\u001b[39m\u001b[49m\u001b[47m\u001b[30mT\u001b[39m\u001b[49m\u001b[47m\u001b[30mT\u001b[39m\u001b[49m\u001b[47m\u001b[30mA\u001b[39m\u001b[49m\u001b[47m\u001b[30mG\u001b[39m\u001b[49m\u001b[47m\u001b[30mG\u001b[39m\u001b[49m\n",
       "[7]     9 \u001b[47m\u001b[30mT\u001b[39m\u001b[49m\u001b[47m\u001b[30mG\u001b[39m\u001b[49m\u001b[47m\u001b[30mC\u001b[39m\u001b[49m\u001b[47m\u001b[30mT\u001b[39m\u001b[49m\u001b[47m\u001b[30mA\u001b[39m\u001b[49m\u001b[47m\u001b[30mG\u001b[39m\u001b[49m\u001b[47m\u001b[30mC\u001b[39m\u001b[49m\u001b[47m\u001b[30mT\u001b[39m\u001b[49m\u001b[47m\u001b[30mA\u001b[39m\u001b[49m\n",
       "[8]     8 \u001b[47m\u001b[30mA\u001b[39m\u001b[49m\u001b[47m\u001b[30mG\u001b[39m\u001b[49m\u001b[47m\u001b[30mT\u001b[39m\u001b[49m\u001b[47m\u001b[30mC\u001b[39m\u001b[49m\u001b[47m\u001b[30mT\u001b[39m\u001b[49m\u001b[47m\u001b[30mT\u001b[39m\u001b[49m\u001b[47m\u001b[30mG\u001b[39m\u001b[49m\u001b[47m\u001b[30mC\u001b[39m\u001b[49m\n",
       "[9]    10 \u001b[47m\u001b[30mA\u001b[39m\u001b[49m\u001b[47m\u001b[30mG\u001b[39m\u001b[49m\u001b[47m\u001b[30mC\u001b[39m\u001b[49m\u001b[47m\u001b[30mT\u001b[39m\u001b[49m\u001b[47m\u001b[30mT\u001b[39m\u001b[49m\u001b[47m\u001b[30mT\u001b[39m\u001b[49m\u001b[47m\u001b[30mC\u001b[39m\u001b[49m\u001b[47m\u001b[30mG\u001b[39m\u001b[49m\u001b[47m\u001b[30mA\u001b[39m\u001b[49m\u001b[47m\u001b[30mG\u001b[39m\u001b[49m"
      ]
     },
     "metadata": {},
     "output_type": "display_data"
    }
   ],
   "source": [
    "# Revisit our dna string set\n",
    "dna_xstrset"
   ]
  },
  {
   "cell_type": "code",
   "execution_count": 35,
   "id": "13384a42",
   "metadata": {
    "execution": {
     "iopub.execute_input": "2022-08-02T17:16:40.468829Z",
     "iopub.status.busy": "2022-08-02T17:16:40.466487Z",
     "iopub.status.idle": "2022-08-02T17:16:40.505131Z",
     "shell.execute_reply": "2022-08-02T17:16:40.503361Z"
    },
    "papermill": {
     "duration": 0.425864,
     "end_time": "2022-08-02T17:16:40.505354",
     "exception": false,
     "start_time": "2022-08-02T17:16:40.079490",
     "status": "completed"
    },
    "tags": []
   },
   "outputs": [
    {
     "data": {
      "text/html": [
       "<table class=\"dataframe\">\n",
       "<caption>A matrix: 18 × 13 of type int</caption>\n",
       "<tbody>\n",
       "\t<tr><th scope=row>A</th><td>3</td><td>2</td><td>0</td><td>1</td><td>1</td><td>2</td><td>2</td><td>1</td><td>3</td><td>0</td><td>0</td><td>0</td><td>0</td></tr>\n",
       "\t<tr><th scope=row>C</th><td>2</td><td>0</td><td>6</td><td>4</td><td>3</td><td>0</td><td>2</td><td>1</td><td>0</td><td>1</td><td>1</td><td>1</td><td>1</td></tr>\n",
       "\t<tr><th scope=row>G</th><td>1</td><td>4</td><td>1</td><td>0</td><td>1</td><td>3</td><td>4</td><td>3</td><td>2</td><td>1</td><td>0</td><td>0</td><td>0</td></tr>\n",
       "\t<tr><th scope=row>T</th><td>3</td><td>3</td><td>2</td><td>4</td><td>4</td><td>4</td><td>1</td><td>2</td><td>1</td><td>1</td><td>0</td><td>0</td><td>0</td></tr>\n",
       "\t<tr><th scope=row>M</th><td>0</td><td>0</td><td>0</td><td>0</td><td>0</td><td>0</td><td>0</td><td>0</td><td>0</td><td>0</td><td>0</td><td>0</td><td>0</td></tr>\n",
       "\t<tr><th scope=row>R</th><td>0</td><td>0</td><td>0</td><td>0</td><td>0</td><td>0</td><td>0</td><td>0</td><td>0</td><td>0</td><td>0</td><td>0</td><td>0</td></tr>\n",
       "\t<tr><th scope=row>W</th><td>0</td><td>0</td><td>0</td><td>0</td><td>0</td><td>0</td><td>0</td><td>0</td><td>0</td><td>0</td><td>0</td><td>0</td><td>0</td></tr>\n",
       "\t<tr><th scope=row>S</th><td>0</td><td>0</td><td>0</td><td>0</td><td>0</td><td>0</td><td>0</td><td>0</td><td>0</td><td>0</td><td>0</td><td>0</td><td>0</td></tr>\n",
       "\t<tr><th scope=row>Y</th><td>0</td><td>0</td><td>0</td><td>0</td><td>0</td><td>0</td><td>0</td><td>0</td><td>0</td><td>0</td><td>0</td><td>0</td><td>0</td></tr>\n",
       "\t<tr><th scope=row>K</th><td>0</td><td>0</td><td>0</td><td>0</td><td>0</td><td>0</td><td>0</td><td>0</td><td>0</td><td>0</td><td>0</td><td>0</td><td>0</td></tr>\n",
       "\t<tr><th scope=row>V</th><td>0</td><td>0</td><td>0</td><td>0</td><td>0</td><td>0</td><td>0</td><td>0</td><td>0</td><td>0</td><td>0</td><td>0</td><td>0</td></tr>\n",
       "\t<tr><th scope=row>H</th><td>0</td><td>0</td><td>0</td><td>0</td><td>0</td><td>0</td><td>0</td><td>0</td><td>0</td><td>0</td><td>0</td><td>0</td><td>0</td></tr>\n",
       "\t<tr><th scope=row>D</th><td>0</td><td>0</td><td>0</td><td>0</td><td>0</td><td>0</td><td>0</td><td>0</td><td>0</td><td>0</td><td>0</td><td>0</td><td>0</td></tr>\n",
       "\t<tr><th scope=row>B</th><td>0</td><td>0</td><td>0</td><td>0</td><td>0</td><td>0</td><td>0</td><td>0</td><td>0</td><td>0</td><td>0</td><td>0</td><td>0</td></tr>\n",
       "\t<tr><th scope=row>N</th><td>0</td><td>0</td><td>0</td><td>0</td><td>0</td><td>0</td><td>0</td><td>0</td><td>0</td><td>0</td><td>0</td><td>0</td><td>0</td></tr>\n",
       "\t<tr><th scope=row>-</th><td>0</td><td>0</td><td>0</td><td>0</td><td>0</td><td>0</td><td>0</td><td>0</td><td>0</td><td>0</td><td>0</td><td>0</td><td>0</td></tr>\n",
       "\t<tr><th scope=row>+</th><td>0</td><td>0</td><td>0</td><td>0</td><td>0</td><td>0</td><td>0</td><td>0</td><td>0</td><td>0</td><td>0</td><td>0</td><td>0</td></tr>\n",
       "\t<tr><th scope=row>.</th><td>0</td><td>0</td><td>0</td><td>0</td><td>0</td><td>0</td><td>0</td><td>0</td><td>0</td><td>0</td><td>0</td><td>0</td><td>0</td></tr>\n",
       "</tbody>\n",
       "</table>\n"
      ],
      "text/latex": [
       "A matrix: 18 × 13 of type int\n",
       "\\begin{tabular}{r|lllllllllllll}\n",
       "\tA & 3 & 2 & 0 & 1 & 1 & 2 & 2 & 1 & 3 & 0 & 0 & 0 & 0\\\\\n",
       "\tC & 2 & 0 & 6 & 4 & 3 & 0 & 2 & 1 & 0 & 1 & 1 & 1 & 1\\\\\n",
       "\tG & 1 & 4 & 1 & 0 & 1 & 3 & 4 & 3 & 2 & 1 & 0 & 0 & 0\\\\\n",
       "\tT & 3 & 3 & 2 & 4 & 4 & 4 & 1 & 2 & 1 & 1 & 0 & 0 & 0\\\\\n",
       "\tM & 0 & 0 & 0 & 0 & 0 & 0 & 0 & 0 & 0 & 0 & 0 & 0 & 0\\\\\n",
       "\tR & 0 & 0 & 0 & 0 & 0 & 0 & 0 & 0 & 0 & 0 & 0 & 0 & 0\\\\\n",
       "\tW & 0 & 0 & 0 & 0 & 0 & 0 & 0 & 0 & 0 & 0 & 0 & 0 & 0\\\\\n",
       "\tS & 0 & 0 & 0 & 0 & 0 & 0 & 0 & 0 & 0 & 0 & 0 & 0 & 0\\\\\n",
       "\tY & 0 & 0 & 0 & 0 & 0 & 0 & 0 & 0 & 0 & 0 & 0 & 0 & 0\\\\\n",
       "\tK & 0 & 0 & 0 & 0 & 0 & 0 & 0 & 0 & 0 & 0 & 0 & 0 & 0\\\\\n",
       "\tV & 0 & 0 & 0 & 0 & 0 & 0 & 0 & 0 & 0 & 0 & 0 & 0 & 0\\\\\n",
       "\tH & 0 & 0 & 0 & 0 & 0 & 0 & 0 & 0 & 0 & 0 & 0 & 0 & 0\\\\\n",
       "\tD & 0 & 0 & 0 & 0 & 0 & 0 & 0 & 0 & 0 & 0 & 0 & 0 & 0\\\\\n",
       "\tB & 0 & 0 & 0 & 0 & 0 & 0 & 0 & 0 & 0 & 0 & 0 & 0 & 0\\\\\n",
       "\tN & 0 & 0 & 0 & 0 & 0 & 0 & 0 & 0 & 0 & 0 & 0 & 0 & 0\\\\\n",
       "\t- & 0 & 0 & 0 & 0 & 0 & 0 & 0 & 0 & 0 & 0 & 0 & 0 & 0\\\\\n",
       "\t+ & 0 & 0 & 0 & 0 & 0 & 0 & 0 & 0 & 0 & 0 & 0 & 0 & 0\\\\\n",
       "\t. & 0 & 0 & 0 & 0 & 0 & 0 & 0 & 0 & 0 & 0 & 0 & 0 & 0\\\\\n",
       "\\end{tabular}\n"
      ],
      "text/markdown": [
       "\n",
       "A matrix: 18 × 13 of type int\n",
       "\n",
       "| A | 3 | 2 | 0 | 1 | 1 | 2 | 2 | 1 | 3 | 0 | 0 | 0 | 0 |\n",
       "| C | 2 | 0 | 6 | 4 | 3 | 0 | 2 | 1 | 0 | 1 | 1 | 1 | 1 |\n",
       "| G | 1 | 4 | 1 | 0 | 1 | 3 | 4 | 3 | 2 | 1 | 0 | 0 | 0 |\n",
       "| T | 3 | 3 | 2 | 4 | 4 | 4 | 1 | 2 | 1 | 1 | 0 | 0 | 0 |\n",
       "| M | 0 | 0 | 0 | 0 | 0 | 0 | 0 | 0 | 0 | 0 | 0 | 0 | 0 |\n",
       "| R | 0 | 0 | 0 | 0 | 0 | 0 | 0 | 0 | 0 | 0 | 0 | 0 | 0 |\n",
       "| W | 0 | 0 | 0 | 0 | 0 | 0 | 0 | 0 | 0 | 0 | 0 | 0 | 0 |\n",
       "| S | 0 | 0 | 0 | 0 | 0 | 0 | 0 | 0 | 0 | 0 | 0 | 0 | 0 |\n",
       "| Y | 0 | 0 | 0 | 0 | 0 | 0 | 0 | 0 | 0 | 0 | 0 | 0 | 0 |\n",
       "| K | 0 | 0 | 0 | 0 | 0 | 0 | 0 | 0 | 0 | 0 | 0 | 0 | 0 |\n",
       "| V | 0 | 0 | 0 | 0 | 0 | 0 | 0 | 0 | 0 | 0 | 0 | 0 | 0 |\n",
       "| H | 0 | 0 | 0 | 0 | 0 | 0 | 0 | 0 | 0 | 0 | 0 | 0 | 0 |\n",
       "| D | 0 | 0 | 0 | 0 | 0 | 0 | 0 | 0 | 0 | 0 | 0 | 0 | 0 |\n",
       "| B | 0 | 0 | 0 | 0 | 0 | 0 | 0 | 0 | 0 | 0 | 0 | 0 | 0 |\n",
       "| N | 0 | 0 | 0 | 0 | 0 | 0 | 0 | 0 | 0 | 0 | 0 | 0 | 0 |\n",
       "| - | 0 | 0 | 0 | 0 | 0 | 0 | 0 | 0 | 0 | 0 | 0 | 0 | 0 |\n",
       "| + | 0 | 0 | 0 | 0 | 0 | 0 | 0 | 0 | 0 | 0 | 0 | 0 | 0 |\n",
       "| . | 0 | 0 | 0 | 0 | 0 | 0 | 0 | 0 | 0 | 0 | 0 | 0 | 0 |\n",
       "\n"
      ],
      "text/plain": [
       "  [,1] [,2] [,3] [,4] [,5] [,6] [,7] [,8] [,9] [,10] [,11] [,12] [,13]\n",
       "A 3    2    0    1    1    2    2    1    3    0     0     0     0    \n",
       "C 2    0    6    4    3    0    2    1    0    1     1     1     1    \n",
       "G 1    4    1    0    1    3    4    3    2    1     0     0     0    \n",
       "T 3    3    2    4    4    4    1    2    1    1     0     0     0    \n",
       "M 0    0    0    0    0    0    0    0    0    0     0     0     0    \n",
       "R 0    0    0    0    0    0    0    0    0    0     0     0     0    \n",
       "W 0    0    0    0    0    0    0    0    0    0     0     0     0    \n",
       "S 0    0    0    0    0    0    0    0    0    0     0     0     0    \n",
       "Y 0    0    0    0    0    0    0    0    0    0     0     0     0    \n",
       "K 0    0    0    0    0    0    0    0    0    0     0     0     0    \n",
       "V 0    0    0    0    0    0    0    0    0    0     0     0     0    \n",
       "H 0    0    0    0    0    0    0    0    0    0     0     0     0    \n",
       "D 0    0    0    0    0    0    0    0    0    0     0     0     0    \n",
       "B 0    0    0    0    0    0    0    0    0    0     0     0     0    \n",
       "N 0    0    0    0    0    0    0    0    0    0     0     0     0    \n",
       "- 0    0    0    0    0    0    0    0    0    0     0     0     0    \n",
       "+ 0    0    0    0    0    0    0    0    0    0     0     0     0    \n",
       ". 0    0    0    0    0    0    0    0    0    0     0     0     0    "
      ]
     },
     "metadata": {},
     "output_type": "display_data"
    }
   ],
   "source": [
    "consensusMatrix(dna_xstrset,as.prob = FALSE) "
   ]
  },
  {
   "cell_type": "markdown",
   "id": "74a500b0",
   "metadata": {
    "papermill": {
     "duration": 0.370667,
     "end_time": "2022-08-02T17:16:41.240754",
     "exception": false,
     "start_time": "2022-08-02T17:16:40.870087",
     "status": "completed"
    },
    "tags": []
   },
   "source": [
    "# <b>2 <span style='color:#6846D5'> | </span> PAIRWISE SEQUENCE ALIGNMENT</b>\n",
    "\n",
    "Given the significance of  **<span style='color:#6846D5'>PSA</span>** in various application of bioinformatics, we'll look at quite a few things that are associated with this part of the library.\n",
    "- The **<span style='color:#6846D5'>gap penalties</span>** are regulated by the <code>gapOpening</code> and <code>gapExtension</code> arguments\n",
    "- First we need to define aspects of our objective function; **<span style='color:#6846D5'>substitution matrix</span>** & **<span style='color:#6846D5'>gap penalties</span>**\n",
    "- Gap penalties are specified in **pairwiseAlignment**, whilst the substitution matrix is created or called separately\n",
    "- <code>nucleotideSubstitutionMatrix</code> - Create a substitution matrix w/ a **<span style='color:#323232'>match</span>** & **<span style='color:#6846D5'>mismatches</span>** in a nucleotide sequence or use **strings** to call preset aa matrices\n",
    "- <code>pairwiseAlignment</code> - sequence alignment, by default **global** option is set\n",
    "\n",
    "\n",
    "- Similar to python, long strings will contain <code>...</code>: \n",
    "> - To display the whole sequence we can use <code>alignedPattern</code> & <code>alignedSubject</code> together with <code>c()</code>\n",
    "\n",
    "<div style=\"color:white;display:fill;border-radius:8px;\n",
    "            background-color:#323232;font-size:150%;\n",
    "            font-family:Nexa;letter-spacing:0.5px\">\n",
    "    <p style=\"padding: 8px;color:white;\"><b>2.1 | ALIGNMENT EXAMPLES</b></p>\n",
    "</div>\n",
    "\n",
    "### **<mark style=\"background-color:#6846D5;color:white;border-radius:5px;opacity:0.9\">NUCLEOTIDE</mark>** **<span style='color:#6846D5'>GLOBAL </span>SEQUENCE ALIGNMENT**\n",
    "\n",
    "- Nucleotide  **<span style='color:#6846D5'>global sequence alignment</span>** using the Needleman Wunsch algorithm\n",
    "- We can set a self defined substitution matrix (constant match/mismatch) using <code>nucleotideSubstitutionMatrix</code>\n",
    "- <code>pairwiseAlignment</code> requires arguments <code>type='global'</code>, <code>substitutionMatrix</code> (mat) & gap model settings (<code>gapOpening</code>,<code>gapExtension</code>)"
   ]
  },
  {
   "cell_type": "code",
   "execution_count": 36,
   "id": "f7cc56b3",
   "metadata": {
    "execution": {
     "iopub.execute_input": "2022-08-02T17:16:41.984577Z",
     "iopub.status.busy": "2022-08-02T17:16:41.983093Z",
     "iopub.status.idle": "2022-08-02T17:16:42.006821Z",
     "shell.execute_reply": "2022-08-02T17:16:42.005181Z"
    },
    "papermill": {
     "duration": 0.398742,
     "end_time": "2022-08-02T17:16:42.007001",
     "exception": false,
     "start_time": "2022-08-02T17:16:41.608259",
     "status": "completed"
    },
    "tags": []
   },
   "outputs": [
    {
     "data": {
      "text/plain": [
       "40-letter DNAString object\n",
       "seq: \u001b[47m\u001b[30mA\u001b[39m\u001b[49m\u001b[47m\u001b[30mC\u001b[39m\u001b[49m\u001b[47m\u001b[30mT\u001b[39m\u001b[49m\u001b[47m\u001b[30mT\u001b[39m\u001b[49m\u001b[47m\u001b[30mC\u001b[39m\u001b[49m\u001b[47m\u001b[30mA\u001b[39m\u001b[49m\u001b[47m\u001b[30mC\u001b[39m\u001b[49m\u001b[47m\u001b[30mC\u001b[39m\u001b[49m\u001b[47m\u001b[30mA\u001b[39m\u001b[49m\u001b[47m\u001b[30mG\u001b[39m\u001b[49m\u001b[47m\u001b[30mC\u001b[39m\u001b[49m\u001b[47m\u001b[30mT\u001b[39m\u001b[49m\u001b[47m\u001b[30mC\u001b[39m\u001b[49m\u001b[47m\u001b[30mC\u001b[39m\u001b[49m\u001b[47m\u001b[30mC\u001b[39m\u001b[49m\u001b[47m\u001b[30mT\u001b[39m\u001b[49m\u001b[47m\u001b[30mG\u001b[39m\u001b[49m\u001b[47m\u001b[30mG\u001b[39m\u001b[49m\u001b[47m\u001b[30mC\u001b[39m\u001b[49m\u001b[47m\u001b[30mG\u001b[39m\u001b[49m\u001b[47m\u001b[30mG\u001b[39m\u001b[49m\u001b[47m\u001b[30mT\u001b[39m\u001b[49m\u001b[47m\u001b[30mA\u001b[39m\u001b[49m\u001b[47m\u001b[30mA\u001b[39m\u001b[49m\u001b[47m\u001b[30mG\u001b[39m\u001b[49m\u001b[47m\u001b[30mT\u001b[39m\u001b[49m\u001b[47m\u001b[30mT\u001b[39m\u001b[49m\u001b[47m\u001b[30mG\u001b[39m\u001b[49m\u001b[47m\u001b[30mA\u001b[39m\u001b[49m\u001b[47m\u001b[30mT\u001b[39m\u001b[49m\u001b[47m\u001b[30mC\u001b[39m\u001b[49m\u001b[47m\u001b[30mA\u001b[39m\u001b[49m\u001b[47m\u001b[30mA\u001b[39m\u001b[49m\u001b[47m\u001b[30mA\u001b[39m\u001b[49m\u001b[47m\u001b[30mG\u001b[39m\u001b[49m\u001b[47m\u001b[30mG\u001b[39m\u001b[49m\u001b[47m\u001b[30mA\u001b[39m\u001b[49m\u001b[47m\u001b[30mA\u001b[39m\u001b[49m\u001b[47m\u001b[30mA\u001b[39m\u001b[49m\u001b[47m\u001b[30mC\u001b[39m\u001b[49m"
      ]
     },
     "metadata": {},
     "output_type": "display_data"
    },
    {
     "data": {
      "text/plain": [
       "40-letter DNAString object\n",
       "seq: \u001b[47m\u001b[30mT\u001b[39m\u001b[49m\u001b[47m\u001b[30mT\u001b[39m\u001b[49m\u001b[47m\u001b[30mT\u001b[39m\u001b[49m\u001b[47m\u001b[30mC\u001b[39m\u001b[49m\u001b[47m\u001b[30mG\u001b[39m\u001b[49m\u001b[47m\u001b[30mG\u001b[39m\u001b[49m\u001b[47m\u001b[30mG\u001b[39m\u001b[49m\u001b[47m\u001b[30mT\u001b[39m\u001b[49m\u001b[47m\u001b[30mA\u001b[39m\u001b[49m\u001b[47m\u001b[30mA\u001b[39m\u001b[49m\u001b[47m\u001b[30mG\u001b[39m\u001b[49m\u001b[47m\u001b[30mT\u001b[39m\u001b[49m\u001b[47m\u001b[30mA\u001b[39m\u001b[49m\u001b[47m\u001b[30mA\u001b[39m\u001b[49m\u001b[47m\u001b[30mA\u001b[39m\u001b[49m\u001b[47m\u001b[30mT\u001b[39m\u001b[49m\u001b[47m\u001b[30mA\u001b[39m\u001b[49m\u001b[47m\u001b[30mT\u001b[39m\u001b[49m\u001b[47m\u001b[30mA\u001b[39m\u001b[49m\u001b[47m\u001b[30mT\u001b[39m\u001b[49m\u001b[47m\u001b[30mG\u001b[39m\u001b[49m\u001b[47m\u001b[30mT\u001b[39m\u001b[49m\u001b[47m\u001b[30mT\u001b[39m\u001b[49m\u001b[47m\u001b[30mT\u001b[39m\u001b[49m\u001b[47m\u001b[30mC\u001b[39m\u001b[49m\u001b[47m\u001b[30mA\u001b[39m\u001b[49m\u001b[47m\u001b[30mC\u001b[39m\u001b[49m\u001b[47m\u001b[30mT\u001b[39m\u001b[49m\u001b[47m\u001b[30mA\u001b[39m\u001b[49m\u001b[47m\u001b[30mC\u001b[39m\u001b[49m\u001b[47m\u001b[30mT\u001b[39m\u001b[49m\u001b[47m\u001b[30mT\u001b[39m\u001b[49m\u001b[47m\u001b[30mC\u001b[39m\u001b[49m\u001b[47m\u001b[30mC\u001b[39m\u001b[49m\u001b[47m\u001b[30mT\u001b[39m\u001b[49m\u001b[47m\u001b[30mT\u001b[39m\u001b[49m\u001b[47m\u001b[30mT\u001b[39m\u001b[49m\u001b[47m\u001b[30mC\u001b[39m\u001b[49m\u001b[47m\u001b[30mG\u001b[39m\u001b[49m\u001b[47m\u001b[30mG\u001b[39m\u001b[49m"
      ]
     },
     "metadata": {},
     "output_type": "display_data"
    }
   ],
   "source": [
    "# The two sequences we want to align globally\n",
    "s1_n\n",
    "s2_n"
   ]
  },
  {
   "cell_type": "code",
   "execution_count": 37,
   "id": "51753b8f",
   "metadata": {
    "execution": {
     "iopub.execute_input": "2022-08-02T17:16:42.762111Z",
     "iopub.status.busy": "2022-08-02T17:16:42.759828Z",
     "iopub.status.idle": "2022-08-02T17:16:42.944521Z",
     "shell.execute_reply": "2022-08-02T17:16:42.942380Z"
    },
    "papermill": {
     "duration": 0.56359,
     "end_time": "2022-08-02T17:16:42.944713",
     "exception": false,
     "start_time": "2022-08-02T17:16:42.381123",
     "status": "completed"
    },
    "tags": []
   },
   "outputs": [
    {
     "data": {
      "text/html": [
       "<table class=\"dataframe\">\n",
       "<caption>A matrix: 4 × 4 of type dbl</caption>\n",
       "<thead>\n",
       "\t<tr><th></th><th scope=col>A</th><th scope=col>C</th><th scope=col>G</th><th scope=col>T</th></tr>\n",
       "</thead>\n",
       "<tbody>\n",
       "\t<tr><th scope=row>A</th><td> 1</td><td>-3</td><td>-3</td><td>-3</td></tr>\n",
       "\t<tr><th scope=row>C</th><td>-3</td><td> 1</td><td>-3</td><td>-3</td></tr>\n",
       "\t<tr><th scope=row>G</th><td>-3</td><td>-3</td><td> 1</td><td>-3</td></tr>\n",
       "\t<tr><th scope=row>T</th><td>-3</td><td>-3</td><td>-3</td><td> 1</td></tr>\n",
       "</tbody>\n",
       "</table>\n"
      ],
      "text/latex": [
       "A matrix: 4 × 4 of type dbl\n",
       "\\begin{tabular}{r|llll}\n",
       "  & A & C & G & T\\\\\n",
       "\\hline\n",
       "\tA &  1 & -3 & -3 & -3\\\\\n",
       "\tC & -3 &  1 & -3 & -3\\\\\n",
       "\tG & -3 & -3 &  1 & -3\\\\\n",
       "\tT & -3 & -3 & -3 &  1\\\\\n",
       "\\end{tabular}\n"
      ],
      "text/markdown": [
       "\n",
       "A matrix: 4 × 4 of type dbl\n",
       "\n",
       "| <!--/--> | A | C | G | T |\n",
       "|---|---|---|---|---|\n",
       "| A |  1 | -3 | -3 | -3 |\n",
       "| C | -3 |  1 | -3 | -3 |\n",
       "| G | -3 | -3 |  1 | -3 |\n",
       "| T | -3 | -3 | -3 |  1 |\n",
       "\n"
      ],
      "text/plain": [
       "  A  C  G  T \n",
       "A  1 -3 -3 -3\n",
       "C -3  1 -3 -3\n",
       "G -3 -3  1 -3\n",
       "T -3 -3 -3  1"
      ]
     },
     "metadata": {},
     "output_type": "display_data"
    },
    {
     "data": {
      "text/html": [
       "<style>\n",
       ".list-inline {list-style: none; margin:0; padding: 0}\n",
       ".list-inline>li {display: inline-block}\n",
       ".list-inline>li:not(:last-child)::after {content: \"\\00b7\"; padding: 0 .5ex}\n",
       "</style>\n",
       "<ol class=list-inline><li>'matrix'</li><li>'array'</li></ol>\n"
      ],
      "text/latex": [
       "\\begin{enumerate*}\n",
       "\\item 'matrix'\n",
       "\\item 'array'\n",
       "\\end{enumerate*}\n"
      ],
      "text/markdown": [
       "1. 'matrix'\n",
       "2. 'array'\n",
       "\n",
       "\n"
      ],
      "text/plain": [
       "[1] \"matrix\" \"array\" "
      ]
     },
     "metadata": {},
     "output_type": "display_data"
    },
    {
     "data": {
      "text/plain": [
       "Global PairwiseAlignmentsSingleSubject (1 of 1)\n",
       "pattern: \u001b[47m\u001b[30mA\u001b[39m\u001b[49m\u001b[47m\u001b[30mC\u001b[39m\u001b[49m\u001b[47m\u001b[30mT\u001b[39m\u001b[49m\u001b[47m\u001b[30mT\u001b[39m\u001b[49m\u001b[47m\u001b[30mC\u001b[39m\u001b[49m\u001b[47m\u001b[30mA\u001b[39m\u001b[49m\u001b[47m\u001b[30mC\u001b[39m\u001b[49m\u001b[47m\u001b[30mC\u001b[39m\u001b[49m\u001b[47m\u001b[30mA\u001b[39m\u001b[49m\u001b[47m\u001b[30mG\u001b[39m\u001b[49m\u001b[47m\u001b[30mC\u001b[39m\u001b[49m\u001b[47m\u001b[30mT\u001b[39m\u001b[49m\u001b[47m\u001b[30mC\u001b[39m\u001b[49m\u001b[47m\u001b[30mC\u001b[39m\u001b[49m\u001b[47m\u001b[30mC\u001b[39m\u001b[49m\u001b[47m\u001b[30mT\u001b[39m\u001b[49m\u001b[47m\u001b[30mG\u001b[39m\u001b[49m\u001b[47m\u001b[30mG\u001b[39m\u001b[49m\u001b[47m\u001b[30mC\u001b[39m\u001b[49m\u001b[47m\u001b[30mG\u001b[39m\u001b[49m\u001b[47m\u001b[30mG\u001b[39m\u001b[49m\u001b[47m\u001b[30mT\u001b[39m\u001b[49m\u001b[47m\u001b[30mA\u001b[39m\u001b[49m\u001b[47m\u001b[30mA\u001b[39m\u001b[49m\u001b[47m\u001b[30mG\u001b[39m\u001b[49m\u001b[47m\u001b[30mT\u001b[39m\u001b[49m\u001b[47m\u001b[30mT\u001b[39m\u001b[49m\u001b[47m\u001b[30mG\u001b[39m\u001b[49m\u001b[47m\u001b[30mA\u001b[39m\u001b[49m\u001b[47m\u001b[30mT\u001b[39m\u001b[49m\u001b[47m\u001b[30mC\u001b[39m\u001b[49m\u001b[47m\u001b[30mA\u001b[39m\u001b[49m\u001b[47m\u001b[30mA\u001b[39m\u001b[49m\u001b[47m\u001b[30mA\u001b[39m\u001b[49m\u001b[47m\u001b[30mG\u001b[39m\u001b[49m\u001b[47m\u001b[30mG\u001b[39m\u001b[49m\u001b[47m\u001b[30mA\u001b[39m\u001b[49m\u001b[47m\u001b[30mA\u001b[39m\u001b[49m\u001b[47m\u001b[30mA\u001b[39m\u001b[49m\u001b[47m\u001b[30mC\u001b[39m\u001b[49m------\n",
       "subject: \u001b[47m\u001b[30mT\u001b[39m\u001b[49m\u001b[47m\u001b[30mT\u001b[39m\u001b[49m\u001b[47m\u001b[30mT\u001b[39m\u001b[49m----\u001b[47m\u001b[30mC\u001b[39m\u001b[49m\u001b[47m\u001b[30mG\u001b[39m\u001b[49m\u001b[47m\u001b[30mG\u001b[39m\u001b[49m\u001b[47m\u001b[30mG\u001b[39m\u001b[49m\u001b[47m\u001b[30mT\u001b[39m\u001b[49m\u001b[47m\u001b[30mA\u001b[39m\u001b[49m\u001b[47m\u001b[30mA\u001b[39m\u001b[49m\u001b[47m\u001b[30mG\u001b[39m\u001b[49m\u001b[47m\u001b[30mT\u001b[39m\u001b[49m\u001b[47m\u001b[30mA\u001b[39m\u001b[49m\u001b[47m\u001b[30mA\u001b[39m\u001b[49m\u001b[47m\u001b[30mA\u001b[39m\u001b[49m\u001b[47m\u001b[30mT\u001b[39m\u001b[49m\u001b[47m\u001b[30mA\u001b[39m\u001b[49m\u001b[47m\u001b[30mT\u001b[39m\u001b[49m\u001b[47m\u001b[30mA\u001b[39m\u001b[49m\u001b[47m\u001b[30mT\u001b[39m\u001b[49m\u001b[47m\u001b[30mG\u001b[39m\u001b[49m\u001b[47m\u001b[30mT\u001b[39m\u001b[49m\u001b[47m\u001b[30mT\u001b[39m\u001b[49m--\u001b[47m\u001b[30mT\u001b[39m\u001b[49m\u001b[47m\u001b[30mC\u001b[39m\u001b[49m\u001b[47m\u001b[30mA\u001b[39m\u001b[49m\u001b[47m\u001b[30mC\u001b[39m\u001b[49m\u001b[47m\u001b[30mT\u001b[39m\u001b[49m\u001b[47m\u001b[30mA\u001b[39m\u001b[49m\u001b[47m\u001b[30mC\u001b[39m\u001b[49m\u001b[47m\u001b[30mT\u001b[39m\u001b[49m\u001b[47m\u001b[30mT\u001b[39m\u001b[49m\u001b[47m\u001b[30mC\u001b[39m\u001b[49m\u001b[47m\u001b[30mC\u001b[39m\u001b[49m\u001b[47m\u001b[30mT\u001b[39m\u001b[49m\u001b[47m\u001b[30mT\u001b[39m\u001b[49m\u001b[47m\u001b[30mT\u001b[39m\u001b[49m\u001b[47m\u001b[30mC\u001b[39m\u001b[49m\u001b[47m\u001b[30mG\u001b[39m\u001b[49m\u001b[47m\u001b[30mG\u001b[39m\u001b[49m\n",
       "score: -85 "
      ]
     },
     "metadata": {},
     "output_type": "display_data"
    }
   ],
   "source": [
    "# [1] Nucleotide Global Sequences Alignment \n",
    "\n",
    "# Define our own Substitution matrix (nucleotide)\n",
    "mat <- nucleotideSubstitutionMatrix(match = 1,\n",
    "                                    mismatch = -3,\n",
    "                                    baseOnly = TRUE)\n",
    "mat\n",
    "class(mat)\n",
    "\n",
    "# Global Alignmnent (Needleman Wunsch)\n",
    "globalAlign <-\n",
    "    pairwiseAlignment(s1_n,s2_n,                         # sequences we want to align\n",
    "                      type='global',                     # type of alignment\n",
    "                      substitutionMatrix = mat,          # substitution matrix\n",
    "                      gapOpening = 5, gapExtension = 2)  # gap penalty arguments\n",
    "globalAlign"
   ]
  },
  {
   "cell_type": "markdown",
   "id": "3bde777e",
   "metadata": {
    "papermill": {
     "duration": 0.381425,
     "end_time": "2022-08-02T17:16:43.705937",
     "exception": false,
     "start_time": "2022-08-02T17:16:43.324512",
     "status": "completed"
    },
    "tags": []
   },
   "source": [
    "### **<mark style=\"background-color:#6846D5;color:white;border-radius:5px;opacity:0.9\">NUCLEOTIDE</mark>** **<span style='color:#6846D5'>LOCAL </span>SEQUENCE ALIGNMENT**\n",
    "**Smith-Waterman** local sequence alignment between two nucleotide sequences; <code>s1_n</code> & <code>s2_n</code>"
   ]
  },
  {
   "cell_type": "code",
   "execution_count": 38,
   "id": "43f3ca99",
   "metadata": {
    "execution": {
     "iopub.execute_input": "2022-08-02T17:16:44.488055Z",
     "iopub.status.busy": "2022-08-02T17:16:44.486458Z",
     "iopub.status.idle": "2022-08-02T17:16:44.598537Z",
     "shell.execute_reply": "2022-08-02T17:16:44.596006Z"
    },
    "papermill": {
     "duration": 0.511505,
     "end_time": "2022-08-02T17:16:44.598729",
     "exception": false,
     "start_time": "2022-08-02T17:16:44.087224",
     "status": "completed"
    },
    "tags": []
   },
   "outputs": [
    {
     "data": {
      "text/plain": [
       "Local PairwiseAlignmentsSingleSubject (1 of 1)\n",
       "pattern: [20] \u001b[47m\u001b[30mG\u001b[39m\u001b[49m\u001b[47m\u001b[30mG\u001b[39m\u001b[49m\u001b[47m\u001b[30mT\u001b[39m\u001b[49m\u001b[47m\u001b[30mA\u001b[39m\u001b[49m\u001b[47m\u001b[30mA\u001b[39m\u001b[49m\u001b[47m\u001b[30mG\u001b[39m\u001b[49m\u001b[47m\u001b[30mT\u001b[39m\u001b[49m\n",
       "subject:  [6] \u001b[47m\u001b[30mG\u001b[39m\u001b[49m\u001b[47m\u001b[30mG\u001b[39m\u001b[49m\u001b[47m\u001b[30mT\u001b[39m\u001b[49m\u001b[47m\u001b[30mA\u001b[39m\u001b[49m\u001b[47m\u001b[30mA\u001b[39m\u001b[49m\u001b[47m\u001b[30mG\u001b[39m\u001b[49m\u001b[47m\u001b[30mT\u001b[39m\u001b[49m\n",
       "score: 7 "
      ]
     },
     "metadata": {},
     "output_type": "display_data"
    }
   ],
   "source": [
    "# [2] Nucleotide Local Sequence Alignment (Smith-Waterman)\n",
    "localAlign <-\n",
    "    pairwiseAlignment(s1_n, s2_n,\n",
    "                      type = \"local\",\n",
    "                      substitutionMatrix = mat,\n",
    "                      gapOpening = 5, gapExtension = 2) \n",
    "localAlign"
   ]
  },
  {
   "cell_type": "markdown",
   "id": "7399a980",
   "metadata": {
    "papermill": {
     "duration": 0.395856,
     "end_time": "2022-08-02T17:16:45.410039",
     "exception": false,
     "start_time": "2022-08-02T17:16:45.014183",
     "status": "completed"
    },
    "tags": []
   },
   "source": [
    "### **<mark style=\"background-color:#6846D5;color:white;border-radius:5px;opacity:0.9\">PROTEIN</mark>** **<span style='color:#6846D5'>GLOBAL</span> SEQUENCE ALIGNMENT**\n",
    "**Needleman-Wunsch** global sequence alignment between two amino acid chain sequences; <code>s1_aa</code> & <code>s2_aa</code>"
   ]
  },
  {
   "cell_type": "code",
   "execution_count": 39,
   "id": "e0754c9f",
   "metadata": {
    "execution": {
     "iopub.execute_input": "2022-08-02T17:16:46.211888Z",
     "iopub.status.busy": "2022-08-02T17:16:46.209366Z",
     "iopub.status.idle": "2022-08-02T17:16:46.335868Z",
     "shell.execute_reply": "2022-08-02T17:16:46.333914Z"
    },
    "papermill": {
     "duration": 0.536238,
     "end_time": "2022-08-02T17:16:46.336044",
     "exception": false,
     "start_time": "2022-08-02T17:16:45.799806",
     "status": "completed"
    },
    "tags": []
   },
   "outputs": [
    {
     "data": {
      "text/plain": [
       "Global PairwiseAlignmentsSingleSubject (1 of 1)\n",
       "pattern: -PA--WHEAE\n",
       "subject: HEAGAWGHEE\n",
       "score: -8 "
      ]
     },
     "metadata": {},
     "output_type": "display_data"
    }
   ],
   "source": [
    "# global alignment (default type) using BLOSUM Substitution Matrix\n",
    "# 45,50,62,80,100\n",
    "\n",
    "pairwiseAlignment(s1_aa,s2_aa,\n",
    "                  substitutionMatrix = \"BLOSUM62\",\n",
    "                  gapOpening = 0, gapExtension = 8)"
   ]
  },
  {
   "cell_type": "code",
   "execution_count": 40,
   "id": "f9e813b7",
   "metadata": {
    "execution": {
     "iopub.execute_input": "2022-08-02T17:16:47.155168Z",
     "iopub.status.busy": "2022-08-02T17:16:47.153047Z",
     "iopub.status.idle": "2022-08-02T17:16:47.273006Z",
     "shell.execute_reply": "2022-08-02T17:16:47.271008Z"
    },
    "papermill": {
     "duration": 0.525656,
     "end_time": "2022-08-02T17:16:47.273206",
     "exception": false,
     "start_time": "2022-08-02T17:16:46.747550",
     "status": "completed"
    },
    "tags": []
   },
   "outputs": [
    {
     "data": {
      "text/plain": [
       "Global PairwiseAlignmentsSingleSubject (1 of 1)\n",
       "pattern: --P-AW-HEAE\n",
       "subject: HEAGAWGHE-E\n",
       "score: 29 "
      ]
     },
     "metadata": {},
     "output_type": "display_data"
    }
   ],
   "source": [
    "# global alignment (default type) using PAM Substitution Matrix\n",
    "# 30,40,70,120,250\n",
    "\n",
    "pairwiseAlignment(s1_aa,s2_aa,\n",
    "                  substitutionMatrix = \"PAM250\", \n",
    "                  gapOpening = 0, gapExtension = 1)"
   ]
  },
  {
   "cell_type": "markdown",
   "id": "e36d2a5a",
   "metadata": {
    "papermill": {
     "duration": 0.398488,
     "end_time": "2022-08-02T17:16:48.066991",
     "exception": false,
     "start_time": "2022-08-02T17:16:47.668503",
     "status": "completed"
    },
    "tags": []
   },
   "source": [
    "<div style=\"color:white;display:fill;border-radius:8px;\n",
    "            background-color:#323232;font-size:150%;\n",
    "            font-family:Nexa;letter-spacing:0.5px\">\n",
    "    <p style=\"padding: 8px;color:white;\"><b>2.2 | EXTRACTING DATA FROM ALIGNMENTS</b></p>\n",
    "</div>\n",
    "\n",
    "Getting individual sequences in the alignment, <code>alignedPattern</code> & <code>alignedSubject</code> in **StringSet** object format"
   ]
  },
  {
   "cell_type": "code",
   "execution_count": 41,
   "id": "f59b646e",
   "metadata": {
    "execution": {
     "iopub.execute_input": "2022-08-02T17:16:48.853206Z",
     "iopub.status.busy": "2022-08-02T17:16:48.851572Z",
     "iopub.status.idle": "2022-08-02T17:16:49.660555Z",
     "shell.execute_reply": "2022-08-02T17:16:49.659048Z"
    },
    "papermill": {
     "duration": 1.203196,
     "end_time": "2022-08-02T17:16:49.660784",
     "exception": false,
     "start_time": "2022-08-02T17:16:48.457588",
     "status": "completed"
    },
    "tags": []
   },
   "outputs": [
    {
     "data": {
      "text/plain": [
       "DNAStringSet object of length 1:\n",
       "    width seq\n",
       "[1]    46 \u001b[47m\u001b[30mA\u001b[39m\u001b[49m\u001b[47m\u001b[30mC\u001b[39m\u001b[49m\u001b[47m\u001b[30mT\u001b[39m\u001b[49m\u001b[47m\u001b[30mT\u001b[39m\u001b[49m\u001b[47m\u001b[30mC\u001b[39m\u001b[49m\u001b[47m\u001b[30mA\u001b[39m\u001b[49m\u001b[47m\u001b[30mC\u001b[39m\u001b[49m\u001b[47m\u001b[30mC\u001b[39m\u001b[49m\u001b[47m\u001b[30mA\u001b[39m\u001b[49m\u001b[47m\u001b[30mG\u001b[39m\u001b[49m\u001b[47m\u001b[30mC\u001b[39m\u001b[49m\u001b[47m\u001b[30mT\u001b[39m\u001b[49m\u001b[47m\u001b[30mC\u001b[39m\u001b[49m\u001b[47m\u001b[30mC\u001b[39m\u001b[49m\u001b[47m\u001b[30mC\u001b[39m\u001b[49m\u001b[47m\u001b[30mT\u001b[39m\u001b[49m\u001b[47m\u001b[30mG\u001b[39m\u001b[49m\u001b[47m\u001b[30mG\u001b[39m\u001b[49m\u001b[47m\u001b[30mC\u001b[39m\u001b[49m\u001b[47m\u001b[30mG\u001b[39m\u001b[49m\u001b[47m\u001b[30mG\u001b[39m\u001b[49m\u001b[47m\u001b[30mT\u001b[39m\u001b[49m\u001b[47m\u001b[30mA\u001b[39m\u001b[49m\u001b[47m\u001b[30mA\u001b[39m\u001b[49m\u001b[47m\u001b[30mG\u001b[39m\u001b[49m\u001b[47m\u001b[30mT\u001b[39m\u001b[49m\u001b[47m\u001b[30mT\u001b[39m\u001b[49m\u001b[47m\u001b[30mG\u001b[39m\u001b[49m\u001b[47m\u001b[30mA\u001b[39m\u001b[49m\u001b[47m\u001b[30mT\u001b[39m\u001b[49m\u001b[47m\u001b[30mC\u001b[39m\u001b[49m\u001b[47m\u001b[30mA\u001b[39m\u001b[49m\u001b[47m\u001b[30mA\u001b[39m\u001b[49m\u001b[47m\u001b[30mA\u001b[39m\u001b[49m\u001b[47m\u001b[30mG\u001b[39m\u001b[49m\u001b[47m\u001b[30mG\u001b[39m\u001b[49m\u001b[47m\u001b[30mA\u001b[39m\u001b[49m\u001b[47m\u001b[30mA\u001b[39m\u001b[49m\u001b[47m\u001b[30mA\u001b[39m\u001b[49m\u001b[47m\u001b[30mC\u001b[39m\u001b[49m------"
      ]
     },
     "metadata": {},
     "output_type": "display_data"
    },
    {
     "data": {
      "text/html": [
       "'TTT----CGGGTAAGTAAATATATGTT--TCACTACTTCCTTTCGG'"
      ],
      "text/latex": [
       "'TTT----CGGGTAAGTAAATATATGTT--TCACTACTTCCTTTCGG'"
      ],
      "text/markdown": [
       "'TTT----CGGGTAAGTAAATATATGTT--TCACTACTTCCTTTCGG'"
      ],
      "text/plain": [
       "[1] \"TTT----CGGGTAAGTAAATATATGTT--TCACTACTTCCTTTCGG\""
      ]
     },
     "metadata": {},
     "output_type": "display_data"
    }
   ],
   "source": [
    "# [4] extract sequences from alignment \n",
    "s1_nset = DNAStringSet(chr_n1)\n",
    "s2_nset = DNAStringSet(chr_n2)\n",
    "\n",
    "# Pairwise Sequence Alignment operation\n",
    "alg <- pairwiseAlignment(s1_nset,s2_nset)\n",
    "\n",
    "# recalling the sequences in a pairwise alignment\n",
    "alignedPattern(alg)\n",
    "toString(alignedSubject(alg)) # convert to string also possible"
   ]
  },
  {
   "cell_type": "markdown",
   "id": "d71adfb4",
   "metadata": {
    "papermill": {
     "duration": 0.398641,
     "end_time": "2022-08-02T17:16:50.458941",
     "exception": false,
     "start_time": "2022-08-02T17:16:50.060300",
     "status": "completed"
    },
    "tags": []
   },
   "source": [
    "<div style=\"color:white;display:fill;border-radius:8px;\n",
    "            background-color:#323232;font-size:150%;\n",
    "            font-family:Nexa;letter-spacing:0.5px\">\n",
    "    <p style=\"padding: 8px;color:white;\"><b>2.3 | SEQUENCE ALIGNMENT SUMMARY</b></p>\n",
    "</div>\n",
    "\n",
    "Functions related to alignment summary \n",
    "\n",
    "- **<mark style=\"background-color:#6846D5;color:white;border-radius:5px;opacity:0.9\">summary</mark>** **<mark style=\"background-color:#6846D5;color:white;border-radius:5px;opacity:0.9\">alphabet()</mark>** **<mark style=\"background-color:#6846D5;color:white;border-radius:5px;opacity:0.9\"> compareStrings()</mark>**\n",
    "- **<mark style=\"background-color:#6846D5;color:white;border-radius:5px;opacity:0.9\">deletion()</mark>** **<mark style=\"background-color:#6846D5;color:white;border-radius:5px;opacity:0.9\">mismatchTable()</mark>**\n",
    "- **<mark style=\"background-color:#6846D5;color:white;border-radius:5px;opacity:0.9\">nchar()</mark>** **<mark style=\"background-color:#6846D5;color:white;border-radius:5px;opacity:0.9\">nedit()</mark>** **<mark style=\"background-color:#6846D5;color:white;border-radius:5px;opacity:0.9\">indel()</mark>**\n",
    "- **<mark style=\"background-color:#6846D5;color:white;border-radius:5px;opacity:0.9\">insertion()</mark>** **<mark style=\"background-color:#6846D5;color:white;border-radius:5px;opacity:0.9\">nindel()</mark>**\n",
    "- **<mark style=\"background-color:#6846D5;color:white;border-radius:5px;opacity:0.9\">nmatch()</mark>** **<mark style=\"background-color:#6846D5;color:white;border-radius:5px;opacity:0.9\">nmismatch()</mark>**\n",
    "- **<mark style=\"background-color:#6846D5;color:white;border-radius:5px;opacity:0.9\">pattern()</mark>** **<mark style=\"background-color:#6846D5;color:white;border-radius:5px;opacity:0.9\">subject()</mark>**\n",
    "- **<mark style=\"background-color:#6846D5;color:white;border-radius:5px;opacity:0.9\">pid()</mark>** **<mark style=\"background-color:#6846D5;color:white;border-radius:5px;opacity:0.9\">rep()</mark>** **<mark style=\"background-color:#6846D5;color:white;border-radius:5px;opacity:0.9\">score()</mark>** **<mark style=\"background-color:#6846D5;color:white;border-radius:5px;opacity:0.9\">type()</mark>** "
   ]
  },
  {
   "cell_type": "code",
   "execution_count": 42,
   "id": "127bf120",
   "metadata": {
    "execution": {
     "iopub.execute_input": "2022-08-02T17:16:51.247884Z",
     "iopub.status.busy": "2022-08-02T17:16:51.246394Z",
     "iopub.status.idle": "2022-08-02T17:16:51.346551Z",
     "shell.execute_reply": "2022-08-02T17:16:51.344996Z"
    },
    "papermill": {
     "duration": 0.500085,
     "end_time": "2022-08-02T17:16:51.346760",
     "exception": false,
     "start_time": "2022-08-02T17:16:50.846675",
     "status": "completed"
    },
    "tags": []
   },
   "outputs": [
    {
     "data": {
      "text/plain": [
       "Global Single Subject Pairwise Alignments\n",
       "Number of Alignments:  1\n",
       "\n",
       "Scores:\n",
       "   Min. 1st Qu.  Median    Mean 3rd Qu.    Max. \n",
       " -168.2  -168.2  -168.2  -168.2  -168.2  -168.2 \n",
       "\n",
       "Number of matches:\n",
       "   Min. 1st Qu.  Median    Mean 3rd Qu.    Max. \n",
       "     14      14      14      14      14      14 \n",
       "\n",
       "Top 10 Mismatch Counts:\n",
       "   SubjectPosition Subject Pattern Count Probability\n",
       "1                1       T       A     1           1\n",
       "2                2       T       C     1           1\n",
       "3                5       G       A     1           1\n",
       "4                7       G       C     1           1\n",
       "5                9       A       C     1           1\n",
       "6               10       A       C     1           1\n",
       "7               11       G       C     1           1\n",
       "8               13       A       G     1           1\n",
       "9               14       A       G     1           1\n",
       "10              15       A       C     1           1"
      ]
     },
     "metadata": {},
     "output_type": "display_data"
    }
   ],
   "source": [
    "# [5] Summary of Alignment\n",
    "summary(alg)"
   ]
  },
  {
   "cell_type": "code",
   "execution_count": 43,
   "id": "d8ca5f56",
   "metadata": {
    "execution": {
     "iopub.execute_input": "2022-08-02T17:16:52.183497Z",
     "iopub.status.busy": "2022-08-02T17:16:52.173774Z",
     "iopub.status.idle": "2022-08-02T17:16:52.281110Z",
     "shell.execute_reply": "2022-08-02T17:16:52.279232Z"
    },
    "papermill": {
     "duration": 0.54389,
     "end_time": "2022-08-02T17:16:52.281361",
     "exception": false,
     "start_time": "2022-08-02T17:16:51.737471",
     "status": "completed"
    },
    "tags": []
   },
   "outputs": [
    {
     "data": {
      "text/plain": [
       "Global PairwiseAlignmentsSingleSubject (1 of 1)\n",
       "pattern: \u001b[47m\u001b[30mA\u001b[39m\u001b[49m\u001b[47m\u001b[30mC\u001b[39m\u001b[49m\u001b[47m\u001b[30mT\u001b[39m\u001b[49m\u001b[47m\u001b[30mT\u001b[39m\u001b[49m\u001b[47m\u001b[30mC\u001b[39m\u001b[49m\u001b[47m\u001b[30mA\u001b[39m\u001b[49m\u001b[47m\u001b[30mC\u001b[39m\u001b[49m\u001b[47m\u001b[30mC\u001b[39m\u001b[49m\u001b[47m\u001b[30mA\u001b[39m\u001b[49m\u001b[47m\u001b[30mG\u001b[39m\u001b[49m\u001b[47m\u001b[30mC\u001b[39m\u001b[49m\u001b[47m\u001b[30mT\u001b[39m\u001b[49m\u001b[47m\u001b[30mC\u001b[39m\u001b[49m\u001b[47m\u001b[30mC\u001b[39m\u001b[49m\u001b[47m\u001b[30mC\u001b[39m\u001b[49m\u001b[47m\u001b[30mT\u001b[39m\u001b[49m\u001b[47m\u001b[30mG\u001b[39m\u001b[49m\u001b[47m\u001b[30mG\u001b[39m\u001b[49m\u001b[47m\u001b[30mC\u001b[39m\u001b[49m\u001b[47m\u001b[30mG\u001b[39m\u001b[49m\u001b[47m\u001b[30mG\u001b[39m\u001b[49m\u001b[47m\u001b[30mT\u001b[39m\u001b[49m\u001b[47m\u001b[30mA\u001b[39m\u001b[49m\u001b[47m\u001b[30mA\u001b[39m\u001b[49m\u001b[47m\u001b[30mG\u001b[39m\u001b[49m\u001b[47m\u001b[30mT\u001b[39m\u001b[49m\u001b[47m\u001b[30mT\u001b[39m\u001b[49m\u001b[47m\u001b[30mG\u001b[39m\u001b[49m\u001b[47m\u001b[30mA\u001b[39m\u001b[49m\u001b[47m\u001b[30mT\u001b[39m\u001b[49m\u001b[47m\u001b[30mC\u001b[39m\u001b[49m\u001b[47m\u001b[30mA\u001b[39m\u001b[49m\u001b[47m\u001b[30mA\u001b[39m\u001b[49m\u001b[47m\u001b[30mA\u001b[39m\u001b[49m\u001b[47m\u001b[30mG\u001b[39m\u001b[49m\u001b[47m\u001b[30mG\u001b[39m\u001b[49m\u001b[47m\u001b[30mA\u001b[39m\u001b[49m\u001b[47m\u001b[30mA\u001b[39m\u001b[49m\u001b[47m\u001b[30mA\u001b[39m\u001b[49m\u001b[47m\u001b[30mC\u001b[39m\u001b[49m------\n",
       "subject: \u001b[47m\u001b[30mT\u001b[39m\u001b[49m\u001b[47m\u001b[30mT\u001b[39m\u001b[49m\u001b[47m\u001b[30mT\u001b[39m\u001b[49m----\u001b[47m\u001b[30mC\u001b[39m\u001b[49m\u001b[47m\u001b[30mG\u001b[39m\u001b[49m\u001b[47m\u001b[30mG\u001b[39m\u001b[49m\u001b[47m\u001b[30mG\u001b[39m\u001b[49m\u001b[47m\u001b[30mT\u001b[39m\u001b[49m\u001b[47m\u001b[30mA\u001b[39m\u001b[49m\u001b[47m\u001b[30mA\u001b[39m\u001b[49m\u001b[47m\u001b[30mG\u001b[39m\u001b[49m\u001b[47m\u001b[30mT\u001b[39m\u001b[49m\u001b[47m\u001b[30mA\u001b[39m\u001b[49m\u001b[47m\u001b[30mA\u001b[39m\u001b[49m\u001b[47m\u001b[30mA\u001b[39m\u001b[49m\u001b[47m\u001b[30mT\u001b[39m\u001b[49m\u001b[47m\u001b[30mA\u001b[39m\u001b[49m\u001b[47m\u001b[30mT\u001b[39m\u001b[49m\u001b[47m\u001b[30mA\u001b[39m\u001b[49m\u001b[47m\u001b[30mT\u001b[39m\u001b[49m\u001b[47m\u001b[30mG\u001b[39m\u001b[49m\u001b[47m\u001b[30mT\u001b[39m\u001b[49m\u001b[47m\u001b[30mT\u001b[39m\u001b[49m--\u001b[47m\u001b[30mT\u001b[39m\u001b[49m\u001b[47m\u001b[30mC\u001b[39m\u001b[49m\u001b[47m\u001b[30mA\u001b[39m\u001b[49m\u001b[47m\u001b[30mC\u001b[39m\u001b[49m\u001b[47m\u001b[30mT\u001b[39m\u001b[49m\u001b[47m\u001b[30mA\u001b[39m\u001b[49m\u001b[47m\u001b[30mC\u001b[39m\u001b[49m\u001b[47m\u001b[30mT\u001b[39m\u001b[49m\u001b[47m\u001b[30mT\u001b[39m\u001b[49m\u001b[47m\u001b[30mC\u001b[39m\u001b[49m\u001b[47m\u001b[30mC\u001b[39m\u001b[49m\u001b[47m\u001b[30mT\u001b[39m\u001b[49m\u001b[47m\u001b[30mT\u001b[39m\u001b[49m\u001b[47m\u001b[30mT\u001b[39m\u001b[49m\u001b[47m\u001b[30mC\u001b[39m\u001b[49m\u001b[47m\u001b[30mG\u001b[39m\u001b[49m\u001b[47m\u001b[30mG\u001b[39m\u001b[49m\n",
       "score: -85 "
      ]
     },
     "metadata": {},
     "output_type": "display_data"
    }
   ],
   "source": [
    "globalAlign"
   ]
  },
  {
   "cell_type": "code",
   "execution_count": 44,
   "id": "562ffffd",
   "metadata": {
    "execution": {
     "iopub.execute_input": "2022-08-02T17:16:53.123371Z",
     "iopub.status.busy": "2022-08-02T17:16:53.121559Z",
     "iopub.status.idle": "2022-08-02T17:16:53.387836Z",
     "shell.execute_reply": "2022-08-02T17:16:53.386218Z"
    },
    "papermill": {
     "duration": 0.690955,
     "end_time": "2022-08-02T17:16:53.388018",
     "exception": false,
     "start_time": "2022-08-02T17:16:52.697063",
     "status": "completed"
    },
    "tags": []
   },
   "outputs": [
    {
     "data": {
      "text/html": [
       "<style>\n",
       ".list-inline {list-style: none; margin:0; padding: 0}\n",
       ".list-inline>li {display: inline-block}\n",
       ".list-inline>li:not(:last-child)::after {content: \"\\00b7\"; padding: 0 .5ex}\n",
       "</style>\n",
       "<ol class=list-inline><li>'A'</li><li>'C'</li><li>'G'</li><li>'T'</li><li>'M'</li><li>'R'</li><li>'W'</li><li>'S'</li><li>'Y'</li><li>'K'</li><li>'V'</li><li>'H'</li><li>'D'</li><li>'B'</li><li>'N'</li><li>'-'</li><li>'+'</li><li>'.'</li></ol>\n"
      ],
      "text/latex": [
       "\\begin{enumerate*}\n",
       "\\item 'A'\n",
       "\\item 'C'\n",
       "\\item 'G'\n",
       "\\item 'T'\n",
       "\\item 'M'\n",
       "\\item 'R'\n",
       "\\item 'W'\n",
       "\\item 'S'\n",
       "\\item 'Y'\n",
       "\\item 'K'\n",
       "\\item 'V'\n",
       "\\item 'H'\n",
       "\\item 'D'\n",
       "\\item 'B'\n",
       "\\item 'N'\n",
       "\\item '-'\n",
       "\\item '+'\n",
       "\\item '.'\n",
       "\\end{enumerate*}\n"
      ],
      "text/markdown": [
       "1. 'A'\n",
       "2. 'C'\n",
       "3. 'G'\n",
       "4. 'T'\n",
       "5. 'M'\n",
       "6. 'R'\n",
       "7. 'W'\n",
       "8. 'S'\n",
       "9. 'Y'\n",
       "10. 'K'\n",
       "11. 'V'\n",
       "12. 'H'\n",
       "13. 'D'\n",
       "14. 'B'\n",
       "15. 'N'\n",
       "16. '-'\n",
       "17. '+'\n",
       "18. '.'\n",
       "\n",
       "\n"
      ],
      "text/plain": [
       " [1] \"A\" \"C\" \"G\" \"T\" \"M\" \"R\" \"W\" \"S\" \"Y\" \"K\" \"V\" \"H\" \"D\" \"B\" \"N\" \"-\" \"+\" \".\""
      ]
     },
     "metadata": {},
     "output_type": "display_data"
    },
    {
     "data": {
      "text/html": [
       "'??T++++C?G?T???T?????TA?GTT++TCA???????C'"
      ],
      "text/latex": [
       "'??T++++C?G?T???T?????TA?GTT++TCA???????C'"
      ],
      "text/markdown": [
       "'??T++++C?G?T???T?????TA?GTT++TCA???????C'"
      ],
      "text/plain": [
       "[1] \"??T++++C?G?T???T?????TA?GTT++TCA???????C\""
      ]
     },
     "metadata": {},
     "output_type": "display_data"
    },
    {
     "data": {
      "text/plain": [
       "IRangesList object of length 1:\n",
       "[[1]]\n",
       "IRanges object with 0 ranges and 0 metadata columns:\n",
       "       start       end     width\n",
       "   <integer> <integer> <integer>\n"
      ]
     },
     "metadata": {},
     "output_type": "display_data"
    },
    {
     "data": {
      "text/html": [
       "<table class=\"dataframe\">\n",
       "<caption>A data.frame: 20 × 7</caption>\n",
       "<thead>\n",
       "\t<tr><th scope=col>PatternId</th><th scope=col>PatternStart</th><th scope=col>PatternEnd</th><th scope=col>PatternSubstring</th><th scope=col>SubjectStart</th><th scope=col>SubjectEnd</th><th scope=col>SubjectSubstring</th></tr>\n",
       "\t<tr><th scope=col>&lt;int&gt;</th><th scope=col>&lt;int&gt;</th><th scope=col>&lt;int&gt;</th><th scope=col>&lt;chr&gt;</th><th scope=col>&lt;int&gt;</th><th scope=col>&lt;int&gt;</th><th scope=col>&lt;chr&gt;</th></tr>\n",
       "</thead>\n",
       "<tbody>\n",
       "\t<tr><td>1</td><td> 1</td><td> 1</td><td>A</td><td> 1</td><td> 1</td><td>T</td></tr>\n",
       "\t<tr><td>1</td><td> 2</td><td> 2</td><td>C</td><td> 2</td><td> 2</td><td>T</td></tr>\n",
       "\t<tr><td>1</td><td> 9</td><td> 9</td><td>A</td><td> 5</td><td> 5</td><td>G</td></tr>\n",
       "\t<tr><td>1</td><td>11</td><td>11</td><td>C</td><td> 7</td><td> 7</td><td>G</td></tr>\n",
       "\t<tr><td>1</td><td>13</td><td>13</td><td>C</td><td> 9</td><td> 9</td><td>A</td></tr>\n",
       "\t<tr><td>1</td><td>14</td><td>14</td><td>C</td><td>10</td><td>10</td><td>A</td></tr>\n",
       "\t<tr><td>1</td><td>15</td><td>15</td><td>C</td><td>11</td><td>11</td><td>G</td></tr>\n",
       "\t<tr><td>1</td><td>17</td><td>17</td><td>G</td><td>13</td><td>13</td><td>A</td></tr>\n",
       "\t<tr><td>1</td><td>18</td><td>18</td><td>G</td><td>14</td><td>14</td><td>A</td></tr>\n",
       "\t<tr><td>1</td><td>19</td><td>19</td><td>C</td><td>15</td><td>15</td><td>A</td></tr>\n",
       "\t<tr><td>1</td><td>20</td><td>20</td><td>G</td><td>16</td><td>16</td><td>T</td></tr>\n",
       "\t<tr><td>1</td><td>21</td><td>21</td><td>G</td><td>17</td><td>17</td><td>A</td></tr>\n",
       "\t<tr><td>1</td><td>24</td><td>24</td><td>A</td><td>20</td><td>20</td><td>T</td></tr>\n",
       "\t<tr><td>1</td><td>33</td><td>33</td><td>A</td><td>27</td><td>27</td><td>C</td></tr>\n",
       "\t<tr><td>1</td><td>34</td><td>34</td><td>A</td><td>28</td><td>28</td><td>T</td></tr>\n",
       "\t<tr><td>1</td><td>35</td><td>35</td><td>G</td><td>29</td><td>29</td><td>A</td></tr>\n",
       "\t<tr><td>1</td><td>36</td><td>36</td><td>G</td><td>30</td><td>30</td><td>C</td></tr>\n",
       "\t<tr><td>1</td><td>37</td><td>37</td><td>A</td><td>31</td><td>31</td><td>T</td></tr>\n",
       "\t<tr><td>1</td><td>38</td><td>38</td><td>A</td><td>32</td><td>32</td><td>T</td></tr>\n",
       "\t<tr><td>1</td><td>39</td><td>39</td><td>A</td><td>33</td><td>33</td><td>C</td></tr>\n",
       "</tbody>\n",
       "</table>\n"
      ],
      "text/latex": [
       "A data.frame: 20 × 7\n",
       "\\begin{tabular}{lllllll}\n",
       " PatternId & PatternStart & PatternEnd & PatternSubstring & SubjectStart & SubjectEnd & SubjectSubstring\\\\\n",
       " <int> & <int> & <int> & <chr> & <int> & <int> & <chr>\\\\\n",
       "\\hline\n",
       "\t 1 &  1 &  1 & A &  1 &  1 & T\\\\\n",
       "\t 1 &  2 &  2 & C &  2 &  2 & T\\\\\n",
       "\t 1 &  9 &  9 & A &  5 &  5 & G\\\\\n",
       "\t 1 & 11 & 11 & C &  7 &  7 & G\\\\\n",
       "\t 1 & 13 & 13 & C &  9 &  9 & A\\\\\n",
       "\t 1 & 14 & 14 & C & 10 & 10 & A\\\\\n",
       "\t 1 & 15 & 15 & C & 11 & 11 & G\\\\\n",
       "\t 1 & 17 & 17 & G & 13 & 13 & A\\\\\n",
       "\t 1 & 18 & 18 & G & 14 & 14 & A\\\\\n",
       "\t 1 & 19 & 19 & C & 15 & 15 & A\\\\\n",
       "\t 1 & 20 & 20 & G & 16 & 16 & T\\\\\n",
       "\t 1 & 21 & 21 & G & 17 & 17 & A\\\\\n",
       "\t 1 & 24 & 24 & A & 20 & 20 & T\\\\\n",
       "\t 1 & 33 & 33 & A & 27 & 27 & C\\\\\n",
       "\t 1 & 34 & 34 & A & 28 & 28 & T\\\\\n",
       "\t 1 & 35 & 35 & G & 29 & 29 & A\\\\\n",
       "\t 1 & 36 & 36 & G & 30 & 30 & C\\\\\n",
       "\t 1 & 37 & 37 & A & 31 & 31 & T\\\\\n",
       "\t 1 & 38 & 38 & A & 32 & 32 & T\\\\\n",
       "\t 1 & 39 & 39 & A & 33 & 33 & C\\\\\n",
       "\\end{tabular}\n"
      ],
      "text/markdown": [
       "\n",
       "A data.frame: 20 × 7\n",
       "\n",
       "| PatternId &lt;int&gt; | PatternStart &lt;int&gt; | PatternEnd &lt;int&gt; | PatternSubstring &lt;chr&gt; | SubjectStart &lt;int&gt; | SubjectEnd &lt;int&gt; | SubjectSubstring &lt;chr&gt; |\n",
       "|---|---|---|---|---|---|---|\n",
       "| 1 |  1 |  1 | A |  1 |  1 | T |\n",
       "| 1 |  2 |  2 | C |  2 |  2 | T |\n",
       "| 1 |  9 |  9 | A |  5 |  5 | G |\n",
       "| 1 | 11 | 11 | C |  7 |  7 | G |\n",
       "| 1 | 13 | 13 | C |  9 |  9 | A |\n",
       "| 1 | 14 | 14 | C | 10 | 10 | A |\n",
       "| 1 | 15 | 15 | C | 11 | 11 | G |\n",
       "| 1 | 17 | 17 | G | 13 | 13 | A |\n",
       "| 1 | 18 | 18 | G | 14 | 14 | A |\n",
       "| 1 | 19 | 19 | C | 15 | 15 | A |\n",
       "| 1 | 20 | 20 | G | 16 | 16 | T |\n",
       "| 1 | 21 | 21 | G | 17 | 17 | A |\n",
       "| 1 | 24 | 24 | A | 20 | 20 | T |\n",
       "| 1 | 33 | 33 | A | 27 | 27 | C |\n",
       "| 1 | 34 | 34 | A | 28 | 28 | T |\n",
       "| 1 | 35 | 35 | G | 29 | 29 | A |\n",
       "| 1 | 36 | 36 | G | 30 | 30 | C |\n",
       "| 1 | 37 | 37 | A | 31 | 31 | T |\n",
       "| 1 | 38 | 38 | A | 32 | 32 | T |\n",
       "| 1 | 39 | 39 | A | 33 | 33 | C |\n",
       "\n"
      ],
      "text/plain": [
       "   PatternId PatternStart PatternEnd PatternSubstring SubjectStart SubjectEnd\n",
       "1  1          1            1         A                 1            1        \n",
       "2  1          2            2         C                 2            2        \n",
       "3  1          9            9         A                 5            5        \n",
       "4  1         11           11         C                 7            7        \n",
       "5  1         13           13         C                 9            9        \n",
       "6  1         14           14         C                10           10        \n",
       "7  1         15           15         C                11           11        \n",
       "8  1         17           17         G                13           13        \n",
       "9  1         18           18         G                14           14        \n",
       "10 1         19           19         C                15           15        \n",
       "11 1         20           20         G                16           16        \n",
       "12 1         21           21         G                17           17        \n",
       "13 1         24           24         A                20           20        \n",
       "14 1         33           33         A                27           27        \n",
       "15 1         34           34         A                28           28        \n",
       "16 1         35           35         G                29           29        \n",
       "17 1         36           36         G                30           30        \n",
       "18 1         37           37         A                31           31        \n",
       "19 1         38           38         A                32           32        \n",
       "20 1         39           39         A                33           33        \n",
       "   SubjectSubstring\n",
       "1  T               \n",
       "2  T               \n",
       "3  G               \n",
       "4  G               \n",
       "5  A               \n",
       "6  A               \n",
       "7  G               \n",
       "8  A               \n",
       "9  A               \n",
       "10 A               \n",
       "11 T               \n",
       "12 A               \n",
       "13 T               \n",
       "14 C               \n",
       "15 T               \n",
       "16 A               \n",
       "17 C               \n",
       "18 T               \n",
       "19 T               \n",
       "20 C               "
      ]
     },
     "metadata": {},
     "output_type": "display_data"
    },
    {
     "data": {
      "text/html": [
       "40"
      ],
      "text/latex": [
       "40"
      ],
      "text/markdown": [
       "40"
      ],
      "text/plain": [
       "[1] 40"
      ]
     },
     "metadata": {},
     "output_type": "display_data"
    },
    {
     "data": {
      "text/html": [
       "26"
      ],
      "text/latex": [
       "26"
      ],
      "text/markdown": [
       "26"
      ],
      "text/plain": [
       "[1] 26"
      ]
     },
     "metadata": {},
     "output_type": "display_data"
    },
    {
     "data": {
      "text/plain": [
       "An object of class \"InDel\"\n",
       "Slot \"insertion\":\n",
       "IRangesList object of length 1:\n",
       "[[1]]\n",
       "IRanges object with 2 ranges and 0 metadata columns:\n",
       "          start       end     width\n",
       "      <integer> <integer> <integer>\n",
       "  [1]         4         7         4\n",
       "  [2]        24        25         2\n",
       "\n",
       "\n",
       "Slot \"deletion\":\n",
       "IRangesList object of length 1:\n",
       "[[1]]\n",
       "IRanges object with 0 ranges and 0 metadata columns:\n",
       "       start       end     width\n",
       "   <integer> <integer> <integer>\n",
       "\n"
      ]
     },
     "metadata": {},
     "output_type": "display_data"
    },
    {
     "data": {
      "text/plain": [
       "IRangesList object of length 1:\n",
       "[[1]]\n",
       "IRanges object with 2 ranges and 0 metadata columns:\n",
       "          start       end     width\n",
       "      <integer> <integer> <integer>\n",
       "  [1]         4         7         4\n",
       "  [2]        24        25         2\n"
      ]
     },
     "metadata": {},
     "output_type": "display_data"
    },
    {
     "data": {
      "text/plain": [
       "An object of class \"InDel\"\n",
       "Slot \"insertion\":\n",
       "     Length WidthSum\n",
       "[1,]      2        6\n",
       "\n",
       "Slot \"deletion\":\n",
       "     Length WidthSum\n",
       "[1,]      0        0\n"
      ]
     },
     "metadata": {},
     "output_type": "display_data"
    },
    {
     "data": {
      "text/html": [
       "14"
      ],
      "text/latex": [
       "14"
      ],
      "text/markdown": [
       "14"
      ],
      "text/plain": [
       "[1] 14"
      ]
     },
     "metadata": {},
     "output_type": "display_data"
    },
    {
     "data": {
      "text/html": [
       "20"
      ],
      "text/latex": [
       "20"
      ],
      "text/markdown": [
       "20"
      ],
      "text/plain": [
       "[1] 20"
      ]
     },
     "metadata": {},
     "output_type": "display_data"
    },
    {
     "data": {
      "text/plain": [
       "[1] \u001b[47m\u001b[30mA\u001b[39m\u001b[49m\u001b[47m\u001b[30mC\u001b[39m\u001b[49m\u001b[47m\u001b[30mT\u001b[39m\u001b[49m\u001b[47m\u001b[30mT\u001b[39m\u001b[49m\u001b[47m\u001b[30mC\u001b[39m\u001b[49m\u001b[47m\u001b[30mA\u001b[39m\u001b[49m\u001b[47m\u001b[30mC\u001b[39m\u001b[49m\u001b[47m\u001b[30mC\u001b[39m\u001b[49m\u001b[47m\u001b[30mA\u001b[39m\u001b[49m\u001b[47m\u001b[30mG\u001b[39m\u001b[49m\u001b[47m\u001b[30mC\u001b[39m\u001b[49m\u001b[47m\u001b[30mT\u001b[39m\u001b[49m\u001b[47m\u001b[30mC\u001b[39m\u001b[49m\u001b[47m\u001b[30mC\u001b[39m\u001b[49m\u001b[47m\u001b[30mC\u001b[39m\u001b[49m\u001b[47m\u001b[30mT\u001b[39m\u001b[49m\u001b[47m\u001b[30mG\u001b[39m\u001b[49m\u001b[47m\u001b[30mG\u001b[39m\u001b[49m\u001b[47m\u001b[30mC\u001b[39m\u001b[49m\u001b[47m\u001b[30mG\u001b[39m\u001b[49m\u001b[47m\u001b[30mG\u001b[39m\u001b[49m\u001b[47m\u001b[30mT\u001b[39m\u001b[49m\u001b[47m\u001b[30mA\u001b[39m\u001b[49m\u001b[47m\u001b[30mA\u001b[39m\u001b[49m\u001b[47m\u001b[30mG\u001b[39m\u001b[49m\u001b[47m\u001b[30mT\u001b[39m\u001b[49m\u001b[47m\u001b[30mT\u001b[39m\u001b[49m\u001b[47m\u001b[30mG\u001b[39m\u001b[49m\u001b[47m\u001b[30mA\u001b[39m\u001b[49m\u001b[47m\u001b[30mT\u001b[39m\u001b[49m\u001b[47m\u001b[30mC\u001b[39m\u001b[49m\u001b[47m\u001b[30mA\u001b[39m\u001b[49m\u001b[47m\u001b[30mA\u001b[39m\u001b[49m\u001b[47m\u001b[30mA\u001b[39m\u001b[49m\u001b[47m\u001b[30mG\u001b[39m\u001b[49m\u001b[47m\u001b[30mG\u001b[39m\u001b[49m\u001b[47m\u001b[30mA\u001b[39m\u001b[49m\u001b[47m\u001b[30mA\u001b[39m\u001b[49m\u001b[47m\u001b[30mA\u001b[39m\u001b[49m\u001b[47m\u001b[30mC\u001b[39m\u001b[49m "
      ]
     },
     "metadata": {},
     "output_type": "display_data"
    },
    {
     "data": {
      "text/plain": [
       "[1] \u001b[47m\u001b[30mT\u001b[39m\u001b[49m\u001b[47m\u001b[30mT\u001b[39m\u001b[49m\u001b[47m\u001b[30mT\u001b[39m\u001b[49m----\u001b[47m\u001b[30mC\u001b[39m\u001b[49m\u001b[47m\u001b[30mG\u001b[39m\u001b[49m\u001b[47m\u001b[30mG\u001b[39m\u001b[49m\u001b[47m\u001b[30mG\u001b[39m\u001b[49m\u001b[47m\u001b[30mT\u001b[39m\u001b[49m\u001b[47m\u001b[30mA\u001b[39m\u001b[49m\u001b[47m\u001b[30mA\u001b[39m\u001b[49m\u001b[47m\u001b[30mG\u001b[39m\u001b[49m\u001b[47m\u001b[30mT\u001b[39m\u001b[49m\u001b[47m\u001b[30mA\u001b[39m\u001b[49m\u001b[47m\u001b[30mA\u001b[39m\u001b[49m\u001b[47m\u001b[30mA\u001b[39m\u001b[49m\u001b[47m\u001b[30mT\u001b[39m\u001b[49m\u001b[47m\u001b[30mA\u001b[39m\u001b[49m\u001b[47m\u001b[30mT\u001b[39m\u001b[49m\u001b[47m\u001b[30mA\u001b[39m\u001b[49m\u001b[47m\u001b[30mT\u001b[39m\u001b[49m\u001b[47m\u001b[30mG\u001b[39m\u001b[49m\u001b[47m\u001b[30mT\u001b[39m\u001b[49m\u001b[47m\u001b[30mT\u001b[39m\u001b[49m--\u001b[47m\u001b[30mT\u001b[39m\u001b[49m\u001b[47m\u001b[30mC\u001b[39m\u001b[49m\u001b[47m\u001b[30mA\u001b[39m\u001b[49m\u001b[47m\u001b[30mC\u001b[39m\u001b[49m\u001b[47m\u001b[30mT\u001b[39m\u001b[49m\u001b[47m\u001b[30mA\u001b[39m\u001b[49m\u001b[47m\u001b[30mC\u001b[39m\u001b[49m\u001b[47m\u001b[30mT\u001b[39m\u001b[49m\u001b[47m\u001b[30mT\u001b[39m\u001b[49m\u001b[47m\u001b[30mC\u001b[39m\u001b[49m\u001b[47m\u001b[30mC\u001b[39m\u001b[49m "
      ]
     },
     "metadata": {},
     "output_type": "display_data"
    },
    {
     "data": {
      "text/html": [
       "35"
      ],
      "text/latex": [
       "35"
      ],
      "text/markdown": [
       "35"
      ],
      "text/plain": [
       "[1] 35"
      ]
     },
     "metadata": {},
     "output_type": "display_data"
    },
    {
     "data": {
      "text/plain": [
       "Global PairwiseAlignmentsSingleSubject (1 of 1)\n",
       "pattern: \u001b[47m\u001b[30mA\u001b[39m\u001b[49m\u001b[47m\u001b[30mC\u001b[39m\u001b[49m\u001b[47m\u001b[30mT\u001b[39m\u001b[49m\u001b[47m\u001b[30mT\u001b[39m\u001b[49m\u001b[47m\u001b[30mC\u001b[39m\u001b[49m\u001b[47m\u001b[30mA\u001b[39m\u001b[49m\u001b[47m\u001b[30mC\u001b[39m\u001b[49m\u001b[47m\u001b[30mC\u001b[39m\u001b[49m\u001b[47m\u001b[30mA\u001b[39m\u001b[49m\u001b[47m\u001b[30mG\u001b[39m\u001b[49m\u001b[47m\u001b[30mC\u001b[39m\u001b[49m\u001b[47m\u001b[30mT\u001b[39m\u001b[49m\u001b[47m\u001b[30mC\u001b[39m\u001b[49m\u001b[47m\u001b[30mC\u001b[39m\u001b[49m\u001b[47m\u001b[30mC\u001b[39m\u001b[49m\u001b[47m\u001b[30mT\u001b[39m\u001b[49m\u001b[47m\u001b[30mG\u001b[39m\u001b[49m\u001b[47m\u001b[30mG\u001b[39m\u001b[49m\u001b[47m\u001b[30mC\u001b[39m\u001b[49m\u001b[47m\u001b[30mG\u001b[39m\u001b[49m\u001b[47m\u001b[30mG\u001b[39m\u001b[49m\u001b[47m\u001b[30mT\u001b[39m\u001b[49m\u001b[47m\u001b[30mA\u001b[39m\u001b[49m\u001b[47m\u001b[30mA\u001b[39m\u001b[49m\u001b[47m\u001b[30mG\u001b[39m\u001b[49m\u001b[47m\u001b[30mT\u001b[39m\u001b[49m\u001b[47m\u001b[30mT\u001b[39m\u001b[49m\u001b[47m\u001b[30mG\u001b[39m\u001b[49m\u001b[47m\u001b[30mA\u001b[39m\u001b[49m\u001b[47m\u001b[30mT\u001b[39m\u001b[49m\u001b[47m\u001b[30mC\u001b[39m\u001b[49m\u001b[47m\u001b[30mA\u001b[39m\u001b[49m\u001b[47m\u001b[30mA\u001b[39m\u001b[49m\u001b[47m\u001b[30mA\u001b[39m\u001b[49m\u001b[47m\u001b[30mG\u001b[39m\u001b[49m\u001b[47m\u001b[30mG\u001b[39m\u001b[49m\u001b[47m\u001b[30mA\u001b[39m\u001b[49m\u001b[47m\u001b[30mA\u001b[39m\u001b[49m\u001b[47m\u001b[30mA\u001b[39m\u001b[49m\u001b[47m\u001b[30mC\u001b[39m\u001b[49m------\n",
       "subject: \u001b[47m\u001b[30mT\u001b[39m\u001b[49m\u001b[47m\u001b[30mT\u001b[39m\u001b[49m\u001b[47m\u001b[30mT\u001b[39m\u001b[49m----\u001b[47m\u001b[30mC\u001b[39m\u001b[49m\u001b[47m\u001b[30mG\u001b[39m\u001b[49m\u001b[47m\u001b[30mG\u001b[39m\u001b[49m\u001b[47m\u001b[30mG\u001b[39m\u001b[49m\u001b[47m\u001b[30mT\u001b[39m\u001b[49m\u001b[47m\u001b[30mA\u001b[39m\u001b[49m\u001b[47m\u001b[30mA\u001b[39m\u001b[49m\u001b[47m\u001b[30mG\u001b[39m\u001b[49m\u001b[47m\u001b[30mT\u001b[39m\u001b[49m\u001b[47m\u001b[30mA\u001b[39m\u001b[49m\u001b[47m\u001b[30mA\u001b[39m\u001b[49m\u001b[47m\u001b[30mA\u001b[39m\u001b[49m\u001b[47m\u001b[30mT\u001b[39m\u001b[49m\u001b[47m\u001b[30mA\u001b[39m\u001b[49m\u001b[47m\u001b[30mT\u001b[39m\u001b[49m\u001b[47m\u001b[30mA\u001b[39m\u001b[49m\u001b[47m\u001b[30mT\u001b[39m\u001b[49m\u001b[47m\u001b[30mG\u001b[39m\u001b[49m\u001b[47m\u001b[30mT\u001b[39m\u001b[49m\u001b[47m\u001b[30mT\u001b[39m\u001b[49m--\u001b[47m\u001b[30mT\u001b[39m\u001b[49m\u001b[47m\u001b[30mC\u001b[39m\u001b[49m\u001b[47m\u001b[30mA\u001b[39m\u001b[49m\u001b[47m\u001b[30mC\u001b[39m\u001b[49m\u001b[47m\u001b[30mT\u001b[39m\u001b[49m\u001b[47m\u001b[30mA\u001b[39m\u001b[49m\u001b[47m\u001b[30mC\u001b[39m\u001b[49m\u001b[47m\u001b[30mT\u001b[39m\u001b[49m\u001b[47m\u001b[30mT\u001b[39m\u001b[49m\u001b[47m\u001b[30mC\u001b[39m\u001b[49m\u001b[47m\u001b[30mC\u001b[39m\u001b[49m\u001b[47m\u001b[30mT\u001b[39m\u001b[49m\u001b[47m\u001b[30mT\u001b[39m\u001b[49m\u001b[47m\u001b[30mT\u001b[39m\u001b[49m\u001b[47m\u001b[30mC\u001b[39m\u001b[49m\u001b[47m\u001b[30mG\u001b[39m\u001b[49m\u001b[47m\u001b[30mG\u001b[39m\u001b[49m\n",
       "score: -85 "
      ]
     },
     "metadata": {},
     "output_type": "display_data"
    },
    {
     "data": {
      "text/html": [
       "-85"
      ],
      "text/latex": [
       "-85"
      ],
      "text/markdown": [
       "-85"
      ],
      "text/plain": [
       "[1] -85"
      ]
     },
     "metadata": {},
     "output_type": "display_data"
    },
    {
     "data": {
      "text/html": [
       "'global'"
      ],
      "text/latex": [
       "'global'"
      ],
      "text/markdown": [
       "'global'"
      ],
      "text/plain": [
       "[1] \"global\""
      ]
     },
     "metadata": {},
     "output_type": "display_data"
    }
   ],
   "source": [
    "# Other alignment related functions\n",
    "\n",
    "alphabet(globalAlign) # show characters of alignment sequences\n",
    "compareStrings(globalAlign) # compare strings of sequences\n",
    "deletion(globalAlign)\n",
    "mismatchTable(globalAlign)\n",
    "nchar(globalAlign)\n",
    "nedit(globalAlign)\n",
    "indel(globalAlign)\n",
    "insertion(globalAlign)\n",
    "nindel(globalAlign)\n",
    "nmatch(globalAlign)\n",
    "nmismatch(globalAlign) \n",
    "pattern(globalAlign) # show only pattern sequence\n",
    "subject(globalAlign) # show only subject sequence\n",
    "pid(globalAlign)\n",
    "rep(globalAlign)\n",
    "score(globalAlign) # alignment score\n",
    "type(globalAlign) # alignment type"
   ]
  },
  {
   "cell_type": "markdown",
   "id": "4ab7f65d",
   "metadata": {
    "papermill": {
     "duration": 0.432519,
     "end_time": "2022-08-02T17:16:54.243446",
     "exception": false,
     "start_time": "2022-08-02T17:16:53.810927",
     "status": "completed"
    },
    "tags": []
   },
   "source": [
    "<div style=\"color:white;display:fill;border-radius:8px;\n",
    "            background-color:#323232;font-size:150%;\n",
    "            font-family:Nexa;letter-spacing:0.5px\">\n",
    "    <p style=\"padding: 8px;color:white;\"><b>2.4 | SEQUENCE ALIGNMENT APPLICATION</b></p>\n",
    "</div>\n",
    "\n",
    "### **<span style='color:#6846D5'>REMOVING ADAPTERS FROM SEQUENCE READINGS</span>**\n",
    "- An interesting **<mark style=\"background-color:#6846D5;color:white;border-radius:5px;opacity:0.9\">PSA</mark>** example was shown in the **[Pairwise Sequence Reference](https://www.bioconductor.org/packages/devel/bioc/vignettes/Biostrings/inst/doc/PairwiseAlignments.pdf)** & is related to experimentally processed DNA sequences\n",
    "\n",
    "**[Trimming adapter sequences - is it necessary?](https://www.ecseq.com/support/ngs/trimming-adapter-sequences-is-it-necessary)**\n",
    "\n",
    "> Removal of adapter sequences in a process called read trimming, or clipping, is one of the first steps in analyzing NGS data. With more than 30 published adapter trimming tools there is a more than large choice for the appropriate tool. Yet, there is a debate whether this step really is as important as the number of tools suggests, or whether it is possible to skip this time-consuming step for many NGS applications.\n",
    "\n",
    "- Finding and removing uninteresting **<span style='color:#6846D5'>experiment process-related fragments</span>** like **<span style='color:#6846D5'>adapters</span>** is a common problem in **<span style='color:#6846D5'>genetic sequencing</span>**\n",
    "- **<span style='color:#6846D5'>Pairwise Sequence Alignment</span>** is well suited to address this sort of issue, as this problem relates to **<span style='color:#6846D5'>sequence similarity</span>**\n",
    "- When adapters are used to anchor or extend a sequence during the experiment process, they either <b>intentionally or unintentionally</b> **<span style='color:#6846D5'>become sequenced</span>** during the read process & thus are present in the sequence"
   ]
  },
  {
   "cell_type": "code",
   "execution_count": 45,
   "id": "cae41383",
   "metadata": {
    "_kg_hide-input": true,
    "execution": {
     "iopub.execute_input": "2022-08-02T17:16:55.111586Z",
     "iopub.status.busy": "2022-08-02T17:16:55.110556Z",
     "iopub.status.idle": "2022-08-02T17:16:55.126455Z",
     "shell.execute_reply": "2022-08-02T17:16:55.124743Z"
    },
    "papermill": {
     "duration": 0.45748,
     "end_time": "2022-08-02T17:16:55.126636",
     "exception": false,
     "start_time": "2022-08-02T17:16:54.669156",
     "status": "completed"
    },
    "tags": []
   },
   "outputs": [],
   "source": [
    "# ''' Function to Generate DNA sequences /w these fragments '''\n",
    "# The following code simulates what sequences with adapter fragments at either end could look like during an experiment\n",
    "# https://www.bioconductor.org/packages/devel/bioc/vignettes/Biostrings/inst/doc/PairwiseAlignments.pdf\n",
    "\n",
    "simulateReads <-\n",
    "function(N, adapter, experiment, substitutionRate = 0.01, gapRate = 0.001) {\n",
    "    \n",
    "    chars <- strsplit(as.character(adapter), \"\")[[1]]\n",
    "    sapply(seq_len(N), function(i, experiment, substitutionRate, gapRate) {\n",
    "        \n",
    "        width <- experiment[[\"width\"]][i]\n",
    "        side <- experiment[[\"side\"]][i]\n",
    "        randomLetters <- function(n) sample(DNA_ALPHABET[1:4], n, replace = TRUE)\n",
    "        \n",
    "        randomLettersWithEmpty <- function(n) \n",
    "            sample(c(\"\", DNA_ALPHABET[1:4]), n, replace = TRUE,\n",
    "                   prob = c(1 - gapRate, rep(gapRate/4, 4)))\n",
    "        \n",
    "        nChars <- length(chars)\n",
    "        value <- paste(ifelse(rbinom(nChars,1,substitutionRate), \n",
    "                              randomLetters(nChars), chars),\n",
    "                       randomLettersWithEmpty(nChars),sep = \"\", collapse = \"\")\n",
    "        if (side) \n",
    "            value <- paste(c(randomLetters(36 - width), \n",
    "                             substring(value, 1, width)),\n",
    "                           sep = \"\", collapse = \"\")\n",
    "        else\n",
    "            value <- paste(c(substring(value, 37 - width, 36), \n",
    "                             randomLetters(36 - width)),\n",
    "                           sep = \"\", collapse = \"\") \n",
    "        value }, experiment = experiment, substitutionRate = substitutionRate, gapRate = gapRate)\n",
    "}"
   ]
  },
  {
   "cell_type": "markdown",
   "id": "26ed031c",
   "metadata": {
    "papermill": {
     "duration": 0.462635,
     "end_time": "2022-08-02T17:16:56.043384",
     "exception": false,
     "start_time": "2022-08-02T17:16:55.580749",
     "status": "completed"
    },
    "tags": []
   },
   "source": [
    "- Define some adapter strings **<mark style=\"background-color:#6846D5;color:white;border-radius:5px;opacity:0.9\">adapterStrings</mark>**\n",
    "- strings have 0-36 characters from the adapters attached to each end"
   ]
  },
  {
   "cell_type": "code",
   "execution_count": 46,
   "id": "405a9bd0",
   "metadata": {
    "execution": {
     "iopub.execute_input": "2022-08-02T17:16:56.929781Z",
     "iopub.status.busy": "2022-08-02T17:16:56.927738Z",
     "iopub.status.idle": "2022-08-02T17:16:56.965044Z",
     "shell.execute_reply": "2022-08-02T17:16:56.963304Z"
    },
    "papermill": {
     "duration": 0.471126,
     "end_time": "2022-08-02T17:16:56.965217",
     "exception": false,
     "start_time": "2022-08-02T17:16:56.494091",
     "status": "completed"
    },
    "tags": []
   },
   "outputs": [
    {
     "data": {
      "text/html": [
       "<style>\n",
       ".list-inline {list-style: none; margin:0; padding: 0}\n",
       ".list-inline>li {display: inline-block}\n",
       ".list-inline>li:not(:last-child)::after {content: \"\\00b7\"; padding: 0 .5ex}\n",
       "</style>\n",
       "<ol class=list-inline><li>'A'</li><li>'C'</li><li>'G'</li><li>'T'</li><li>'M'</li><li>'R'</li><li>'W'</li><li>'S'</li><li>'Y'</li><li>'K'</li><li>'V'</li><li>'H'</li><li>'D'</li><li>'B'</li><li>'N'</li><li>'-'</li><li>'+'</li><li>'.'</li></ol>\n"
      ],
      "text/latex": [
       "\\begin{enumerate*}\n",
       "\\item 'A'\n",
       "\\item 'C'\n",
       "\\item 'G'\n",
       "\\item 'T'\n",
       "\\item 'M'\n",
       "\\item 'R'\n",
       "\\item 'W'\n",
       "\\item 'S'\n",
       "\\item 'Y'\n",
       "\\item 'K'\n",
       "\\item 'V'\n",
       "\\item 'H'\n",
       "\\item 'D'\n",
       "\\item 'B'\n",
       "\\item 'N'\n",
       "\\item '-'\n",
       "\\item '+'\n",
       "\\item '.'\n",
       "\\end{enumerate*}\n"
      ],
      "text/markdown": [
       "1. 'A'\n",
       "2. 'C'\n",
       "3. 'G'\n",
       "4. 'T'\n",
       "5. 'M'\n",
       "6. 'R'\n",
       "7. 'W'\n",
       "8. 'S'\n",
       "9. 'Y'\n",
       "10. 'K'\n",
       "11. 'V'\n",
       "12. 'H'\n",
       "13. 'D'\n",
       "14. 'B'\n",
       "15. 'N'\n",
       "16. '-'\n",
       "17. '+'\n",
       "18. '.'\n",
       "\n",
       "\n"
      ],
      "text/plain": [
       " [1] \"A\" \"C\" \"G\" \"T\" \"M\" \"R\" \"W\" \"S\" \"Y\" \"K\" \"V\" \"H\" \"D\" \"B\" \"N\" \"-\" \"+\" \".\""
      ]
     },
     "metadata": {},
     "output_type": "display_data"
    },
    {
     "data": {
      "text/plain": [
       "36-letter DNAString object\n",
       "seq: \u001b[47m\u001b[30mG\u001b[39m\u001b[49m\u001b[47m\u001b[30mA\u001b[39m\u001b[49m\u001b[47m\u001b[30mT\u001b[39m\u001b[49m\u001b[47m\u001b[30mC\u001b[39m\u001b[49m\u001b[47m\u001b[30mG\u001b[39m\u001b[49m\u001b[47m\u001b[30mG\u001b[39m\u001b[49m\u001b[47m\u001b[30mA\u001b[39m\u001b[49m\u001b[47m\u001b[30mA\u001b[39m\u001b[49m\u001b[47m\u001b[30mG\u001b[39m\u001b[49m\u001b[47m\u001b[30mA\u001b[39m\u001b[49m\u001b[47m\u001b[30mG\u001b[39m\u001b[49m\u001b[47m\u001b[30mC\u001b[39m\u001b[49m\u001b[47m\u001b[30mT\u001b[39m\u001b[49m\u001b[47m\u001b[30mC\u001b[39m\u001b[49m\u001b[47m\u001b[30mG\u001b[39m\u001b[49m\u001b[47m\u001b[30mT\u001b[39m\u001b[49m\u001b[47m\u001b[30mA\u001b[39m\u001b[49m\u001b[47m\u001b[30mT\u001b[39m\u001b[49m\u001b[47m\u001b[30mG\u001b[39m\u001b[49m\u001b[47m\u001b[30mC\u001b[39m\u001b[49m\u001b[47m\u001b[30mC\u001b[39m\u001b[49m\u001b[47m\u001b[30mG\u001b[39m\u001b[49m\u001b[47m\u001b[30mT\u001b[39m\u001b[49m\u001b[47m\u001b[30mC\u001b[39m\u001b[49m\u001b[47m\u001b[30mT\u001b[39m\u001b[49m\u001b[47m\u001b[30mT\u001b[39m\u001b[49m\u001b[47m\u001b[30mC\u001b[39m\u001b[49m\u001b[47m\u001b[30mT\u001b[39m\u001b[49m\u001b[47m\u001b[30mG\u001b[39m\u001b[49m\u001b[47m\u001b[30mC\u001b[39m\u001b[49m\u001b[47m\u001b[30mT\u001b[39m\u001b[49m\u001b[47m\u001b[30mT\u001b[39m\u001b[49m\u001b[47m\u001b[30mG\u001b[39m\u001b[49m\u001b[47m\u001b[30mA\u001b[39m\u001b[49m\u001b[47m\u001b[30mA\u001b[39m\u001b[49m\u001b[47m\u001b[30mA\u001b[39m\u001b[49m"
      ]
     },
     "metadata": {},
     "output_type": "display_data"
    }
   ],
   "source": [
    "DNA_ALPHABET # show full nucleotide alphabet\n",
    "N <- 1000 # number of desired sequences\n",
    "\n",
    "# strings have 0-36 characters from the adapters attached to each end\n",
    "adapter <- DNAString(\"GATCGGAAGAGCTCGTATGCCGTCTTCTGCTTGAAA\")\n",
    "adapter\n",
    "\n",
    "set.seed(123)\n",
    "# used for function input\n",
    "experiment <- list(side = rbinom(N,1,0.5),\n",
    "                   width = sample(0:36,N,replace = TRUE))"
   ]
  },
  {
   "cell_type": "code",
   "execution_count": 47,
   "id": "fa803ee3",
   "metadata": {
    "execution": {
     "iopub.execute_input": "2022-08-02T17:16:57.854856Z",
     "iopub.status.busy": "2022-08-02T17:16:57.852505Z",
     "iopub.status.idle": "2022-08-02T17:16:58.291054Z",
     "shell.execute_reply": "2022-08-02T17:16:58.289240Z"
    },
    "papermill": {
     "duration": 0.892026,
     "end_time": "2022-08-02T17:16:58.291223",
     "exception": false,
     "start_time": "2022-08-02T17:16:57.399197",
     "status": "completed"
    },
    "tags": []
   },
   "outputs": [
    {
     "data": {
      "text/plain": [
       "DNAStringSet object of length 1000:\n",
       "       width seq\n",
       "   [1]    36 \u001b[47m\u001b[30mT\u001b[39m\u001b[49m\u001b[47m\u001b[30mT\u001b[39m\u001b[49m\u001b[47m\u001b[30mC\u001b[39m\u001b[49m\u001b[47m\u001b[30mT\u001b[39m\u001b[49m\u001b[47m\u001b[30mG\u001b[39m\u001b[49m\u001b[47m\u001b[30mC\u001b[39m\u001b[49m\u001b[47m\u001b[30mT\u001b[39m\u001b[49m\u001b[47m\u001b[30mT\u001b[39m\u001b[49m\u001b[47m\u001b[30mG\u001b[39m\u001b[49m\u001b[47m\u001b[30mA\u001b[39m\u001b[49m\u001b[47m\u001b[30mA\u001b[39m\u001b[49m\u001b[47m\u001b[30mA\u001b[39m\u001b[49m\u001b[47m\u001b[30mG\u001b[39m\u001b[49m\u001b[47m\u001b[30mT\u001b[39m\u001b[49m\u001b[47m\u001b[30mT\u001b[39m\u001b[49m\u001b[47m\u001b[30mC\u001b[39m\u001b[49m\u001b[47m\u001b[30mG\u001b[39m\u001b[49m\u001b[47m\u001b[30mC\u001b[39m\u001b[49m\u001b[47m\u001b[30mG\u001b[39m\u001b[49m\u001b[47m\u001b[30mA\u001b[39m\u001b[49m\u001b[47m\u001b[30mG\u001b[39m\u001b[49m\u001b[47m\u001b[30mA\u001b[39m\u001b[49m\u001b[47m\u001b[30mA\u001b[39m\u001b[49m\u001b[47m\u001b[30mC\u001b[39m\u001b[49m\u001b[47m\u001b[30mA\u001b[39m\u001b[49m\u001b[47m\u001b[30mA\u001b[39m\u001b[49m\u001b[47m\u001b[30mC\u001b[39m\u001b[49m\u001b[47m\u001b[30mT\u001b[39m\u001b[49m\u001b[47m\u001b[30mA\u001b[39m\u001b[49m\u001b[47m\u001b[30mG\u001b[39m\u001b[49m\u001b[47m\u001b[30mT\u001b[39m\u001b[49m\u001b[47m\u001b[30mC\u001b[39m\u001b[49m\u001b[47m\u001b[30mC\u001b[39m\u001b[49m\u001b[47m\u001b[30mG\u001b[39m\u001b[49m\u001b[47m\u001b[30mC\u001b[39m\u001b[49m\u001b[47m\u001b[30mA\u001b[39m\u001b[49m\n",
       "   [2]    36 \u001b[47m\u001b[30mA\u001b[39m\u001b[49m\u001b[47m\u001b[30mT\u001b[39m\u001b[49m\u001b[47m\u001b[30mA\u001b[39m\u001b[49m\u001b[47m\u001b[30mA\u001b[39m\u001b[49m\u001b[47m\u001b[30mC\u001b[39m\u001b[49m\u001b[47m\u001b[30mT\u001b[39m\u001b[49m\u001b[47m\u001b[30mA\u001b[39m\u001b[49m\u001b[47m\u001b[30mC\u001b[39m\u001b[49m\u001b[47m\u001b[30mA\u001b[39m\u001b[49m\u001b[47m\u001b[30mC\u001b[39m\u001b[49m\u001b[47m\u001b[30mT\u001b[39m\u001b[49m\u001b[47m\u001b[30mG\u001b[39m\u001b[49m\u001b[47m\u001b[30mG\u001b[39m\u001b[49m\u001b[47m\u001b[30mG\u001b[39m\u001b[49m\u001b[47m\u001b[30mT\u001b[39m\u001b[49m\u001b[47m\u001b[30mA\u001b[39m\u001b[49m\u001b[47m\u001b[30mA\u001b[39m\u001b[49m\u001b[47m\u001b[30mC\u001b[39m\u001b[49m\u001b[47m\u001b[30mA\u001b[39m\u001b[49m\u001b[47m\u001b[30mC\u001b[39m\u001b[49m\u001b[47m\u001b[30mA\u001b[39m\u001b[49m\u001b[47m\u001b[30mA\u001b[39m\u001b[49m\u001b[47m\u001b[30mA\u001b[39m\u001b[49m\u001b[47m\u001b[30mC\u001b[39m\u001b[49m\u001b[47m\u001b[30mC\u001b[39m\u001b[49m\u001b[47m\u001b[30mT\u001b[39m\u001b[49m\u001b[47m\u001b[30mT\u001b[39m\u001b[49m\u001b[47m\u001b[30mT\u001b[39m\u001b[49m\u001b[47m\u001b[30mG\u001b[39m\u001b[49m\u001b[47m\u001b[30mG\u001b[39m\u001b[49m\u001b[47m\u001b[30mA\u001b[39m\u001b[49m\u001b[47m\u001b[30mT\u001b[39m\u001b[49m\u001b[47m\u001b[30mC\u001b[39m\u001b[49m\u001b[47m\u001b[30mG\u001b[39m\u001b[49m\u001b[47m\u001b[30mG\u001b[39m\u001b[49m\u001b[47m\u001b[30mA\u001b[39m\u001b[49m\n",
       "   [3]    36 \u001b[47m\u001b[30mA\u001b[39m\u001b[49m\u001b[47m\u001b[30mA\u001b[39m\u001b[49m\u001b[47m\u001b[30mG\u001b[39m\u001b[49m\u001b[47m\u001b[30mT\u001b[39m\u001b[49m\u001b[47m\u001b[30mG\u001b[39m\u001b[49m\u001b[47m\u001b[30mC\u001b[39m\u001b[49m\u001b[47m\u001b[30mG\u001b[39m\u001b[49m\u001b[47m\u001b[30mG\u001b[39m\u001b[49m\u001b[47m\u001b[30mT\u001b[39m\u001b[49m\u001b[47m\u001b[30mA\u001b[39m\u001b[49m\u001b[47m\u001b[30mG\u001b[39m\u001b[49m\u001b[47m\u001b[30mA\u001b[39m\u001b[49m\u001b[47m\u001b[30mT\u001b[39m\u001b[49m\u001b[47m\u001b[30mG\u001b[39m\u001b[49m\u001b[47m\u001b[30mC\u001b[39m\u001b[49m\u001b[47m\u001b[30mT\u001b[39m\u001b[49m\u001b[47m\u001b[30mC\u001b[39m\u001b[49m\u001b[47m\u001b[30mT\u001b[39m\u001b[49m\u001b[47m\u001b[30mG\u001b[39m\u001b[49m\u001b[47m\u001b[30mA\u001b[39m\u001b[49m\u001b[47m\u001b[30mA\u001b[39m\u001b[49m\u001b[47m\u001b[30mT\u001b[39m\u001b[49m\u001b[47m\u001b[30mG\u001b[39m\u001b[49m\u001b[47m\u001b[30mC\u001b[39m\u001b[49m\u001b[47m\u001b[30mT\u001b[39m\u001b[49m\u001b[47m\u001b[30mA\u001b[39m\u001b[49m\u001b[47m\u001b[30mG\u001b[39m\u001b[49m\u001b[47m\u001b[30mC\u001b[39m\u001b[49m\u001b[47m\u001b[30mC\u001b[39m\u001b[49m\u001b[47m\u001b[30mC\u001b[39m\u001b[49m\u001b[47m\u001b[30mG\u001b[39m\u001b[49m\u001b[47m\u001b[30mT\u001b[39m\u001b[49m\u001b[47m\u001b[30mC\u001b[39m\u001b[49m\u001b[47m\u001b[30mG\u001b[39m\u001b[49m\u001b[47m\u001b[30mC\u001b[39m\u001b[49m\u001b[47m\u001b[30mA\u001b[39m\u001b[49m\n",
       "   [4]    36 \u001b[47m\u001b[30mT\u001b[39m\u001b[49m\u001b[47m\u001b[30mG\u001b[39m\u001b[49m\u001b[47m\u001b[30mG\u001b[39m\u001b[49m\u001b[47m\u001b[30mA\u001b[39m\u001b[49m\u001b[47m\u001b[30mC\u001b[39m\u001b[49m\u001b[47m\u001b[30mG\u001b[39m\u001b[49m\u001b[47m\u001b[30mT\u001b[39m\u001b[49m\u001b[47m\u001b[30mG\u001b[39m\u001b[49m\u001b[47m\u001b[30mC\u001b[39m\u001b[49m\u001b[47m\u001b[30mG\u001b[39m\u001b[49m\u001b[47m\u001b[30mA\u001b[39m\u001b[49m\u001b[47m\u001b[30mA\u001b[39m\u001b[49m\u001b[47m\u001b[30mT\u001b[39m\u001b[49m\u001b[47m\u001b[30mG\u001b[39m\u001b[49m\u001b[47m\u001b[30mC\u001b[39m\u001b[49m\u001b[47m\u001b[30mC\u001b[39m\u001b[49m\u001b[47m\u001b[30mA\u001b[39m\u001b[49m\u001b[47m\u001b[30mA\u001b[39m\u001b[49m\u001b[47m\u001b[30mA\u001b[39m\u001b[49m\u001b[47m\u001b[30mT\u001b[39m\u001b[49m\u001b[47m\u001b[30mT\u001b[39m\u001b[49m\u001b[47m\u001b[30mG\u001b[39m\u001b[49m\u001b[47m\u001b[30mT\u001b[39m\u001b[49m\u001b[47m\u001b[30mA\u001b[39m\u001b[49m\u001b[47m\u001b[30mA\u001b[39m\u001b[49m\u001b[47m\u001b[30mG\u001b[39m\u001b[49m\u001b[47m\u001b[30mC\u001b[39m\u001b[49m\u001b[47m\u001b[30mG\u001b[39m\u001b[49m\u001b[47m\u001b[30mC\u001b[39m\u001b[49m\u001b[47m\u001b[30mG\u001b[39m\u001b[49m\u001b[47m\u001b[30mG\u001b[39m\u001b[49m\u001b[47m\u001b[30mG\u001b[39m\u001b[49m\u001b[47m\u001b[30mA\u001b[39m\u001b[49m\u001b[47m\u001b[30mT\u001b[39m\u001b[49m\u001b[47m\u001b[30mC\u001b[39m\u001b[49m\u001b[47m\u001b[30mG\u001b[39m\u001b[49m\n",
       "   [5]    36 \u001b[47m\u001b[30mA\u001b[39m\u001b[49m\u001b[47m\u001b[30mC\u001b[39m\u001b[49m\u001b[47m\u001b[30mC\u001b[39m\u001b[49m\u001b[47m\u001b[30mT\u001b[39m\u001b[49m\u001b[47m\u001b[30mG\u001b[39m\u001b[49m\u001b[47m\u001b[30mC\u001b[39m\u001b[49m\u001b[47m\u001b[30mA\u001b[39m\u001b[49m\u001b[47m\u001b[30mG\u001b[39m\u001b[49m\u001b[47m\u001b[30mA\u001b[39m\u001b[49m\u001b[47m\u001b[30mG\u001b[39m\u001b[49m\u001b[47m\u001b[30mT\u001b[39m\u001b[49m\u001b[47m\u001b[30mA\u001b[39m\u001b[49m\u001b[47m\u001b[30mC\u001b[39m\u001b[49m\u001b[47m\u001b[30mG\u001b[39m\u001b[49m\u001b[47m\u001b[30mG\u001b[39m\u001b[49m\u001b[47m\u001b[30mA\u001b[39m\u001b[49m\u001b[47m\u001b[30mT\u001b[39m\u001b[49m\u001b[47m\u001b[30mC\u001b[39m\u001b[49m\u001b[47m\u001b[30mG\u001b[39m\u001b[49m\u001b[47m\u001b[30mG\u001b[39m\u001b[49m\u001b[47m\u001b[30mA\u001b[39m\u001b[49m\u001b[47m\u001b[30mA\u001b[39m\u001b[49m\u001b[47m\u001b[30mG\u001b[39m\u001b[49m\u001b[47m\u001b[30mA\u001b[39m\u001b[49m\u001b[47m\u001b[30mG\u001b[39m\u001b[49m\u001b[47m\u001b[30mC\u001b[39m\u001b[49m\u001b[47m\u001b[30mT\u001b[39m\u001b[49m\u001b[47m\u001b[30mC\u001b[39m\u001b[49m\u001b[47m\u001b[30mG\u001b[39m\u001b[49m\u001b[47m\u001b[30mT\u001b[39m\u001b[49m\u001b[47m\u001b[30mA\u001b[39m\u001b[49m\u001b[47m\u001b[30mT\u001b[39m\u001b[49m\u001b[47m\u001b[30mG\u001b[39m\u001b[49m\u001b[47m\u001b[30mC\u001b[39m\u001b[49m\u001b[47m\u001b[30mC\u001b[39m\u001b[49m\u001b[47m\u001b[30mG\u001b[39m\u001b[49m\n",
       "   ...   ... ...\n",
       " [996]    36 \u001b[47m\u001b[30mT\u001b[39m\u001b[49m\u001b[47m\u001b[30mC\u001b[39m\u001b[49m\u001b[47m\u001b[30mC\u001b[39m\u001b[49m\u001b[47m\u001b[30mC\u001b[39m\u001b[49m\u001b[47m\u001b[30mT\u001b[39m\u001b[49m\u001b[47m\u001b[30mG\u001b[39m\u001b[49m\u001b[47m\u001b[30mA\u001b[39m\u001b[49m\u001b[47m\u001b[30mC\u001b[39m\u001b[49m\u001b[47m\u001b[30mA\u001b[39m\u001b[49m\u001b[47m\u001b[30mC\u001b[39m\u001b[49m\u001b[47m\u001b[30mG\u001b[39m\u001b[49m\u001b[47m\u001b[30mA\u001b[39m\u001b[49m\u001b[47m\u001b[30mT\u001b[39m\u001b[49m\u001b[47m\u001b[30mA\u001b[39m\u001b[49m\u001b[47m\u001b[30mG\u001b[39m\u001b[49m\u001b[47m\u001b[30mA\u001b[39m\u001b[49m\u001b[47m\u001b[30mT\u001b[39m\u001b[49m\u001b[47m\u001b[30mA\u001b[39m\u001b[49m\u001b[47m\u001b[30mA\u001b[39m\u001b[49m\u001b[47m\u001b[30mC\u001b[39m\u001b[49m\u001b[47m\u001b[30mT\u001b[39m\u001b[49m\u001b[47m\u001b[30mC\u001b[39m\u001b[49m\u001b[47m\u001b[30mA\u001b[39m\u001b[49m\u001b[47m\u001b[30mT\u001b[39m\u001b[49m\u001b[47m\u001b[30mT\u001b[39m\u001b[49m\u001b[47m\u001b[30mA\u001b[39m\u001b[49m\u001b[47m\u001b[30mG\u001b[39m\u001b[49m\u001b[47m\u001b[30mA\u001b[39m\u001b[49m\u001b[47m\u001b[30mT\u001b[39m\u001b[49m\u001b[47m\u001b[30mT\u001b[39m\u001b[49m\u001b[47m\u001b[30mG\u001b[39m\u001b[49m\u001b[47m\u001b[30mG\u001b[39m\u001b[49m\u001b[47m\u001b[30mA\u001b[39m\u001b[49m\u001b[47m\u001b[30mT\u001b[39m\u001b[49m\u001b[47m\u001b[30mC\u001b[39m\u001b[49m\u001b[47m\u001b[30mG\u001b[39m\u001b[49m\n",
       " [997]    36 \u001b[47m\u001b[30mT\u001b[39m\u001b[49m\u001b[47m\u001b[30mC\u001b[39m\u001b[49m\u001b[47m\u001b[30mA\u001b[39m\u001b[49m\u001b[47m\u001b[30mG\u001b[39m\u001b[49m\u001b[47m\u001b[30mG\u001b[39m\u001b[49m\u001b[47m\u001b[30mT\u001b[39m\u001b[49m\u001b[47m\u001b[30mG\u001b[39m\u001b[49m\u001b[47m\u001b[30mA\u001b[39m\u001b[49m\u001b[47m\u001b[30mT\u001b[39m\u001b[49m\u001b[47m\u001b[30mG\u001b[39m\u001b[49m\u001b[47m\u001b[30mA\u001b[39m\u001b[49m\u001b[47m\u001b[30mA\u001b[39m\u001b[49m\u001b[47m\u001b[30mA\u001b[39m\u001b[49m\u001b[47m\u001b[30mG\u001b[39m\u001b[49m\u001b[47m\u001b[30mC\u001b[39m\u001b[49m\u001b[47m\u001b[30mA\u001b[39m\u001b[49m\u001b[47m\u001b[30mT\u001b[39m\u001b[49m\u001b[47m\u001b[30mC\u001b[39m\u001b[49m\u001b[47m\u001b[30mT\u001b[39m\u001b[49m\u001b[47m\u001b[30mT\u001b[39m\u001b[49m\u001b[47m\u001b[30mT\u001b[39m\u001b[49m\u001b[47m\u001b[30mG\u001b[39m\u001b[49m\u001b[47m\u001b[30mG\u001b[39m\u001b[49m\u001b[47m\u001b[30mA\u001b[39m\u001b[49m\u001b[47m\u001b[30mT\u001b[39m\u001b[49m\u001b[47m\u001b[30mC\u001b[39m\u001b[49m\u001b[47m\u001b[30mG\u001b[39m\u001b[49m\u001b[47m\u001b[30mG\u001b[39m\u001b[49m\u001b[47m\u001b[30mA\u001b[39m\u001b[49m\u001b[47m\u001b[30mA\u001b[39m\u001b[49m\u001b[47m\u001b[30mG\u001b[39m\u001b[49m\u001b[47m\u001b[30mA\u001b[39m\u001b[49m\u001b[47m\u001b[30mG\u001b[39m\u001b[49m\u001b[47m\u001b[30mC\u001b[39m\u001b[49m\u001b[47m\u001b[30mT\u001b[39m\u001b[49m\u001b[47m\u001b[30mC\u001b[39m\u001b[49m\n",
       " [998]    36 \u001b[47m\u001b[30mC\u001b[39m\u001b[49m\u001b[47m\u001b[30mG\u001b[39m\u001b[49m\u001b[47m\u001b[30mG\u001b[39m\u001b[49m\u001b[47m\u001b[30mA\u001b[39m\u001b[49m\u001b[47m\u001b[30mA\u001b[39m\u001b[49m\u001b[47m\u001b[30mG\u001b[39m\u001b[49m\u001b[47m\u001b[30mA\u001b[39m\u001b[49m\u001b[47m\u001b[30mG\u001b[39m\u001b[49m\u001b[47m\u001b[30mC\u001b[39m\u001b[49m\u001b[47m\u001b[30mT\u001b[39m\u001b[49m\u001b[47m\u001b[30mC\u001b[39m\u001b[49m\u001b[47m\u001b[30mG\u001b[39m\u001b[49m\u001b[47m\u001b[30mT\u001b[39m\u001b[49m\u001b[47m\u001b[30mA\u001b[39m\u001b[49m\u001b[47m\u001b[30mT\u001b[39m\u001b[49m\u001b[47m\u001b[30mG\u001b[39m\u001b[49m\u001b[47m\u001b[30mC\u001b[39m\u001b[49m\u001b[47m\u001b[30mC\u001b[39m\u001b[49m\u001b[47m\u001b[30mG\u001b[39m\u001b[49m\u001b[47m\u001b[30mT\u001b[39m\u001b[49m\u001b[47m\u001b[30mC\u001b[39m\u001b[49m\u001b[47m\u001b[30mT\u001b[39m\u001b[49m\u001b[47m\u001b[30mT\u001b[39m\u001b[49m\u001b[47m\u001b[30mC\u001b[39m\u001b[49m\u001b[47m\u001b[30mT\u001b[39m\u001b[49m\u001b[47m\u001b[30mG\u001b[39m\u001b[49m\u001b[47m\u001b[30mC\u001b[39m\u001b[49m\u001b[47m\u001b[30mT\u001b[39m\u001b[49m\u001b[47m\u001b[30mT\u001b[39m\u001b[49m\u001b[47m\u001b[30mG\u001b[39m\u001b[49m\u001b[47m\u001b[30mA\u001b[39m\u001b[49m\u001b[47m\u001b[30mA\u001b[39m\u001b[49m\u001b[47m\u001b[30mA\u001b[39m\u001b[49m\u001b[47m\u001b[30mA\u001b[39m\u001b[49m\u001b[47m\u001b[30mG\u001b[39m\u001b[49m\u001b[47m\u001b[30mC\u001b[39m\u001b[49m\n",
       " [999]    36 \u001b[47m\u001b[30mA\u001b[39m\u001b[49m\u001b[47m\u001b[30mC\u001b[39m\u001b[49m\u001b[47m\u001b[30mG\u001b[39m\u001b[49m\u001b[47m\u001b[30mA\u001b[39m\u001b[49m\u001b[47m\u001b[30mT\u001b[39m\u001b[49m\u001b[47m\u001b[30mC\u001b[39m\u001b[49m\u001b[47m\u001b[30mG\u001b[39m\u001b[49m\u001b[47m\u001b[30mG\u001b[39m\u001b[49m\u001b[47m\u001b[30mA\u001b[39m\u001b[49m\u001b[47m\u001b[30mA\u001b[39m\u001b[49m\u001b[47m\u001b[30mG\u001b[39m\u001b[49m\u001b[47m\u001b[30mA\u001b[39m\u001b[49m\u001b[47m\u001b[30mG\u001b[39m\u001b[49m\u001b[47m\u001b[30mC\u001b[39m\u001b[49m\u001b[47m\u001b[30mT\u001b[39m\u001b[49m\u001b[47m\u001b[30mC\u001b[39m\u001b[49m\u001b[47m\u001b[30mG\u001b[39m\u001b[49m\u001b[47m\u001b[30mT\u001b[39m\u001b[49m\u001b[47m\u001b[30mA\u001b[39m\u001b[49m\u001b[47m\u001b[30mT\u001b[39m\u001b[49m\u001b[47m\u001b[30mG\u001b[39m\u001b[49m\u001b[47m\u001b[30mC\u001b[39m\u001b[49m\u001b[47m\u001b[30mC\u001b[39m\u001b[49m\u001b[47m\u001b[30mG\u001b[39m\u001b[49m\u001b[47m\u001b[30mT\u001b[39m\u001b[49m\u001b[47m\u001b[30mC\u001b[39m\u001b[49m\u001b[47m\u001b[30mT\u001b[39m\u001b[49m\u001b[47m\u001b[30mT\u001b[39m\u001b[49m\u001b[47m\u001b[30mG\u001b[39m\u001b[49m\u001b[47m\u001b[30mT\u001b[39m\u001b[49m\u001b[47m\u001b[30mG\u001b[39m\u001b[49m\u001b[47m\u001b[30mC\u001b[39m\u001b[49m\u001b[47m\u001b[30mT\u001b[39m\u001b[49m\u001b[47m\u001b[30mT\u001b[39m\u001b[49m\u001b[47m\u001b[30mG\u001b[39m\u001b[49m\u001b[47m\u001b[30mA\u001b[39m\u001b[49m\n",
       "[1000]    36 \u001b[47m\u001b[30mT\u001b[39m\u001b[49m\u001b[47m\u001b[30mG\u001b[39m\u001b[49m\u001b[47m\u001b[30mC\u001b[39m\u001b[49m\u001b[47m\u001b[30mT\u001b[39m\u001b[49m\u001b[47m\u001b[30mT\u001b[39m\u001b[49m\u001b[47m\u001b[30mG\u001b[39m\u001b[49m\u001b[47m\u001b[30mA\u001b[39m\u001b[49m\u001b[47m\u001b[30mA\u001b[39m\u001b[49m\u001b[47m\u001b[30mA\u001b[39m\u001b[49m\u001b[47m\u001b[30mT\u001b[39m\u001b[49m\u001b[47m\u001b[30mA\u001b[39m\u001b[49m\u001b[47m\u001b[30mA\u001b[39m\u001b[49m\u001b[47m\u001b[30mA\u001b[39m\u001b[49m\u001b[47m\u001b[30mG\u001b[39m\u001b[49m\u001b[47m\u001b[30mA\u001b[39m\u001b[49m\u001b[47m\u001b[30mC\u001b[39m\u001b[49m\u001b[47m\u001b[30mT\u001b[39m\u001b[49m\u001b[47m\u001b[30mA\u001b[39m\u001b[49m\u001b[47m\u001b[30mC\u001b[39m\u001b[49m\u001b[47m\u001b[30mA\u001b[39m\u001b[49m\u001b[47m\u001b[30mC\u001b[39m\u001b[49m\u001b[47m\u001b[30mA\u001b[39m\u001b[49m\u001b[47m\u001b[30mG\u001b[39m\u001b[49m\u001b[47m\u001b[30mC\u001b[39m\u001b[49m\u001b[47m\u001b[30mA\u001b[39m\u001b[49m\u001b[47m\u001b[30mG\u001b[39m\u001b[49m\u001b[47m\u001b[30mC\u001b[39m\u001b[49m\u001b[47m\u001b[30mT\u001b[39m\u001b[49m\u001b[47m\u001b[30mG\u001b[39m\u001b[49m\u001b[47m\u001b[30mC\u001b[39m\u001b[49m\u001b[47m\u001b[30mA\u001b[39m\u001b[49m\u001b[47m\u001b[30mG\u001b[39m\u001b[49m\u001b[47m\u001b[30mT\u001b[39m\u001b[49m\u001b[47m\u001b[30mA\u001b[39m\u001b[49m\u001b[47m\u001b[30mT\u001b[39m\u001b[49m\u001b[47m\u001b[30mT\u001b[39m\u001b[49m"
      ]
     },
     "metadata": {},
     "output_type": "display_data"
    }
   ],
   "source": [
    "# Generate Sequences w/ adapters from predefined function\n",
    "adapterStrings <- simulateReads(N,\n",
    "                                adapter,\n",
    "                                experiment,\n",
    "                                substitutionRate = 0.01, \n",
    "                                gapRate = 0.001)\n",
    "\n",
    "# 1000 sequences of 36 signal length intervals\n",
    "adapterStrings <- DNAStringSet(adapterStrings)\n",
    "adapterStrings # strings that contain adapters"
   ]
  },
  {
   "cell_type": "markdown",
   "id": "a8da2c68",
   "metadata": {
    "papermill": {
     "duration": 0.440073,
     "end_time": "2022-08-02T17:16:59.161409",
     "exception": false,
     "start_time": "2022-08-02T17:16:58.721336",
     "status": "completed"
    },
    "tags": []
   },
   "source": [
    "- Using completely random strings as a baseline for any PSA methodology we develop to remove the adapter characters\n",
    "- So let's create randomised DNA sequences using the <code>DNA_ALPHABET</code> using <code>sample()</code>"
   ]
  },
  {
   "cell_type": "code",
   "execution_count": 48,
   "id": "b8bfe2e3",
   "metadata": {
    "execution": {
     "iopub.execute_input": "2022-08-02T17:17:00.035638Z",
     "iopub.status.busy": "2022-08-02T17:17:00.034200Z",
     "iopub.status.idle": "2022-08-02T17:17:00.758138Z",
     "shell.execute_reply": "2022-08-02T17:17:00.756626Z"
    },
    "papermill": {
     "duration": 1.163872,
     "end_time": "2022-08-02T17:17:00.758309",
     "exception": false,
     "start_time": "2022-08-02T17:16:59.594437",
     "status": "completed"
    },
    "tags": []
   },
   "outputs": [
    {
     "data": {
      "text/html": [
       "'character'"
      ],
      "text/latex": [
       "'character'"
      ],
      "text/markdown": [
       "'character'"
      ],
      "text/plain": [
       "[1] \"character\""
      ]
     },
     "metadata": {},
     "output_type": "display_data"
    },
    {
     "data": {
      "text/html": [
       "'character'"
      ],
      "text/latex": [
       "'character'"
      ],
      "text/markdown": [
       "'character'"
      ],
      "text/plain": [
       "[1] \"character\""
      ]
     },
     "metadata": {},
     "output_type": "display_data"
    },
    {
     "data": {
      "text/plain": [
       "DNAStringSet object of length 5000:\n",
       "       width seq\n",
       "   [1]    36 \u001b[47m\u001b[30mT\u001b[39m\u001b[49m\u001b[47m\u001b[30mA\u001b[39m\u001b[49m\u001b[47m\u001b[30mG\u001b[39m\u001b[49m\u001b[47m\u001b[30mT\u001b[39m\u001b[49m\u001b[47m\u001b[30mT\u001b[39m\u001b[49m\u001b[47m\u001b[30mA\u001b[39m\u001b[49m\u001b[47m\u001b[30mT\u001b[39m\u001b[49m\u001b[47m\u001b[30mA\u001b[39m\u001b[49m\u001b[47m\u001b[30mA\u001b[39m\u001b[49m\u001b[47m\u001b[30mG\u001b[39m\u001b[49m\u001b[47m\u001b[30mC\u001b[39m\u001b[49m\u001b[47m\u001b[30mG\u001b[39m\u001b[49m\u001b[47m\u001b[30mG\u001b[39m\u001b[49m\u001b[47m\u001b[30mT\u001b[39m\u001b[49m\u001b[47m\u001b[30mC\u001b[39m\u001b[49m\u001b[47m\u001b[30mT\u001b[39m\u001b[49m\u001b[47m\u001b[30mC\u001b[39m\u001b[49m\u001b[47m\u001b[30mC\u001b[39m\u001b[49m\u001b[47m\u001b[30mT\u001b[39m\u001b[49m\u001b[47m\u001b[30mT\u001b[39m\u001b[49m\u001b[47m\u001b[30mT\u001b[39m\u001b[49m\u001b[47m\u001b[30mG\u001b[39m\u001b[49m\u001b[47m\u001b[30mC\u001b[39m\u001b[49m\u001b[47m\u001b[30mC\u001b[39m\u001b[49m\u001b[47m\u001b[30mA\u001b[39m\u001b[49m\u001b[47m\u001b[30mG\u001b[39m\u001b[49m\u001b[47m\u001b[30mA\u001b[39m\u001b[49m\u001b[47m\u001b[30mT\u001b[39m\u001b[49m\u001b[47m\u001b[30mG\u001b[39m\u001b[49m\u001b[47m\u001b[30mA\u001b[39m\u001b[49m\u001b[47m\u001b[30mA\u001b[39m\u001b[49m\u001b[47m\u001b[30mA\u001b[39m\u001b[49m\u001b[47m\u001b[30mA\u001b[39m\u001b[49m\u001b[47m\u001b[30mA\u001b[39m\u001b[49m\u001b[47m\u001b[30mT\u001b[39m\u001b[49m\u001b[47m\u001b[30mA\u001b[39m\u001b[49m\n",
       "   [2]    36 \u001b[47m\u001b[30mA\u001b[39m\u001b[49m\u001b[47m\u001b[30mC\u001b[39m\u001b[49m\u001b[47m\u001b[30mA\u001b[39m\u001b[49m\u001b[47m\u001b[30mA\u001b[39m\u001b[49m\u001b[47m\u001b[30mT\u001b[39m\u001b[49m\u001b[47m\u001b[30mC\u001b[39m\u001b[49m\u001b[47m\u001b[30mC\u001b[39m\u001b[49m\u001b[47m\u001b[30mG\u001b[39m\u001b[49m\u001b[47m\u001b[30mA\u001b[39m\u001b[49m\u001b[47m\u001b[30mG\u001b[39m\u001b[49m\u001b[47m\u001b[30mT\u001b[39m\u001b[49m\u001b[47m\u001b[30mT\u001b[39m\u001b[49m\u001b[47m\u001b[30mG\u001b[39m\u001b[49m\u001b[47m\u001b[30mT\u001b[39m\u001b[49m\u001b[47m\u001b[30mT\u001b[39m\u001b[49m\u001b[47m\u001b[30mT\u001b[39m\u001b[49m\u001b[47m\u001b[30mG\u001b[39m\u001b[49m\u001b[47m\u001b[30mC\u001b[39m\u001b[49m\u001b[47m\u001b[30mT\u001b[39m\u001b[49m\u001b[47m\u001b[30mC\u001b[39m\u001b[49m\u001b[47m\u001b[30mG\u001b[39m\u001b[49m\u001b[47m\u001b[30mG\u001b[39m\u001b[49m\u001b[47m\u001b[30mA\u001b[39m\u001b[49m\u001b[47m\u001b[30mG\u001b[39m\u001b[49m\u001b[47m\u001b[30mA\u001b[39m\u001b[49m\u001b[47m\u001b[30mG\u001b[39m\u001b[49m\u001b[47m\u001b[30mA\u001b[39m\u001b[49m\u001b[47m\u001b[30mA\u001b[39m\u001b[49m\u001b[47m\u001b[30mT\u001b[39m\u001b[49m\u001b[47m\u001b[30mG\u001b[39m\u001b[49m\u001b[47m\u001b[30mC\u001b[39m\u001b[49m\u001b[47m\u001b[30mC\u001b[39m\u001b[49m\u001b[47m\u001b[30mG\u001b[39m\u001b[49m\u001b[47m\u001b[30mT\u001b[39m\u001b[49m\u001b[47m\u001b[30mC\u001b[39m\u001b[49m\u001b[47m\u001b[30mC\u001b[39m\u001b[49m\n",
       "   [3]    36 \u001b[47m\u001b[30mA\u001b[39m\u001b[49m\u001b[47m\u001b[30mA\u001b[39m\u001b[49m\u001b[47m\u001b[30mT\u001b[39m\u001b[49m\u001b[47m\u001b[30mA\u001b[39m\u001b[49m\u001b[47m\u001b[30mT\u001b[39m\u001b[49m\u001b[47m\u001b[30mA\u001b[39m\u001b[49m\u001b[47m\u001b[30mA\u001b[39m\u001b[49m\u001b[47m\u001b[30mC\u001b[39m\u001b[49m\u001b[47m\u001b[30mA\u001b[39m\u001b[49m\u001b[47m\u001b[30mG\u001b[39m\u001b[49m\u001b[47m\u001b[30mT\u001b[39m\u001b[49m\u001b[47m\u001b[30mC\u001b[39m\u001b[49m\u001b[47m\u001b[30mG\u001b[39m\u001b[49m\u001b[47m\u001b[30mT\u001b[39m\u001b[49m\u001b[47m\u001b[30mT\u001b[39m\u001b[49m\u001b[47m\u001b[30mT\u001b[39m\u001b[49m\u001b[47m\u001b[30mT\u001b[39m\u001b[49m\u001b[47m\u001b[30mG\u001b[39m\u001b[49m\u001b[47m\u001b[30mA\u001b[39m\u001b[49m\u001b[47m\u001b[30mC\u001b[39m\u001b[49m\u001b[47m\u001b[30mC\u001b[39m\u001b[49m\u001b[47m\u001b[30mT\u001b[39m\u001b[49m\u001b[47m\u001b[30mA\u001b[39m\u001b[49m\u001b[47m\u001b[30mT\u001b[39m\u001b[49m\u001b[47m\u001b[30mG\u001b[39m\u001b[49m\u001b[47m\u001b[30mT\u001b[39m\u001b[49m\u001b[47m\u001b[30mG\u001b[39m\u001b[49m\u001b[47m\u001b[30mC\u001b[39m\u001b[49m\u001b[47m\u001b[30mT\u001b[39m\u001b[49m\u001b[47m\u001b[30mA\u001b[39m\u001b[49m\u001b[47m\u001b[30mC\u001b[39m\u001b[49m\u001b[47m\u001b[30mC\u001b[39m\u001b[49m\u001b[47m\u001b[30mG\u001b[39m\u001b[49m\u001b[47m\u001b[30mT\u001b[39m\u001b[49m\u001b[47m\u001b[30mT\u001b[39m\u001b[49m\u001b[47m\u001b[30mA\u001b[39m\u001b[49m\n",
       "   [4]    36 \u001b[47m\u001b[30mA\u001b[39m\u001b[49m\u001b[47m\u001b[30mC\u001b[39m\u001b[49m\u001b[47m\u001b[30mA\u001b[39m\u001b[49m\u001b[47m\u001b[30mG\u001b[39m\u001b[49m\u001b[47m\u001b[30mT\u001b[39m\u001b[49m\u001b[47m\u001b[30mT\u001b[39m\u001b[49m\u001b[47m\u001b[30mG\u001b[39m\u001b[49m\u001b[47m\u001b[30mA\u001b[39m\u001b[49m\u001b[47m\u001b[30mA\u001b[39m\u001b[49m\u001b[47m\u001b[30mA\u001b[39m\u001b[49m\u001b[47m\u001b[30mC\u001b[39m\u001b[49m\u001b[47m\u001b[30mA\u001b[39m\u001b[49m\u001b[47m\u001b[30mA\u001b[39m\u001b[49m\u001b[47m\u001b[30mT\u001b[39m\u001b[49m\u001b[47m\u001b[30mC\u001b[39m\u001b[49m\u001b[47m\u001b[30mA\u001b[39m\u001b[49m\u001b[47m\u001b[30mT\u001b[39m\u001b[49m\u001b[47m\u001b[30mA\u001b[39m\u001b[49m\u001b[47m\u001b[30mG\u001b[39m\u001b[49m\u001b[47m\u001b[30mG\u001b[39m\u001b[49m\u001b[47m\u001b[30mA\u001b[39m\u001b[49m\u001b[47m\u001b[30mC\u001b[39m\u001b[49m\u001b[47m\u001b[30mG\u001b[39m\u001b[49m\u001b[47m\u001b[30mG\u001b[39m\u001b[49m\u001b[47m\u001b[30mG\u001b[39m\u001b[49m\u001b[47m\u001b[30mG\u001b[39m\u001b[49m\u001b[47m\u001b[30mA\u001b[39m\u001b[49m\u001b[47m\u001b[30mG\u001b[39m\u001b[49m\u001b[47m\u001b[30mT\u001b[39m\u001b[49m\u001b[47m\u001b[30mG\u001b[39m\u001b[49m\u001b[47m\u001b[30mT\u001b[39m\u001b[49m\u001b[47m\u001b[30mG\u001b[39m\u001b[49m\u001b[47m\u001b[30mT\u001b[39m\u001b[49m\u001b[47m\u001b[30mA\u001b[39m\u001b[49m\u001b[47m\u001b[30mT\u001b[39m\u001b[49m\u001b[47m\u001b[30mT\u001b[39m\u001b[49m\n",
       "   [5]    36 \u001b[47m\u001b[30mT\u001b[39m\u001b[49m\u001b[47m\u001b[30mC\u001b[39m\u001b[49m\u001b[47m\u001b[30mA\u001b[39m\u001b[49m\u001b[47m\u001b[30mA\u001b[39m\u001b[49m\u001b[47m\u001b[30mT\u001b[39m\u001b[49m\u001b[47m\u001b[30mA\u001b[39m\u001b[49m\u001b[47m\u001b[30mA\u001b[39m\u001b[49m\u001b[47m\u001b[30mC\u001b[39m\u001b[49m\u001b[47m\u001b[30mG\u001b[39m\u001b[49m\u001b[47m\u001b[30mA\u001b[39m\u001b[49m\u001b[47m\u001b[30mT\u001b[39m\u001b[49m\u001b[47m\u001b[30mT\u001b[39m\u001b[49m\u001b[47m\u001b[30mC\u001b[39m\u001b[49m\u001b[47m\u001b[30mT\u001b[39m\u001b[49m\u001b[47m\u001b[30mT\u001b[39m\u001b[49m\u001b[47m\u001b[30mT\u001b[39m\u001b[49m\u001b[47m\u001b[30mT\u001b[39m\u001b[49m\u001b[47m\u001b[30mT\u001b[39m\u001b[49m\u001b[47m\u001b[30mC\u001b[39m\u001b[49m\u001b[47m\u001b[30mC\u001b[39m\u001b[49m\u001b[47m\u001b[30mA\u001b[39m\u001b[49m\u001b[47m\u001b[30mT\u001b[39m\u001b[49m\u001b[47m\u001b[30mC\u001b[39m\u001b[49m\u001b[47m\u001b[30mA\u001b[39m\u001b[49m\u001b[47m\u001b[30mG\u001b[39m\u001b[49m\u001b[47m\u001b[30mT\u001b[39m\u001b[49m\u001b[47m\u001b[30mC\u001b[39m\u001b[49m\u001b[47m\u001b[30mT\u001b[39m\u001b[49m\u001b[47m\u001b[30mA\u001b[39m\u001b[49m\u001b[47m\u001b[30mC\u001b[39m\u001b[49m\u001b[47m\u001b[30mA\u001b[39m\u001b[49m\u001b[47m\u001b[30mG\u001b[39m\u001b[49m\u001b[47m\u001b[30mA\u001b[39m\u001b[49m\u001b[47m\u001b[30mT\u001b[39m\u001b[49m\u001b[47m\u001b[30mG\u001b[39m\u001b[49m\u001b[47m\u001b[30mC\u001b[39m\u001b[49m\n",
       "   ...   ... ...\n",
       "[4996]    36 \u001b[47m\u001b[30mC\u001b[39m\u001b[49m\u001b[47m\u001b[30mC\u001b[39m\u001b[49m\u001b[47m\u001b[30mC\u001b[39m\u001b[49m\u001b[47m\u001b[30mG\u001b[39m\u001b[49m\u001b[47m\u001b[30mT\u001b[39m\u001b[49m\u001b[47m\u001b[30mA\u001b[39m\u001b[49m\u001b[47m\u001b[30mT\u001b[39m\u001b[49m\u001b[47m\u001b[30mT\u001b[39m\u001b[49m\u001b[47m\u001b[30mC\u001b[39m\u001b[49m\u001b[47m\u001b[30mG\u001b[39m\u001b[49m\u001b[47m\u001b[30mC\u001b[39m\u001b[49m\u001b[47m\u001b[30mG\u001b[39m\u001b[49m\u001b[47m\u001b[30mA\u001b[39m\u001b[49m\u001b[47m\u001b[30mT\u001b[39m\u001b[49m\u001b[47m\u001b[30mC\u001b[39m\u001b[49m\u001b[47m\u001b[30mG\u001b[39m\u001b[49m\u001b[47m\u001b[30mG\u001b[39m\u001b[49m\u001b[47m\u001b[30mC\u001b[39m\u001b[49m\u001b[47m\u001b[30mA\u001b[39m\u001b[49m\u001b[47m\u001b[30mG\u001b[39m\u001b[49m\u001b[47m\u001b[30mC\u001b[39m\u001b[49m\u001b[47m\u001b[30mT\u001b[39m\u001b[49m\u001b[47m\u001b[30mC\u001b[39m\u001b[49m\u001b[47m\u001b[30mG\u001b[39m\u001b[49m\u001b[47m\u001b[30mT\u001b[39m\u001b[49m\u001b[47m\u001b[30mG\u001b[39m\u001b[49m\u001b[47m\u001b[30mG\u001b[39m\u001b[49m\u001b[47m\u001b[30mA\u001b[39m\u001b[49m\u001b[47m\u001b[30mC\u001b[39m\u001b[49m\u001b[47m\u001b[30mA\u001b[39m\u001b[49m\u001b[47m\u001b[30mC\u001b[39m\u001b[49m\u001b[47m\u001b[30mG\u001b[39m\u001b[49m\u001b[47m\u001b[30mG\u001b[39m\u001b[49m\u001b[47m\u001b[30mA\u001b[39m\u001b[49m\u001b[47m\u001b[30mG\u001b[39m\u001b[49m\u001b[47m\u001b[30mG\u001b[39m\u001b[49m\n",
       "[4997]    36 \u001b[47m\u001b[30mG\u001b[39m\u001b[49m\u001b[47m\u001b[30mC\u001b[39m\u001b[49m\u001b[47m\u001b[30mG\u001b[39m\u001b[49m\u001b[47m\u001b[30mA\u001b[39m\u001b[49m\u001b[47m\u001b[30mG\u001b[39m\u001b[49m\u001b[47m\u001b[30mT\u001b[39m\u001b[49m\u001b[47m\u001b[30mG\u001b[39m\u001b[49m\u001b[47m\u001b[30mC\u001b[39m\u001b[49m\u001b[47m\u001b[30mT\u001b[39m\u001b[49m\u001b[47m\u001b[30mG\u001b[39m\u001b[49m\u001b[47m\u001b[30mT\u001b[39m\u001b[49m\u001b[47m\u001b[30mC\u001b[39m\u001b[49m\u001b[47m\u001b[30mG\u001b[39m\u001b[49m\u001b[47m\u001b[30mC\u001b[39m\u001b[49m\u001b[47m\u001b[30mC\u001b[39m\u001b[49m\u001b[47m\u001b[30mA\u001b[39m\u001b[49m\u001b[47m\u001b[30mG\u001b[39m\u001b[49m\u001b[47m\u001b[30mC\u001b[39m\u001b[49m\u001b[47m\u001b[30mA\u001b[39m\u001b[49m\u001b[47m\u001b[30mT\u001b[39m\u001b[49m\u001b[47m\u001b[30mG\u001b[39m\u001b[49m\u001b[47m\u001b[30mC\u001b[39m\u001b[49m\u001b[47m\u001b[30mG\u001b[39m\u001b[49m\u001b[47m\u001b[30mC\u001b[39m\u001b[49m\u001b[47m\u001b[30mA\u001b[39m\u001b[49m\u001b[47m\u001b[30mA\u001b[39m\u001b[49m\u001b[47m\u001b[30mC\u001b[39m\u001b[49m\u001b[47m\u001b[30mA\u001b[39m\u001b[49m\u001b[47m\u001b[30mT\u001b[39m\u001b[49m\u001b[47m\u001b[30mT\u001b[39m\u001b[49m\u001b[47m\u001b[30mT\u001b[39m\u001b[49m\u001b[47m\u001b[30mT\u001b[39m\u001b[49m\u001b[47m\u001b[30mC\u001b[39m\u001b[49m\u001b[47m\u001b[30mA\u001b[39m\u001b[49m\u001b[47m\u001b[30mA\u001b[39m\u001b[49m\u001b[47m\u001b[30mT\u001b[39m\u001b[49m\n",
       "[4998]    36 \u001b[47m\u001b[30mT\u001b[39m\u001b[49m\u001b[47m\u001b[30mA\u001b[39m\u001b[49m\u001b[47m\u001b[30mG\u001b[39m\u001b[49m\u001b[47m\u001b[30mG\u001b[39m\u001b[49m\u001b[47m\u001b[30mC\u001b[39m\u001b[49m\u001b[47m\u001b[30mT\u001b[39m\u001b[49m\u001b[47m\u001b[30mG\u001b[39m\u001b[49m\u001b[47m\u001b[30mT\u001b[39m\u001b[49m\u001b[47m\u001b[30mC\u001b[39m\u001b[49m\u001b[47m\u001b[30mG\u001b[39m\u001b[49m\u001b[47m\u001b[30mG\u001b[39m\u001b[49m\u001b[47m\u001b[30mA\u001b[39m\u001b[49m\u001b[47m\u001b[30mA\u001b[39m\u001b[49m\u001b[47m\u001b[30mG\u001b[39m\u001b[49m\u001b[47m\u001b[30mA\u001b[39m\u001b[49m\u001b[47m\u001b[30mT\u001b[39m\u001b[49m\u001b[47m\u001b[30mA\u001b[39m\u001b[49m\u001b[47m\u001b[30mA\u001b[39m\u001b[49m\u001b[47m\u001b[30mG\u001b[39m\u001b[49m\u001b[47m\u001b[30mC\u001b[39m\u001b[49m\u001b[47m\u001b[30mC\u001b[39m\u001b[49m\u001b[47m\u001b[30mT\u001b[39m\u001b[49m\u001b[47m\u001b[30mC\u001b[39m\u001b[49m\u001b[47m\u001b[30mG\u001b[39m\u001b[49m\u001b[47m\u001b[30mC\u001b[39m\u001b[49m\u001b[47m\u001b[30mC\u001b[39m\u001b[49m\u001b[47m\u001b[30mA\u001b[39m\u001b[49m\u001b[47m\u001b[30mT\u001b[39m\u001b[49m\u001b[47m\u001b[30mC\u001b[39m\u001b[49m\u001b[47m\u001b[30mG\u001b[39m\u001b[49m\u001b[47m\u001b[30mT\u001b[39m\u001b[49m\u001b[47m\u001b[30mG\u001b[39m\u001b[49m\u001b[47m\u001b[30mC\u001b[39m\u001b[49m\u001b[47m\u001b[30mC\u001b[39m\u001b[49m\u001b[47m\u001b[30mA\u001b[39m\u001b[49m\u001b[47m\u001b[30mT\u001b[39m\u001b[49m\n",
       "[4999]    36 \u001b[47m\u001b[30mT\u001b[39m\u001b[49m\u001b[47m\u001b[30mT\u001b[39m\u001b[49m\u001b[47m\u001b[30mA\u001b[39m\u001b[49m\u001b[47m\u001b[30mC\u001b[39m\u001b[49m\u001b[47m\u001b[30mG\u001b[39m\u001b[49m\u001b[47m\u001b[30mA\u001b[39m\u001b[49m\u001b[47m\u001b[30mT\u001b[39m\u001b[49m\u001b[47m\u001b[30mC\u001b[39m\u001b[49m\u001b[47m\u001b[30mG\u001b[39m\u001b[49m\u001b[47m\u001b[30mT\u001b[39m\u001b[49m\u001b[47m\u001b[30mT\u001b[39m\u001b[49m\u001b[47m\u001b[30mC\u001b[39m\u001b[49m\u001b[47m\u001b[30mA\u001b[39m\u001b[49m\u001b[47m\u001b[30mG\u001b[39m\u001b[49m\u001b[47m\u001b[30mT\u001b[39m\u001b[49m\u001b[47m\u001b[30mC\u001b[39m\u001b[49m\u001b[47m\u001b[30mG\u001b[39m\u001b[49m\u001b[47m\u001b[30mA\u001b[39m\u001b[49m\u001b[47m\u001b[30mT\u001b[39m\u001b[49m\u001b[47m\u001b[30mT\u001b[39m\u001b[49m\u001b[47m\u001b[30mA\u001b[39m\u001b[49m\u001b[47m\u001b[30mT\u001b[39m\u001b[49m\u001b[47m\u001b[30mA\u001b[39m\u001b[49m\u001b[47m\u001b[30mA\u001b[39m\u001b[49m\u001b[47m\u001b[30mC\u001b[39m\u001b[49m\u001b[47m\u001b[30mG\u001b[39m\u001b[49m\u001b[47m\u001b[30mG\u001b[39m\u001b[49m\u001b[47m\u001b[30mC\u001b[39m\u001b[49m\u001b[47m\u001b[30mA\u001b[39m\u001b[49m\u001b[47m\u001b[30mC\u001b[39m\u001b[49m\u001b[47m\u001b[30mG\u001b[39m\u001b[49m\u001b[47m\u001b[30mC\u001b[39m\u001b[49m\u001b[47m\u001b[30mA\u001b[39m\u001b[49m\u001b[47m\u001b[30mT\u001b[39m\u001b[49m\u001b[47m\u001b[30mC\u001b[39m\u001b[49m\u001b[47m\u001b[30mA\u001b[39m\u001b[49m\n",
       "[5000]    36 \u001b[47m\u001b[30mC\u001b[39m\u001b[49m\u001b[47m\u001b[30mC\u001b[39m\u001b[49m\u001b[47m\u001b[30mT\u001b[39m\u001b[49m\u001b[47m\u001b[30mC\u001b[39m\u001b[49m\u001b[47m\u001b[30mC\u001b[39m\u001b[49m\u001b[47m\u001b[30mG\u001b[39m\u001b[49m\u001b[47m\u001b[30mT\u001b[39m\u001b[49m\u001b[47m\u001b[30mC\u001b[39m\u001b[49m\u001b[47m\u001b[30mG\u001b[39m\u001b[49m\u001b[47m\u001b[30mA\u001b[39m\u001b[49m\u001b[47m\u001b[30mG\u001b[39m\u001b[49m\u001b[47m\u001b[30mT\u001b[39m\u001b[49m\u001b[47m\u001b[30mC\u001b[39m\u001b[49m\u001b[47m\u001b[30mA\u001b[39m\u001b[49m\u001b[47m\u001b[30mC\u001b[39m\u001b[49m\u001b[47m\u001b[30mC\u001b[39m\u001b[49m\u001b[47m\u001b[30mT\u001b[39m\u001b[49m\u001b[47m\u001b[30mG\u001b[39m\u001b[49m\u001b[47m\u001b[30mT\u001b[39m\u001b[49m\u001b[47m\u001b[30mT\u001b[39m\u001b[49m\u001b[47m\u001b[30mG\u001b[39m\u001b[49m\u001b[47m\u001b[30mA\u001b[39m\u001b[49m\u001b[47m\u001b[30mA\u001b[39m\u001b[49m\u001b[47m\u001b[30mA\u001b[39m\u001b[49m\u001b[47m\u001b[30mC\u001b[39m\u001b[49m\u001b[47m\u001b[30mT\u001b[39m\u001b[49m\u001b[47m\u001b[30mA\u001b[39m\u001b[49m\u001b[47m\u001b[30mT\u001b[39m\u001b[49m\u001b[47m\u001b[30mA\u001b[39m\u001b[49m\u001b[47m\u001b[30mT\u001b[39m\u001b[49m\u001b[47m\u001b[30mG\u001b[39m\u001b[49m\u001b[47m\u001b[30mA\u001b[39m\u001b[49m\u001b[47m\u001b[30mG\u001b[39m\u001b[49m\u001b[47m\u001b[30mA\u001b[39m\u001b[49m\u001b[47m\u001b[30mA\u001b[39m\u001b[49m\u001b[47m\u001b[30mT\u001b[39m\u001b[49m"
      ]
     },
     "metadata": {},
     "output_type": "display_data"
    }
   ],
   "source": [
    "# ''' Generate Random DNA Samples '''\n",
    "M <- 5000\n",
    "\n",
    "# 36 character sequence x M using sample()\n",
    "samples <- sample(DNA_ALPHABET[1:4], # only main 4 nucleotides\n",
    "                  36*M,\n",
    "                  replace = TRUE)\n",
    "typeof(samples) # check type \n",
    "\n",
    "# generate matrix of samples\n",
    "sample_mat <- matrix(samples,nrow = M)\n",
    "typeof(sample_mat)\n",
    "\n",
    "randomStrings <- apply(sample_mat,1,paste,collapse=\"\")\n",
    "randomStrings <- DNAStringSet(randomStrings)\n",
    "randomStrings"
   ]
  },
  {
   "cell_type": "markdown",
   "id": "3e5d4f47",
   "metadata": {
    "papermill": {
     "duration": 0.439072,
     "end_time": "2022-08-02T17:17:01.632932",
     "exception": false,
     "start_time": "2022-08-02T17:17:01.193860",
     "status": "completed"
    },
    "tags": []
   },
   "source": [
    "### **<mark style=\"background-color:#6846D5;color:white;border-radius:5px;opacity:0.9\">METHOD 1</mark>** \n",
    "- For the first approach, we'll use a match/mismatch of 0/-1 for the substitution matrix\n",
    "- gap opening of 0 & gapEXtension of 1"
   ]
  },
  {
   "cell_type": "code",
   "execution_count": 49,
   "id": "001f7759",
   "metadata": {
    "execution": {
     "iopub.execute_input": "2022-08-02T17:17:02.528613Z",
     "iopub.status.busy": "2022-08-02T17:17:02.526896Z",
     "iopub.status.idle": "2022-08-02T17:17:02.542155Z",
     "shell.execute_reply": "2022-08-02T17:17:02.540342Z"
    },
    "papermill": {
     "duration": 0.466828,
     "end_time": "2022-08-02T17:17:02.542371",
     "exception": false,
     "start_time": "2022-08-02T17:17:02.075543",
     "status": "completed"
    },
    "tags": []
   },
   "outputs": [],
   "source": [
    "# Substitution matrix \n",
    "submat1 <- nucleotideSubstitutionMatrix(match = 0, \n",
    "                                        mismatch = -1, \n",
    "                                        baseOnly = TRUE)"
   ]
  },
  {
   "cell_type": "code",
   "execution_count": 50,
   "id": "a5be21f7",
   "metadata": {
    "execution": {
     "iopub.execute_input": "2022-08-02T17:17:03.422382Z",
     "iopub.status.busy": "2022-08-02T17:17:03.420894Z",
     "iopub.status.idle": "2022-08-02T17:17:03.494402Z",
     "shell.execute_reply": "2022-08-02T17:17:03.493064Z"
    },
    "papermill": {
     "duration": 0.515421,
     "end_time": "2022-08-02T17:17:03.494611",
     "exception": false,
     "start_time": "2022-08-02T17:17:02.979190",
     "status": "completed"
    },
    "tags": []
   },
   "outputs": [],
   "source": [
    "# random DNA & adapter (baseline for comparison only)\n",
    "randomScores1 <- pairwiseAlignment(randomStrings,\n",
    "                                   adapter, \n",
    "                                   substitutionMatrix = submat1,\n",
    "                                   gapOpening = 0, gapExtension = 1,\n",
    "                                   scoreOnly = TRUE) # get the final alignment score only"
   ]
  },
  {
   "cell_type": "code",
   "execution_count": 51,
   "id": "806c46ec",
   "metadata": {
    "execution": {
     "iopub.execute_input": "2022-08-02T17:17:04.384096Z",
     "iopub.status.busy": "2022-08-02T17:17:04.382661Z",
     "iopub.status.idle": "2022-08-02T17:17:04.531484Z",
     "shell.execute_reply": "2022-08-02T17:17:04.529861Z"
    },
    "papermill": {
     "duration": 0.593376,
     "end_time": "2022-08-02T17:17:04.531671",
     "exception": false,
     "start_time": "2022-08-02T17:17:03.938295",
     "status": "completed"
    },
    "tags": []
   },
   "outputs": [
    {
     "data": {
      "text/plain": [
       "Global PairwiseAlignmentsSingleSubject (1 of 1000)\n",
       "pattern: \u001b[47m\u001b[30mT\u001b[39m\u001b[49m\u001b[47m\u001b[30mT\u001b[39m\u001b[49m\u001b[47m\u001b[30mC\u001b[39m\u001b[49m\u001b[47m\u001b[30mT\u001b[39m\u001b[49m\u001b[47m\u001b[30mG\u001b[39m\u001b[49m\u001b[47m\u001b[30mC\u001b[39m\u001b[49m\u001b[47m\u001b[30mT\u001b[39m\u001b[49m\u001b[47m\u001b[30mT\u001b[39m\u001b[49m\u001b[47m\u001b[30mG\u001b[39m\u001b[49m\u001b[47m\u001b[30mA\u001b[39m\u001b[49m\u001b[47m\u001b[30mA\u001b[39m\u001b[49m-\u001b[47m\u001b[30mA\u001b[39m\u001b[49m\u001b[47m\u001b[30mG\u001b[39m\u001b[49m\u001b[47m\u001b[30mT\u001b[39m\u001b[49m\u001b[47m\u001b[30mT\u001b[39m\u001b[49m\u001b[47m\u001b[30mC\u001b[39m\u001b[49m\u001b[47m\u001b[30mG\u001b[39m\u001b[49m\u001b[47m\u001b[30mC\u001b[39m\u001b[49m\u001b[47m\u001b[30mG\u001b[39m\u001b[49m\u001b[47m\u001b[30mA\u001b[39m\u001b[49m\u001b[47m\u001b[30mG\u001b[39m\u001b[49m\u001b[47m\u001b[30mA\u001b[39m\u001b[49m\u001b[47m\u001b[30mA\u001b[39m\u001b[49m\u001b[47m\u001b[30mC\u001b[39m\u001b[49m\u001b[47m\u001b[30mA\u001b[39m\u001b[49m\u001b[47m\u001b[30mA\u001b[39m\u001b[49m\u001b[47m\u001b[30mC\u001b[39m\u001b[49m\u001b[47m\u001b[30mT\u001b[39m\u001b[49m\u001b[47m\u001b[30mA\u001b[39m\u001b[49m\u001b[47m\u001b[30mG\u001b[39m\u001b[49m\u001b[47m\u001b[30mT\u001b[39m\u001b[49m\u001b[47m\u001b[30mC\u001b[39m\u001b[49m\u001b[47m\u001b[30mC\u001b[39m\u001b[49m--\u001b[47m\u001b[30mG\u001b[39m\u001b[49m\u001b[47m\u001b[30mC\u001b[39m\u001b[49m\u001b[47m\u001b[30mA\u001b[39m\u001b[49m-\n",
       "subject: \u001b[47m\u001b[30mG\u001b[39m\u001b[49m\u001b[47m\u001b[30mA\u001b[39m\u001b[49m-\u001b[47m\u001b[30mT\u001b[39m\u001b[49m-\u001b[47m\u001b[30mC\u001b[39m\u001b[49m\u001b[47m\u001b[30mG\u001b[39m\u001b[49m-\u001b[47m\u001b[30mG\u001b[39m\u001b[49m\u001b[47m\u001b[30mA\u001b[39m\u001b[49m\u001b[47m\u001b[30mA\u001b[39m\u001b[49m\u001b[47m\u001b[30mG\u001b[39m\u001b[49m\u001b[47m\u001b[30mA\u001b[39m\u001b[49m\u001b[47m\u001b[30mG\u001b[39m\u001b[49m\u001b[47m\u001b[30mC\u001b[39m\u001b[49m\u001b[47m\u001b[30mT\u001b[39m\u001b[49m\u001b[47m\u001b[30mC\u001b[39m\u001b[49m\u001b[47m\u001b[30mG\u001b[39m\u001b[49m\u001b[47m\u001b[30mT\u001b[39m\u001b[49m\u001b[47m\u001b[30mA\u001b[39m\u001b[49m\u001b[47m\u001b[30mT\u001b[39m\u001b[49m\u001b[47m\u001b[30mG\u001b[39m\u001b[49m\u001b[47m\u001b[30mC\u001b[39m\u001b[49m-\u001b[47m\u001b[30mC\u001b[39m\u001b[49m\u001b[47m\u001b[30mG\u001b[39m\u001b[49m\u001b[47m\u001b[30mT\u001b[39m\u001b[49m\u001b[47m\u001b[30mC\u001b[39m\u001b[49m\u001b[47m\u001b[30mT\u001b[39m\u001b[49m\u001b[47m\u001b[30mT\u001b[39m\u001b[49m\u001b[47m\u001b[30mC\u001b[39m\u001b[49m\u001b[47m\u001b[30mT\u001b[39m\u001b[49m\u001b[47m\u001b[30mG\u001b[39m\u001b[49m\u001b[47m\u001b[30mC\u001b[39m\u001b[49m\u001b[47m\u001b[30mT\u001b[39m\u001b[49m\u001b[47m\u001b[30mT\u001b[39m\u001b[49m\u001b[47m\u001b[30mG\u001b[39m\u001b[49m\u001b[47m\u001b[30mA\u001b[39m\u001b[49m\u001b[47m\u001b[30mA\u001b[39m\u001b[49m\u001b[47m\u001b[30mA\u001b[39m\u001b[49m\n",
       "score: -22 "
      ]
     },
     "metadata": {},
     "output_type": "display_data"
    }
   ],
   "source": [
    "# adapter strings DNA & adapter (0-36 characters attached to either end)\n",
    "# should have higher hit rate \n",
    "\n",
    "adapterAligns1 <- pairwiseAlignment(adapterStrings,\n",
    "                                    adapter, \n",
    "                                    substitutionMatrix = submat1,\n",
    "                                    gapOpening = 0, gapExtension = 1)\n",
    "\n",
    "adapterAligns1 # PairwiseAlignmentsSingleSubject (contains multiple PSA)]\n",
    "adapterAligns1_score <- score(adapterAligns1)"
   ]
  },
  {
   "cell_type": "code",
   "execution_count": 52,
   "id": "208278f1",
   "metadata": {
    "execution": {
     "iopub.execute_input": "2022-08-02T17:17:05.428519Z",
     "iopub.status.busy": "2022-08-02T17:17:05.427066Z",
     "iopub.status.idle": "2022-08-02T17:17:05.448531Z",
     "shell.execute_reply": "2022-08-02T17:17:05.446971Z"
    },
    "papermill": {
     "duration": 0.470422,
     "end_time": "2022-08-02T17:17:05.448699",
     "exception": false,
     "start_time": "2022-08-02T17:17:04.978277",
     "status": "completed"
    },
    "tags": []
   },
   "outputs": [
    {
     "data": {
      "text/html": [
       "<style>\n",
       ".dl-inline {width: auto; margin:0; padding: 0}\n",
       ".dl-inline>dt, .dl-inline>dd {float: none; width: auto; display: inline-block}\n",
       ".dl-inline>dt::after {content: \":\\0020\"; padding-right: .5ex}\n",
       ".dl-inline>dt:not(:first-of-type) {padding-left: .5ex}\n",
       "</style><dl class=dl-inline><dt>99%</dt><dd>-16</dd><dt>99.1%</dt><dd>-16</dd><dt>99.2%</dt><dd>-16</dd><dt>99.3%</dt><dd>-16</dd><dt>99.4%</dt><dd>-16</dd><dt>99.5%</dt><dd>-16</dd><dt>99.6%</dt><dd>-16</dd><dt>99.7%</dt><dd>-16</dd><dt>99.8%</dt><dd>-15</dd><dt>99.9%</dt><dd>-15</dd><dt>100%</dt><dd>-14</dd></dl>\n"
      ],
      "text/latex": [
       "\\begin{description*}\n",
       "\\item[99\\textbackslash{}\\%] -16\n",
       "\\item[99.1\\textbackslash{}\\%] -16\n",
       "\\item[99.2\\textbackslash{}\\%] -16\n",
       "\\item[99.3\\textbackslash{}\\%] -16\n",
       "\\item[99.4\\textbackslash{}\\%] -16\n",
       "\\item[99.5\\textbackslash{}\\%] -16\n",
       "\\item[99.6\\textbackslash{}\\%] -16\n",
       "\\item[99.7\\textbackslash{}\\%] -16\n",
       "\\item[99.8\\textbackslash{}\\%] -15\n",
       "\\item[99.9\\textbackslash{}\\%] -15\n",
       "\\item[100\\textbackslash{}\\%] -14\n",
       "\\end{description*}\n"
      ],
      "text/markdown": [
       "99%\n",
       ":   -1699.1%\n",
       ":   -1699.2%\n",
       ":   -1699.3%\n",
       ":   -1699.4%\n",
       ":   -1699.5%\n",
       ":   -1699.6%\n",
       ":   -1699.7%\n",
       ":   -1699.8%\n",
       ":   -1599.9%\n",
       ":   -15100%\n",
       ":   -14\n",
       "\n"
      ],
      "text/plain": [
       "  99% 99.1% 99.2% 99.3% 99.4% 99.5% 99.6% 99.7% 99.8% 99.9%  100% \n",
       "  -16   -16   -16   -16   -16   -16   -16   -16   -15   -15   -14 "
      ]
     },
     "metadata": {},
     "output_type": "display_data"
    }
   ],
   "source": [
    "# show the quantile data 99%+ score\n",
    "quantile(randomScores1, seq(0.99,1,0.001))"
   ]
  },
  {
   "cell_type": "code",
   "execution_count": 53,
   "id": "e6a3460f",
   "metadata": {
    "execution": {
     "iopub.execute_input": "2022-08-02T17:17:06.351233Z",
     "iopub.status.busy": "2022-08-02T17:17:06.349445Z",
     "iopub.status.idle": "2022-08-02T17:17:06.370338Z",
     "shell.execute_reply": "2022-08-02T17:17:06.368694Z"
    },
    "papermill": {
     "duration": 0.473554,
     "end_time": "2022-08-02T17:17:06.370504",
     "exception": false,
     "start_time": "2022-08-02T17:17:05.896950",
     "status": "completed"
    },
    "tags": []
   },
   "outputs": [
    {
     "data": {
      "text/plain": [
       "       \n",
       "         0  1  2  3  4  5  6  7  8  9 10 11 12 13 14 15 16 17 18 19 20 21 22 23\n",
       "  FALSE 18 26 21 17 31 25 27 29 30 30 37 26 29 25 30 27 32 29 36 16 23 23 32 27\n",
       "  TRUE   0  0  0  0  0  0  0  0  0  0  0  0  0  0  0  0  0  0  0  0  0  0  0  0\n",
       "       \n",
       "        24 25 26 27 28 29 30 31 32 33 34 35 36\n",
       "  FALSE 31 24 25 28 31  4  0  0  0  0  0  0  0\n",
       "  TRUE   0  0  0  0  0 23 26 25 28 25 34 23 27"
      ]
     },
     "metadata": {},
     "output_type": "display_data"
    }
   ],
   "source": [
    "# find places where the adapter scores are higher than in baseline (using onlu 99.9% quartile data only) \n",
    "# 29th character += \n",
    "table(adapterAligns1_score > quantile(randomScores1,0.999), experiment[[\"width\"]])"
   ]
  },
  {
   "cell_type": "markdown",
   "id": "4bbc11d2",
   "metadata": {
    "papermill": {
     "duration": 0.451277,
     "end_time": "2022-08-02T17:17:07.313777",
     "exception": false,
     "start_time": "2022-08-02T17:17:06.862500",
     "status": "completed"
    },
    "tags": []
   },
   "source": [
    "# <b>3 <span style='color:#6846D5'> | </span> ALIGNMENT OBJECTS</b>\n",
    "\n",
    "- Quite a number of application in Bioinformatics involve the use of **<span style='color:#6846D5'>biological sequence alignment</span>**\n",
    "- We can read an alignment file using **<span style='color:#6846D5'>readDNAMultipleAlignment</span>(filepath)**, examples shown below\n",
    "- **Masking** is also used for various operations surrounding sequence alignments, in particular when we have lots of gaps in our alignments & want to remove them before using the data for analysis\n",
    "\n",
    "<div style=\"color:white;display:fill;border-radius:8px;\n",
    "            background-color:#323232;font-size:150%;\n",
    "            font-family:Nexa;letter-spacing:0.5px\">\n",
    "    <p style=\"padding: 8px;color:white;\"><b>3.1 | IO ALIGNMENT</b></p>\n",
    "</div>\n",
    "\n",
    "### **<span style='color:#6846D5'>READ ALIGNMENT</span>**\n",
    "**<span style='color:#6846D5'>Read Alignment</span>** | Two formats used for alignment: **<mark style=\"background-color:#6846D5;color:white;border-radius:5px;opacity:0.9\">clustal</mark>**, **<mark style=\"background-color:#6846D5;color:white;border-radius:5px;opacity:0.9\">phylip</mark>**"
   ]
  },
  {
   "cell_type": "code",
   "execution_count": 54,
   "id": "19d3e03f",
   "metadata": {
    "execution": {
     "iopub.execute_input": "2022-08-02T17:17:08.223663Z",
     "iopub.status.busy": "2022-08-02T17:17:08.222042Z",
     "iopub.status.idle": "2022-08-02T17:17:08.338636Z",
     "shell.execute_reply": "2022-08-02T17:17:08.337458Z"
    },
    "papermill": {
     "duration": 0.577495,
     "end_time": "2022-08-02T17:17:08.338797",
     "exception": false,
     "start_time": "2022-08-02T17:17:07.761302",
     "status": "completed"
    },
    "tags": []
   },
   "outputs": [],
   "source": [
    "# [1] read clustaw format (.aln)\n",
    "origMAlign <- readDNAMultipleAlignment(filepath = system.file(\"extdata\",\"msx2_mRNA.aln\",\n",
    "                                                              package=\"Biostrings\"),\n",
    "                                                              format=\"clustal\")\n",
    "# [1] read phylip format (.txt)\n",
    "phylipMAlign <- readAAMultipleAlignment(filepath = system.file(\"extdata\",\"Phylip.txt\",\n",
    "                                                               package=\"Biostrings\"),\n",
    "                                                               format=\"phylip\")"
   ]
  },
  {
   "cell_type": "markdown",
   "id": "da4b951f",
   "metadata": {
    "papermill": {
     "duration": 0.448075,
     "end_time": "2022-08-02T17:17:09.235053",
     "exception": false,
     "start_time": "2022-08-02T17:17:08.786978",
     "status": "completed"
    },
    "tags": []
   },
   "source": [
    "### **<span style='color:#6846D5'>WRITING ALIGNMENT TO FILE</span>**\n",
    "We can write alignments using two different formats; **<mark style=\"background-color:#6846D5;color:white;border-radius:5px;opacity:0.9\">FASTA</mark>** & **<mark style=\"background-color:#6846D5;color:white;border-radius:5px;opacity:0.9\">Phylip</mark>** formats"
   ]
  },
  {
   "cell_type": "code",
   "execution_count": 55,
   "id": "f8778fb7",
   "metadata": {
    "execution": {
     "iopub.execute_input": "2022-08-02T17:17:10.151216Z",
     "iopub.status.busy": "2022-08-02T17:17:10.148856Z",
     "iopub.status.idle": "2022-08-02T17:17:10.190137Z",
     "shell.execute_reply": "2022-08-02T17:17:10.188286Z"
    },
    "papermill": {
     "duration": 0.510779,
     "end_time": "2022-08-02T17:17:10.190348",
     "exception": false,
     "start_time": "2022-08-02T17:17:09.679569",
     "status": "completed"
    },
    "tags": []
   },
   "outputs": [
    {
     "data": {
      "text/plain": [
       "DNAMultipleAlignment with 8 rows and 2343 columns\n",
       "     aln                                                    names               \n",
       "[1] -----\u001b[47m\u001b[30mT\u001b[39m\u001b[49m\u001b[47m\u001b[30mC\u001b[39m\u001b[49m\u001b[47m\u001b[30mC\u001b[39m\u001b[49m\u001b[47m\u001b[30mC\u001b[39m\u001b[49m\u001b[47m\u001b[30mG\u001b[39m\u001b[49m\u001b[47m\u001b[30mT\u001b[39m\u001b[49m\u001b[47m\u001b[30mC\u001b[39m\u001b[49m\u001b[47m\u001b[30mT\u001b[39m\u001b[49m\u001b[47m\u001b[30mC\u001b[39m\u001b[49m\u001b[47m\u001b[30mC\u001b[39m\u001b[49m\u001b[47m\u001b[30mG\u001b[39m\u001b[49m\u001b[47m\u001b[30mC\u001b[39m\u001b[49m\u001b[47m\u001b[30mA\u001b[39m\u001b[49m\u001b[47m\u001b[30mG\u001b[39m\u001b[49m\u001b[47m\u001b[30mC\u001b[39m\u001b[49m\u001b[47m\u001b[30mA\u001b[39m\u001b[49m\u001b[47m\u001b[30mA\u001b[39m\u001b[49m\u001b[47m\u001b[30mA\u001b[39m\u001b[49m\u001b[47m\u001b[30mA\u001b[39m\u001b[49m\u001b[47m\u001b[30mA\u001b[39m\u001b[49m\u001b[47m\u001b[30mA\u001b[39m\u001b[49m...\u001b[47m\u001b[30mT\u001b[39m\u001b[49m\u001b[47m\u001b[30mC\u001b[39m\u001b[49m\u001b[47m\u001b[30mA\u001b[39m\u001b[49m\u001b[47m\u001b[30mC\u001b[39m\u001b[49m\u001b[47m\u001b[30mA\u001b[39m\u001b[49m\u001b[47m\u001b[30mA\u001b[39m\u001b[49m\u001b[47m\u001b[30mT\u001b[39m\u001b[49m\u001b[47m\u001b[30mT\u001b[39m\u001b[49m\u001b[47m\u001b[30mA\u001b[39m\u001b[49m\u001b[47m\u001b[30mA\u001b[39m\u001b[49m\u001b[47m\u001b[30mA\u001b[39m\u001b[49m\u001b[47m\u001b[30mA\u001b[39m\u001b[49m\u001b[47m\u001b[30mA\u001b[39m\u001b[49m\u001b[47m\u001b[30mA\u001b[39m\u001b[49m\u001b[47m\u001b[30mA\u001b[39m\u001b[49m\u001b[47m\u001b[30mA\u001b[39m\u001b[49m\u001b[47m\u001b[30mA\u001b[39m\u001b[49m\u001b[47m\u001b[30mA\u001b[39m\u001b[49m\u001b[47m\u001b[30mA\u001b[39m\u001b[49m\u001b[47m\u001b[30mA\u001b[39m\u001b[49m\u001b[47m\u001b[30mA\u001b[39m\u001b[49m\u001b[47m\u001b[30mA\u001b[39m\u001b[49m\u001b[47m\u001b[30mA\u001b[39m\u001b[49m\u001b[47m\u001b[30mA\u001b[39m\u001b[49m\u001b[47m\u001b[30mA\u001b[39m\u001b[49m gi|84452153|ref|N...\n",
       "[2] --------------------------...------------------------- gi|208431713|ref|...\n",
       "[3] --------------------------...------------------------- gi|118601823|ref|...\n",
       "[4] ----------------------\u001b[47m\u001b[30mA\u001b[39m\u001b[49m\u001b[47m\u001b[30mA\u001b[39m\u001b[49m\u001b[47m\u001b[30mA\u001b[39m\u001b[49m\u001b[47m\u001b[30mA\u001b[39m\u001b[49m...------------------------- gi|114326503|ref|...\n",
       "[5] --------------------------...------------------------- gi|119220589|ref|...\n",
       "[6] --------------------------...------------------------- gi|148540149|ref|...\n",
       "[7] --------------\u001b[47m\u001b[30mC\u001b[39m\u001b[49m\u001b[47m\u001b[30mG\u001b[39m\u001b[49m\u001b[47m\u001b[30mG\u001b[39m\u001b[49m\u001b[47m\u001b[30mC\u001b[39m\u001b[49m\u001b[47m\u001b[30mT\u001b[39m\u001b[49m\u001b[47m\u001b[30mC\u001b[39m\u001b[49m\u001b[47m\u001b[30mC\u001b[39m\u001b[49m\u001b[47m\u001b[30mG\u001b[39m\u001b[49m\u001b[47m\u001b[30mC\u001b[39m\u001b[49m\u001b[47m\u001b[30mA\u001b[39m\u001b[49m\u001b[47m\u001b[30mG\u001b[39m\u001b[49m\u001b[47m\u001b[30mC\u001b[39m\u001b[49m...------------------------- gi|45383056|ref|N...\n",
       "[8] \u001b[47m\u001b[30mG\u001b[39m\u001b[49m\u001b[47m\u001b[30mG\u001b[39m\u001b[49m\u001b[47m\u001b[30mG\u001b[39m\u001b[49m\u001b[47m\u001b[30mG\u001b[39m\u001b[49m\u001b[47m\u001b[30mG\u001b[39m\u001b[49m\u001b[47m\u001b[30mA\u001b[39m\u001b[49m\u001b[47m\u001b[30mG\u001b[39m\u001b[49m\u001b[47m\u001b[30mA\u001b[39m\u001b[49m\u001b[47m\u001b[30mC\u001b[39m\u001b[49m\u001b[47m\u001b[30mT\u001b[39m\u001b[49m\u001b[47m\u001b[30mT\u001b[39m\u001b[49m\u001b[47m\u001b[30mC\u001b[39m\u001b[49m\u001b[47m\u001b[30mA\u001b[39m\u001b[49m\u001b[47m\u001b[30mG\u001b[39m\u001b[49m\u001b[47m\u001b[30mA\u001b[39m\u001b[49m\u001b[47m\u001b[30mA\u001b[39m\u001b[49m\u001b[47m\u001b[30mG\u001b[39m\u001b[49m\u001b[47m\u001b[30mT\u001b[39m\u001b[49m\u001b[47m\u001b[30mT\u001b[39m\u001b[49m\u001b[47m\u001b[30mG\u001b[39m\u001b[49m\u001b[47m\u001b[30mT\u001b[39m\u001b[49m\u001b[47m\u001b[30mT\u001b[39m\u001b[49m\u001b[47m\u001b[30mG\u001b[39m\u001b[49m\u001b[47m\u001b[30mT\u001b[39m\u001b[49m\u001b[47m\u001b[30mC\u001b[39m\u001b[49m\u001b[47m\u001b[30mC\u001b[39m\u001b[49m...------------------------- gi|213515133|ref|..."
      ]
     },
     "metadata": {},
     "output_type": "display_data"
    }
   ],
   "source": [
    "origMAlign"
   ]
  },
  {
   "cell_type": "code",
   "execution_count": 56,
   "id": "ba326f32",
   "metadata": {
    "execution": {
     "iopub.execute_input": "2022-08-02T17:17:11.101207Z",
     "iopub.status.busy": "2022-08-02T17:17:11.098948Z",
     "iopub.status.idle": "2022-08-02T17:17:11.220388Z",
     "shell.execute_reply": "2022-08-02T17:17:11.218536Z"
    },
    "papermill": {
     "duration": 0.579453,
     "end_time": "2022-08-02T17:17:11.220576",
     "exception": false,
     "start_time": "2022-08-02T17:17:10.641123",
     "status": "completed"
    },
    "tags": []
   },
   "outputs": [],
   "source": [
    "# Write to FASTA alignment format\n",
    "DNAStr = as(origMAlign, \"DNAStringSet\") # change DNAMultipleAlignment -> DNAStringSet\n",
    "\n",
    "# Write to Files\n",
    "writeXStringSet(DNAStr, file=\"DNAStr.fasta\") # write in FASTA format\n",
    "write.phylip(phylipMAlign, filepath=\"phylipMAlign.txt\") # write in Phylip Format"
   ]
  },
  {
   "cell_type": "markdown",
   "id": "84b5416d",
   "metadata": {
    "papermill": {
     "duration": 0.448572,
     "end_time": "2022-08-02T17:17:12.116498",
     "exception": false,
     "start_time": "2022-08-02T17:17:11.667926",
     "status": "completed"
    },
    "tags": []
   },
   "source": [
    "### **<span style='color:#6846D5'>DISPLAY ALIGNMENT</span>**\n",
    "We can display the alignment via the object instance & the get the corresponding individual alignment name using <code>rownames</code> "
   ]
  },
  {
   "cell_type": "code",
   "execution_count": 57,
   "id": "3754d5fe",
   "metadata": {
    "execution": {
     "iopub.execute_input": "2022-08-02T17:17:13.027585Z",
     "iopub.status.busy": "2022-08-02T17:17:13.025381Z",
     "iopub.status.idle": "2022-08-02T17:17:13.067840Z",
     "shell.execute_reply": "2022-08-02T17:17:13.065788Z"
    },
    "papermill": {
     "duration": 0.502951,
     "end_time": "2022-08-02T17:17:13.068034",
     "exception": false,
     "start_time": "2022-08-02T17:17:12.565083",
     "status": "completed"
    },
    "tags": []
   },
   "outputs": [
    {
     "data": {
      "text/plain": [
       "DNAMultipleAlignment with 8 rows and 2343 columns\n",
       "     aln                                                    names               \n",
       "[1] -----\u001b[47m\u001b[30mT\u001b[39m\u001b[49m\u001b[47m\u001b[30mC\u001b[39m\u001b[49m\u001b[47m\u001b[30mC\u001b[39m\u001b[49m\u001b[47m\u001b[30mC\u001b[39m\u001b[49m\u001b[47m\u001b[30mG\u001b[39m\u001b[49m\u001b[47m\u001b[30mT\u001b[39m\u001b[49m\u001b[47m\u001b[30mC\u001b[39m\u001b[49m\u001b[47m\u001b[30mT\u001b[39m\u001b[49m\u001b[47m\u001b[30mC\u001b[39m\u001b[49m\u001b[47m\u001b[30mC\u001b[39m\u001b[49m\u001b[47m\u001b[30mG\u001b[39m\u001b[49m\u001b[47m\u001b[30mC\u001b[39m\u001b[49m\u001b[47m\u001b[30mA\u001b[39m\u001b[49m\u001b[47m\u001b[30mG\u001b[39m\u001b[49m\u001b[47m\u001b[30mC\u001b[39m\u001b[49m\u001b[47m\u001b[30mA\u001b[39m\u001b[49m\u001b[47m\u001b[30mA\u001b[39m\u001b[49m\u001b[47m\u001b[30mA\u001b[39m\u001b[49m\u001b[47m\u001b[30mA\u001b[39m\u001b[49m\u001b[47m\u001b[30mA\u001b[39m\u001b[49m\u001b[47m\u001b[30mA\u001b[39m\u001b[49m...\u001b[47m\u001b[30mT\u001b[39m\u001b[49m\u001b[47m\u001b[30mC\u001b[39m\u001b[49m\u001b[47m\u001b[30mA\u001b[39m\u001b[49m\u001b[47m\u001b[30mC\u001b[39m\u001b[49m\u001b[47m\u001b[30mA\u001b[39m\u001b[49m\u001b[47m\u001b[30mA\u001b[39m\u001b[49m\u001b[47m\u001b[30mT\u001b[39m\u001b[49m\u001b[47m\u001b[30mT\u001b[39m\u001b[49m\u001b[47m\u001b[30mA\u001b[39m\u001b[49m\u001b[47m\u001b[30mA\u001b[39m\u001b[49m\u001b[47m\u001b[30mA\u001b[39m\u001b[49m\u001b[47m\u001b[30mA\u001b[39m\u001b[49m\u001b[47m\u001b[30mA\u001b[39m\u001b[49m\u001b[47m\u001b[30mA\u001b[39m\u001b[49m\u001b[47m\u001b[30mA\u001b[39m\u001b[49m\u001b[47m\u001b[30mA\u001b[39m\u001b[49m\u001b[47m\u001b[30mA\u001b[39m\u001b[49m\u001b[47m\u001b[30mA\u001b[39m\u001b[49m\u001b[47m\u001b[30mA\u001b[39m\u001b[49m\u001b[47m\u001b[30mA\u001b[39m\u001b[49m\u001b[47m\u001b[30mA\u001b[39m\u001b[49m\u001b[47m\u001b[30mA\u001b[39m\u001b[49m\u001b[47m\u001b[30mA\u001b[39m\u001b[49m\u001b[47m\u001b[30mA\u001b[39m\u001b[49m\u001b[47m\u001b[30mA\u001b[39m\u001b[49m gi|84452153|ref|N...\n",
       "[2] --------------------------...------------------------- gi|208431713|ref|...\n",
       "[3] --------------------------...------------------------- gi|118601823|ref|...\n",
       "[4] ----------------------\u001b[47m\u001b[30mA\u001b[39m\u001b[49m\u001b[47m\u001b[30mA\u001b[39m\u001b[49m\u001b[47m\u001b[30mA\u001b[39m\u001b[49m\u001b[47m\u001b[30mA\u001b[39m\u001b[49m...------------------------- gi|114326503|ref|...\n",
       "[5] --------------------------...------------------------- gi|119220589|ref|...\n",
       "[6] --------------------------...------------------------- gi|148540149|ref|...\n",
       "[7] --------------\u001b[47m\u001b[30mC\u001b[39m\u001b[49m\u001b[47m\u001b[30mG\u001b[39m\u001b[49m\u001b[47m\u001b[30mG\u001b[39m\u001b[49m\u001b[47m\u001b[30mC\u001b[39m\u001b[49m\u001b[47m\u001b[30mT\u001b[39m\u001b[49m\u001b[47m\u001b[30mC\u001b[39m\u001b[49m\u001b[47m\u001b[30mC\u001b[39m\u001b[49m\u001b[47m\u001b[30mG\u001b[39m\u001b[49m\u001b[47m\u001b[30mC\u001b[39m\u001b[49m\u001b[47m\u001b[30mA\u001b[39m\u001b[49m\u001b[47m\u001b[30mG\u001b[39m\u001b[49m\u001b[47m\u001b[30mC\u001b[39m\u001b[49m...------------------------- gi|45383056|ref|N...\n",
       "[8] \u001b[47m\u001b[30mG\u001b[39m\u001b[49m\u001b[47m\u001b[30mG\u001b[39m\u001b[49m\u001b[47m\u001b[30mG\u001b[39m\u001b[49m\u001b[47m\u001b[30mG\u001b[39m\u001b[49m\u001b[47m\u001b[30mG\u001b[39m\u001b[49m\u001b[47m\u001b[30mA\u001b[39m\u001b[49m\u001b[47m\u001b[30mG\u001b[39m\u001b[49m\u001b[47m\u001b[30mA\u001b[39m\u001b[49m\u001b[47m\u001b[30mC\u001b[39m\u001b[49m\u001b[47m\u001b[30mT\u001b[39m\u001b[49m\u001b[47m\u001b[30mT\u001b[39m\u001b[49m\u001b[47m\u001b[30mC\u001b[39m\u001b[49m\u001b[47m\u001b[30mA\u001b[39m\u001b[49m\u001b[47m\u001b[30mG\u001b[39m\u001b[49m\u001b[47m\u001b[30mA\u001b[39m\u001b[49m\u001b[47m\u001b[30mA\u001b[39m\u001b[49m\u001b[47m\u001b[30mG\u001b[39m\u001b[49m\u001b[47m\u001b[30mT\u001b[39m\u001b[49m\u001b[47m\u001b[30mT\u001b[39m\u001b[49m\u001b[47m\u001b[30mG\u001b[39m\u001b[49m\u001b[47m\u001b[30mT\u001b[39m\u001b[49m\u001b[47m\u001b[30mT\u001b[39m\u001b[49m\u001b[47m\u001b[30mG\u001b[39m\u001b[49m\u001b[47m\u001b[30mT\u001b[39m\u001b[49m\u001b[47m\u001b[30mC\u001b[39m\u001b[49m\u001b[47m\u001b[30mC\u001b[39m\u001b[49m...------------------------- gi|213515133|ref|..."
      ]
     },
     "metadata": {},
     "output_type": "display_data"
    }
   ],
   "source": [
    "# display an alignment\n",
    "origMAlign"
   ]
  },
  {
   "cell_type": "code",
   "execution_count": 58,
   "id": "841b5ea1",
   "metadata": {
    "execution": {
     "iopub.execute_input": "2022-08-02T17:17:13.986814Z",
     "iopub.status.busy": "2022-08-02T17:17:13.984529Z",
     "iopub.status.idle": "2022-08-02T17:17:14.055817Z",
     "shell.execute_reply": "2022-08-02T17:17:14.053793Z"
    },
    "papermill": {
     "duration": 0.539053,
     "end_time": "2022-08-02T17:17:14.056007",
     "exception": false,
     "start_time": "2022-08-02T17:17:13.516954",
     "status": "completed"
    },
    "tags": []
   },
   "outputs": [
    {
     "data": {
      "text/plain": [
       "AAMultipleAlignment with 24 rows and 181 columns\n",
       "      aln                                                   names               \n",
       " [1] YVID-QMISAKAIAARVEALGAEIT...VVGYGLDYAQNHRNLPFIGTVRFTD hprt_rhoca\n",
       " [2] HHVD-VLISENDVHARIAELGAQIT...VVGYGIDYAQRHRNLGYIGKVVLEE hprt_haein\n",
       " [3] HHVD-VLISENDVHARIAELGAQIT...VVGYGIDYAQRHRNLGYIGKVVLEE hprt_haein\n",
       " [4] HTVE-VMISEQEVQERIRELGKQIT...VVGVGIDYAQKYRDLPFIGKVVPQE hprt_vibha\n",
       " [5] HTVE-VMIPEAEIKARIAELGRQIT...VVGYGIDYAQRYRHLPYIGKVILLD hprt_ecoli\n",
       " [6] EDLEKVFIPHGLIMDRTERLARDVM...VVGYALDYNEYFRDLNHVCVISESG hprt_merun\n",
       " [7] EDLERVFIPHGLIMDRTERLARDVM...VVGYALDYNEYFRDLNHVCVISETG hprt_monke\n",
       " [8] EDLERVFIPHGLIMDRTERLARDVM...VVGYALDYNEYFRDLNHVCVISETG hprt_human\n",
       " [9] EDLEKVFIPHGLIMDRTERLARDVM...VVGYALDYNEHFRDLNHVCVISESG hprt_rat\n",
       " ... ...\n",
       "[16] DVLESLLATFEECKALAADTARRMN...LIGFGLDDNGLRRGWAHLFDINLSE gprt_giard\n",
       "[17] DFATSVLFTEAELHTRMRGVAQRIA...VVGYGLDYDQSYREVRDVVILKPSV hprt_trybb\n",
       "[18] EFAEKILFTEEEIRTRIMEVAKRIA...VIGYGLDYDDTYRELRDIVVLRPEV hprt_tcruz\n",
       "[19] PMSAHTLVTQEQVWAATAKCAKKIA...VIGYGMDYAESYRELRDICVLKKEY hprt_leido\n",
       "[20] PMSCRTLATQEQIWSATAKCAKQIA...VIGYGMDFAEAYRELRDVCVLKKEY hprt_crifa\n",
       "[21] DDLERVLYNQDDIQKRIRELAAELT...IIGYGFDFHNKYRNLPVIGILKESV hgxr_trifp\n",
       "[22] KAIEKVLVSEEEIIEKSKELGEILT...VVGFGLDYEENYRNLPYVGVLKPEV hprt_lacla\n",
       "[23] HDIEKVLISEEEIQKKVKELGAELT...VVGYGLDYAERYRNLPYIGVLKPAV hprt_bacsu\n",
       "[24] MGIKSIVINEQQIEEGCQKAVNWCN...LVGFGLDYDGFYRNLPYVGVFEPDN hprt_mycge"
      ]
     },
     "metadata": {},
     "output_type": "display_data"
    }
   ],
   "source": [
    "# display alignment\n",
    "phylipMAlign"
   ]
  },
  {
   "cell_type": "code",
   "execution_count": 59,
   "id": "73ac9a0a",
   "metadata": {
    "execution": {
     "iopub.execute_input": "2022-08-02T17:17:15.021351Z",
     "iopub.status.busy": "2022-08-02T17:17:15.019206Z",
     "iopub.status.idle": "2022-08-02T17:17:15.047880Z",
     "shell.execute_reply": "2022-08-02T17:17:15.046140Z"
    },
    "papermill": {
     "duration": 0.535416,
     "end_time": "2022-08-02T17:17:15.048053",
     "exception": false,
     "start_time": "2022-08-02T17:17:14.512637",
     "status": "completed"
    },
    "tags": []
   },
   "outputs": [
    {
     "data": {
      "text/html": [
       "<style>\n",
       ".list-inline {list-style: none; margin:0; padding: 0}\n",
       ".list-inline>li {display: inline-block}\n",
       ".list-inline>li:not(:last-child)::after {content: \"\\00b7\"; padding: 0 .5ex}\n",
       "</style>\n",
       "<ol class=list-inline><li>'gi|84452153|ref|NM_002449.4|'</li><li>'gi|208431713|ref|NM_001135625.'</li><li>'gi|118601823|ref|NM_001079614.'</li><li>'gi|114326503|ref|NM_013601.2|'</li><li>'gi|119220589|ref|NM_012982.3|'</li><li>'gi|148540149|ref|NM_001003098.'</li><li>'gi|45383056|ref|NM_204559.1|'</li><li>'gi|213515133|ref|NM_001141603.'</li></ol>\n"
      ],
      "text/latex": [
       "\\begin{enumerate*}\n",
       "\\item 'gi\\textbar{}84452153\\textbar{}ref\\textbar{}NM\\_002449.4\\textbar{}'\n",
       "\\item 'gi\\textbar{}208431713\\textbar{}ref\\textbar{}NM\\_001135625.'\n",
       "\\item 'gi\\textbar{}118601823\\textbar{}ref\\textbar{}NM\\_001079614.'\n",
       "\\item 'gi\\textbar{}114326503\\textbar{}ref\\textbar{}NM\\_013601.2\\textbar{}'\n",
       "\\item 'gi\\textbar{}119220589\\textbar{}ref\\textbar{}NM\\_012982.3\\textbar{}'\n",
       "\\item 'gi\\textbar{}148540149\\textbar{}ref\\textbar{}NM\\_001003098.'\n",
       "\\item 'gi\\textbar{}45383056\\textbar{}ref\\textbar{}NM\\_204559.1\\textbar{}'\n",
       "\\item 'gi\\textbar{}213515133\\textbar{}ref\\textbar{}NM\\_001141603.'\n",
       "\\end{enumerate*}\n"
      ],
      "text/markdown": [
       "1. 'gi|84452153|ref|NM_002449.4|'\n",
       "2. 'gi|208431713|ref|NM_001135625.'\n",
       "3. 'gi|118601823|ref|NM_001079614.'\n",
       "4. 'gi|114326503|ref|NM_013601.2|'\n",
       "5. 'gi|119220589|ref|NM_012982.3|'\n",
       "6. 'gi|148540149|ref|NM_001003098.'\n",
       "7. 'gi|45383056|ref|NM_204559.1|'\n",
       "8. 'gi|213515133|ref|NM_001141603.'\n",
       "\n",
       "\n"
      ],
      "text/plain": [
       "[1] \"gi|84452153|ref|NM_002449.4|\"   \"gi|208431713|ref|NM_001135625.\"\n",
       "[3] \"gi|118601823|ref|NM_001079614.\" \"gi|114326503|ref|NM_013601.2|\" \n",
       "[5] \"gi|119220589|ref|NM_012982.3|\"  \"gi|148540149|ref|NM_001003098.\"\n",
       "[7] \"gi|45383056|ref|NM_204559.1|\"   \"gi|213515133|ref|NM_001141603.\""
      ]
     },
     "metadata": {},
     "output_type": "display_data"
    },
    {
     "data": {
      "text/html": [
       "'gi|84452153|ref|NM_002449.4|'"
      ],
      "text/latex": [
       "'gi\\textbar{}84452153\\textbar{}ref\\textbar{}NM\\_002449.4\\textbar{}'"
      ],
      "text/markdown": [
       "'gi|84452153|ref|NM_002449.4|'"
      ],
      "text/plain": [
       "[1] \"gi|84452153|ref|NM_002449.4|\""
      ]
     },
     "metadata": {},
     "output_type": "display_data"
    }
   ],
   "source": [
    "# Show row names\n",
    "rownames(origMAlign)           # show all \n",
    "rownames(origMAlign)[1]        # show just the one"
   ]
  },
  {
   "cell_type": "markdown",
   "id": "af928ed7",
   "metadata": {
    "papermill": {
     "duration": 0.46726,
     "end_time": "2022-08-02T17:17:15.980952",
     "exception": false,
     "start_time": "2022-08-02T17:17:15.513692",
     "status": "completed"
    },
    "tags": []
   },
   "source": [
    "### **<span style='color:#6846D5'>CHANGE ALIGNMENT NAMES</span>**\n",
    "**<span style='color:#6846D5'>Set Alignment Names</span>** | <code>rownames(aln)</code> - Replace alignment names if we need to make it more clear for interpretation"
   ]
  },
  {
   "cell_type": "code",
   "execution_count": 60,
   "id": "6991d778",
   "metadata": {
    "execution": {
     "iopub.execute_input": "2022-08-02T17:17:16.962101Z",
     "iopub.status.busy": "2022-08-02T17:17:16.960118Z",
     "iopub.status.idle": "2022-08-02T17:17:17.004236Z",
     "shell.execute_reply": "2022-08-02T17:17:17.002189Z"
    },
    "papermill": {
     "duration": 0.536277,
     "end_time": "2022-08-02T17:17:17.004451",
     "exception": false,
     "start_time": "2022-08-02T17:17:16.468174",
     "status": "completed"
    },
    "tags": []
   },
   "outputs": [
    {
     "data": {
      "text/plain": [
       "DNAMultipleAlignment with 8 rows and 2343 columns\n",
       "     aln                                                    names               \n",
       "[1] -----\u001b[47m\u001b[30mT\u001b[39m\u001b[49m\u001b[47m\u001b[30mC\u001b[39m\u001b[49m\u001b[47m\u001b[30mC\u001b[39m\u001b[49m\u001b[47m\u001b[30mC\u001b[39m\u001b[49m\u001b[47m\u001b[30mG\u001b[39m\u001b[49m\u001b[47m\u001b[30mT\u001b[39m\u001b[49m\u001b[47m\u001b[30mC\u001b[39m\u001b[49m\u001b[47m\u001b[30mT\u001b[39m\u001b[49m\u001b[47m\u001b[30mC\u001b[39m\u001b[49m\u001b[47m\u001b[30mC\u001b[39m\u001b[49m\u001b[47m\u001b[30mG\u001b[39m\u001b[49m\u001b[47m\u001b[30mC\u001b[39m\u001b[49m\u001b[47m\u001b[30mA\u001b[39m\u001b[49m\u001b[47m\u001b[30mG\u001b[39m\u001b[49m\u001b[47m\u001b[30mC\u001b[39m\u001b[49m\u001b[47m\u001b[30mA\u001b[39m\u001b[49m\u001b[47m\u001b[30mA\u001b[39m\u001b[49m\u001b[47m\u001b[30mA\u001b[39m\u001b[49m\u001b[47m\u001b[30mA\u001b[39m\u001b[49m\u001b[47m\u001b[30mA\u001b[39m\u001b[49m\u001b[47m\u001b[30mA\u001b[39m\u001b[49m...\u001b[47m\u001b[30mT\u001b[39m\u001b[49m\u001b[47m\u001b[30mC\u001b[39m\u001b[49m\u001b[47m\u001b[30mA\u001b[39m\u001b[49m\u001b[47m\u001b[30mC\u001b[39m\u001b[49m\u001b[47m\u001b[30mA\u001b[39m\u001b[49m\u001b[47m\u001b[30mA\u001b[39m\u001b[49m\u001b[47m\u001b[30mT\u001b[39m\u001b[49m\u001b[47m\u001b[30mT\u001b[39m\u001b[49m\u001b[47m\u001b[30mA\u001b[39m\u001b[49m\u001b[47m\u001b[30mA\u001b[39m\u001b[49m\u001b[47m\u001b[30mA\u001b[39m\u001b[49m\u001b[47m\u001b[30mA\u001b[39m\u001b[49m\u001b[47m\u001b[30mA\u001b[39m\u001b[49m\u001b[47m\u001b[30mA\u001b[39m\u001b[49m\u001b[47m\u001b[30mA\u001b[39m\u001b[49m\u001b[47m\u001b[30mA\u001b[39m\u001b[49m\u001b[47m\u001b[30mA\u001b[39m\u001b[49m\u001b[47m\u001b[30mA\u001b[39m\u001b[49m\u001b[47m\u001b[30mA\u001b[39m\u001b[49m\u001b[47m\u001b[30mA\u001b[39m\u001b[49m\u001b[47m\u001b[30mA\u001b[39m\u001b[49m\u001b[47m\u001b[30mA\u001b[39m\u001b[49m\u001b[47m\u001b[30mA\u001b[39m\u001b[49m\u001b[47m\u001b[30mA\u001b[39m\u001b[49m\u001b[47m\u001b[30mA\u001b[39m\u001b[49m Human\n",
       "[2] --------------------------...------------------------- Chimp\n",
       "[3] --------------------------...------------------------- Cow\n",
       "[4] ----------------------\u001b[47m\u001b[30mA\u001b[39m\u001b[49m\u001b[47m\u001b[30mA\u001b[39m\u001b[49m\u001b[47m\u001b[30mA\u001b[39m\u001b[49m\u001b[47m\u001b[30mA\u001b[39m\u001b[49m...------------------------- Mouse\n",
       "[5] --------------------------...------------------------- Rat\n",
       "[6] --------------------------...------------------------- Dog\n",
       "[7] --------------\u001b[47m\u001b[30mC\u001b[39m\u001b[49m\u001b[47m\u001b[30mG\u001b[39m\u001b[49m\u001b[47m\u001b[30mG\u001b[39m\u001b[49m\u001b[47m\u001b[30mC\u001b[39m\u001b[49m\u001b[47m\u001b[30mT\u001b[39m\u001b[49m\u001b[47m\u001b[30mC\u001b[39m\u001b[49m\u001b[47m\u001b[30mC\u001b[39m\u001b[49m\u001b[47m\u001b[30mG\u001b[39m\u001b[49m\u001b[47m\u001b[30mC\u001b[39m\u001b[49m\u001b[47m\u001b[30mA\u001b[39m\u001b[49m\u001b[47m\u001b[30mG\u001b[39m\u001b[49m\u001b[47m\u001b[30mC\u001b[39m\u001b[49m...------------------------- Chicken\n",
       "[8] \u001b[47m\u001b[30mG\u001b[39m\u001b[49m\u001b[47m\u001b[30mG\u001b[39m\u001b[49m\u001b[47m\u001b[30mG\u001b[39m\u001b[49m\u001b[47m\u001b[30mG\u001b[39m\u001b[49m\u001b[47m\u001b[30mG\u001b[39m\u001b[49m\u001b[47m\u001b[30mA\u001b[39m\u001b[49m\u001b[47m\u001b[30mG\u001b[39m\u001b[49m\u001b[47m\u001b[30mA\u001b[39m\u001b[49m\u001b[47m\u001b[30mC\u001b[39m\u001b[49m\u001b[47m\u001b[30mT\u001b[39m\u001b[49m\u001b[47m\u001b[30mT\u001b[39m\u001b[49m\u001b[47m\u001b[30mC\u001b[39m\u001b[49m\u001b[47m\u001b[30mA\u001b[39m\u001b[49m\u001b[47m\u001b[30mG\u001b[39m\u001b[49m\u001b[47m\u001b[30mA\u001b[39m\u001b[49m\u001b[47m\u001b[30mA\u001b[39m\u001b[49m\u001b[47m\u001b[30mG\u001b[39m\u001b[49m\u001b[47m\u001b[30mT\u001b[39m\u001b[49m\u001b[47m\u001b[30mT\u001b[39m\u001b[49m\u001b[47m\u001b[30mG\u001b[39m\u001b[49m\u001b[47m\u001b[30mT\u001b[39m\u001b[49m\u001b[47m\u001b[30mT\u001b[39m\u001b[49m\u001b[47m\u001b[30mG\u001b[39m\u001b[49m\u001b[47m\u001b[30mT\u001b[39m\u001b[49m\u001b[47m\u001b[30mC\u001b[39m\u001b[49m\u001b[47m\u001b[30mC\u001b[39m\u001b[49m...------------------------- Salmon"
      ]
     },
     "metadata": {},
     "output_type": "display_data"
    }
   ],
   "source": [
    "# [3] Make our own list of names & assign it to alignment rownames\n",
    "# These names are more are more easily interpretable\n",
    "rownames(origMAlign) <- c(\"Human\",\"Chimp\",\"Cow\",\"Mouse\",\"Rat\",\"Dog\",\"Chicken\",\"Salmon\") # concat characters\n",
    "origMAlign"
   ]
  },
  {
   "cell_type": "markdown",
   "id": "7b42b5fb",
   "metadata": {
    "papermill": {
     "duration": 0.523135,
     "end_time": "2022-08-02T17:17:18.017000",
     "exception": false,
     "start_time": "2022-08-02T17:17:17.493865",
     "status": "completed"
    },
    "tags": []
   },
   "source": [
    "### **<span style='color:#6846D5'>SHOW DETAILED ALIGNMENT</span>**\n",
    "**<span style='color:#6846D5'>Show entire alignment</span>** | <code>detail(aln)</code> - can be used to display the entire sequence alignment"
   ]
  },
  {
   "cell_type": "code",
   "execution_count": 61,
   "id": "64b64554",
   "metadata": {
    "execution": {
     "iopub.execute_input": "2022-08-02T17:17:18.947797Z",
     "iopub.status.busy": "2022-08-02T17:17:18.945992Z",
     "iopub.status.idle": "2022-08-02T17:17:18.959241Z",
     "shell.execute_reply": "2022-08-02T17:17:18.957834Z"
    },
    "papermill": {
     "duration": 0.486929,
     "end_time": "2022-08-02T17:17:18.959438",
     "exception": false,
     "start_time": "2022-08-02T17:17:18.472509",
     "status": "completed"
    },
    "tags": []
   },
   "outputs": [],
   "source": [
    "# [4] Detail provides a view for all of the alignment\n",
    "# detail(origMAlign)"
   ]
  },
  {
   "cell_type": "markdown",
   "id": "318293de",
   "metadata": {
    "papermill": {
     "duration": 0.460738,
     "end_time": "2022-08-02T17:17:19.879594",
     "exception": false,
     "start_time": "2022-08-02T17:17:19.418856",
     "status": "completed"
    },
    "tags": []
   },
   "source": [
    "<div style=\"color:white;display:fill;border-radius:8px;\n",
    "            background-color:#323232;font-size:150%;\n",
    "            font-family:Nexa;letter-spacing:0.5px\">\n",
    "    <p style=\"padding: 8px;color:white;\"><b>3.2 | ALIGNMENT MASKING</b></p>\n",
    "</div>\n",
    "\n",
    "We'll look at several types of alignment masking; **<span style='color:#6846D5'>basic masking</span>**, **<span style='color:#6846D5'>motif masking</span>** & **<span style='color:#6846D5'>gap masking</span>**\n",
    "\n",
    "### **<mark style=\"background-color:#6846D5;color:white;border-radius:5px;opacity:0.9\">BASIC</mark>** **MASKING**\n",
    "- **<span style='color:#6846D5'>Hiding Rows</span>** | <code>rowmask(aln)</code> - used for hiding some of the **row content** in an alignment \n",
    "- **<span style='color:#6846D5'>Hiding Columns</span>** | <code>colmask(aln)</code> - used for hiding some of the **column content** in an alignment "
   ]
  },
  {
   "cell_type": "code",
   "execution_count": 62,
   "id": "62b338cf",
   "metadata": {
    "execution": {
     "iopub.execute_input": "2022-08-02T17:17:20.799500Z",
     "iopub.status.busy": "2022-08-02T17:17:20.797997Z",
     "iopub.status.idle": "2022-08-02T17:17:20.899807Z",
     "shell.execute_reply": "2022-08-02T17:17:20.898035Z"
    },
    "papermill": {
     "duration": 0.565628,
     "end_time": "2022-08-02T17:17:20.899994",
     "exception": false,
     "start_time": "2022-08-02T17:17:20.334366",
     "status": "completed"
    },
    "tags": []
   },
   "outputs": [
    {
     "data": {
      "text/plain": [
       "DNAMultipleAlignment with 8 rows and 2343 columns\n",
       "     aln                                                    names               \n",
       "[1] ##########################...######################### Human\n",
       "[2] ##########################...######################### Chimp\n",
       "[3] ##########################...######################### Cow\n",
       "[4] ----------------------AAAA...------------------------- Mouse\n",
       "[5] --------------------------...------------------------- Rat\n",
       "[6] --------------------------...------------------------- Dog\n",
       "[7] --------------CGGCTCCGCAGC...------------------------- Chicken\n",
       "[8] GGGGGAGACTTCAGAAGTTGTTGTCC...------------------------- Salmon"
      ]
     },
     "metadata": {},
     "output_type": "display_data"
    }
   ],
   "source": [
    "# [5] We can set rowmask w/ IRanges to hide some rows in alignment\n",
    "# let's mask the first three rows\n",
    "\n",
    "Test <- origMAlign\n",
    "rowmask(Test) <- IRanges(start=1,end=3) # set int range function\n",
    "Test\n",
    "\n",
    "# remove rowmask\n",
    "rowmask(Test) <- NULL"
   ]
  },
  {
   "cell_type": "code",
   "execution_count": 63,
   "id": "3f2e1f80",
   "metadata": {
    "execution": {
     "iopub.execute_input": "2022-08-02T17:17:21.827262Z",
     "iopub.status.busy": "2022-08-02T17:17:21.825669Z",
     "iopub.status.idle": "2022-08-02T17:17:21.902739Z",
     "shell.execute_reply": "2022-08-02T17:17:21.901253Z"
    },
    "papermill": {
     "duration": 0.541586,
     "end_time": "2022-08-02T17:17:21.902931",
     "exception": false,
     "start_time": "2022-08-02T17:17:21.361345",
     "status": "completed"
    },
    "tags": []
   },
   "outputs": [
    {
     "data": {
      "text/plain": [
       "DNAMultipleAlignment with 8 rows and 2343 columns\n",
       "     aln                                                    names               \n",
       "[1] -###-###CGTCTCCGCAGCAAAAAA...TCACAATTAAAAAAAAAAAAAAAAA Human\n",
       "[2] -###-###------------------...------------------------- Chimp\n",
       "[3] -###-###------------------...------------------------- Cow\n",
       "[4] -###-###--------------AAAA...------------------------- Mouse\n",
       "[5] -###-###------------------...------------------------- Rat\n",
       "[6] -###-###------------------...------------------------- Dog\n",
       "[7] -###-###------CGGCTCCGCAGC...------------------------- Chicken\n",
       "[8] G###G###CTTCAGAAGTTGTTGTCC...------------------------- Salmon"
      ]
     },
     "metadata": {},
     "output_type": "display_data"
    }
   ],
   "source": [
    "# [6] We can also use column masking\n",
    "# concat can be used to select multiple locations\n",
    "# let's mask the columns -> 1-500 & 1000-2343\n",
    "\n",
    "Test <- origMAlign\n",
    "colmask(Test) <- IRanges(2,4)\n",
    "colmask(Test) <- IRanges(6,8) # You can add multiple masks as well\n",
    "Test\n",
    "\n",
    "# remove column mask\n",
    "colmask(Test) <- NULL"
   ]
  },
  {
   "cell_type": "markdown",
   "id": "16247f9f",
   "metadata": {
    "papermill": {
     "duration": 0.458994,
     "end_time": "2022-08-02T17:17:22.821485",
     "exception": false,
     "start_time": "2022-08-02T17:17:22.362491",
     "status": "completed"
    },
    "tags": []
   },
   "source": [
    "### **<mark style=\"background-color:#6846D5;color:white;border-radius:5px;opacity:0.9\">MOTIF</mark>** **MASKING**\n",
    "**<span style='color:#6846D5'>Masking with Motifs</span>** | Useful for **masking subsequence occurences** of a string from columns where it is present in the consensus sequence"
   ]
  },
  {
   "cell_type": "code",
   "execution_count": 64,
   "id": "30e286d6",
   "metadata": {
    "execution": {
     "iopub.execute_input": "2022-08-02T17:17:23.740979Z",
     "iopub.status.busy": "2022-08-02T17:17:23.739247Z",
     "iopub.status.idle": "2022-08-02T17:17:23.774451Z",
     "shell.execute_reply": "2022-08-02T17:17:23.772879Z"
    },
    "papermill": {
     "duration": 0.497179,
     "end_time": "2022-08-02T17:17:23.774632",
     "exception": false,
     "start_time": "2022-08-02T17:17:23.277453",
     "status": "completed"
    },
    "tags": []
   },
   "outputs": [
    {
     "data": {
      "text/plain": [
       "DNAMultipleAlignment with 8 rows and 2343 columns\n",
       "     aln                                                    names               \n",
       "[1] -----\u001b[47m\u001b[30mT\u001b[39m\u001b[49m\u001b[47m\u001b[30mC\u001b[39m\u001b[49m\u001b[47m\u001b[30mC\u001b[39m\u001b[49m\u001b[47m\u001b[30mC\u001b[39m\u001b[49m\u001b[47m\u001b[30mG\u001b[39m\u001b[49m\u001b[47m\u001b[30mT\u001b[39m\u001b[49m\u001b[47m\u001b[30mC\u001b[39m\u001b[49m\u001b[47m\u001b[30mT\u001b[39m\u001b[49m\u001b[47m\u001b[30mC\u001b[39m\u001b[49m\u001b[47m\u001b[30mC\u001b[39m\u001b[49m\u001b[47m\u001b[30mG\u001b[39m\u001b[49m\u001b[47m\u001b[30mC\u001b[39m\u001b[49m\u001b[47m\u001b[30mA\u001b[39m\u001b[49m\u001b[47m\u001b[30mG\u001b[39m\u001b[49m\u001b[47m\u001b[30mC\u001b[39m\u001b[49m\u001b[47m\u001b[30mA\u001b[39m\u001b[49m\u001b[47m\u001b[30mA\u001b[39m\u001b[49m\u001b[47m\u001b[30mA\u001b[39m\u001b[49m\u001b[47m\u001b[30mA\u001b[39m\u001b[49m\u001b[47m\u001b[30mA\u001b[39m\u001b[49m\u001b[47m\u001b[30mA\u001b[39m\u001b[49m...\u001b[47m\u001b[30mT\u001b[39m\u001b[49m\u001b[47m\u001b[30mC\u001b[39m\u001b[49m\u001b[47m\u001b[30mA\u001b[39m\u001b[49m\u001b[47m\u001b[30mC\u001b[39m\u001b[49m\u001b[47m\u001b[30mA\u001b[39m\u001b[49m\u001b[47m\u001b[30mA\u001b[39m\u001b[49m\u001b[47m\u001b[30mT\u001b[39m\u001b[49m\u001b[47m\u001b[30mT\u001b[39m\u001b[49m\u001b[47m\u001b[30mA\u001b[39m\u001b[49m\u001b[47m\u001b[30mA\u001b[39m\u001b[49m\u001b[47m\u001b[30mA\u001b[39m\u001b[49m\u001b[47m\u001b[30mA\u001b[39m\u001b[49m\u001b[47m\u001b[30mA\u001b[39m\u001b[49m\u001b[47m\u001b[30mA\u001b[39m\u001b[49m\u001b[47m\u001b[30mA\u001b[39m\u001b[49m\u001b[47m\u001b[30mA\u001b[39m\u001b[49m\u001b[47m\u001b[30mA\u001b[39m\u001b[49m\u001b[47m\u001b[30mA\u001b[39m\u001b[49m\u001b[47m\u001b[30mA\u001b[39m\u001b[49m\u001b[47m\u001b[30mA\u001b[39m\u001b[49m\u001b[47m\u001b[30mA\u001b[39m\u001b[49m\u001b[47m\u001b[30mA\u001b[39m\u001b[49m\u001b[47m\u001b[30mA\u001b[39m\u001b[49m\u001b[47m\u001b[30mA\u001b[39m\u001b[49m\u001b[47m\u001b[30mA\u001b[39m\u001b[49m Human\n",
       "[2] --------------------------...------------------------- Chimp\n",
       "[3] --------------------------...------------------------- Cow\n",
       "[4] ----------------------\u001b[47m\u001b[30mA\u001b[39m\u001b[49m\u001b[47m\u001b[30mA\u001b[39m\u001b[49m\u001b[47m\u001b[30mA\u001b[39m\u001b[49m\u001b[47m\u001b[30mA\u001b[39m\u001b[49m...------------------------- Mouse\n",
       "[5] --------------------------...------------------------- Rat\n",
       "[6] --------------------------...------------------------- Dog\n",
       "[7] --------------\u001b[47m\u001b[30mC\u001b[39m\u001b[49m\u001b[47m\u001b[30mG\u001b[39m\u001b[49m\u001b[47m\u001b[30mG\u001b[39m\u001b[49m\u001b[47m\u001b[30mC\u001b[39m\u001b[49m\u001b[47m\u001b[30mT\u001b[39m\u001b[49m\u001b[47m\u001b[30mC\u001b[39m\u001b[49m\u001b[47m\u001b[30mC\u001b[39m\u001b[49m\u001b[47m\u001b[30mG\u001b[39m\u001b[49m\u001b[47m\u001b[30mC\u001b[39m\u001b[49m\u001b[47m\u001b[30mA\u001b[39m\u001b[49m\u001b[47m\u001b[30mG\u001b[39m\u001b[49m\u001b[47m\u001b[30mC\u001b[39m\u001b[49m...------------------------- Chicken\n",
       "[8] \u001b[47m\u001b[30mG\u001b[39m\u001b[49m\u001b[47m\u001b[30mG\u001b[39m\u001b[49m\u001b[47m\u001b[30mG\u001b[39m\u001b[49m\u001b[47m\u001b[30mG\u001b[39m\u001b[49m\u001b[47m\u001b[30mG\u001b[39m\u001b[49m\u001b[47m\u001b[30mA\u001b[39m\u001b[49m\u001b[47m\u001b[30mG\u001b[39m\u001b[49m\u001b[47m\u001b[30mA\u001b[39m\u001b[49m\u001b[47m\u001b[30mC\u001b[39m\u001b[49m\u001b[47m\u001b[30mT\u001b[39m\u001b[49m\u001b[47m\u001b[30mT\u001b[39m\u001b[49m\u001b[47m\u001b[30mC\u001b[39m\u001b[49m\u001b[47m\u001b[30mA\u001b[39m\u001b[49m\u001b[47m\u001b[30mG\u001b[39m\u001b[49m\u001b[47m\u001b[30mA\u001b[39m\u001b[49m\u001b[47m\u001b[30mA\u001b[39m\u001b[49m\u001b[47m\u001b[30mG\u001b[39m\u001b[49m\u001b[47m\u001b[30mT\u001b[39m\u001b[49m\u001b[47m\u001b[30mT\u001b[39m\u001b[49m\u001b[47m\u001b[30mG\u001b[39m\u001b[49m\u001b[47m\u001b[30mT\u001b[39m\u001b[49m\u001b[47m\u001b[30mT\u001b[39m\u001b[49m\u001b[47m\u001b[30mG\u001b[39m\u001b[49m\u001b[47m\u001b[30mT\u001b[39m\u001b[49m\u001b[47m\u001b[30mC\u001b[39m\u001b[49m\u001b[47m\u001b[30mC\u001b[39m\u001b[49m...------------------------- Salmon"
      ]
     },
     "metadata": {},
     "output_type": "display_data"
    }
   ],
   "source": [
    "origMAlign"
   ]
  },
  {
   "cell_type": "code",
   "execution_count": 65,
   "id": "9249c52a",
   "metadata": {
    "execution": {
     "iopub.execute_input": "2022-08-02T17:17:24.764574Z",
     "iopub.status.busy": "2022-08-02T17:17:24.762026Z",
     "iopub.status.idle": "2022-08-02T17:17:25.049764Z",
     "shell.execute_reply": "2022-08-02T17:17:25.047851Z"
    },
    "papermill": {
     "duration": 0.806431,
     "end_time": "2022-08-02T17:17:25.049939",
     "exception": false,
     "start_time": "2022-08-02T17:17:24.243508",
     "status": "completed"
    },
    "tags": []
   },
   "outputs": [
    {
     "data": {
      "text/plain": [
       "NormalIRanges object with 1 range and 0 metadata columns:\n",
       "          start       end     width\n",
       "      <integer> <integer> <integer>\n",
       "  [1]      1232      1236         5"
      ]
     },
     "metadata": {},
     "output_type": "display_data"
    }
   ],
   "source": [
    "# a mask was found @1232 - 1236 of first row\n",
    "tata_mask <- maskMotif(origMAlign, \"AAAAA\")\n",
    "colmask(tata_mask)"
   ]
  },
  {
   "cell_type": "markdown",
   "id": "46ffaa53",
   "metadata": {
    "papermill": {
     "duration": 0.476899,
     "end_time": "2022-08-02T17:17:25.998682",
     "exception": false,
     "start_time": "2022-08-02T17:17:25.521783",
     "status": "completed"
    },
    "tags": []
   },
   "source": [
    "### **<mark style=\"background-color:#6846D5;color:white;border-radius:5px;opacity:0.9\">GAP</mark>** **MASKING**\n",
    "**<span style='color:#6846D5'>Masking alignments with gaps</span>** | Useful for when we need to mask gaps that are present in the alignment\n",
    "- MaskGaps also **operate on columns** & will mask columns based on the **fraction of each column that contains gaps**;\n",
    "- min.fraction along with the width of columns that contain this fraction of gaps min.block.width\n"
   ]
  },
  {
   "cell_type": "code",
   "execution_count": 66,
   "id": "3c868610",
   "metadata": {
    "execution": {
     "iopub.execute_input": "2022-08-02T17:17:26.945733Z",
     "iopub.status.busy": "2022-08-02T17:17:26.943305Z",
     "iopub.status.idle": "2022-08-02T17:17:27.011509Z",
     "shell.execute_reply": "2022-08-02T17:17:27.009787Z"
    },
    "papermill": {
     "duration": 0.538998,
     "end_time": "2022-08-02T17:17:27.011692",
     "exception": false,
     "start_time": "2022-08-02T17:17:26.472694",
     "status": "completed"
    },
    "tags": []
   },
   "outputs": [
    {
     "data": {
      "text/plain": [
       "DNAMultipleAlignment with 8 rows and 2343 columns\n",
       "     aln                                                    names               \n",
       "[1] ##########################...######################### Human\n",
       "[2] ##########################...######################### Chimp\n",
       "[3] ##########################...######################### Cow\n",
       "[4] ##########################...######################### Mouse\n",
       "[5] ##########################...######################### Rat\n",
       "[6] ##########################...######################### Dog\n",
       "[7] ##########################...######################### Chicken\n",
       "[8] ##########################...######################### Salmon"
      ]
     },
     "metadata": {},
     "output_type": "display_data"
    }
   ],
   "source": [
    "autoMasked <- maskGaps(origMAlign,\n",
    "                       min.fraction=0.5,\n",
    "                       min.block.width=4)\n",
    "autoMasked"
   ]
  },
  {
   "cell_type": "code",
   "execution_count": 67,
   "id": "4b03487d",
   "metadata": {
    "execution": {
     "iopub.execute_input": "2022-08-02T17:17:27.992226Z",
     "iopub.status.busy": "2022-08-02T17:17:27.990620Z",
     "iopub.status.idle": "2022-08-02T17:17:28.013579Z",
     "shell.execute_reply": "2022-08-02T17:17:28.011996Z"
    },
    "papermill": {
     "duration": 0.516359,
     "end_time": "2022-08-02T17:17:28.013775",
     "exception": false,
     "start_time": "2022-08-02T17:17:27.497416",
     "status": "completed"
    },
    "tags": []
   },
   "outputs": [
    {
     "data": {
      "text/html": [
       "<style>\n",
       ".list-inline {list-style: none; margin:0; padding: 0}\n",
       ".list-inline>li {display: inline-block}\n",
       ".list-inline>li:not(:last-child)::after {content: \"\\00b7\"; padding: 0 .5ex}\n",
       "</style>\n",
       "<ol class=list-inline><li>8</li><li>2343</li></ol>\n"
      ],
      "text/latex": [
       "\\begin{enumerate*}\n",
       "\\item 8\n",
       "\\item 2343\n",
       "\\end{enumerate*}\n"
      ],
      "text/markdown": [
       "1. 8\n",
       "2. 2343\n",
       "\n",
       "\n"
      ],
      "text/plain": [
       "[1]    8 2343"
      ]
     },
     "metadata": {},
     "output_type": "display_data"
    }
   ],
   "source": [
    "# Multiple sequence alignment in matrix format\n",
    "full = as.matrix(origMAlign)\n",
    "dim(full)"
   ]
  },
  {
   "cell_type": "markdown",
   "id": "8e4251b3",
   "metadata": {
    "papermill": {
     "duration": 0.504332,
     "end_time": "2022-08-02T17:17:28.989701",
     "exception": false,
     "start_time": "2022-08-02T17:17:28.485369",
     "status": "completed"
    },
    "tags": []
   },
   "source": [
    "<div style=\"color:white;display:fill;border-radius:8px;\n",
    "            background-color:#323232;font-size:150%;\n",
    "            font-family:Nexa;letter-spacing:0.5px\">\n",
    "    <p style=\"padding: 8px;color:white;\"><b>3.3 | ALIGNMENT MASKING APPLICATIONS</b></p>\n",
    "</div>\n",
    "\n",
    "### **<span style='color:#6846D5'>ALPHABET FREQUENCY</span> w/ MASKING**\n",
    "- Having created masks for parts of the alignment which is of interest to us, we can conduct some form of investigation\n",
    "- When using masks, operations will only include the non **masked sequence characters**, eg. **alphabetFrequency**."
   ]
  },
  {
   "cell_type": "code",
   "execution_count": 68,
   "id": "5f5b6397",
   "metadata": {
    "execution": {
     "iopub.execute_input": "2022-08-02T17:17:29.940476Z",
     "iopub.status.busy": "2022-08-02T17:17:29.938872Z",
     "iopub.status.idle": "2022-08-02T17:17:29.993951Z",
     "shell.execute_reply": "2022-08-02T17:17:29.992469Z"
    },
    "papermill": {
     "duration": 0.534172,
     "end_time": "2022-08-02T17:17:29.994103",
     "exception": false,
     "start_time": "2022-08-02T17:17:29.459931",
     "status": "completed"
    },
    "tags": []
   },
   "outputs": [
    {
     "data": {
      "text/html": [
       "<table class=\"dataframe\">\n",
       "<caption>A matrix: 8 × 18 of type int</caption>\n",
       "<thead>\n",
       "\t<tr><th scope=col>A</th><th scope=col>C</th><th scope=col>G</th><th scope=col>T</th><th scope=col>M</th><th scope=col>R</th><th scope=col>W</th><th scope=col>S</th><th scope=col>Y</th><th scope=col>K</th><th scope=col>V</th><th scope=col>H</th><th scope=col>D</th><th scope=col>B</th><th scope=col>N</th><th scope=col>-</th><th scope=col>+</th><th scope=col>.</th></tr>\n",
       "</thead>\n",
       "<tbody>\n",
       "\t<tr><td> NA</td><td> NA</td><td> NA</td><td> NA</td><td>NA</td><td>NA</td><td>NA</td><td>NA</td><td>NA</td><td>NA</td><td>NA</td><td>NA</td><td>NA</td><td>NA</td><td>NA</td><td>  NA</td><td>NA</td><td>NA</td></tr>\n",
       "\t<tr><td> NA</td><td> NA</td><td> NA</td><td> NA</td><td>NA</td><td>NA</td><td>NA</td><td>NA</td><td>NA</td><td>NA</td><td>NA</td><td>NA</td><td>NA</td><td>NA</td><td>NA</td><td>  NA</td><td>NA</td><td>NA</td></tr>\n",
       "\t<tr><td> NA</td><td> NA</td><td> NA</td><td> NA</td><td>NA</td><td>NA</td><td>NA</td><td>NA</td><td>NA</td><td>NA</td><td>NA</td><td>NA</td><td>NA</td><td>NA</td><td>NA</td><td>  NA</td><td>NA</td><td>NA</td></tr>\n",
       "\t<tr><td>538</td><td>519</td><td>501</td><td>604</td><td> 0</td><td> 0</td><td> 0</td><td> 0</td><td> 0</td><td> 0</td><td> 0</td><td> 0</td><td> 0</td><td> 0</td><td> 0</td><td> 181</td><td> 0</td><td> 0</td></tr>\n",
       "\t<tr><td>494</td><td>483</td><td>477</td><td>522</td><td> 0</td><td> 0</td><td> 0</td><td> 0</td><td> 0</td><td> 0</td><td> 0</td><td> 0</td><td> 0</td><td> 0</td><td> 0</td><td> 367</td><td> 0</td><td> 0</td></tr>\n",
       "\t<tr><td>160</td><td>285</td><td>241</td><td>118</td><td> 0</td><td> 0</td><td> 0</td><td> 0</td><td> 0</td><td> 0</td><td> 0</td><td> 0</td><td> 0</td><td> 0</td><td> 0</td><td>1539</td><td> 0</td><td> 0</td></tr>\n",
       "\t<tr><td>235</td><td>376</td><td>300</td><td>196</td><td> 0</td><td> 0</td><td> 0</td><td> 0</td><td> 0</td><td> 0</td><td> 0</td><td> 0</td><td> 0</td><td> 0</td><td> 0</td><td>1236</td><td> 0</td><td> 0</td></tr>\n",
       "\t<tr><td>311</td><td>326</td><td>314</td><td>321</td><td> 0</td><td> 0</td><td> 0</td><td> 0</td><td> 0</td><td> 0</td><td> 0</td><td> 0</td><td> 0</td><td> 0</td><td> 0</td><td>1071</td><td> 0</td><td> 0</td></tr>\n",
       "</tbody>\n",
       "</table>\n"
      ],
      "text/latex": [
       "A matrix: 8 × 18 of type int\n",
       "\\begin{tabular}{llllllllllllllllll}\n",
       " A & C & G & T & M & R & W & S & Y & K & V & H & D & B & N & - & + & .\\\\\n",
       "\\hline\n",
       "\t  NA &  NA &  NA &  NA & NA & NA & NA & NA & NA & NA & NA & NA & NA & NA & NA &   NA & NA & NA\\\\\n",
       "\t  NA &  NA &  NA &  NA & NA & NA & NA & NA & NA & NA & NA & NA & NA & NA & NA &   NA & NA & NA\\\\\n",
       "\t  NA &  NA &  NA &  NA & NA & NA & NA & NA & NA & NA & NA & NA & NA & NA & NA &   NA & NA & NA\\\\\n",
       "\t 538 & 519 & 501 & 604 &  0 &  0 &  0 &  0 &  0 &  0 &  0 &  0 &  0 &  0 &  0 &  181 &  0 &  0\\\\\n",
       "\t 494 & 483 & 477 & 522 &  0 &  0 &  0 &  0 &  0 &  0 &  0 &  0 &  0 &  0 &  0 &  367 &  0 &  0\\\\\n",
       "\t 160 & 285 & 241 & 118 &  0 &  0 &  0 &  0 &  0 &  0 &  0 &  0 &  0 &  0 &  0 & 1539 &  0 &  0\\\\\n",
       "\t 235 & 376 & 300 & 196 &  0 &  0 &  0 &  0 &  0 &  0 &  0 &  0 &  0 &  0 &  0 & 1236 &  0 &  0\\\\\n",
       "\t 311 & 326 & 314 & 321 &  0 &  0 &  0 &  0 &  0 &  0 &  0 &  0 &  0 &  0 &  0 & 1071 &  0 &  0\\\\\n",
       "\\end{tabular}\n"
      ],
      "text/markdown": [
       "\n",
       "A matrix: 8 × 18 of type int\n",
       "\n",
       "| A | C | G | T | M | R | W | S | Y | K | V | H | D | B | N | - | + | . |\n",
       "|---|---|---|---|---|---|---|---|---|---|---|---|---|---|---|---|---|---|\n",
       "|  NA |  NA |  NA |  NA | NA | NA | NA | NA | NA | NA | NA | NA | NA | NA | NA |   NA | NA | NA |\n",
       "|  NA |  NA |  NA |  NA | NA | NA | NA | NA | NA | NA | NA | NA | NA | NA | NA |   NA | NA | NA |\n",
       "|  NA |  NA |  NA |  NA | NA | NA | NA | NA | NA | NA | NA | NA | NA | NA | NA |   NA | NA | NA |\n",
       "| 538 | 519 | 501 | 604 |  0 |  0 |  0 |  0 |  0 |  0 |  0 |  0 |  0 |  0 |  0 |  181 |  0 |  0 |\n",
       "| 494 | 483 | 477 | 522 |  0 |  0 |  0 |  0 |  0 |  0 |  0 |  0 |  0 |  0 |  0 |  367 |  0 |  0 |\n",
       "| 160 | 285 | 241 | 118 |  0 |  0 |  0 |  0 |  0 |  0 |  0 |  0 |  0 |  0 |  0 | 1539 |  0 |  0 |\n",
       "| 235 | 376 | 300 | 196 |  0 |  0 |  0 |  0 |  0 |  0 |  0 |  0 |  0 |  0 |  0 | 1236 |  0 |  0 |\n",
       "| 311 | 326 | 314 | 321 |  0 |  0 |  0 |  0 |  0 |  0 |  0 |  0 |  0 |  0 |  0 | 1071 |  0 |  0 |\n",
       "\n"
      ],
      "text/plain": [
       "     A   C   G   T   M  R  W  S  Y  K  V  H  D  B  N  -    +  . \n",
       "[1,]  NA  NA  NA  NA NA NA NA NA NA NA NA NA NA NA NA   NA NA NA\n",
       "[2,]  NA  NA  NA  NA NA NA NA NA NA NA NA NA NA NA NA   NA NA NA\n",
       "[3,]  NA  NA  NA  NA NA NA NA NA NA NA NA NA NA NA NA   NA NA NA\n",
       "[4,] 538 519 501 604  0  0  0  0  0  0  0  0  0  0  0  181  0  0\n",
       "[5,] 494 483 477 522  0  0  0  0  0  0  0  0  0  0  0  367  0  0\n",
       "[6,] 160 285 241 118  0  0  0  0  0  0  0  0  0  0  0 1539  0  0\n",
       "[7,] 235 376 300 196  0  0  0  0  0  0  0  0  0  0  0 1236  0  0\n",
       "[8,] 311 326 314 321  0  0  0  0  0  0  0  0  0  0  0 1071  0  0"
      ]
     },
     "metadata": {},
     "output_type": "display_data"
    }
   ],
   "source": [
    "# [1] If we mask the entire row, we get NA\n",
    "Test <- origMAlign\n",
    "rowmask(Test) <- IRanges(start=1,end=3) # set int range function\n",
    "alphabetFrequency(Test)"
   ]
  },
  {
   "cell_type": "code",
   "execution_count": 69,
   "id": "ea5897c0",
   "metadata": {
    "execution": {
     "iopub.execute_input": "2022-08-02T17:17:30.945178Z",
     "iopub.status.busy": "2022-08-02T17:17:30.943776Z",
     "iopub.status.idle": "2022-08-02T17:17:31.011214Z",
     "shell.execute_reply": "2022-08-02T17:17:31.009772Z"
    },
    "papermill": {
     "duration": 0.54882,
     "end_time": "2022-08-02T17:17:31.011415",
     "exception": false,
     "start_time": "2022-08-02T17:17:30.462595",
     "status": "completed"
    },
    "tags": []
   },
   "outputs": [
    {
     "data": {
      "text/html": [
       "<table class=\"dataframe\">\n",
       "<caption>A matrix: 8 × 18 of type int</caption>\n",
       "<thead>\n",
       "\t<tr><th scope=col>A</th><th scope=col>C</th><th scope=col>G</th><th scope=col>T</th><th scope=col>M</th><th scope=col>R</th><th scope=col>W</th><th scope=col>S</th><th scope=col>Y</th><th scope=col>K</th><th scope=col>V</th><th scope=col>H</th><th scope=col>D</th><th scope=col>B</th><th scope=col>N</th><th scope=col>-</th><th scope=col>+</th><th scope=col>.</th></tr>\n",
       "</thead>\n",
       "<tbody>\n",
       "\t<tr><td>260</td><td>351</td><td>296</td><td>218</td><td>0</td><td>0</td><td>0</td><td>0</td><td>0</td><td>0</td><td>0</td><td>0</td><td>0</td><td>0</td><td>0</td><td> 18</td><td>0</td><td>0</td></tr>\n",
       "\t<tr><td>171</td><td>271</td><td>231</td><td>128</td><td>0</td><td>0</td><td>0</td><td>0</td><td>0</td><td>0</td><td>0</td><td>0</td><td>0</td><td>0</td><td>3</td><td>339</td><td>0</td><td>0</td></tr>\n",
       "\t<tr><td>277</td><td>360</td><td>275</td><td>209</td><td>0</td><td>0</td><td>0</td><td>0</td><td>0</td><td>0</td><td>0</td><td>0</td><td>0</td><td>0</td><td>0</td><td> 22</td><td>0</td><td>0</td></tr>\n",
       "\t<tr><td>265</td><td>343</td><td>277</td><td>226</td><td>0</td><td>0</td><td>0</td><td>0</td><td>0</td><td>0</td><td>0</td><td>0</td><td>0</td><td>0</td><td>0</td><td> 32</td><td>0</td><td>0</td></tr>\n",
       "\t<tr><td>251</td><td>345</td><td>287</td><td>229</td><td>0</td><td>0</td><td>0</td><td>0</td><td>0</td><td>0</td><td>0</td><td>0</td><td>0</td><td>0</td><td>0</td><td> 31</td><td>0</td><td>0</td></tr>\n",
       "\t<tr><td>160</td><td>285</td><td>241</td><td>118</td><td>0</td><td>0</td><td>0</td><td>0</td><td>0</td><td>0</td><td>0</td><td>0</td><td>0</td><td>0</td><td>0</td><td>339</td><td>0</td><td>0</td></tr>\n",
       "\t<tr><td>224</td><td>342</td><td>273</td><td>190</td><td>0</td><td>0</td><td>0</td><td>0</td><td>0</td><td>0</td><td>0</td><td>0</td><td>0</td><td>0</td><td>0</td><td>114</td><td>0</td><td>0</td></tr>\n",
       "\t<tr><td>268</td><td>289</td><td>273</td><td>262</td><td>0</td><td>0</td><td>0</td><td>0</td><td>0</td><td>0</td><td>0</td><td>0</td><td>0</td><td>0</td><td>0</td><td> 51</td><td>0</td><td>0</td></tr>\n",
       "</tbody>\n",
       "</table>\n"
      ],
      "text/latex": [
       "A matrix: 8 × 18 of type int\n",
       "\\begin{tabular}{llllllllllllllllll}\n",
       " A & C & G & T & M & R & W & S & Y & K & V & H & D & B & N & - & + & .\\\\\n",
       "\\hline\n",
       "\t 260 & 351 & 296 & 218 & 0 & 0 & 0 & 0 & 0 & 0 & 0 & 0 & 0 & 0 & 0 &  18 & 0 & 0\\\\\n",
       "\t 171 & 271 & 231 & 128 & 0 & 0 & 0 & 0 & 0 & 0 & 0 & 0 & 0 & 0 & 3 & 339 & 0 & 0\\\\\n",
       "\t 277 & 360 & 275 & 209 & 0 & 0 & 0 & 0 & 0 & 0 & 0 & 0 & 0 & 0 & 0 &  22 & 0 & 0\\\\\n",
       "\t 265 & 343 & 277 & 226 & 0 & 0 & 0 & 0 & 0 & 0 & 0 & 0 & 0 & 0 & 0 &  32 & 0 & 0\\\\\n",
       "\t 251 & 345 & 287 & 229 & 0 & 0 & 0 & 0 & 0 & 0 & 0 & 0 & 0 & 0 & 0 &  31 & 0 & 0\\\\\n",
       "\t 160 & 285 & 241 & 118 & 0 & 0 & 0 & 0 & 0 & 0 & 0 & 0 & 0 & 0 & 0 & 339 & 0 & 0\\\\\n",
       "\t 224 & 342 & 273 & 190 & 0 & 0 & 0 & 0 & 0 & 0 & 0 & 0 & 0 & 0 & 0 & 114 & 0 & 0\\\\\n",
       "\t 268 & 289 & 273 & 262 & 0 & 0 & 0 & 0 & 0 & 0 & 0 & 0 & 0 & 0 & 0 &  51 & 0 & 0\\\\\n",
       "\\end{tabular}\n"
      ],
      "text/markdown": [
       "\n",
       "A matrix: 8 × 18 of type int\n",
       "\n",
       "| A | C | G | T | M | R | W | S | Y | K | V | H | D | B | N | - | + | . |\n",
       "|---|---|---|---|---|---|---|---|---|---|---|---|---|---|---|---|---|---|\n",
       "| 260 | 351 | 296 | 218 | 0 | 0 | 0 | 0 | 0 | 0 | 0 | 0 | 0 | 0 | 0 |  18 | 0 | 0 |\n",
       "| 171 | 271 | 231 | 128 | 0 | 0 | 0 | 0 | 0 | 0 | 0 | 0 | 0 | 0 | 3 | 339 | 0 | 0 |\n",
       "| 277 | 360 | 275 | 209 | 0 | 0 | 0 | 0 | 0 | 0 | 0 | 0 | 0 | 0 | 0 |  22 | 0 | 0 |\n",
       "| 265 | 343 | 277 | 226 | 0 | 0 | 0 | 0 | 0 | 0 | 0 | 0 | 0 | 0 | 0 |  32 | 0 | 0 |\n",
       "| 251 | 345 | 287 | 229 | 0 | 0 | 0 | 0 | 0 | 0 | 0 | 0 | 0 | 0 | 0 |  31 | 0 | 0 |\n",
       "| 160 | 285 | 241 | 118 | 0 | 0 | 0 | 0 | 0 | 0 | 0 | 0 | 0 | 0 | 0 | 339 | 0 | 0 |\n",
       "| 224 | 342 | 273 | 190 | 0 | 0 | 0 | 0 | 0 | 0 | 0 | 0 | 0 | 0 | 0 | 114 | 0 | 0 |\n",
       "| 268 | 289 | 273 | 262 | 0 | 0 | 0 | 0 | 0 | 0 | 0 | 0 | 0 | 0 | 0 |  51 | 0 | 0 |\n",
       "\n"
      ],
      "text/plain": [
       "     A   C   G   T   M R W S Y K V H D B N -   + .\n",
       "[1,] 260 351 296 218 0 0 0 0 0 0 0 0 0 0 0  18 0 0\n",
       "[2,] 171 271 231 128 0 0 0 0 0 0 0 0 0 0 3 339 0 0\n",
       "[3,] 277 360 275 209 0 0 0 0 0 0 0 0 0 0 0  22 0 0\n",
       "[4,] 265 343 277 226 0 0 0 0 0 0 0 0 0 0 0  32 0 0\n",
       "[5,] 251 345 287 229 0 0 0 0 0 0 0 0 0 0 0  31 0 0\n",
       "[6,] 160 285 241 118 0 0 0 0 0 0 0 0 0 0 0 339 0 0\n",
       "[7,] 224 342 273 190 0 0 0 0 0 0 0 0 0 0 0 114 0 0\n",
       "[8,] 268 289 273 262 0 0 0 0 0 0 0 0 0 0 0  51 0 0"
      ]
     },
     "metadata": {},
     "output_type": "display_data"
    }
   ],
   "source": [
    "# [1] If we masked only parts of the row content, we'll get freq of only those that aren't masked\n",
    "autoMasked <- maskGaps(origMAlign,\n",
    "                       min.fraction=0.5,\n",
    "                       min.block.width=4)\n",
    "alphabetFrequency(autoMasked)"
   ]
  },
  {
   "cell_type": "markdown",
   "id": "6601f843",
   "metadata": {
    "papermill": {
     "duration": 0.482648,
     "end_time": "2022-08-02T17:17:31.962374",
     "exception": false,
     "start_time": "2022-08-02T17:17:31.479726",
     "status": "completed"
    },
    "tags": []
   },
   "source": [
    "### **<span style='color:#6846D5'>SEQUENCE SET CLUSTERING </span> w/ MASKING**\n",
    "- We can also cluster the alignments in a **StringSet** based on their distance (**[stringDist](https://www.rdocumentation.org/packages/stringdist/versions/0.9.8/topics/stringdist)**) to each other | **[hclust](https://www.rdocumentation.org/packages/stats/versions/3.6.2/topics/hclust)**\n",
    "- Passing a **DNAStringSet**, the clustering will also take into account only those alphabet in the created masking | **[String Distance & Clustering Video](https://www.youtube.com/watch?v=Tq-B95qbVXg)**\n",
    "- Here we'll look at two cases, **unmasked alignments** & **masked alginments**, the benefit of masking being that the alignments contain lots of gaps (**origMAlign**)"
   ]
  },
  {
   "cell_type": "code",
   "execution_count": 70,
   "id": "281a661b",
   "metadata": {
    "execution": {
     "iopub.execute_input": "2022-08-02T17:17:32.924332Z",
     "iopub.status.busy": "2022-08-02T17:17:32.922712Z",
     "iopub.status.idle": "2022-08-02T17:17:33.094764Z",
     "shell.execute_reply": "2022-08-02T17:17:33.092104Z"
    },
    "papermill": {
     "duration": 0.660864,
     "end_time": "2022-08-02T17:17:33.094993",
     "exception": false,
     "start_time": "2022-08-02T17:17:32.434129",
     "status": "completed"
    },
    "tags": []
   },
   "outputs": [
    {
     "data": {
      "text/html": [
       "'DNAStringSet'"
      ],
      "text/latex": [
       "'DNAStringSet'"
      ],
      "text/markdown": [
       "'DNAStringSet'"
      ],
      "text/plain": [
       "[1] \"DNAStringSet\"\n",
       "attr(,\"package\")\n",
       "[1] \"Biostrings\""
      ]
     },
     "metadata": {},
     "output_type": "display_data"
    },
    {
     "data": {
      "text/plain": [
       "DNAStringSet object of length 8:\n",
       "    width seq                                               names               \n",
       "[1]  2343 -----\u001b[47m\u001b[30mT\u001b[39m\u001b[49m\u001b[47m\u001b[30mC\u001b[39m\u001b[49m\u001b[47m\u001b[30mC\u001b[39m\u001b[49m\u001b[47m\u001b[30mC\u001b[39m\u001b[49m\u001b[47m\u001b[30mG\u001b[39m\u001b[49m\u001b[47m\u001b[30mT\u001b[39m\u001b[49m\u001b[47m\u001b[30mC\u001b[39m\u001b[49m\u001b[47m\u001b[30mT\u001b[39m\u001b[49m\u001b[47m\u001b[30mC\u001b[39m\u001b[49m\u001b[47m\u001b[30mC\u001b[39m\u001b[49m\u001b[47m\u001b[30mG\u001b[39m\u001b[49m\u001b[47m\u001b[30mC\u001b[39m\u001b[49m\u001b[47m\u001b[30mA\u001b[39m\u001b[49m\u001b[47m\u001b[30mG\u001b[39m\u001b[49m\u001b[47m\u001b[30mC\u001b[39m\u001b[49m\u001b[47m\u001b[30mA\u001b[39m\u001b[49m\u001b[47m\u001b[30mA\u001b[39m\u001b[49m\u001b[47m\u001b[30mA\u001b[39m\u001b[49m...\u001b[47m\u001b[30mA\u001b[39m\u001b[49m\u001b[47m\u001b[30mC\u001b[39m\u001b[49m\u001b[47m\u001b[30mA\u001b[39m\u001b[49m\u001b[47m\u001b[30mA\u001b[39m\u001b[49m\u001b[47m\u001b[30mT\u001b[39m\u001b[49m\u001b[47m\u001b[30mT\u001b[39m\u001b[49m\u001b[47m\u001b[30mA\u001b[39m\u001b[49m\u001b[47m\u001b[30mA\u001b[39m\u001b[49m\u001b[47m\u001b[30mA\u001b[39m\u001b[49m\u001b[47m\u001b[30mA\u001b[39m\u001b[49m\u001b[47m\u001b[30mA\u001b[39m\u001b[49m\u001b[47m\u001b[30mA\u001b[39m\u001b[49m\u001b[47m\u001b[30mA\u001b[39m\u001b[49m\u001b[47m\u001b[30mA\u001b[39m\u001b[49m\u001b[47m\u001b[30mA\u001b[39m\u001b[49m\u001b[47m\u001b[30mA\u001b[39m\u001b[49m\u001b[47m\u001b[30mA\u001b[39m\u001b[49m\u001b[47m\u001b[30mA\u001b[39m\u001b[49m\u001b[47m\u001b[30mA\u001b[39m\u001b[49m\u001b[47m\u001b[30mA\u001b[39m\u001b[49m\u001b[47m\u001b[30mA\u001b[39m\u001b[49m\u001b[47m\u001b[30mA\u001b[39m\u001b[49m\u001b[47m\u001b[30mA\u001b[39m\u001b[49m Human\n",
       "[2]  2343 -----------------------...----------------------- Chimp\n",
       "[3]  2343 -----------------------...----------------------- Cow\n",
       "[4]  2343 ----------------------\u001b[47m\u001b[30mA\u001b[39m\u001b[49m...----------------------- Mouse\n",
       "[5]  2343 -----------------------...----------------------- Rat\n",
       "[6]  2343 -----------------------...----------------------- Dog\n",
       "[7]  2343 --------------\u001b[47m\u001b[30mC\u001b[39m\u001b[49m\u001b[47m\u001b[30mG\u001b[39m\u001b[49m\u001b[47m\u001b[30mG\u001b[39m\u001b[49m\u001b[47m\u001b[30mC\u001b[39m\u001b[49m\u001b[47m\u001b[30mT\u001b[39m\u001b[49m\u001b[47m\u001b[30mC\u001b[39m\u001b[49m\u001b[47m\u001b[30mC\u001b[39m\u001b[49m\u001b[47m\u001b[30mG\u001b[39m\u001b[49m\u001b[47m\u001b[30mC\u001b[39m\u001b[49m...----------------------- Chicken\n",
       "[8]  2343 \u001b[47m\u001b[30mG\u001b[39m\u001b[49m\u001b[47m\u001b[30mG\u001b[39m\u001b[49m\u001b[47m\u001b[30mG\u001b[39m\u001b[49m\u001b[47m\u001b[30mG\u001b[39m\u001b[49m\u001b[47m\u001b[30mG\u001b[39m\u001b[49m\u001b[47m\u001b[30mA\u001b[39m\u001b[49m\u001b[47m\u001b[30mG\u001b[39m\u001b[49m\u001b[47m\u001b[30mA\u001b[39m\u001b[49m\u001b[47m\u001b[30mC\u001b[39m\u001b[49m\u001b[47m\u001b[30mT\u001b[39m\u001b[49m\u001b[47m\u001b[30mT\u001b[39m\u001b[49m\u001b[47m\u001b[30mC\u001b[39m\u001b[49m\u001b[47m\u001b[30mA\u001b[39m\u001b[49m\u001b[47m\u001b[30mG\u001b[39m\u001b[49m\u001b[47m\u001b[30mA\u001b[39m\u001b[49m\u001b[47m\u001b[30mA\u001b[39m\u001b[49m\u001b[47m\u001b[30mG\u001b[39m\u001b[49m\u001b[47m\u001b[30mT\u001b[39m\u001b[49m\u001b[47m\u001b[30mT\u001b[39m\u001b[49m\u001b[47m\u001b[30mG\u001b[39m\u001b[49m\u001b[47m\u001b[30mT\u001b[39m\u001b[49m\u001b[47m\u001b[30mT\u001b[39m\u001b[49m\u001b[47m\u001b[30mG\u001b[39m\u001b[49m...----------------------- Salmon"
      ]
     },
     "metadata": {},
     "output_type": "display_data"
    },
    {
     "data": {
      "text/plain": [
       "        Human Chimp  Cow Mouse  Rat  Dog Chicken\n",
       "Chimp    1424                                   \n",
       "Cow      1225   382                             \n",
       "Mouse     772  1457 1257                        \n",
       "Rat       783  1267 1080   431                  \n",
       "Dog      1497    79  392  1463 1276             \n",
       "Chicken  1504   514  524  1489 1379  526        \n",
       "Salmon   1691   904  808  1651 1550  916     816"
      ]
     },
     "metadata": {},
     "output_type": "display_data"
    },
    {
     "data": {
      "text/plain": [
       "\n",
       "Call:\n",
       "hclust(d = sdist, method = \"single\")\n",
       "\n",
       "Cluster method   : single \n",
       "Distance         : hamming \n",
       "Number of objects: 8 \n"
      ]
     },
     "metadata": {},
     "output_type": "display_data"
    },
    {
     "data": {
      "text/html": [
       "<strong>png:</strong> 2"
      ],
      "text/latex": [
       "\\textbf{png:} 2"
      ],
      "text/markdown": [
       "**png:** 2"
      ],
      "text/plain": [
       "png \n",
       "  2 "
      ]
     },
     "metadata": {},
     "output_type": "display_data"
    },
    {
     "data": {
      "text/html": [
       "<style>\n",
       ".dl-inline {width: auto; margin:0; padding: 0}\n",
       ".dl-inline>dt, .dl-inline>dd {float: none; width: auto; display: inline-block}\n",
       ".dl-inline>dt::after {content: \":\\0020\"; padding-right: .5ex}\n",
       ".dl-inline>dt:not(:first-of-type) {padding-left: .5ex}\n",
       "</style><dl class=dl-inline><dt>Human</dt><dd>1</dd><dt>Chimp</dt><dd>2</dd><dt>Cow</dt><dd>2</dd><dt>Mouse</dt><dd>3</dd><dt>Rat</dt><dd>3</dd><dt>Dog</dt><dd>2</dd><dt>Chicken</dt><dd>2</dd><dt>Salmon</dt><dd>4</dd></dl>\n"
      ],
      "text/latex": [
       "\\begin{description*}\n",
       "\\item[Human] 1\n",
       "\\item[Chimp] 2\n",
       "\\item[Cow] 2\n",
       "\\item[Mouse] 3\n",
       "\\item[Rat] 3\n",
       "\\item[Dog] 2\n",
       "\\item[Chicken] 2\n",
       "\\item[Salmon] 4\n",
       "\\end{description*}\n"
      ],
      "text/markdown": [
       "Human\n",
       ":   1Chimp\n",
       ":   2Cow\n",
       ":   2Mouse\n",
       ":   3Rat\n",
       ":   3Dog\n",
       ":   2Chicken\n",
       ":   2Salmon\n",
       ":   4\n",
       "\n"
      ],
      "text/plain": [
       "  Human   Chimp     Cow   Mouse     Rat     Dog Chicken  Salmon \n",
       "      1       2       2       3       3       2       2       4 "
      ]
     },
     "metadata": {},
     "output_type": "display_data"
    }
   ],
   "source": [
    "# ''' Bad Cluster Case '''\n",
    "\n",
    "# Calculate the distance to eachother (alignments)\n",
    "str_set <- as(origMAlign,\"DNAStringSet\") # convert/use alignment to/as string set\n",
    "class(str_set) # DNAStringSet\n",
    "str_set # the stringset only contains those present in the mask\n",
    "\n",
    "# Calculate distance\n",
    "sdist <- stringDist(str_set,\n",
    "                    method=\"hamming\")\n",
    "sdist\n",
    "\n",
    "# cluster using Hierarchical clustering, hclust\n",
    "clust <- hclust(sdist,\n",
    "                method = \"single\")\n",
    "clust\n",
    "\n",
    "pdf(file=\"tree1.pdf\") # plot the clustering\n",
    "plot(clust) # plot dendogram of the clustering\n",
    "dev.off()\n",
    "\n",
    "# Cut the tree into four groups\n",
    "fourgroups <- cutree(clust, 4)\n",
    "fourgroups"
   ]
  },
  {
   "cell_type": "code",
   "execution_count": 71,
   "id": "07d03a19",
   "metadata": {
    "execution": {
     "iopub.execute_input": "2022-08-02T17:17:34.086244Z",
     "iopub.status.busy": "2022-08-02T17:17:34.084289Z",
     "iopub.status.idle": "2022-08-02T17:17:34.199950Z",
     "shell.execute_reply": "2022-08-02T17:17:34.198515Z"
    },
    "papermill": {
     "duration": 0.611978,
     "end_time": "2022-08-02T17:17:34.200118",
     "exception": false,
     "start_time": "2022-08-02T17:17:33.588140",
     "status": "completed"
    },
    "tags": []
   },
   "outputs": [
    {
     "data": {
      "text/plain": [
       "DNAMultipleAlignment with 8 rows and 2343 columns\n",
       "     aln                                                    names               \n",
       "[1] ##########################...######################### Human\n",
       "[2] ##########################...######################### Chimp\n",
       "[3] ##########################...######################### Cow\n",
       "[4] ##########################...######################### Mouse\n",
       "[5] ##########################...######################### Rat\n",
       "[6] ##########################...######################### Dog\n",
       "[7] ##########################...######################### Chicken\n",
       "[8] ##########################...######################### Salmon"
      ]
     },
     "metadata": {},
     "output_type": "display_data"
    },
    {
     "data": {
      "text/html": [
       "'DNAMultipleAlignment'"
      ],
      "text/latex": [
       "'DNAMultipleAlignment'"
      ],
      "text/markdown": [
       "'DNAMultipleAlignment'"
      ],
      "text/plain": [
       "[1] \"DNAMultipleAlignment\"\n",
       "attr(,\"package\")\n",
       "[1] \"Biostrings\""
      ]
     },
     "metadata": {},
     "output_type": "display_data"
    },
    {
     "data": {
      "text/html": [
       "'DNAStringSet'"
      ],
      "text/latex": [
       "'DNAStringSet'"
      ],
      "text/markdown": [
       "'DNAStringSet'"
      ],
      "text/plain": [
       "[1] \"DNAStringSet\"\n",
       "attr(,\"package\")\n",
       "[1] \"Biostrings\""
      ]
     },
     "metadata": {},
     "output_type": "display_data"
    },
    {
     "data": {
      "text/plain": [
       "DNAStringSet object of length 8:\n",
       "    width seq                                               names               \n",
       "[1]  1143 \u001b[47m\u001b[30mC\u001b[39m\u001b[49m\u001b[47m\u001b[30mA\u001b[39m\u001b[49m\u001b[47m\u001b[30mG\u001b[39m\u001b[49m\u001b[47m\u001b[30mA\u001b[39m\u001b[49m\u001b[47m\u001b[30mG\u001b[39m\u001b[49m\u001b[47m\u001b[30mA\u001b[39m\u001b[49m\u001b[47m\u001b[30mA\u001b[39m\u001b[49m\u001b[47m\u001b[30mG\u001b[39m\u001b[49m\u001b[47m\u001b[30mT\u001b[39m\u001b[49m\u001b[47m\u001b[30mC\u001b[39m\u001b[49m\u001b[47m\u001b[30mA\u001b[39m\u001b[49m-\u001b[47m\u001b[30mT\u001b[39m\u001b[49m\u001b[47m\u001b[30mG\u001b[39m\u001b[49m\u001b[47m\u001b[30mG\u001b[39m\u001b[49m\u001b[47m\u001b[30mC\u001b[39m\u001b[49m\u001b[47m\u001b[30mT\u001b[39m\u001b[49m\u001b[47m\u001b[30mT\u001b[39m\u001b[49m\u001b[47m\u001b[30mC\u001b[39m\u001b[49m\u001b[47m\u001b[30mT\u001b[39m\u001b[49m\u001b[47m\u001b[30mC\u001b[39m\u001b[49m\u001b[47m\u001b[30mC\u001b[39m\u001b[49m\u001b[47m\u001b[30mG\u001b[39m\u001b[49m...\u001b[47m\u001b[30mA\u001b[39m\u001b[49m\u001b[47m\u001b[30mT\u001b[39m\u001b[49m\u001b[47m\u001b[30mA\u001b[39m\u001b[49m\u001b[47m\u001b[30mC\u001b[39m\u001b[49m\u001b[47m\u001b[30mA\u001b[39m\u001b[49m\u001b[47m\u001b[30mG\u001b[39m\u001b[49m\u001b[47m\u001b[30mC\u001b[39m\u001b[49m\u001b[47m\u001b[30mA\u001b[39m\u001b[49m\u001b[47m\u001b[30mG\u001b[39m\u001b[49m\u001b[47m\u001b[30mA\u001b[39m\u001b[49m\u001b[47m\u001b[30mC\u001b[39m\u001b[49m\u001b[47m\u001b[30mG\u001b[39m\u001b[49m\u001b[47m\u001b[30mT\u001b[39m\u001b[49m\u001b[47m\u001b[30mA\u001b[39m\u001b[49m\u001b[47m\u001b[30mA\u001b[39m\u001b[49m\u001b[47m\u001b[30mA\u001b[39m\u001b[49m\u001b[47m\u001b[30mA\u001b[39m\u001b[49m\u001b[47m\u001b[30mA\u001b[39m\u001b[49m\u001b[47m\u001b[30mT\u001b[39m\u001b[49m\u001b[47m\u001b[30mT\u001b[39m\u001b[49m\u001b[47m\u001b[30mC\u001b[39m\u001b[49m\u001b[47m\u001b[30mA\u001b[39m\u001b[49m\u001b[47m\u001b[30mA\u001b[39m\u001b[49m Human\n",
       "[2]  1143 ----------\u001b[47m\u001b[30mA\u001b[39m\u001b[49m-\u001b[47m\u001b[30mT\u001b[39m\u001b[49m\u001b[47m\u001b[30mG\u001b[39m\u001b[49m\u001b[47m\u001b[30mG\u001b[39m\u001b[49m\u001b[47m\u001b[30mC\u001b[39m\u001b[49m\u001b[47m\u001b[30mT\u001b[39m\u001b[49m\u001b[47m\u001b[30mT\u001b[39m\u001b[49m\u001b[47m\u001b[30mC\u001b[39m\u001b[49m\u001b[47m\u001b[30mT\u001b[39m\u001b[49m\u001b[47m\u001b[30mC\u001b[39m\u001b[49m\u001b[47m\u001b[30mC\u001b[39m\u001b[49m\u001b[47m\u001b[30mG\u001b[39m\u001b[49m...----------------------- Chimp\n",
       "[3]  1143 \u001b[47m\u001b[30mG\u001b[39m\u001b[49m\u001b[47m\u001b[30mA\u001b[39m\u001b[49m\u001b[47m\u001b[30mG\u001b[39m\u001b[49m\u001b[47m\u001b[30mA\u001b[39m\u001b[49m\u001b[47m\u001b[30mG\u001b[39m\u001b[49m\u001b[47m\u001b[30mA\u001b[39m\u001b[49m\u001b[47m\u001b[30mA\u001b[39m\u001b[49m\u001b[47m\u001b[30mG\u001b[39m\u001b[49m\u001b[47m\u001b[30mT\u001b[39m\u001b[49m\u001b[47m\u001b[30mC\u001b[39m\u001b[49m\u001b[47m\u001b[30mA\u001b[39m\u001b[49m-\u001b[47m\u001b[30mT\u001b[39m\u001b[49m\u001b[47m\u001b[30mG\u001b[39m\u001b[49m\u001b[47m\u001b[30mG\u001b[39m\u001b[49m\u001b[47m\u001b[30mC\u001b[39m\u001b[49m\u001b[47m\u001b[30mT\u001b[39m\u001b[49m\u001b[47m\u001b[30mT\u001b[39m\u001b[49m\u001b[47m\u001b[30mC\u001b[39m\u001b[49m\u001b[47m\u001b[30mT\u001b[39m\u001b[49m\u001b[47m\u001b[30mC\u001b[39m\u001b[49m\u001b[47m\u001b[30mC\u001b[39m\u001b[49m\u001b[47m\u001b[30mG\u001b[39m\u001b[49m...\u001b[47m\u001b[30mA\u001b[39m\u001b[49m\u001b[47m\u001b[30mT\u001b[39m\u001b[49m\u001b[47m\u001b[30mA\u001b[39m\u001b[49m\u001b[47m\u001b[30mC\u001b[39m\u001b[49m\u001b[47m\u001b[30mA\u001b[39m\u001b[49m\u001b[47m\u001b[30mG\u001b[39m\u001b[49m\u001b[47m\u001b[30mC\u001b[39m\u001b[49m\u001b[47m\u001b[30mA\u001b[39m\u001b[49m\u001b[47m\u001b[30mA\u001b[39m\u001b[49m\u001b[47m\u001b[30mA\u001b[39m\u001b[49m\u001b[47m\u001b[30mA\u001b[39m\u001b[49m\u001b[47m\u001b[30mA\u001b[39m\u001b[49m\u001b[47m\u001b[30mA\u001b[39m\u001b[49m\u001b[47m\u001b[30mA\u001b[39m\u001b[49m\u001b[47m\u001b[30mA\u001b[39m\u001b[49m\u001b[47m\u001b[30mA\u001b[39m\u001b[49m\u001b[47m\u001b[30mA\u001b[39m\u001b[49m\u001b[47m\u001b[30mA\u001b[39m\u001b[49m\u001b[47m\u001b[30mA\u001b[39m\u001b[49m\u001b[47m\u001b[30mA\u001b[39m\u001b[49m\u001b[47m\u001b[30mA\u001b[39m\u001b[49m\u001b[47m\u001b[30mA\u001b[39m\u001b[49m\u001b[47m\u001b[30mA\u001b[39m\u001b[49m Cow\n",
       "[4]  1143 \u001b[47m\u001b[30mC\u001b[39m\u001b[49m\u001b[47m\u001b[30mA\u001b[39m\u001b[49m\u001b[47m\u001b[30mG\u001b[39m\u001b[49m\u001b[47m\u001b[30mA\u001b[39m\u001b[49m-\u001b[47m\u001b[30mA\u001b[39m\u001b[49m\u001b[47m\u001b[30mA\u001b[39m\u001b[49m\u001b[47m\u001b[30mG\u001b[39m\u001b[49m\u001b[47m\u001b[30mT\u001b[39m\u001b[49m\u001b[47m\u001b[30mC\u001b[39m\u001b[49m\u001b[47m\u001b[30mA\u001b[39m\u001b[49m-\u001b[47m\u001b[30mT\u001b[39m\u001b[49m\u001b[47m\u001b[30mG\u001b[39m\u001b[49m\u001b[47m\u001b[30mG\u001b[39m\u001b[49m\u001b[47m\u001b[30mC\u001b[39m\u001b[49m\u001b[47m\u001b[30mT\u001b[39m\u001b[49m\u001b[47m\u001b[30mT\u001b[39m\u001b[49m\u001b[47m\u001b[30mC\u001b[39m\u001b[49m\u001b[47m\u001b[30mT\u001b[39m\u001b[49m\u001b[47m\u001b[30mC\u001b[39m\u001b[49m\u001b[47m\u001b[30mC\u001b[39m\u001b[49m\u001b[47m\u001b[30mG\u001b[39m\u001b[49m...\u001b[47m\u001b[30mA\u001b[39m\u001b[49m\u001b[47m\u001b[30mT\u001b[39m\u001b[49m\u001b[47m\u001b[30mA\u001b[39m\u001b[49m\u001b[47m\u001b[30mT\u001b[39m\u001b[49m\u001b[47m\u001b[30mG\u001b[39m\u001b[49m\u001b[47m\u001b[30mC\u001b[39m\u001b[49m\u001b[47m\u001b[30mC\u001b[39m\u001b[49m\u001b[47m\u001b[30mA\u001b[39m\u001b[49m\u001b[47m\u001b[30mG\u001b[39m\u001b[49m\u001b[47m\u001b[30mA\u001b[39m\u001b[49m\u001b[47m\u001b[30mT\u001b[39m\u001b[49m\u001b[47m\u001b[30mG\u001b[39m\u001b[49m\u001b[47m\u001b[30mT\u001b[39m\u001b[49m\u001b[47m\u001b[30mA\u001b[39m\u001b[49m\u001b[47m\u001b[30mA\u001b[39m\u001b[49m\u001b[47m\u001b[30mA\u001b[39m\u001b[49m\u001b[47m\u001b[30mA\u001b[39m\u001b[49m\u001b[47m\u001b[30mA\u001b[39m\u001b[49m\u001b[47m\u001b[30mT\u001b[39m\u001b[49m\u001b[47m\u001b[30mT\u001b[39m\u001b[49m\u001b[47m\u001b[30mC\u001b[39m\u001b[49m\u001b[47m\u001b[30mA\u001b[39m\u001b[49m\u001b[47m\u001b[30mA\u001b[39m\u001b[49m Mouse\n",
       "[5]  1143 ----------\u001b[47m\u001b[30mA\u001b[39m\u001b[49m-\u001b[47m\u001b[30mT\u001b[39m\u001b[49m\u001b[47m\u001b[30mG\u001b[39m\u001b[49m\u001b[47m\u001b[30mG\u001b[39m\u001b[49m\u001b[47m\u001b[30mC\u001b[39m\u001b[49m\u001b[47m\u001b[30mT\u001b[39m\u001b[49m\u001b[47m\u001b[30mT\u001b[39m\u001b[49m\u001b[47m\u001b[30mC\u001b[39m\u001b[49m\u001b[47m\u001b[30mT\u001b[39m\u001b[49m\u001b[47m\u001b[30mC\u001b[39m\u001b[49m\u001b[47m\u001b[30mC\u001b[39m\u001b[49m\u001b[47m\u001b[30mG\u001b[39m\u001b[49m...\u001b[47m\u001b[30mA\u001b[39m\u001b[49m\u001b[47m\u001b[30mT\u001b[39m\u001b[49m\u001b[47m\u001b[30mA\u001b[39m\u001b[49m\u001b[47m\u001b[30mT\u001b[39m\u001b[49m\u001b[47m\u001b[30mG\u001b[39m\u001b[49m\u001b[47m\u001b[30mC\u001b[39m\u001b[49m\u001b[47m\u001b[30mC\u001b[39m\u001b[49m\u001b[47m\u001b[30mA\u001b[39m\u001b[49m\u001b[47m\u001b[30mG\u001b[39m\u001b[49m\u001b[47m\u001b[30mA\u001b[39m\u001b[49m\u001b[47m\u001b[30mT\u001b[39m\u001b[49m\u001b[47m\u001b[30mG\u001b[39m\u001b[49m\u001b[47m\u001b[30mT\u001b[39m\u001b[49m\u001b[47m\u001b[30mA\u001b[39m\u001b[49m\u001b[47m\u001b[30mA\u001b[39m\u001b[49m\u001b[47m\u001b[30mA\u001b[39m\u001b[49m\u001b[47m\u001b[30mA\u001b[39m\u001b[49m\u001b[47m\u001b[30mA\u001b[39m\u001b[49m\u001b[47m\u001b[30mT\u001b[39m\u001b[49m\u001b[47m\u001b[30mT\u001b[39m\u001b[49m\u001b[47m\u001b[30mC\u001b[39m\u001b[49m\u001b[47m\u001b[30mA\u001b[39m\u001b[49m\u001b[47m\u001b[30mA\u001b[39m\u001b[49m Rat\n",
       "[6]  1143 ----------\u001b[47m\u001b[30mA\u001b[39m\u001b[49m-\u001b[47m\u001b[30mT\u001b[39m\u001b[49m\u001b[47m\u001b[30mG\u001b[39m\u001b[49m\u001b[47m\u001b[30mG\u001b[39m\u001b[49m\u001b[47m\u001b[30mC\u001b[39m\u001b[49m\u001b[47m\u001b[30mT\u001b[39m\u001b[49m\u001b[47m\u001b[30mT\u001b[39m\u001b[49m\u001b[47m\u001b[30mC\u001b[39m\u001b[49m\u001b[47m\u001b[30mT\u001b[39m\u001b[49m\u001b[47m\u001b[30mC\u001b[39m\u001b[49m\u001b[47m\u001b[30mC\u001b[39m\u001b[49m\u001b[47m\u001b[30mG\u001b[39m\u001b[49m...----------------------- Dog\n",
       "[7]  1143 \u001b[47m\u001b[30mC\u001b[39m\u001b[49m\u001b[47m\u001b[30mG\u001b[39m\u001b[49m\u001b[47m\u001b[30mG\u001b[39m\u001b[49m\u001b[47m\u001b[30mC\u001b[39m\u001b[49m\u001b[47m\u001b[30mC\u001b[39m\u001b[49m\u001b[47m\u001b[30mC\u001b[39m\u001b[49m\u001b[47m\u001b[30mC\u001b[39m\u001b[49m\u001b[47m\u001b[30mG\u001b[39m\u001b[49m\u001b[47m\u001b[30mC\u001b[39m\u001b[49m\u001b[47m\u001b[30mT\u001b[39m\u001b[49m\u001b[47m\u001b[30mC\u001b[39m\u001b[49m-\u001b[47m\u001b[30mC\u001b[39m\u001b[49m\u001b[47m\u001b[30mA\u001b[39m\u001b[49m\u001b[47m\u001b[30mG\u001b[39m\u001b[49m\u001b[47m\u001b[30mC\u001b[39m\u001b[49m\u001b[47m\u001b[30mC\u001b[39m\u001b[49m\u001b[47m\u001b[30mA\u001b[39m\u001b[49m\u001b[47m\u001b[30mC\u001b[39m\u001b[49m\u001b[47m\u001b[30mG\u001b[39m\u001b[49m\u001b[47m\u001b[30mC\u001b[39m\u001b[49m\u001b[47m\u001b[30mT\u001b[39m\u001b[49m\u001b[47m\u001b[30mC\u001b[39m\u001b[49m...----------------------- Chicken\n",
       "[8]  1143 \u001b[47m\u001b[30mT\u001b[39m\u001b[49m\u001b[47m\u001b[30mG\u001b[39m\u001b[49m\u001b[47m\u001b[30mT\u001b[39m\u001b[49m\u001b[47m\u001b[30mG\u001b[39m\u001b[49m\u001b[47m\u001b[30mT\u001b[39m\u001b[49m\u001b[47m\u001b[30mT\u001b[39m\u001b[49m\u001b[47m\u001b[30mC\u001b[39m\u001b[49m\u001b[47m\u001b[30mG\u001b[39m\u001b[49m\u001b[47m\u001b[30mT\u001b[39m\u001b[49m\u001b[47m\u001b[30mC\u001b[39m\u001b[49m\u001b[47m\u001b[30mA\u001b[39m\u001b[49m\u001b[47m\u001b[30mA\u001b[39m\u001b[49m\u001b[47m\u001b[30mC\u001b[39m\u001b[49m\u001b[47m\u001b[30mA\u001b[39m\u001b[49m\u001b[47m\u001b[30mT\u001b[39m\u001b[49m\u001b[47m\u001b[30mC\u001b[39m\u001b[49m\u001b[47m\u001b[30mT\u001b[39m\u001b[49m\u001b[47m\u001b[30mG\u001b[39m\u001b[49m\u001b[47m\u001b[30mA\u001b[39m\u001b[49m\u001b[47m\u001b[30mT\u001b[39m\u001b[49m\u001b[47m\u001b[30mT\u001b[39m\u001b[49m\u001b[47m\u001b[30mT\u001b[39m\u001b[49m\u001b[47m\u001b[30mT\u001b[39m\u001b[49m...\u001b[47m\u001b[30mG\u001b[39m\u001b[49m\u001b[47m\u001b[30mT\u001b[39m\u001b[49m\u001b[47m\u001b[30mT\u001b[39m\u001b[49m\u001b[47m\u001b[30mC\u001b[39m\u001b[49m\u001b[47m\u001b[30mA\u001b[39m\u001b[49m\u001b[47m\u001b[30mT\u001b[39m\u001b[49m\u001b[47m\u001b[30mT\u001b[39m\u001b[49m\u001b[47m\u001b[30mT\u001b[39m\u001b[49m\u001b[47m\u001b[30mA\u001b[39m\u001b[49m\u001b[47m\u001b[30mT\u001b[39m\u001b[49m\u001b[47m\u001b[30mT\u001b[39m\u001b[49m\u001b[47m\u001b[30mC\u001b[39m\u001b[49m\u001b[47m\u001b[30mT\u001b[39m\u001b[49m\u001b[47m\u001b[30mA\u001b[39m\u001b[49m\u001b[47m\u001b[30mT\u001b[39m\u001b[49m\u001b[47m\u001b[30mA\u001b[39m\u001b[49m\u001b[47m\u001b[30mG\u001b[39m\u001b[49m\u001b[47m\u001b[30mC\u001b[39m\u001b[49m\u001b[47m\u001b[30mC\u001b[39m\u001b[49m\u001b[47m\u001b[30mC\u001b[39m\u001b[49m\u001b[47m\u001b[30mT\u001b[39m\u001b[49m\u001b[47m\u001b[30mG\u001b[39m\u001b[49m\u001b[47m\u001b[30mA\u001b[39m\u001b[49m Salmon"
      ]
     },
     "metadata": {},
     "output_type": "display_data"
    },
    {
     "data": {
      "text/plain": [
       "        Human Chimp Cow Mouse Rat Dog Chicken\n",
       "Chimp     325                                \n",
       "Cow       130   378                          \n",
       "Mouse     178   406 202                      \n",
       "Rat       186   403 212    77                \n",
       "Dog       398    79 388   412 412            \n",
       "Chicken   422   436 442   439 437 448        \n",
       "Salmon    625   724 630   619 616 736     639"
      ]
     },
     "metadata": {},
     "output_type": "display_data"
    },
    {
     "data": {
      "text/plain": [
       "\n",
       "Call:\n",
       "hclust(d = sdist, method = \"single\")\n",
       "\n",
       "Cluster method   : single \n",
       "Distance         : hamming \n",
       "Number of objects: 8 \n"
      ]
     },
     "metadata": {},
     "output_type": "display_data"
    },
    {
     "data": {
      "text/html": [
       "<strong>png:</strong> 2"
      ],
      "text/latex": [
       "\\textbf{png:} 2"
      ],
      "text/markdown": [
       "**png:** 2"
      ],
      "text/plain": [
       "png \n",
       "  2 "
      ]
     },
     "metadata": {},
     "output_type": "display_data"
    },
    {
     "data": {
      "text/html": [
       "<style>\n",
       ".dl-inline {width: auto; margin:0; padding: 0}\n",
       ".dl-inline>dt, .dl-inline>dd {float: none; width: auto; display: inline-block}\n",
       ".dl-inline>dt::after {content: \":\\0020\"; padding-right: .5ex}\n",
       ".dl-inline>dt:not(:first-of-type) {padding-left: .5ex}\n",
       "</style><dl class=dl-inline><dt>Human</dt><dd>1</dd><dt>Chimp</dt><dd>2</dd><dt>Cow</dt><dd>1</dd><dt>Mouse</dt><dd>1</dd><dt>Rat</dt><dd>1</dd><dt>Dog</dt><dd>2</dd><dt>Chicken</dt><dd>3</dd><dt>Salmon</dt><dd>4</dd></dl>\n"
      ],
      "text/latex": [
       "\\begin{description*}\n",
       "\\item[Human] 1\n",
       "\\item[Chimp] 2\n",
       "\\item[Cow] 1\n",
       "\\item[Mouse] 1\n",
       "\\item[Rat] 1\n",
       "\\item[Dog] 2\n",
       "\\item[Chicken] 3\n",
       "\\item[Salmon] 4\n",
       "\\end{description*}\n"
      ],
      "text/markdown": [
       "Human\n",
       ":   1Chimp\n",
       ":   2Cow\n",
       ":   1Mouse\n",
       ":   1Rat\n",
       ":   1Dog\n",
       ":   2Chicken\n",
       ":   3Salmon\n",
       ":   4\n",
       "\n"
      ],
      "text/plain": [
       "  Human   Chimp     Cow   Mouse     Rat     Dog Chicken  Salmon \n",
       "      1       2       1       1       1       2       3       4 "
      ]
     },
     "metadata": {},
     "output_type": "display_data"
    }
   ],
   "source": [
    "# ''' Better Cluster Case '''\n",
    "\n",
    "# suppose we have created some mask for our alignment\n",
    "autoMasked \n",
    "\n",
    "# Calculate the distance to eachother (alignments)\n",
    "class(autoMasked) # DNAMultipleAlignment class\n",
    "str_set <- as(autoMasked,\"DNAStringSet\") # convert/use alignment to/as string set\n",
    "class(str_set) # DNAStringSet\n",
    "str_set # the stringset only contains those present in the mask\n",
    "\n",
    "# Calculate distance\n",
    "sdist <- stringDist(str_set,\n",
    "                    method=\"hamming\")\n",
    "sdist\n",
    "\n",
    "# cluster using Hierarchical clustering, hclust\n",
    "clust <- hclust(sdist,\n",
    "                method = \"single\")\n",
    "clust\n",
    "\n",
    "pdf(file=\"tree2.pdf\") # plot the clustering\n",
    "plot(clust) # plot dendogram of the clustering\n",
    "dev.off()\n",
    "\n",
    "# Cut the tree into four groups\n",
    "fourgroups <- cutree(clust, 4)\n",
    "fourgroups"
   ]
  },
  {
   "cell_type": "markdown",
   "id": "300db9bd",
   "metadata": {
    "papermill": {
     "duration": 0.509229,
     "end_time": "2022-08-02T17:17:35.221289",
     "exception": false,
     "start_time": "2022-08-02T17:17:34.712060",
     "status": "completed"
    },
    "tags": []
   },
   "source": [
    "# <b>BIOCONDUCTOR :: <span style='color:#6846D5'>msa</span></b>\n",
    "- The method used in **[biological sequence alignment](https://www.kaggle.com/shtrausslearning/biological-sequence-alignment)** can't handle lots of alignments described in snipplet:\n",
    "> - Most alignments are computed using the **<span style='color:#6846D5'>progressive alignment heuristic<span>**\n",
    "> - These methods are starting to become a bottleneck in some analysis pipelines when faced with data sets of the size of **many thousands of sequences**\n",
    "- **[CLUSTALW](https://www.ncbi.nlm.nih.gov/pmc/articles/PMC308517/)**, **[CLUSTALOMEGA](https://pubmed.ncbi.nlm.nih.gov/21988835/)**, **[MUSCLE](https://academic.oup.com/nar/article/32/5/1792/2380623)** are all more advanced methods of **<span style='color:#6846D5'>multiple sequence alignment</span>**, varying in algorithm, but achieving the same goal\n",
    "- So for realistic problems, we may have to compare lots of sequences togther, thus the above three algorithms are more preferable, to keep computational cost low\n",
    "- Upon **<span style='color:#6846D5'>msa</span>**, we get <code>MsaAAMultipleAlignment</code> objects, which we already used in **Section 3**; the same alignment related operations used in **<span style='color:#6846D5'>Biostrings</span>** can be used (eg. masking)"
   ]
  },
  {
   "cell_type": "code",
   "execution_count": 72,
   "id": "5f3337b4",
   "metadata": {
    "execution": {
     "iopub.execute_input": "2022-08-02T17:17:36.247266Z",
     "iopub.status.busy": "2022-08-02T17:17:36.246047Z",
     "iopub.status.idle": "2022-08-02T17:17:36.403642Z",
     "shell.execute_reply": "2022-08-02T17:17:36.402189Z"
    },
    "papermill": {
     "duration": 0.674346,
     "end_time": "2022-08-02T17:17:36.403855",
     "exception": false,
     "start_time": "2022-08-02T17:17:35.729509",
     "status": "completed"
    },
    "tags": []
   },
   "outputs": [],
   "source": [
    "suppressPackageStartupMessages(library(msa))"
   ]
  },
  {
   "cell_type": "code",
   "execution_count": 73,
   "id": "eeebf5cd",
   "metadata": {
    "execution": {
     "iopub.execute_input": "2022-08-02T17:17:37.428625Z",
     "iopub.status.busy": "2022-08-02T17:17:37.427177Z",
     "iopub.status.idle": "2022-08-02T17:17:37.476813Z",
     "shell.execute_reply": "2022-08-02T17:17:37.475219Z"
    },
    "papermill": {
     "duration": 0.561384,
     "end_time": "2022-08-02T17:17:37.476982",
     "exception": false,
     "start_time": "2022-08-02T17:17:36.915598",
     "status": "completed"
    },
    "tags": []
   },
   "outputs": [
    {
     "data": {
      "text/plain": [
       "AAStringSet object of length 9:\n",
       "    width seq                                               names               \n",
       "[1]   452 MSTAVLENPGLGRKLSDFGQETS...LKILADSINSEIGILCSALQKIK PH4H_Homo_sapiens\n",
       "[2]   453 MAAVVLENGVLSRKLSDFGQETS...KILADSINSEVGILCNALQKIKS PH4H_Rattus_norve...\n",
       "[3]   453 MAAVVLENGVLSRKLSDFGQETS...KILADSINSEVGILCHALQKIKS PH4H_Mus_musculus\n",
       "[4]   297 MNDRADFVVPDITTRKNVGLSHD...DVAPDDLVLNAGDRQGWADTEDV PH4H_Chromobacter...\n",
       "[5]   262 MKTTQYVARQPDDNGFIHYPETE...MALVHEAMRLGLHAPLFPPKQAA PH4H_Pseudomonas_...\n",
       "[6]   451 MSALVLESRALGRKLSDFGQETS...LKILADSISSEVEILCSALQKLK PH4H_Bos_taurus\n",
       "[7]   313 MAIATPTSAAPTPAPAGFTGTLT...DVVDGDAVLNAGTREGWADTADI PH4H_Ralstonia_so...\n",
       "[8]   294 MSGDGLSNGPPPGARPDWTIDQG...AVLTRGTQAYATAGGRLAGAAAG PH4H_Caulobacter_...\n",
       "[9]   275 MSVAEYARDCAAQGLRGDYSVCR...QTADFEAIVARRKDQKALDPATV PH4H_Rhizobium_loti"
      ]
     },
     "metadata": {},
     "output_type": "display_data"
    }
   ],
   "source": [
    "# Load Example File\n",
    "mySequenceFile <- system.file(\"examples\",\n",
    "                              \"exampleAA.fasta\",\n",
    "                              package=\"msa\")\n",
    "\n",
    "# Read Amino acid string set\n",
    "mySequences <- readAAStringSet(mySequenceFile) # read stringset (same as biostrings library)\n",
    "mySequences"
   ]
  },
  {
   "cell_type": "code",
   "execution_count": 74,
   "id": "95df8add",
   "metadata": {
    "execution": {
     "iopub.execute_input": "2022-08-02T17:17:38.498409Z",
     "iopub.status.busy": "2022-08-02T17:17:38.496751Z",
     "iopub.status.idle": "2022-08-02T17:17:38.798776Z",
     "shell.execute_reply": "2022-08-02T17:17:38.797179Z"
    },
    "papermill": {
     "duration": 0.814473,
     "end_time": "2022-08-02T17:17:38.798943",
     "exception": false,
     "start_time": "2022-08-02T17:17:37.984470",
     "status": "completed"
    },
    "tags": []
   },
   "outputs": [
    {
     "name": "stdout",
     "output_type": "stream",
     "text": [
      "use default substitution matrix\n",
      "CLUSTAL 2.1  \n",
      "\n",
      "Call:\n",
      "   msa(mySequences)\n",
      "\n",
      "MsaAAMultipleAlignment with 9 rows and 456 columns\n",
      "    aln                                                    names\n",
      "[1] MAAVVLENGVLSRKLSDFGQETSYIE...QLKILADSINSEVGILCNALQKIKS PH4H_Rattus_norve...\n",
      "[2] MAAVVLENGVLSRKLSDFGQETSYIE...QLKILADSINSEVGILCHALQKIKS PH4H_Mus_musculus\n",
      "[3] MSTAVLENPGLGRKLSDFGQETSYIE...QLKILADSINSEIGILCSALQKIK- PH4H_Homo_sapiens\n",
      "[4] ##########################...######################### PH4H_Bos_taurus\n",
      "[5] ##########################...######################### PH4H_Chromobacter...\n",
      "[6] ##########################...######################### PH4H_Ralstonia_so...\n",
      "[7] ##########################...######################### PH4H_Caulobacter_...\n",
      "[8] ##########################...######################### PH4H_Pseudomonas_...\n",
      "[9] ##########################...######################### PH4H_Rhizobium_loti\n",
      "Con MAAVVLENGVLSRKLSDFGQETSYIE...QLKILADSINSEVGILC?ALQKIKS Consensus \n"
     ]
    }
   ],
   "source": [
    "# Multiple Sequence Alignment\n",
    "aln <- msa(mySequences) # clustalW used by default\n",
    "\n",
    "# Same masking used in biostrings can be used\n",
    "rowmask(aln, invert=TRUE) <- IRanges(start=1, end=3) \n",
    "# print(aln, show=\"complete\") # show full alignment\n",
    "print(aln)"
   ]
  },
  {
   "cell_type": "code",
   "execution_count": 75,
   "id": "e309e8db",
   "metadata": {
    "execution": {
     "iopub.execute_input": "2022-08-02T17:17:39.865848Z",
     "iopub.status.busy": "2022-08-02T17:17:39.864107Z",
     "iopub.status.idle": "2022-08-02T17:17:40.339232Z",
     "shell.execute_reply": "2022-08-02T17:17:40.337341Z"
    },
    "papermill": {
     "duration": 1.036275,
     "end_time": "2022-08-02T17:17:40.339477",
     "exception": false,
     "start_time": "2022-08-02T17:17:39.303202",
     "status": "completed"
    },
    "tags": []
   },
   "outputs": [
    {
     "name": "stdout",
     "output_type": "stream",
     "text": [
      "use default substitution matrix\n",
      "using Gonnet\n"
     ]
    }
   ],
   "source": [
    "# MSA approach options\n",
    "myClustalWAlignment <- msa(mySequences, \"ClustalW\")\n",
    "myClustalOmegaAlignment <- msa(mySequences, \"ClustalOmega\")\n",
    "myMuscleAlignment <- msa(mySequences, \"Muscle\")"
   ]
  },
  {
   "cell_type": "code",
   "execution_count": 76,
   "id": "e14fea58",
   "metadata": {
    "execution": {
     "iopub.execute_input": "2022-08-02T17:17:41.379582Z",
     "iopub.status.busy": "2022-08-02T17:17:41.377755Z",
     "iopub.status.idle": "2022-08-02T17:17:41.400245Z",
     "shell.execute_reply": "2022-08-02T17:17:41.398804Z"
    },
    "papermill": {
     "duration": 0.541742,
     "end_time": "2022-08-02T17:17:41.400465",
     "exception": false,
     "start_time": "2022-08-02T17:17:40.858723",
     "status": "completed"
    },
    "tags": []
   },
   "outputs": [],
   "source": [
    "# using as() to change msa alignment type to StringSet\n",
    "AAStr = as(myMuscleAlignment, \"AAStringSet\") # output as String Set\n",
    "writeXStringSet(AAStr, file=\"AAStr.fasta\") # write in FASTA format"
   ]
  },
  {
   "cell_type": "code",
   "execution_count": null,
   "id": "1fb0e370",
   "metadata": {
    "papermill": {
     "duration": 0.506282,
     "end_time": "2022-08-02T17:17:42.406943",
     "exception": false,
     "start_time": "2022-08-02T17:17:41.900661",
     "status": "completed"
    },
    "tags": []
   },
   "outputs": [],
   "source": []
  }
 ],
 "metadata": {
  "kernelspec": {
   "display_name": "R",
   "language": "R",
   "name": "ir"
  },
  "language_info": {
   "codemirror_mode": "r",
   "file_extension": ".r",
   "mimetype": "text/x-r-source",
   "name": "R",
   "pygments_lexer": "r",
   "version": "4.0.5"
  },
  "papermill": {
   "default_parameters": {},
   "duration": 696.563171,
   "end_time": "2022-08-02T17:17:43.130754",
   "environment_variables": {},
   "exception": null,
   "input_path": "__notebook__.ipynb",
   "output_path": "__notebook__.ipynb",
   "parameters": {},
   "start_time": "2022-08-02T17:06:06.567583",
   "version": "2.3.3"
  }
 },
 "nbformat": 4,
 "nbformat_minor": 5
}
