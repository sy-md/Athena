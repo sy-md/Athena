{
 "cells": [
  {
   "cell_type": "code",
   "execution_count": 1,
   "metadata": {
    "_kg_hide-input": true,
    "_kg_hide-output": true,
    "execution": {
     "iopub.execute_input": "2023-05-06T19:10:01.124873Z",
     "iopub.status.busy": "2023-05-06T19:10:01.124164Z",
     "iopub.status.idle": "2023-05-06T19:10:02.272245Z",
     "shell.execute_reply": "2023-05-06T19:10:02.271358Z",
     "shell.execute_reply.started": "2021-10-25T11:56:56.482403Z"
    },
    "papermill": {
     "duration": 1.218323,
     "end_time": "2023-05-06T19:10:02.272481",
     "exception": false,
     "start_time": "2023-05-06T19:10:01.054158",
     "status": "completed"
    },
    "tags": []
   },
   "outputs": [
    {
     "name": "stderr",
     "output_type": "stream",
     "text": [
      "/opt/conda/lib/python3.7/site-packages/Bio/SubsMat/__init__.py:131: BiopythonDeprecationWarning: Bio.SubsMat has been deprecated, and we intend to remove it in a future release of Biopython. As an alternative, please consider using Bio.Align.substitution_matrices as a replacement, and contact the Biopython developers if you still need the Bio.SubsMat module.\n",
      "  BiopythonDeprecationWarning,\n"
     ]
    }
   ],
   "source": [
    "import os\n",
    "import numpy as np\n",
    "import pandas as pd\n",
    "from Bio.pairwise2 import format_alignment\n",
    "from Bio.SubsMat import MatrixInfo \n",
    "from Bio import pairwise2\n",
    "from Bio import SeqIO, SearchIO\n",
    "from Bio.Seq import Seq\n",
    "from Bio.SeqRecord import SeqRecord\n",
    "from Bio.Blast import NCBIWWW\n",
    "from Bio.Blast import NCBIXML\n",
    "\n",
    "from Bio.Phylo.TreeConstruction import DistanceTreeConstructor\n",
    "from Bio.Phylo.TreeConstruction import DistanceCalculator\n",
    "from Bio.Phylo.PhyloXML import Phylogeny\n",
    "from Bio import Phylo\n",
    "\n",
    "from pprint import pprint\n",
    "import matplotlib.pyplot as plt\n",
    "import seaborn as sns; sns.set(style='white')\n",
    "blast_id = True"
   ]
  },
  {
   "cell_type": "markdown",
   "metadata": {
    "papermill": {
     "duration": 0.061355,
     "end_time": "2023-05-06T19:10:02.395459",
     "exception": false,
     "start_time": "2023-05-06T19:10:02.334104",
     "status": "completed"
    },
    "tags": []
   },
   "source": [
    "![](https://i.imgur.com/lddIujY.jpg)\n",
    "\n",
    "# <div style=\"padding: 30px;color:white;margin:10;font-size:60%;text-align:left;display:fill;border-radius:10px;background-color:#FFFFFF;overflow:hidden;background-color:#E888BB\"><b><span style='color:#FFFFFF'>1 |</span></b> <b>INTRODUCTION</b></div>\n",
    "\n",
    "### <b><span style='color:#E888BB'> 1.1 |</span> Bioinformatics meets Python </b>\n",
    "\n",
    "<div style=\"color:white;display:fill;border-radius:8px;font-size:100%; letter-spacing:1.0px;\"><p style=\"padding: 5px;color:white;text-align:left;\"><b><span style='color:#E888BB'>BIOPYTHON</span></b></p></div>\n",
    "\n",
    "- The Biopython Project is an international association of developers of freely available Python tools for computational molecular biology. \n",
    "- Basically, the goal of Biopython is to make it as easy as possible to use Python for bioinformatics by creating high-quality, reusable modules and classes. \n",
    "- Biopython features include parsers for various Bioinformatics file formats (**<span style='color:#F55AA2'>BLAST</span>**,**<span style='color:#F55AA2'>Clustalw</span>**, **<span style='color:#F55AA2'>FASTA</span>**, **<span style='color:#F55AA2'>Genbank</span>**, access to <b>online services</b> (**<span style='color:#F55AA2'>NCBI</span>**, Expasy,...)\n",
    "- Interfaces to common and not-so-common programs (Clustalw, DSSP, MSMS...), a standard sequence class, various clustering modules, a KD tree data structure etc. and even documentation.\n",
    "\n",
    "<div style=\"color:white;display:fill;border-radius:8px;font-size:100%; letter-spacing:1.0px;\"><p style=\"padding: 5px;color:white;text-align:left;\"><b><span style='color:#E888BB'>NOTEBOOK CONTENT</span></b></p></div>\n",
    "\n",
    "- In this notebook, we'll be covering very simple, beginner entry operations one can encounter when starting out in the field of <b><span style='color:#F55AA2'>bioinformatics</span></b>.\n",
    "- <b><span style='color:#F55AA2'>BioPython</span></b> is a very convenient tool we can utlise when working with <b><span style='color:#F55AA2'>Sequences</span></b> & <b><span style='color:#F55AA2'>Alignments</span></b> of <b><span style='color:#F55AA2'>DNA/Protein</span></b> based sequences.\n",
    "- Whilst it can be interesting to work with your own classes you can modify to your needs, it's much easier and less of a hastle to work in BioPython. \n",
    "- It is [well documented](https://biopython.org) & is quite popular, so there are plenty of of [examples](http://diverge.hunter.cuny.edu/~weigang/BioPython.html) that you can come across & will potentially help you understand how you can utilise this tool"
   ]
  },
  {
   "cell_type": "markdown",
   "metadata": {
    "papermill": {
     "duration": 0.060292,
     "end_time": "2023-05-06T19:10:02.516098",
     "exception": false,
     "start_time": "2023-05-06T19:10:02.455806",
     "status": "completed"
    },
    "tags": []
   },
   "source": [
    "### <b><span style='color:#E888BB'> 1.2 |</span> Biological Sequence Alphabet </b>\n",
    "\n",
    "Two sets of alphabets are used in bioinformatics, **<mark style=\"background-color:#5D2ECC;color:white;border-radius:5px;opacity:0.7\">Nucleotides</mark>** & **<mark style=\"background-color:#5D2ECC;color:white;border-radius:5px;opacity:0.7\">Amino Acids</mark>**\n",
    "\n",
    "**<mark style=\"background-color:#323232;color:white;border-radius:5px;opacity:0.7\">ABC (I/II)</mark>** **<mark style=\"background-color:#F55AA2;color:white;border-radius:5px;opacity:0.7\">Nucleic Acids</mark>**\n",
    "\n",
    "> - Among <b><span style='color:#5D2ECC'>molecules with a biological role</span></b>, we can find <b><span style='color:#5D2ECC'>nucleic acids</span></b>. \n",
    "> - Nucleic acids encode and express the genetic code that is kept within the cell. \n",
    "- There are two major types of <b><span style='color:#5D2ECC'>nucleic acids</span></b>: \n",
    "> - <b>DeoxyriboNucleic Acid (DNA)</b>\n",
    "> - <b>RiboNucleic Acid (RNA)</b> (Obtainable via transcription)\n",
    "- DNA contains the information necessary to build a cell, and keep it functioning. \n",
    "- In <b><span style='color:#5D2ECC'>eukaryotic</span></b> cells, DNA will be found in the nucleus, whilst in the <b><span style='color:#5D2ECC'>prokaryotic</span></b> cells, it will be found in the cytoplasm. \n",
    "- <b><span style='color:#5D2ECC'>IUPAC</span></b> defines the full list of nucleotides as shown in the table below, with <b>A,T,G,C</b> being the main four:\n",
    "- Another type of nucleotide list often used is **[IUB Ambiguity Codes](http://biocorp.ca/IUB.php)**, which we use later in the notebook as well\n",
    "\n",
    "**<mark style=\"background-color:#323232;color:white;border-radius:5px;opacity:0.7\">ABC (II/II)</mark>** **<mark style=\"background-color:#F55AA2;color:white;border-radius:5px;opacity:0.7\">Amino Acids</mark>**\n",
    "- **<span style='color:#5D2ECC'>Amino acids</span>**: \n",
    "> The **<span style='color:#5D2ECC'>building blocks of proteins</span>**, which are <b>macromolecules</b> that perform most of the functions inside a cell\n",
    "- Proteins have a **<span style='color:#5D2ECC'>broad range of functions</span>**, spanning from **<span style='color:#5D2ECC'>catalytic</span>** to **<span style='color:#5D2ECC'>structural functions</span>**:\n",
    "\n",
    "> - **<span style='color:#5D2ECC'>Enzymes</span>** : Type of abundant proteins that promote chemical reactions and convert certain molecules into other types of molecules required for the functioning of the cell.\n",
    "> - **<span style='color:#5D2ECC'>Carbohydrates</span>** : Serve as energy storage, both for immediate and long term energy demands.\n",
    "> - **<span style='color:#5D2ECC'>Lipids</span>**: Part of the plasma membrane, doing signaling and energy storage.\n",
    "- The cell also contains other components of varying complexity. Of importance: \n",
    "> - <b>Mitochondria</b> & the <b>Chloroplasts</b> : Organelles involved in the production of energy. \n",
    "> - <b>Ribosomes</b> : Large and complex molecules composed of a mixture of genetic material, req. to assemble proteins and play a central role in the flow of genetic information."
   ]
  },
  {
   "cell_type": "markdown",
   "metadata": {
    "papermill": {
     "duration": 0.06932,
     "end_time": "2023-05-06T19:10:02.654039",
     "exception": false,
     "start_time": "2023-05-06T19:10:02.584719",
     "status": "completed"
    },
    "tags": []
   },
   "source": [
    "### <b><span style='color:#E888BB'> 1.3 |</span> DNA strands </b>\n",
    "\n",
    "<div style=\"color:white;display:fill;border-radius:8px;font-size:100%; letter-spacing:1.0px;\"><p style=\"padding: 5px;color:white;text-align:left;\"><b><span style='color:#E888BB'>COMPLEMENTARY STRANDS</span></b></p></div>\n",
    "\n",
    "- DNA is a molecule composed of **<span style='color:#5D2ECC'>two complementary strands</span>** that form and stick together due to the connections established between the nucleotides in both strands. \n",
    "\n",
    "> - This is made possible by due to the chemical phenomenon where **<span style='color:#5D2ECC'>Adenine (A)</span>** bonds only with **<span style='color:#5D2ECC'>Thymine (T)</span>** nucleotides, as a result of two hydrogen connections. \n",
    "> - Similarly, **<span style='color:#5D2ECC'>Guanine (G)</span>** bonds only with **<span style='color:#5D2ECC'>Cytosine (C)</span>** nucleotides by three hydrogen connections.\n",
    "\n",
    "<div style=\"color:white;display:fill;border-radius:8px;font-size:100%; letter-spacing:1.0px;\"><p style=\"padding: 5px;color:white;text-align:left;\"><b><span style='color:#E888BB'>REVERSE COMPLEMENT</span></b></p></div>\n",
    "\n",
    "- This results in **<span style='color:#5D2ECC'>two complementary</span>** and **<span style='color:#5D2ECC'>anti-parallel strands</span>** (connected in opposite directions), if we know the nucleotide sequence in one of the strands, we can get the sequence in the opposite strand by taking the complement of its nucleotides, which are also read backwards, thus we have the **<span style='color:#5D2ECC'>reverse complement</span>** of the other strand.\n",
    "- It has become a **<span style='color:#5D2ECC'>standard to describe the DNA though only one</span>** of the strands, due to this **<span style='color:#5D2ECC'>complementarity</span>** using <b>[A,T,G,C]</b>.\n",
    "- The existence of these two strands is essential in order to **<span style='color:#5D2ECC'>pass on genetic information</span>** to new cells and **<span style='color:#5D2ECC'>produce proteins</span>**."
   ]
  },
  {
   "cell_type": "markdown",
   "metadata": {
    "papermill": {
     "duration": 0.061279,
     "end_time": "2023-05-06T19:10:02.785718",
     "exception": false,
     "start_time": "2023-05-06T19:10:02.724439",
     "status": "completed"
    },
    "tags": []
   },
   "source": [
    "\n",
    "# <div style=\"padding: 30px;color:white;margin:10;font-size:60%;text-align:left;display:fill;border-radius:10px;background-color:#FFFFFF;overflow:hidden;background-color:#E888BB\"><b><span style='color:#FFFFFF'>2 |</span></b> <b>SEQUENCE DEFINITION</b></div>\n",
    "\n",
    "### <b><span style='color:#E888BB'> 2.1 |</span> Strings to Sequence </b>\n",
    "\n",
    "<div style=\"color:white;display:fill;border-radius:8px;font-size:100%; letter-spacing:1.0px;\"><p style=\"padding: 5px;color:white;text-align:left;\"><b><span style='color:#E888BB'>SMALLER SEQUENCES</span></b></p></div>\n",
    "\n",
    "- When a sequence are quite short (eg. when we are looking at part of the entire DNA sequence), we can probably just define them using the **<span style='color:#F55AA2'>string</span>** format.\n",
    "- To use some operations with this sequence in <b>biopython</b> (eg. sequence alignment), we need to <b><span style='color:#F55AA2'>create an instance</span></b> of the <b>Seq</b> class for each sequence.\n",
    "- In previous biopython versions, we had to specify the <b><span style='color:#F55AA2'>sequence type</span></b>, (eg. <code>IUPAC.protein</code>), however this is not necessary in recent versions."
   ]
  },
  {
   "cell_type": "code",
   "execution_count": 2,
   "metadata": {
    "execution": {
     "iopub.execute_input": "2023-05-06T19:10:02.930098Z",
     "iopub.status.busy": "2023-05-06T19:10:02.929347Z",
     "iopub.status.idle": "2023-05-06T19:10:02.934233Z",
     "shell.execute_reply": "2023-05-06T19:10:02.934814Z",
     "shell.execute_reply.started": "2021-10-22T17:49:58.728857Z"
    },
    "papermill": {
     "duration": 0.085988,
     "end_time": "2023-05-06T19:10:02.934995",
     "exception": false,
     "start_time": "2023-05-06T19:10:02.849007",
     "status": "completed"
    },
    "tags": []
   },
   "outputs": [],
   "source": [
    "n = 'ATGACGGATCAGCCGCAAGCGGAATTGGCGTTTACGTACGATGCGCCGTAA'  # nucleotide sequence\n",
    "aa = 'MMMELQHQRLMALAGQLQLESLISAAPALSQQAVDQEWSYMDFLEHLLHE' # protein sequence\n",
    "\n",
    "seq_n = Seq(n)\n",
    "seq_aa = Seq(aa)"
   ]
  },
  {
   "cell_type": "markdown",
   "metadata": {
    "papermill": {
     "duration": 0.059315,
     "end_time": "2023-05-06T19:10:03.056556",
     "exception": false,
     "start_time": "2023-05-06T19:10:02.997241",
     "status": "completed"
    },
    "tags": []
   },
   "source": [
    "<div style=\"color:white;display:fill;border-radius:8px;font-size:100%; letter-spacing:1.0px;\"><p style=\"padding: 5px;color:white;text-align:left;\"><b><span style='color:#E888BB'>SIMPLE SEQUENCE OPERATIONS</span></b></p></div>\n",
    "\n",
    "- Since we don't have <code>.alphabet</code> details, you'll have to know the <b>sequence type</b> you are using, so it makes sense to give them names accordingly.\n",
    "- An example operation you could apply on a <b>nucleotide sequence</b> would be the **<span style='color:#F55AA2'>reverse_complement</span>**, which is an operation applied to a <b><span style='color:#F55AA2'>DNA</span></b> based sequence."
   ]
  },
  {
   "cell_type": "code",
   "execution_count": 3,
   "metadata": {
    "execution": {
     "iopub.execute_input": "2023-05-06T19:10:03.179699Z",
     "iopub.status.busy": "2023-05-06T19:10:03.179046Z",
     "iopub.status.idle": "2023-05-06T19:10:03.184303Z",
     "shell.execute_reply": "2023-05-06T19:10:03.184845Z",
     "shell.execute_reply.started": "2021-10-22T17:49:58.743046Z"
    },
    "papermill": {
     "duration": 0.068526,
     "end_time": "2023-05-06T19:10:03.185030",
     "exception": false,
     "start_time": "2023-05-06T19:10:03.116504",
     "status": "completed"
    },
    "tags": []
   },
   "outputs": [
    {
     "name": "stdout",
     "output_type": "stream",
     "text": [
      "TTACGGCGCATCGTACGTAAACGCCAATTCCGCTTGCGGCTGATCCGTCAT\n",
      "EDLLDELFHKRSWEQHBTQQSLTPTTSILSELQLQCTLTKLYQDQLEKKK\n"
     ]
    }
   ],
   "source": [
    "print(seq_n.reverse_complement()) # possible\n",
    "print(seq_aa.reverse_complement()) # not actually possible"
   ]
  },
  {
   "cell_type": "markdown",
   "metadata": {
    "papermill": {
     "duration": 0.060755,
     "end_time": "2023-05-06T19:10:03.308396",
     "exception": false,
     "start_time": "2023-05-06T19:10:03.247641",
     "status": "completed"
    },
    "tags": []
   },
   "source": [
    "### <b><span style='color:#E888BB'> 2.2 |</span> Sequence Annotation Objects </b>\n",
    "\n",
    "<div style=\"color:white;display:fill;border-radius:8px;font-size:100%; letter-spacing:1.0px;\"><p style=\"padding: 5px;color:white;text-align:left;\"><b><span style='color:#E888BB'>DEFINIG MORE DETAIL</span></b></p></div>\n",
    "\n",
    "- Sequence files obtained from databases provied the option to for more <b>detailed information</b> storage about the sequence, not just the <b>sequence</b> alone.\n",
    "- In BioPython, we can use <code>SeqRecord</code> objects with our defined <code>Seq</code> object instances & add define additional information about our sequence(s).\n",
    "- Two commonly added detailed information about a sequence:\n",
    "  > - <b><span style='color:#F55AA2'>Annotations</span></b> ( Extra metadata information about the sequence )\n",
    "  > - <b><span style='color:#F55AA2'>Features</span></b> ( Extra information about the sequence content, which is extractable ) \n",
    "\n",
    "<div style=\"color:white;display:fill;border-radius:8px;font-size:100%; letter-spacing:1.0px;\"><p style=\"padding: 5px;color:white;text-align:left;\"><b><span style='color:#E888BB'>SEQ RECORD CLASS</span></b></p></div>\n",
    "\n",
    "<b>SeqRecord</b> | [BioPython](https://biopython.org/wiki/SeqRecord)\n",
    "\n",
    "> SeqRecord objects are used in Biopython to hold a sequence (as a Seq object) with identifiers (ID and name), description and optionally annotation and sub-features.\n",
    "\n",
    "- <code>SeqRecord</code> is class we'd use when we want to work with <code>Seq</code> that have more information about the sequence, grouped all in one spot.\n",
    "- If we wanted to do <b>multiple sequence alignment</b>, we have to define each individual sequences in the <code>SeqRecord</code> object, which requires just the <b>id</b> to be defined.\n",
    "\n",
    "<code>SeqRecord</code> objects can store:\n",
    "> - <code>seq</code> - The sequence itself ( <code>Seq()</code> objects )\n",
    "> - <code>id</code> - Sequence identifier\n",
    "> - <code>name</code> - Sequence name \n",
    "> - <code>description</code> - Description of the sequence\n",
    "> - <code>annotations</code> - Global annotations for the whole sequence (<b>dic</b>)\n",
    "> - <code>features</code> - Structured features (<b>lst</b> of <code>SeqFeature</code> objects)\n",
    "> - <code>letter_annotations</code> - Annotations for each letter (position) in the sequence\n",
    "> - <code>dexrefs</code> - References to databases\n",
    "\n",
    "<div style=\"color:white;display:fill;border-radius:8px;font-size:100%; letter-spacing:1.0px;\"><p style=\"padding: 5px;color:white;text-align:left;\"><b><span style='color:#E888BB'>SEQ RECORD ANNOTATIONS & SAVING FILES</span></b></p></div>\n",
    "\n",
    "- As we saw, <code>SeqRecord</code> can hold information about different <b><span style='color:#F55AA2'>annotations</span></b> for the sequence in question.\n",
    "- Let's define some basic annotations for <code>SeqRec</code> below, which we <b>can subsequently save</b> using <code>SeqIO</code> using the <b><span style='color:#F55AA2'>minimalistic</span></b> <b>FASTA</b> or <b><span style='color:#F55AA2'>detailed</span></b> <b>Genbank</b> formats.\n",
    "- We'll look at which <code>annotations</code> data are typically added in <b>Section 3</b>, where we'll load and look at <b>real sequence</b> files."
   ]
  },
  {
   "cell_type": "code",
   "execution_count": 4,
   "metadata": {
    "execution": {
     "iopub.execute_input": "2023-05-06T19:10:03.436398Z",
     "iopub.status.busy": "2023-05-06T19:10:03.435694Z",
     "iopub.status.idle": "2023-05-06T19:10:03.458947Z",
     "shell.execute_reply": "2023-05-06T19:10:03.458323Z",
     "shell.execute_reply.started": "2021-10-22T17:49:58.756717Z"
    },
    "papermill": {
     "duration": 0.08963,
     "end_time": "2023-05-06T19:10:03.459111",
     "exception": false,
     "start_time": "2023-05-06T19:10:03.369481",
     "status": "completed"
    },
    "tags": []
   },
   "outputs": [
    {
     "data": {
      "text/plain": [
       "1"
      ]
     },
     "execution_count": 4,
     "metadata": {},
     "output_type": "execute_result"
    }
   ],
   "source": [
    "seq_record = SeqRecord(seq_n)\n",
    "\n",
    "seq_record.id = \"ABC12345\"\n",
    "seq_record.description = 'Neucleotide sequence'\n",
    "seq_record.annotations['molecule_type'] = 'DNA'\n",
    "SeqIO.write(seq_record,\"/kaggle/working/my_seq.fasta\",\"fasta\")\n",
    "SeqIO.write(seq_record,\"/kaggle/working/my_seq.gb\",\"genbank\")"
   ]
  },
  {
   "cell_type": "code",
   "execution_count": 5,
   "metadata": {
    "execution": {
     "iopub.execute_input": "2023-05-06T19:10:03.591121Z",
     "iopub.status.busy": "2023-05-06T19:10:03.590359Z",
     "iopub.status.idle": "2023-05-06T19:10:03.596193Z",
     "shell.execute_reply": "2023-05-06T19:10:03.595518Z",
     "shell.execute_reply.started": "2021-10-22T17:49:58.793444Z"
    },
    "papermill": {
     "duration": 0.076179,
     "end_time": "2023-05-06T19:10:03.596350",
     "exception": false,
     "start_time": "2023-05-06T19:10:03.520171",
     "status": "completed"
    },
    "tags": []
   },
   "outputs": [
    {
     "name": "stdout",
     "output_type": "stream",
     "text": [
      "FASTA Annotations:\n",
      "{}\n",
      "GenBank Annotations\n",
      "{'molecule_type': 'DNA', 'data_file_division': 'UNK', 'date': '01-JAN-1980', 'accessions': ['ABC12345'], 'keywords': [''], 'source': '', 'organism': '.', 'taxonomy': []}\n"
     ]
    }
   ],
   "source": [
    "# As we can see FASTA doesn't seem to save the annotations data\n",
    "print('FASTA Annotations:')\n",
    "read_seq1 = SeqIO.read('/kaggle/working/my_seq.fasta','fasta')\n",
    "print(read_seq1.annotations)  # annotations\n",
    "\n",
    "# Whereas Genbank does\n",
    "print('GenBank Annotations')\n",
    "read_seq2 = SeqIO.read('/kaggle/working/my_seq.gb','genbank')\n",
    "print(read_seq2.annotations)  # annotations"
   ]
  },
  {
   "cell_type": "markdown",
   "metadata": {
    "papermill": {
     "duration": 0.060857,
     "end_time": "2023-05-06T19:10:03.719958",
     "exception": false,
     "start_time": "2023-05-06T19:10:03.659101",
     "status": "completed"
    },
    "tags": []
   },
   "source": [
    "<div style=\"color:white;display:fill;border-radius:8px;font-size:100%; letter-spacing:1.0px;\"><p style=\"padding: 5px;color:white;text-align:left;\"><b><span style='color:#E888BB'>SEQRECORD FEATURES</span></b></p></div>\n",
    "\n",
    "- <b>Real sequences</b> can be very long & contain useful <b>subset sequences</b> that one might be interested in.\n",
    "- <b><span style='color:#F55AA2'>Feature descriptions</span></b> can be quite useful; if we want to define subsets of the <b>sequence</b> to which a <b>feature</b> is applicable.\n",
    "- More detailed information about the <code>SeqFeature</code> class | [BioPython Documentation](https://biopython.org/docs/1.75/api/Bio.SeqFeature.html)\n",
    "\n",
    "<b>Some</b> <code>SeqFeature</code> object attributes:\n",
    "> - <code>location</code> - Indicator of which region the annotation applies ( <code>FeatureLocation</code> object )\n",
    "> - <code>type</code> - Feature type ( <code>string</code> )\n",
    "> - <code>qualifiers</code> - Additional Info ( <code>dict</code> )\n",
    "\n"
   ]
  },
  {
   "cell_type": "code",
   "execution_count": 6,
   "metadata": {
    "execution": {
     "iopub.execute_input": "2023-05-06T19:10:03.848962Z",
     "iopub.status.busy": "2023-05-06T19:10:03.848174Z",
     "iopub.status.idle": "2023-05-06T19:10:03.851118Z",
     "shell.execute_reply": "2023-05-06T19:10:03.851645Z",
     "shell.execute_reply.started": "2021-10-22T17:49:58.804084Z"
    },
    "papermill": {
     "duration": 0.07052,
     "end_time": "2023-05-06T19:10:03.851865",
     "exception": false,
     "start_time": "2023-05-06T19:10:03.781345",
     "status": "completed"
    },
    "tags": []
   },
   "outputs": [
    {
     "name": "stdout",
     "output_type": "stream",
     "text": [
      "Feature Location Notation: [>10:(35^40)]\n"
     ]
    }
   ],
   "source": [
    "from Bio import SeqFeature\n",
    "\n",
    "# Define locations \n",
    "s0 = SeqFeature.AfterPosition(10) # exact location\n",
    "s1 = SeqFeature.BetweenPosition(40,left=35,right=40) # fuzzy location (range)\n",
    "location = SeqFeature.FeatureLocation(s0,s1) # define the feature location\n",
    "print(f'Feature Location Notation: {location}')"
   ]
  },
  {
   "cell_type": "code",
   "execution_count": 7,
   "metadata": {
    "execution": {
     "iopub.execute_input": "2023-05-06T19:10:03.978765Z",
     "iopub.status.busy": "2023-05-06T19:10:03.977998Z",
     "iopub.status.idle": "2023-05-06T19:10:03.984686Z",
     "shell.execute_reply": "2023-05-06T19:10:03.984166Z",
     "shell.execute_reply.started": "2021-10-22T17:49:58.822248Z"
    },
    "papermill": {
     "duration": 0.070524,
     "end_time": "2023-05-06T19:10:03.984860",
     "exception": false,
     "start_time": "2023-05-06T19:10:03.914336",
     "status": "completed"
    },
    "tags": []
   },
   "outputs": [
    {
     "name": "stdout",
     "output_type": "stream",
     "text": [
      "GCTGT\n"
     ]
    }
   ],
   "source": [
    "# Example for a gene feature\n",
    "\n",
    "unitig = Seq('GTGCGACAGCAAAGTCCAAACCAGCGTCCCCGCC')\n",
    "feature = SeqFeature.SeqFeature(SeqFeature.FeatureLocation(5,10), # location (shorter)\n",
    "                                type='gene', # the specified type of the feature\n",
    "                                strand=-1  # -1 indicates the minus strand (reverse_complement)\n",
    "                               )\n",
    "\n",
    "# If we wanted to extract the feature\n",
    "feature_seq = feature.extract(unitig)\n",
    "print(feature_seq)"
   ]
  },
  {
   "cell_type": "markdown",
   "metadata": {
    "papermill": {
     "duration": 0.061363,
     "end_time": "2023-05-06T19:10:04.108224",
     "exception": false,
     "start_time": "2023-05-06T19:10:04.046861",
     "status": "completed"
    },
    "tags": []
   },
   "source": [
    "We can of course add this feature to the <code>SeqRecord</code> class & save, subsequently recalling the feature again."
   ]
  },
  {
   "cell_type": "code",
   "execution_count": 8,
   "metadata": {
    "execution": {
     "iopub.execute_input": "2023-05-06T19:10:04.237255Z",
     "iopub.status.busy": "2023-05-06T19:10:04.236535Z",
     "iopub.status.idle": "2023-05-06T19:10:04.240037Z",
     "shell.execute_reply": "2023-05-06T19:10:04.239352Z",
     "shell.execute_reply.started": "2021-10-22T17:49:58.839859Z"
    },
    "papermill": {
     "duration": 0.070333,
     "end_time": "2023-05-06T19:10:04.240264",
     "exception": false,
     "start_time": "2023-05-06T19:10:04.169931",
     "status": "completed"
    },
    "tags": []
   },
   "outputs": [],
   "source": [
    "seq_record = SeqRecord(unitig)\n",
    "\n",
    "seq_record.id = \"ABC12345\"\n",
    "seq_record.description = 'Neisseria gonorrhoeae unitig'\n",
    "seq_record.annotations['molecule_type'] = 'DNA'\n",
    "seq_record.features = [feature]"
   ]
  },
  {
   "cell_type": "code",
   "execution_count": 9,
   "metadata": {
    "execution": {
     "iopub.execute_input": "2023-05-06T19:10:04.370918Z",
     "iopub.status.busy": "2023-05-06T19:10:04.369866Z",
     "iopub.status.idle": "2023-05-06T19:10:04.381421Z",
     "shell.execute_reply": "2023-05-06T19:10:04.380685Z",
     "shell.execute_reply.started": "2021-10-22T17:49:58.854987Z"
    },
    "papermill": {
     "duration": 0.079438,
     "end_time": "2023-05-06T19:10:04.381573",
     "exception": false,
     "start_time": "2023-05-06T19:10:04.302135",
     "status": "completed"
    },
    "tags": []
   },
   "outputs": [
    {
     "name": "stdout",
     "output_type": "stream",
     "text": [
      "[SeqFeature(FeatureLocation(ExactPosition(5), ExactPosition(10), strand=-1), type='gene')]\n",
      "\n",
      "Extracted Feature:\n",
      "ID: <unknown id>\n",
      "Name: <unknown name>\n",
      "Description: <unknown description>\n",
      "Number of features: 1\n",
      "Seq('GCTGT')\n"
     ]
    }
   ],
   "source": [
    "# We can of course write to gb file & see our stored data\n",
    "SeqIO.write(seq_record,\"/kaggle/working/my_seq.gb\",\"genbank\")\n",
    "read_seq2 = SeqIO.read('/kaggle/working/my_seq.gb','genbank')\n",
    "print(read_seq2.features)  # annotations\n",
    "\n",
    "# define one of the features from the list\n",
    "feature = read_seq2.features[0]\n",
    "\n",
    "# Extracted feature\n",
    "feature_seq = feature.extract(read_seq2)\n",
    "print('\\nExtracted Feature:')\n",
    "print(feature_seq)"
   ]
  },
  {
   "cell_type": "markdown",
   "metadata": {
    "papermill": {
     "duration": 0.061354,
     "end_time": "2023-05-06T19:10:04.506026",
     "exception": false,
     "start_time": "2023-05-06T19:10:04.444672",
     "status": "completed"
    },
    "tags": []
   },
   "source": [
    "# <div style=\"padding: 30px;color:white;margin:10;font-size:60%;text-align:left;display:fill;border-radius:10px;background-color:#FFFFFF;overflow:hidden;background-color:#E888BB\"><b><span style='color:#FFFFFF'>3 |</span></b> <b>READING SEQUENCE FILES</b></div>\n",
    "\n",
    "### <b><span style='color:#E888BB'> 3.1 |</span> Common Formats </b>\n",
    "\n",
    "<div style=\"color:white;display:fill;border-radius:8px;font-size:100%; letter-spacing:1.0px;\"><p style=\"padding: 5px;color:white;text-align:left;\"><b><span style='color:#E888BB'>TWO MAIN FORMATS</span></b></p></div>\n",
    "\n",
    "- Two formats are commonly used for sequence storage, introduced in the previous section.\n",
    "- In <b>BioPython</b>, <b><span style='color:#F55AA2'>FASTA</span></b> & <b><span style='color:#F55AA2'>GenBank</span></b> file formats can be read using BioPython's <code>Bio.SeqIO</code> class.\n",
    "\n",
    "<div style=\"color:white;display:fill;border-radius:8px;font-size:100%; letter-spacing:1.0px;\"><p style=\"padding: 5px;color:white;text-align:left;\"><b><span style='color:#E888BB'>SIMPLE OR COMPLEX FORMAT</span></b></p></div>\n",
    "\n",
    "- <b>FASTA</b> is quite a <b>generic format</b> & can be used to store <b>multiple sequences</b> & even <b>alignments</b> as well.\n",
    "- <b>FASTA</b> is definitely less detailed & very minimalistic when it comes to content, usually only containing a <b>description</b> & <b>sequence</b>.\n",
    "- <b>GenBank</b> files on the other hand tend to be very detailed when it comes to the <b>sequence description</b>."
   ]
  },
  {
   "cell_type": "markdown",
   "metadata": {
    "papermill": {
     "duration": 0.078887,
     "end_time": "2023-05-06T19:10:04.652840",
     "exception": false,
     "start_time": "2023-05-06T19:10:04.573953",
     "status": "completed"
    },
    "tags": []
   },
   "source": [
    "### <b><span style='color:#E888BB'> 3.2 |</span> FASTA format </b>\n",
    "\n",
    "Snipplet from **[FASTA format](https://en.wikipedia.org/wiki/FASTA_format)**:\n",
    ">In bioinformatics and biochemistry, the FASTA format is a text-based format for representing either <b>nucleotide sequences</b> or <b>amino acid (protein) sequences</b>, in which nucleotides or amino acids are represented using single-letter codes. The format also allows for <b>sequence names</b> and <b>comments</b> to precede the sequences. <br>\n",
    "> The format originates from the FASTA software package, but has now become a near universal standard in the field of bioinformatics.\n",
    "\n",
    "<div style=\"color:white;display:fill;border-radius:8px;font-size:100%; letter-spacing:1.0px;\"><p style=\"padding: 5px;color:white;text-align:left;\"><b><span style='color:#E888BB'>SINGLE SEQUENCE FILES</span></b></p></div>\n",
    "\n",
    "- The FASTA format can actually contain <b>multiple sequences</b> in one file & we need to read them slightly differently.\n",
    "- <code>SeqIO.read()</code> is used for reading <b><span style='color:#F55AA2'>single sequence</span></b> files, else we get an error <code>More than one record found in handle</code>."
   ]
  },
  {
   "cell_type": "code",
   "execution_count": 10,
   "metadata": {
    "execution": {
     "iopub.execute_input": "2023-05-06T19:10:04.783957Z",
     "iopub.status.busy": "2023-05-06T19:10:04.783283Z",
     "iopub.status.idle": "2023-05-06T19:10:04.798187Z",
     "shell.execute_reply": "2023-05-06T19:10:04.797601Z",
     "shell.execute_reply.started": "2021-10-22T17:49:58.87775Z"
    },
    "papermill": {
     "duration": 0.083507,
     "end_time": "2023-05-06T19:10:04.798355",
     "exception": false,
     "start_time": "2023-05-06T19:10:04.714848",
     "status": "completed"
    },
    "tags": []
   },
   "outputs": [
    {
     "name": "stdout",
     "output_type": "stream",
     "text": [
      "FASTA Content:\n",
      "ID: HSBGPG\n",
      "Name: HSBGPG\n",
      "Description: HSBGPG Human gene for bone gla protein (BGP)\n",
      "Number of features: 0\n",
      "Seq('GGCAGATTCCCCCTAGACCCGCCCGCACCATGGTCAGGCATGCCCCTCCTCATC...AAG')\n",
      "\n",
      "Number of Nucleotides: 1231\n",
      "\n",
      "Features & Annotations:\n",
      "[]\n",
      "{}\n"
     ]
    }
   ],
   "source": [
    "''' FASTA formats w/ one sequence '''\n",
    "\n",
    "single_fasta = '/kaggle/input/biopython-genbank/example.fasta' # nuceotide seq\n",
    "fasta_n = SeqIO.read(single_fasta,'fasta')\n",
    "print(f'FASTA Content:')\n",
    "print(fasta_n)      # Print fasta file information\n",
    "\n",
    "print(f'\\nNumber of Nucleotides: {len(fasta_n)}') # number of nucleotides\n",
    "seq_fasta = fasta_n.seq # Extract Sequence\n",
    "\n",
    "print('\\nFeatures & Annotations:')\n",
    "print(fasta_n.features)     # some files contain just the basic details\n",
    "print(fasta_n.annotations)  "
   ]
  },
  {
   "cell_type": "markdown",
   "metadata": {
    "papermill": {
     "duration": 0.061788,
     "end_time": "2023-05-06T19:10:04.923158",
     "exception": false,
     "start_time": "2023-05-06T19:10:04.861370",
     "status": "completed"
    },
    "tags": []
   },
   "source": [
    "<div style=\"color:white;display:fill;border-radius:8px;font-size:100%; letter-spacing:1.0px;\"><p style=\"padding: 5px;color:white;text-align:left;\"><b><span style='color:#E888BB'>MULTIPLE SEQUENCE FILES</span></b></p></div>\n",
    "\n",
    "<code>SeqIO.parse()</code> is used for reading <b><span style='color:#F55AA2'>multiple sequence</span></b> files, which returns <b>an iterator</b>, that can be used to cycle through and get the sequences."
   ]
  },
  {
   "cell_type": "code",
   "execution_count": 11,
   "metadata": {
    "execution": {
     "iopub.execute_input": "2023-05-06T19:10:05.055057Z",
     "iopub.status.busy": "2023-05-06T19:10:05.054365Z",
     "iopub.status.idle": "2023-05-06T19:10:05.067658Z",
     "shell.execute_reply": "2023-05-06T19:10:05.067026Z",
     "shell.execute_reply.started": "2021-10-22T17:49:58.902081Z"
    },
    "papermill": {
     "duration": 0.082529,
     "end_time": "2023-05-06T19:10:05.067821",
     "exception": false,
     "start_time": "2023-05-06T19:10:04.985292",
     "status": "completed"
    },
    "tags": []
   },
   "outputs": [
    {
     "name": "stdout",
     "output_type": "stream",
     "text": [
      "Number of Sequences read: 10\n",
      "\n",
      "First Sequence: \n",
      "ID: gi|45478712|ref|NP_995567.1|\n",
      "Name: gi|45478712|ref|NP_995567.1|\n",
      "Description: gi|45478712|ref|NP_995567.1| putative transposase [Yersinia pestis biovar Microtus str. 91001]\n",
      "Number of features: 0\n",
      "Seq('MVTFETVMEIKILHKQGMSSRAIARELGISRNTVKRYLQAKSEPPKYTPRPAVA...GVA')\n"
     ]
    }
   ],
   "source": [
    "''' FASTA formats w/ multile sequences '''\n",
    "\n",
    "multi_fasta = '/kaggle/input/biopython-genbank/NC_005816.faa' # protein seq\n",
    "iter_multi_fasta_aa = SeqIO.parse(multi_fasta,'fasta') # returns an interator\n",
    "\n",
    "lst_fasta_aa = []\n",
    "for seq_aa in iter_multi_fasta_aa:\n",
    "    lst_fasta_aa.append(seq_aa)\n",
    "    \n",
    "print(f'Number of Sequences read: {len(lst_fasta_aa)}')\n",
    "print(f'\\nFirst Sequence: \\n{lst_fasta_aa[0]}')"
   ]
  },
  {
   "cell_type": "markdown",
   "metadata": {
    "papermill": {
     "duration": 0.062284,
     "end_time": "2023-05-06T19:10:05.193557",
     "exception": false,
     "start_time": "2023-05-06T19:10:05.131273",
     "status": "completed"
    },
    "tags": []
   },
   "source": [
    "### <b><span style='color:#E888BB'> 3.3 |</span> GENBANK format </b>\n",
    "Snipplet from [Bacterial Genoes Bioinformatics](https://www.futurelearn.com/info/courses/bacterial-genomes-bioinformatics/0/steps/47012)\n",
    "\n",
    "> The Genbank format allows for the storage of information in addition to a DNA/protein sequence. It <b>holds much more information</b> than the FASTA format. Formats similar to Genbank have been developed by ENA (EMBL format) and by DDBJ (DDBJ format).\n",
    "\n",
    "**COMPATIBILITY WITH DATABASES**\n",
    "\n",
    "> Primary databases have developed highly structured data file formats that enable the storage of all of these additional data that accompany the otherwise “naked” DNA sequence encoded in a FASTA file. The strict layout is necessary for the file to be compatible with a range of computer programs. Each of the three primary databases have their own sequence file format layout. However, all of them contain almost the same fields and the same information, making them interchangeable.\n",
    "\n",
    "- Like <b><span style='color:#F55AA2'>FASTA</span></b>, <b><span style='color:#F55AA2'>GenBank</span></b> files can store more than one sequence & are read in exactly the same way as shown above using class <code>SeqIO</code>. (<code>.read</code> & <code>.parse</code>)\n",
    "- However as indicated above, they tend to contain much more in depth information about the sequence, content of the nature storable in the <code>SeqRecord</code> class object.\n",
    "- As we can see below, they can store both <b><span style='color:#F55AA2'>Annotations</span></b> & <b><span style='color:#F55AA2'>Features</span></b> ( both of which we looked at in <b>Section 2.2</b> ), which makes this format very useful."
   ]
  },
  {
   "cell_type": "code",
   "execution_count": 12,
   "metadata": {
    "execution": {
     "iopub.execute_input": "2023-05-06T19:10:05.326258Z",
     "iopub.status.busy": "2023-05-06T19:10:05.325553Z",
     "iopub.status.idle": "2023-05-06T19:10:05.348523Z",
     "shell.execute_reply": "2023-05-06T19:10:05.347661Z",
     "shell.execute_reply.started": "2021-10-22T17:49:58.925544Z"
    },
    "papermill": {
     "duration": 0.092776,
     "end_time": "2023-05-06T19:10:05.348715",
     "exception": false,
     "start_time": "2023-05-06T19:10:05.255939",
     "status": "completed"
    },
    "tags": []
   },
   "outputs": [
    {
     "name": "stdout",
     "output_type": "stream",
     "text": [
      "Print Seq (preview)\n",
      "TGTAACGAACGGTGCAATAGTGATCCACACCCAACGCCTG\n",
      "\n",
      "Length of Sequence:\n",
      "9609\n",
      "\n",
      "Record ID:\n",
      "NC_005816.1\n",
      "\n",
      "Name:\n",
      "NC_005816\n",
      "\n",
      "Description:\n",
      "Yersinia pestis biovar Microtus str. 91001 plasmid pPCP1, complete sequence\n",
      "\n",
      "Number of Annotations:\n",
      "13\n",
      "\n",
      "Number of Features:\n",
      "41\n"
     ]
    }
   ],
   "source": [
    "file_gb = '/kaggle/input/biopython-genbank/example.gb'\n",
    "\n",
    "''' Read GenBank format '''\n",
    "# GenBank format are more comprehnsive than fasta.\n",
    "\n",
    "gb = SeqIO.read(file_gb,'genbank')\n",
    "seq_gb = gb.seq # store sequence \n",
    "\n",
    "print('Print Seq (preview)')\n",
    "print(gb.seq[:40])\n",
    "\n",
    "print('\\nLength of Sequence:')\n",
    "print(len(gb.seq))\n",
    "\n",
    "print('\\nRecord ID:')\n",
    "print(gb.id)\n",
    "\n",
    "print('\\nName:')\n",
    "print(gb.name)\n",
    "\n",
    "print('\\nDescription:')\n",
    "print(gb.description)\n",
    "\n",
    "# Annotations \n",
    "print('\\nNumber of Annotations:')\n",
    "print(len(gb.annotations))\n",
    "\n",
    "# Features \n",
    "print('\\nNumber of Features:')\n",
    "print(len(gb.features))"
   ]
  },
  {
   "cell_type": "markdown",
   "metadata": {
    "papermill": {
     "duration": 0.064489,
     "end_time": "2023-05-06T19:10:05.479168",
     "exception": false,
     "start_time": "2023-05-06T19:10:05.414679",
     "status": "completed"
    },
    "tags": []
   },
   "source": [
    "<div style=\"color:white;display:fill;border-radius:8px;font-size:100%; letter-spacing:1.0px;\"><p style=\"padding: 5px;color:white;text-align:left;\"><b><span style='color:#E888BB'>ANNOTATION CONTENT</span></b></p></div>\n",
    "\n",
    "- We can visualise the <b><span style='color:#F55AA2'>annotation</span></b> content (if it is present) using <code>.annotations</code>.\n",
    "- Being a <b>dictionary</b>, we can get see what sort annotations are present by calling <code>.annotations.keys()</code>."
   ]
  },
  {
   "cell_type": "code",
   "execution_count": 13,
   "metadata": {
    "execution": {
     "iopub.execute_input": "2023-05-06T19:10:05.613988Z",
     "iopub.status.busy": "2023-05-06T19:10:05.613059Z",
     "iopub.status.idle": "2023-05-06T19:10:05.616730Z",
     "shell.execute_reply": "2023-05-06T19:10:05.617476Z",
     "shell.execute_reply.started": "2021-10-22T17:49:58.957594Z"
    },
    "papermill": {
     "duration": 0.074286,
     "end_time": "2023-05-06T19:10:05.617764",
     "exception": false,
     "start_time": "2023-05-06T19:10:05.543478",
     "status": "completed"
    },
    "tags": []
   },
   "outputs": [
    {
     "name": "stdout",
     "output_type": "stream",
     "text": [
      "Annotations dictionary:\n",
      "\n",
      "{'molecule_type': 'DNA', 'topology': 'circular', 'data_file_division': 'BCT', 'date': '21-JUL-2008', 'accessions': ['NC_005816'], 'sequence_version': 1, 'gi': '45478711', 'keywords': [''], 'source': 'Yersinia pestis biovar Microtus str. 91001', 'organism': 'Yersinia pestis biovar Microtus str. 91001', 'taxonomy': ['Bacteria', 'Proteobacteria', 'Gammaproteobacteria', 'Enterobacteriales', 'Enterobacteriaceae', 'Yersinia'], 'references': [Reference(title='Genetics of metabolic variations between Yersinia pestis biovars and the proposal of a new biovar, microtus', ...), Reference(title='Complete genome sequence of Yersinia pestis strain 91001, an isolate avirulent to humans', ...), Reference(title='Direct Submission', ...), Reference(title='Direct Submission', ...)], 'comment': 'PROVISIONAL REFSEQ: This record has not yet been subject to final\\nNCBI review. The reference sequence was derived from AE017046.\\nCOMPLETENESS: full length.'}\n",
      "\n",
      "Keys:\n",
      "dict_keys(['molecule_type', 'topology', 'data_file_division', 'date', 'accessions', 'sequence_version', 'gi', 'keywords', 'source', 'organism', 'taxonomy', 'references', 'comment'])\n"
     ]
    }
   ],
   "source": [
    "# annotations field; dic that provides a number of properties for the seq\n",
    "print('Annotations dictionary:\\n')\n",
    "print(gb.annotations)\n",
    "\n",
    "print('\\nKeys:')\n",
    "print(gb.annotations.keys())"
   ]
  },
  {
   "cell_type": "code",
   "execution_count": 14,
   "metadata": {
    "execution": {
     "iopub.execute_input": "2023-05-06T19:10:05.753042Z",
     "iopub.status.busy": "2023-05-06T19:10:05.752091Z",
     "iopub.status.idle": "2023-05-06T19:10:05.755562Z",
     "shell.execute_reply": "2023-05-06T19:10:05.756375Z",
     "shell.execute_reply.started": "2021-10-22T17:49:58.967811Z"
    },
    "papermill": {
     "duration": 0.07476,
     "end_time": "2023-05-06T19:10:05.756643",
     "exception": false,
     "start_time": "2023-05-06T19:10:05.681883",
     "status": "completed"
    },
    "tags": []
   },
   "outputs": [
    {
     "name": "stdout",
     "output_type": "stream",
     "text": [
      "\n",
      "Get specific parts of the annotation:\n",
      "\n",
      "Taxonomy:\n",
      "\n",
      "['Bacteria', 'Proteobacteria', 'Gammaproteobacteria', 'Enterobacteriales', 'Enterobacteriaceae', 'Yersinia']\n",
      "Source:\n",
      "\n",
      "Yersinia pestis biovar Microtus str. 91001\n",
      "Date:\n",
      "\n",
      "21-JUL-2008\n",
      "gi number:\n",
      "\n",
      "45478711\n"
     ]
    }
   ],
   "source": [
    "# Getting specific key values\n",
    "print('\\nGet specific parts of the annotation:\\n')\n",
    "print('Taxonomy:\\n')\n",
    "print(gb.annotations['taxonomy'])\n",
    "\n",
    "print('Source:\\n')\n",
    "print(gb.annotations['source'])\n",
    "\n",
    "print('Date:\\n')\n",
    "print(gb.annotations['date'])\n",
    "\n",
    "print('gi number:\\n')\n",
    "print(gb.annotations['gi'])"
   ]
  },
  {
   "cell_type": "markdown",
   "metadata": {
    "papermill": {
     "duration": 0.063502,
     "end_time": "2023-05-06T19:10:05.883970",
     "exception": false,
     "start_time": "2023-05-06T19:10:05.820468",
     "status": "completed"
    },
    "tags": []
   },
   "source": [
    "<div style=\"color:white;display:fill;border-radius:8px;font-size:100%; letter-spacing:1.0px;\"><p style=\"padding: 5px;color:white;text-align:left;\"><b><span style='color:#E888BB'>SHOWING FEATURE CONTENT</span></b></p></div>\n",
    "\n",
    "- If there are any <b><span style='color:#F55AA2'>features</span></b> present in the file, we can get the <b>list</b> by calling <code>.features</code> ( What we defined in <b>Section 2.2</b> as well )\n",
    "- <b>Subsets</b> of the <b>sequence</b> can be extracted <code>.extract()</code> from the The <b>list</b> of <code>SeqFeature</code> objects."
   ]
  },
  {
   "cell_type": "code",
   "execution_count": 15,
   "metadata": {
    "execution": {
     "iopub.execute_input": "2023-05-06T19:10:06.018338Z",
     "iopub.status.busy": "2023-05-06T19:10:06.017176Z",
     "iopub.status.idle": "2023-05-06T19:10:06.021809Z",
     "shell.execute_reply": "2023-05-06T19:10:06.021162Z",
     "shell.execute_reply.started": "2021-10-22T17:49:58.983833Z"
    },
    "papermill": {
     "duration": 0.074301,
     "end_time": "2023-05-06T19:10:06.021957",
     "exception": false,
     "start_time": "2023-05-06T19:10:05.947656",
     "status": "completed"
    },
    "tags": []
   },
   "outputs": [
    {
     "data": {
      "text/plain": [
       "[SeqFeature(FeatureLocation(ExactPosition(0), ExactPosition(9609), strand=1), type='source'),\n",
       " SeqFeature(FeatureLocation(ExactPosition(0), ExactPosition(1954), strand=1), type='repeat_region'),\n",
       " SeqFeature(FeatureLocation(ExactPosition(86), ExactPosition(1109), strand=1), type='gene'),\n",
       " SeqFeature(FeatureLocation(ExactPosition(86), ExactPosition(1109), strand=1), type='CDS'),\n",
       " SeqFeature(FeatureLocation(ExactPosition(86), ExactPosition(959), strand=1), type='misc_feature')]"
      ]
     },
     "execution_count": 15,
     "metadata": {},
     "output_type": "execute_result"
    }
   ],
   "source": [
    "gb.features[:5] # show only a few features (total=41)"
   ]
  },
  {
   "cell_type": "markdown",
   "metadata": {
    "papermill": {
     "duration": 0.06435,
     "end_time": "2023-05-06T19:10:06.150894",
     "exception": false,
     "start_time": "2023-05-06T19:10:06.086544",
     "status": "completed"
    },
    "tags": []
   },
   "source": [
    "<div style=\"color:white;display:fill;border-radius:8px;font-size:100%; letter-spacing:1.0px;\"><p style=\"padding: 5px;color:white;text-align:left;\"><b><span style='color:#E888BB'>EXPLORING THE GENE FEATURE TYPE</span></b></p></div>\n",
    "\n",
    "\n",
    "- One of the features <code>.type</code> that is used in <code>.features</code> is <b><span style='color:#F55AA2'>\"gene\"</span></b>.\n",
    "- We can for example, cycling through all features & get all the annotated <b>genes</b> in the whole sequence.\n",
    "- Exploring these genes, we can get their <b><span style='color:#F55AA2'>locus tag</span></b> (from <b>qualifiers</b>), <b><span style='color:#F55AA2'>database reference</span></b> (from <b>qualifiers</b>),  <b><span style='color:#F55AA2'>strand</span></b> & <b><span style='color:#F55AA2'>location</span></b>.\n",
    "- We can apply an operation called <b>translate</b> (<b>Section 4.3</b>) to try to <b>find the proteins</b> that the gene feature encode"
   ]
  },
  {
   "cell_type": "code",
   "execution_count": 16,
   "metadata": {
    "execution": {
     "iopub.execute_input": "2023-05-06T19:10:06.286862Z",
     "iopub.status.busy": "2023-05-06T19:10:06.286070Z",
     "iopub.status.idle": "2023-05-06T19:10:06.291761Z",
     "shell.execute_reply": "2023-05-06T19:10:06.291193Z",
     "shell.execute_reply.started": "2021-10-22T17:49:58.996373Z"
    },
    "papermill": {
     "duration": 0.07594,
     "end_time": "2023-05-06T19:10:06.291922",
     "exception": false,
     "start_time": "2023-05-06T19:10:06.215982",
     "status": "completed"
    },
    "tags": []
   },
   "outputs": [
    {
     "name": "stdout",
     "output_type": "stream",
     "text": [
      "Number of gene features: 10\n"
     ]
    },
    {
     "data": {
      "text/plain": [
       "[SeqFeature(FeatureLocation(ExactPosition(86), ExactPosition(1109), strand=1), type='gene'),\n",
       " SeqFeature(FeatureLocation(ExactPosition(1105), ExactPosition(1888), strand=1), type='gene'),\n",
       " SeqFeature(FeatureLocation(ExactPosition(2924), ExactPosition(3119), strand=1), type='gene'),\n",
       " SeqFeature(FeatureLocation(ExactPosition(3485), ExactPosition(3857), strand=1), type='gene'),\n",
       " SeqFeature(FeatureLocation(ExactPosition(4342), ExactPosition(4780), strand=1), type='gene'),\n",
       " SeqFeature(FeatureLocation(ExactPosition(4814), ExactPosition(5888), strand=-1), type='gene'),\n",
       " SeqFeature(FeatureLocation(ExactPosition(6004), ExactPosition(6421), strand=1), type='gene'),\n",
       " SeqFeature(FeatureLocation(ExactPosition(6663), ExactPosition(7602), strand=1), type='gene'),\n",
       " SeqFeature(FeatureLocation(ExactPosition(7788), ExactPosition(8088), strand=-1), type='gene'),\n",
       " SeqFeature(FeatureLocation(ExactPosition(8087), ExactPosition(8360), strand=-1), type='gene')]"
      ]
     },
     "execution_count": 16,
     "metadata": {},
     "output_type": "execute_result"
    }
   ],
   "source": [
    "gene_features = []\n",
    "for i in range(len(gb.features)):\n",
    "    if(gb.features[i].type == 'gene'):\n",
    "        gene_features.append(gb.features[i])\n",
    "\n",
    "print(f'Number of gene features: {len(gene_features)}')\n",
    "gene_features"
   ]
  },
  {
   "cell_type": "code",
   "execution_count": 17,
   "metadata": {
    "execution": {
     "iopub.execute_input": "2023-05-06T19:10:06.430233Z",
     "iopub.status.busy": "2023-05-06T19:10:06.429522Z",
     "iopub.status.idle": "2023-05-06T19:10:06.434030Z",
     "shell.execute_reply": "2023-05-06T19:10:06.433446Z",
     "shell.execute_reply.started": "2021-10-22T17:49:59.011667Z"
    },
    "papermill": {
     "duration": 0.075089,
     "end_time": "2023-05-06T19:10:06.434204",
     "exception": false,
     "start_time": "2023-05-06T19:10:06.359115",
     "status": "completed"
    },
    "tags": []
   },
   "outputs": [
    {
     "data": {
      "text/plain": [
       "OrderedDict([('locus_tag', ['YP_pPCP01']), ('db_xref', ['GeneID:2767718'])])"
      ]
     },
     "execution_count": 17,
     "metadata": {},
     "output_type": "execute_result"
    }
   ],
   "source": [
    "# Gene Qualifiers\n",
    "gene_features[0].qualifiers"
   ]
  },
  {
   "cell_type": "code",
   "execution_count": 18,
   "metadata": {
    "execution": {
     "iopub.execute_input": "2023-05-06T19:10:06.570034Z",
     "iopub.status.busy": "2023-05-06T19:10:06.569334Z",
     "iopub.status.idle": "2023-05-06T19:10:06.572803Z",
     "shell.execute_reply": "2023-05-06T19:10:06.572146Z",
     "shell.execute_reply.started": "2021-10-22T17:49:59.03209Z"
    },
    "papermill": {
     "duration": 0.073401,
     "end_time": "2023-05-06T19:10:06.572956",
     "exception": false,
     "start_time": "2023-05-06T19:10:06.499555",
     "status": "completed"
    },
    "tags": []
   },
   "outputs": [
    {
     "name": "stdout",
     "output_type": "stream",
     "text": [
      "locus tag: ['YP_pPCP01'], database ref: ['GeneID:2767718'], strand: 1, location: [86:1109](+)\n",
      "locus tag: ['YP_pPCP02'], database ref: ['GeneID:2767716'], strand: 1, location: [1105:1888](+)\n",
      "locus tag: ['YP_pPCP03'], database ref: ['GeneID:2767717'], strand: 1, location: [2924:3119](+)\n",
      "locus tag: ['YP_pPCP04'], database ref: ['GeneID:2767720'], strand: 1, location: [3485:3857](+)\n",
      "locus tag: ['YP_pPCP05'], database ref: ['GeneID:2767712'], strand: 1, location: [4342:4780](+)\n",
      "locus tag: ['YP_pPCP06'], database ref: ['GeneID:2767721'], strand: -1, location: [4814:5888](-)\n",
      "locus tag: ['YP_pPCP07'], database ref: ['GeneID:2767719'], strand: 1, location: [6004:6421](+)\n",
      "locus tag: ['YP_pPCP08'], database ref: ['GeneID:2767715'], strand: 1, location: [6663:7602](+)\n",
      "locus tag: ['YP_pPCP09'], database ref: ['GeneID:2767713'], strand: -1, location: [7788:8088](-)\n",
      "locus tag: ['YP_pPCP10'], database ref: ['GeneID:2767714'], strand: -1, location: [8087:8360](-)\n"
     ]
    }
   ],
   "source": [
    "for feat in gene_features:\n",
    "    print(f\"locus tag: {feat.qualifiers['locus_tag']}, database ref: {feat.qualifiers['db_xref']}, strand: {feat.strand}, location: {feat.location}\")"
   ]
  },
  {
   "cell_type": "code",
   "execution_count": 19,
   "metadata": {
    "execution": {
     "iopub.execute_input": "2023-05-06T19:10:06.713190Z",
     "iopub.status.busy": "2023-05-06T19:10:06.712453Z",
     "iopub.status.idle": "2023-05-06T19:10:06.717026Z",
     "shell.execute_reply": "2023-05-06T19:10:06.716432Z",
     "shell.execute_reply.started": "2021-10-22T17:49:59.04644Z"
    },
    "papermill": {
     "duration": 0.078094,
     "end_time": "2023-05-06T19:10:06.717177",
     "exception": false,
     "start_time": "2023-05-06T19:10:06.639083",
     "status": "completed"
    },
    "tags": []
   },
   "outputs": [
    {
     "data": {
      "text/plain": [
       "[Seq('MVTFETVMEIKILHKQGMSSRAIARELGISRNTVKRYLQAKSEPPKYTPRPAVA...GVA'),\n",
       " Seq('MMMELQHQRLMALAGQLQLESLISAAPALSQQAVDQEWSYMDFLEHLLHEEKLA...NPE'),\n",
       " Seq('MNKQQQTALNMARFIRSQSLILLEKLDALDADEQAAMCERLHELAEELQNSIQA...TGT'),\n",
       " Seq('MSKKRRPQKRPRRRRFFHRLRPPDEHHKNRRSSQRWRNPTGLKDTRRFPPEAPS...PTR'),\n",
       " Seq('MGGGMISKLFCLALIFLSSSGLAEKNTYTAKDILQNLELNTFGNSLSHGIYGKQ...YYH'),\n",
       " Seq('MSDTMVVNGSGGVPAFLFSGSTLSSYRPNFEANSITIALPHYVDLPGRSNFKLM...LLK'),\n",
       " Seq('MKFHFCDLNHSYKNQEGKIRSRKTAPGNIRKKQKGDNVSKTKSGRHRLSKTDKR...DLP'),\n",
       " Seq('MKKSSIVATIITILSGSANAASSQLIPNISPDSFTVAASTGMLSGKSHEMLYDA...YRF'),\n",
       " Seq('MRTLDEVIASRSPESQTRIKEMADEMILEVGLQMMREELQLSQKQVAEAMGISQ...FHV'),\n",
       " Seq('MADLKKLQVYGPELPRPYADTVKGSRYKNMKELRVQFSGRPIRAFYAFDPIRRA...ESK')]"
      ]
     },
     "execution_count": 19,
     "metadata": {},
     "output_type": "execute_result"
    }
   ],
   "source": [
    "protein_feat = []\n",
    "for feat in gene_features:\n",
    "    protein_feat.append(feat.extract(gb.seq).translate(table='Bacterial',cds=True))\n",
    "    \n",
    "protein_feat # list of protein sequences"
   ]
  },
  {
   "cell_type": "markdown",
   "metadata": {
    "papermill": {
     "duration": 0.065266,
     "end_time": "2023-05-06T19:10:06.849250",
     "exception": false,
     "start_time": "2023-05-06T19:10:06.783984",
     "status": "completed"
    },
    "tags": []
   },
   "source": [
    "<div style=\"color:white;display:fill;border-radius:8px;font-size:100%; letter-spacing:1.0px;\"><p style=\"padding: 5px;color:white;text-align:left;\"><b><span style='color:#E888BB'>EXPLORING CDS FEATURE TYPE</span></b></p></div>\n",
    "\n",
    "\n",
    "- Another <code>.type</code> that is used in <code>.features</code> is <b><span style='color:#F55AA2'>\"CDS\"</span></b> (<b>Coding Sequence</b>)\n",
    "- <b>CDS</b> <code>qualifiers</code> contain quite a bit more content, including the <b>translation</b> sequence, so we can compare our translation of the <b>gene</b> feature, since both types are reffering to the same parts of the sequence."
   ]
  },
  {
   "cell_type": "code",
   "execution_count": 20,
   "metadata": {
    "execution": {
     "iopub.execute_input": "2023-05-06T19:10:06.988008Z",
     "iopub.status.busy": "2023-05-06T19:10:06.987262Z",
     "iopub.status.idle": "2023-05-06T19:10:06.992209Z",
     "shell.execute_reply": "2023-05-06T19:10:06.991567Z",
     "shell.execute_reply.started": "2021-10-22T17:49:59.062941Z"
    },
    "papermill": {
     "duration": 0.077069,
     "end_time": "2023-05-06T19:10:06.992358",
     "exception": false,
     "start_time": "2023-05-06T19:10:06.915289",
     "status": "completed"
    },
    "tags": []
   },
   "outputs": [
    {
     "name": "stdout",
     "output_type": "stream",
     "text": [
      "Number of CDS features: 10\n"
     ]
    },
    {
     "data": {
      "text/plain": [
       "[SeqFeature(FeatureLocation(ExactPosition(86), ExactPosition(1109), strand=1), type='CDS'),\n",
       " SeqFeature(FeatureLocation(ExactPosition(1105), ExactPosition(1888), strand=1), type='CDS'),\n",
       " SeqFeature(FeatureLocation(ExactPosition(2924), ExactPosition(3119), strand=1), type='CDS'),\n",
       " SeqFeature(FeatureLocation(ExactPosition(3485), ExactPosition(3857), strand=1), type='CDS'),\n",
       " SeqFeature(FeatureLocation(ExactPosition(4342), ExactPosition(4780), strand=1), type='CDS'),\n",
       " SeqFeature(FeatureLocation(ExactPosition(4814), ExactPosition(5888), strand=-1), type='CDS'),\n",
       " SeqFeature(FeatureLocation(ExactPosition(6004), ExactPosition(6421), strand=1), type='CDS'),\n",
       " SeqFeature(FeatureLocation(ExactPosition(6663), ExactPosition(7602), strand=1), type='CDS'),\n",
       " SeqFeature(FeatureLocation(ExactPosition(7788), ExactPosition(8088), strand=-1), type='CDS'),\n",
       " SeqFeature(FeatureLocation(ExactPosition(8087), ExactPosition(8360), strand=-1), type='CDS')]"
      ]
     },
     "execution_count": 20,
     "metadata": {},
     "output_type": "execute_result"
    }
   ],
   "source": [
    "CDS_features = []\n",
    "for i in range(len(gb.features)):\n",
    "    if(gb.features[i].type == 'CDS'):\n",
    "        CDS_features.append(gb.features[i])\n",
    "        \n",
    "print(f\"Number of CDS features: {len(CDS_features)}\")\n",
    "CDS_features"
   ]
  },
  {
   "cell_type": "code",
   "execution_count": 21,
   "metadata": {
    "execution": {
     "iopub.execute_input": "2023-05-06T19:10:07.132528Z",
     "iopub.status.busy": "2023-05-06T19:10:07.131429Z",
     "iopub.status.idle": "2023-05-06T19:10:07.138105Z",
     "shell.execute_reply": "2023-05-06T19:10:07.137493Z",
     "shell.execute_reply.started": "2021-10-22T17:49:59.078642Z"
    },
    "papermill": {
     "duration": 0.07927,
     "end_time": "2023-05-06T19:10:07.138273",
     "exception": false,
     "start_time": "2023-05-06T19:10:07.059003",
     "status": "completed"
    },
    "tags": []
   },
   "outputs": [
    {
     "name": "stdout",
     "output_type": "stream",
     "text": [
      "CDS Qualifier Keys: odict_keys(['locus_tag', 'note', 'codon_start', 'transl_table', 'product', 'protein_id', 'db_xref', 'translation'])\n",
      "\n",
      "Showing First CDS Feature\n",
      "OrderedDict([('locus_tag', ['YP_pPCP01']),\n",
      "             ('note',\n",
      "              ['similar to corresponding CDS from previously sequenced pPCP '\n",
      "               'plasmid of Yersinia pestis KIM (AF053945) and CO92 (AL109969), '\n",
      "               'also many transposase entries for insertion sequence IS100 of '\n",
      "               'Yersinia pestis. Contains IS21-like element transposase, HTH '\n",
      "               'domain (Interpro|IPR007101)']),\n",
      "             ('codon_start', ['1']),\n",
      "             ('transl_table', ['11']),\n",
      "             ('product', ['putative transposase']),\n",
      "             ('protein_id', ['NP_995567.1']),\n",
      "             ('db_xref', ['GI:45478712', 'GeneID:2767718']),\n",
      "             ('translation',\n",
      "              ['MVTFETVMEIKILHKQGMSSRAIARELGISRNTVKRYLQAKSEPPKYTPRPAVASLLDEYRDYIRQRIADAHPYKIPATVIAREIRDQGYRGGMTILRAFIRSLSVPQEQEPAVRFETEPGRQMQVDWGTMRNGRSPLHVFVAVLGYSRMLYIEFTDNMRYDTLETCHRNAFRFFGGVPREVLYDNMKTVVLQRDAYQTGQHRFHPSLWQFGKEMGFSPRLCRPFRAQTKGKVERMVQYTRNSFYIPLMTRLRPMGITVDVETANRHGLRWLHDVANQRKHETIQARPCDRWLEEQQSMLALPPEKKEYDVHLDENLVNFDKHPLHHPLSIYDSFCRGVA'])])\n"
     ]
    }
   ],
   "source": [
    "print(f'CDS Qualifier Keys: {CDS_features[0].qualifiers.keys()}\\n')\n",
    "\n",
    "print('Showing First CDS Feature')\n",
    "pprint(CDS_features[0].qualifiers) # ordered dictionary"
   ]
  },
  {
   "cell_type": "code",
   "execution_count": 22,
   "metadata": {
    "execution": {
     "iopub.execute_input": "2023-05-06T19:10:07.277942Z",
     "iopub.status.busy": "2023-05-06T19:10:07.277031Z",
     "iopub.status.idle": "2023-05-06T19:10:07.280184Z",
     "shell.execute_reply": "2023-05-06T19:10:07.280669Z",
     "shell.execute_reply.started": "2021-10-22T17:49:59.093512Z"
    },
    "papermill": {
     "duration": 0.07574,
     "end_time": "2023-05-06T19:10:07.280861",
     "exception": false,
     "start_time": "2023-05-06T19:10:07.205121",
     "status": "completed"
    },
    "tags": []
   },
   "outputs": [
    {
     "name": "stdout",
     "output_type": "stream",
     "text": [
      "locus_tag : ['YP_pPCP01']\n",
      "note : ['similar to corresponding CDS from previously sequenced pPCP plasmid of Yersinia pestis KIM (AF053945) and CO92 (AL109969), also many transposase entries for insertion sequence IS100 of Yersinia pestis. Contains IS21-like element transposase, HTH domain (Interpro|IPR007101)']\n",
      "codon_start : ['1']\n",
      "transl_table : ['11']\n",
      "product : ['putative transposase']\n",
      "protein_id : ['NP_995567.1']\n",
      "db_xref : ['GI:45478712', 'GeneID:2767718']\n",
      "translation : ['MVTFETVMEIKILHKQGMSSRAIARELGISRNTVKRYLQAKSEPPKYTPRPAVASLLDEYRDYIRQRIADAHPYKIPATVIAREIRDQGYRGGMTILRAFIRSLSVPQEQEPAVRFETEPGRQMQVDWGTMRNGRSPLHVFVAVLGYSRMLYIEFTDNMRYDTLETCHRNAFRFFGGVPREVLYDNMKTVVLQRDAYQTGQHRFHPSLWQFGKEMGFSPRLCRPFRAQTKGKVERMVQYTRNSFYIPLMTRLRPMGITVDVETANRHGLRWLHDVANQRKHETIQARPCDRWLEEQQSMLALPPEKKEYDVHLDENLVNFDKHPLHHPLSIYDSFCRGVA']\n"
     ]
    }
   ],
   "source": [
    "for key, value in CDS_features[0].qualifiers.items():\n",
    "    print(f'{key} : {value}')"
   ]
  },
  {
   "cell_type": "code",
   "execution_count": 23,
   "metadata": {
    "execution": {
     "iopub.execute_input": "2023-05-06T19:10:07.423801Z",
     "iopub.status.busy": "2023-05-06T19:10:07.422738Z",
     "iopub.status.idle": "2023-05-06T19:10:07.427648Z",
     "shell.execute_reply": "2023-05-06T19:10:07.426982Z",
     "shell.execute_reply.started": "2021-10-22T17:49:59.105306Z"
    },
    "papermill": {
     "duration": 0.07933,
     "end_time": "2023-05-06T19:10:07.427868",
     "exception": false,
     "start_time": "2023-05-06T19:10:07.348538",
     "status": "completed"
    },
    "tags": []
   },
   "outputs": [
    {
     "data": {
      "text/plain": [
       "True"
      ]
     },
     "execution_count": 23,
     "metadata": {},
     "output_type": "execute_result"
    }
   ],
   "source": [
    "# Should be identical\n",
    "Seq(CDS_features[0].qualifiers['translation'][0]) == protein_feat[0]"
   ]
  },
  {
   "cell_type": "markdown",
   "metadata": {
    "papermill": {
     "duration": 0.067305,
     "end_time": "2023-05-06T19:10:07.563071",
     "exception": false,
     "start_time": "2023-05-06T19:10:07.495766",
     "status": "completed"
    },
    "tags": []
   },
   "source": [
    "# <div style=\"padding: 30px;color:white;margin:10;font-size:60%;text-align:left;display:fill;border-radius:10px;background-color:#FFFFFF;overflow:hidden;background-color:#E888BB\"><b><span style='color:#FFFFFF'>4 |</span></b> <b>SEQUENCE PROCESSING</b></div>\n",
    "\n",
    "### <b><span style='color:#E888BB'> 4.1 |</span> Basic Seqence Processing </b>\n",
    "\n",
    "Biopython uses Python <b><span style='color:#F55AA2'>strings</span></b>, so the standard string operations can be used."
   ]
  },
  {
   "cell_type": "code",
   "execution_count": 24,
   "metadata": {
    "execution": {
     "iopub.execute_input": "2023-05-06T19:10:07.704921Z",
     "iopub.status.busy": "2023-05-06T19:10:07.704211Z",
     "iopub.status.idle": "2023-05-06T19:10:07.707911Z",
     "shell.execute_reply": "2023-05-06T19:10:07.707246Z",
     "shell.execute_reply.started": "2021-10-22T17:49:59.118576Z"
    },
    "papermill": {
     "duration": 0.077399,
     "end_time": "2023-05-06T19:10:07.708062",
     "exception": false,
     "start_time": "2023-05-06T19:10:07.630663",
     "status": "completed"
    },
    "tags": []
   },
   "outputs": [
    {
     "name": "stdout",
     "output_type": "stream",
     "text": [
      "373\n",
      "GC\n",
      "True\n",
      "75\n",
      "MEVRNAKSGHERWKY\n"
     ]
    }
   ],
   "source": [
    "''' Basic Operations '''\n",
    "\n",
    "print(seq_fasta.count('G'))   # Counter for Guanine Nucleotide Count\n",
    "print(seq_fasta[1:3])         # Show specific Subset of a Sequence\n",
    "print('ATA' in seq_fasta)     # Is string subset part of sequence\n",
    "print(seq_fasta.find('ATA'))  # Find Substring index \n",
    "\n",
    "# Instantiate a sequence w/ Seq()\n",
    "seq1 = Seq('MEVRNAKS')\n",
    "seq2 = Seq('GHERWKY')\n",
    "\n",
    "print(seq1 + seq2)"
   ]
  },
  {
   "cell_type": "markdown",
   "metadata": {
    "papermill": {
     "duration": 0.067633,
     "end_time": "2023-05-06T19:10:07.843945",
     "exception": false,
     "start_time": "2023-05-06T19:10:07.776312",
     "status": "completed"
    },
    "tags": []
   },
   "source": [
    "\n",
    "### <b><span style='color:#E888BB'> 4.2 |</span> Transcription & Reverse Complement Strand </b>\n",
    "\n",
    "<div style=\"color:white;display:fill;border-radius:8px;font-size:100%; letter-spacing:1.0px;\"><p style=\"padding: 5px;color:white;text-align:left;\"><b><span style='color:#E888BB'>TRANSCRIPTION</span></b></p></div>\n",
    "\n",
    "\n",
    "The process of <b><span style='color:#F55AA2'>transcription from DNA</span></b> to <b><span style='color:#F55AA2'>RNA</span></b>, is a critical step in the process of protein synthesis:\n",
    "\n",
    "(I) Process that occurs within the nucleus of a cell; we obtain a __Mature messenger RNA, mRNA.__ <br>\n",
    "(II) mRNA is then transfered to the cytoplasm, where it will be used by a cellular machine, to guide the production of a protein.\n",
    "- Given a DNA sequence, transcription is the first step in <b>obtaining a Protein</b>.\n",
    "- Nucleotide sequence of a gene from one of the DNA strands is transcribed ( copied into a compelentary molecule of RNA )\n",
    "- Complementarity of code, allows us to recover information contained in the DNA sequence, process performed by an enzyme, RNA polymerase.\n",
    "- Stabilisation of elements at the end of a molecule are perfomed by different protein complexes.\n",
    "\n",
    "<div style=\"color:white;display:fill;border-radius:8px;font-size:100%; letter-spacing:1.0px;\"><p style=\"padding: 5px;color:white;text-align:left;\"><b><span style='color:#E888BB'>REVERSE COMPLEMENT</span></b></p></div>\n",
    "\n",
    "- DNA has <b>two complementary strands</b>. \n",
    "- Due to the complementarity of the DNA strands, usually only one of the strands is provided in a sequence file obtained from databases.\n",
    "- The second strand to the input <b>DNA sequence</b> can be obtained by calling the <code>.reverse_complement()</code> function."
   ]
  },
  {
   "cell_type": "code",
   "execution_count": 25,
   "metadata": {
    "execution": {
     "iopub.execute_input": "2023-05-06T19:10:07.986945Z",
     "iopub.status.busy": "2023-05-06T19:10:07.986223Z",
     "iopub.status.idle": "2023-05-06T19:10:07.989649Z",
     "shell.execute_reply": "2023-05-06T19:10:07.989030Z",
     "shell.execute_reply.started": "2021-10-22T17:49:59.13072Z"
    },
    "papermill": {
     "duration": 0.076749,
     "end_time": "2023-05-06T19:10:07.989812",
     "exception": false,
     "start_time": "2023-05-06T19:10:07.913063",
     "status": "completed"
    },
    "tags": []
   },
   "outputs": [
    {
     "name": "stdout",
     "output_type": "stream",
     "text": [
      "DNA Sequence: GGCAGATTCCCCCTAGACCCGCCCGCACCATGGTCAGGCATGCCCCTCCTCATCGCTGGGCACAGCCCAGAGGGTATAAACAGTGCTGGAGGCTGGCGGG\n",
      "Reverse Complement: CTTCTGGAGTTTATTTGGGAGCAGCTGGGATGATGGGGACCCCACATCCATAGGGCTGGGAGGTCAGGGCAAGGGCAAGGGGAAGAGGAAAGAAGGGTGC\n",
      "Transcription: UGUAACGAACGGUGCAAUAGUGAUCCACACCCAACGCCUGAAAUCAGAUCCAGGGGGUAAUCUGCUCUCCUGAUUCAGGAGAGUUUAUGGUCACUUUUGA\n"
     ]
    }
   ],
   "source": [
    "''' Transcription & Reverse Complement '''\n",
    "\n",
    "print(f'DNA Sequence: {seq_fasta[:100]}')\n",
    "print(f'Reverse Complement: {seq_fasta.reverse_complement()[:100]}')\n",
    "print(f'Transcription: {seq_gb.transcribe()[:100]}')"
   ]
  },
  {
   "cell_type": "markdown",
   "metadata": {
    "papermill": {
     "duration": 0.069946,
     "end_time": "2023-05-06T19:10:08.128172",
     "exception": false,
     "start_time": "2023-05-06T19:10:08.058226",
     "status": "completed"
    },
    "tags": []
   },
   "source": [
    "### <b><span style='color:#E888BB'> 4.3 |</span> Translation </b>\n",
    "\n",
    "<div style=\"color:white;display:fill;border-radius:8px;font-size:100%; letter-spacing:1.0px;\"><p style=\"padding: 5px;color:white;text-align:left;\"><b><span style='color:#E888BB'>TRANSLATION & CODON TABLE</span></b></p></div>\n",
    "\n",
    "\n",
    "#### **TRANSLATION**\n",
    "\n",
    "Snipplet from [genome.gov](https://www.genome.gov/genetics-glossary/Translation)\n",
    "\n",
    "> Translation is the process of translating the sequence of a <b><span style='color:#F55AA2'>messenger RNA</span></b> (mRNA) molecule to a <b><span style='color:#F55AA2'>sequence of amino acids</span></b> during protein synthesis. The <b><span style='color:#F55AA2'>genetic code</span></b> describes the relationship between the sequence of base pairs in a gene and the corresponding amino acid sequence that it encodes. In the cell cytoplasm, the ribosome reads the sequence of the mRNA in groups of three bases to assemble the protein.\n",
    "\n",
    "- Translation accepts a DNA sequence and converts it into a <b><span style='color:#F55AA2'>proteins</span></b> in the reading frame you specify.\n",
    "\n",
    "#### **CODON TABLES**\n",
    "\n",
    "A <b><span style='color:#F55AA2'>codon</span></b> is a sequence of <b><span style='color:#F55AA2'>three DNA/RNA nucleotides</span></b> that corresponds with a <b><span style='color:#F55AA2'>specific amino acid</span></b> or <b><span style='color:#F55AA2'>stop signal/codon(*)</span></b> during protein synthesis\n",
    "\n",
    "Snipplet from [Khan Academy](https://www.khanacademy.org/science/ap-biology/gene-expression-and-regulation/translation/a/the-genetic-code-discovery-and-properties)\n",
    "\n",
    "> The full set of relationships between <b><span style='color:#F55AA2'>codons</span></b> and amino acids (or stop signals) is called the <b><span style='color:#F55AA2'>genetic code</span></b>. The genetic code is often summarized in a table. \n",
    "\n",
    "There are a number of <b><span style='color:#F55AA2'>codon tables</span></b>, a few mentioned below:\n",
    "> - Standard  (SGC)\n",
    "> - Vertebrate Mitochondrial\n",
    "> - Bacterial"
   ]
  },
  {
   "cell_type": "code",
   "execution_count": 26,
   "metadata": {
    "execution": {
     "iopub.execute_input": "2023-05-06T19:10:08.270621Z",
     "iopub.status.busy": "2023-05-06T19:10:08.269979Z",
     "iopub.status.idle": "2023-05-06T19:10:08.273859Z",
     "shell.execute_reply": "2023-05-06T19:10:08.273201Z",
     "shell.execute_reply.started": "2021-10-22T17:49:59.143645Z"
    },
    "papermill": {
     "duration": 0.076976,
     "end_time": "2023-05-06T19:10:08.274012",
     "exception": false,
     "start_time": "2023-05-06T19:10:08.197036",
     "status": "completed"
    },
    "tags": []
   },
   "outputs": [
    {
     "name": "stdout",
     "output_type": "stream",
     "text": [
      "Table 1 Standard, SGC0\n",
      "\n",
      "  |  T      |  C      |  A      |  G      |\n",
      "--+---------+---------+---------+---------+--\n",
      "T | TTT F   | TCT S   | TAT Y   | TGT C   | T\n",
      "T | TTC F   | TCC S   | TAC Y   | TGC C   | C\n",
      "T | TTA L   | TCA S   | TAA Stop| TGA Stop| A\n",
      "T | TTG L(s)| TCG S   | TAG Stop| TGG W   | G\n",
      "--+---------+---------+---------+---------+--\n",
      "C | CTT L   | CCT P   | CAT H   | CGT R   | T\n",
      "C | CTC L   | CCC P   | CAC H   | CGC R   | C\n",
      "C | CTA L   | CCA P   | CAA Q   | CGA R   | A\n",
      "C | CTG L(s)| CCG P   | CAG Q   | CGG R   | G\n",
      "--+---------+---------+---------+---------+--\n",
      "A | ATT I   | ACT T   | AAT N   | AGT S   | T\n",
      "A | ATC I   | ACC T   | AAC N   | AGC S   | C\n",
      "A | ATA I   | ACA T   | AAA K   | AGA R   | A\n",
      "A | ATG M(s)| ACG T   | AAG K   | AGG R   | G\n",
      "--+---------+---------+---------+---------+--\n",
      "G | GTT V   | GCT A   | GAT D   | GGT G   | T\n",
      "G | GTC V   | GCC A   | GAC D   | GGC G   | C\n",
      "G | GTA V   | GCA A   | GAA E   | GGA G   | A\n",
      "G | GTG V   | GCG A   | GAG E   | GGG G   | G\n",
      "--+---------+---------+---------+---------+--\n"
     ]
    }
   ],
   "source": [
    "from Bio.Data import CodonTable \n",
    "\n",
    "# Let's take a look at one type of table (SGC)\n",
    "table = CodonTable.unambiguous_dna_by_name['Standard']\n",
    "print(table)"
   ]
  },
  {
   "cell_type": "code",
   "execution_count": 27,
   "metadata": {
    "execution": {
     "iopub.execute_input": "2023-05-06T19:10:08.417330Z",
     "iopub.status.busy": "2023-05-06T19:10:08.416612Z",
     "iopub.status.idle": "2023-05-06T19:10:08.421013Z",
     "shell.execute_reply": "2023-05-06T19:10:08.420432Z",
     "shell.execute_reply.started": "2021-10-22T17:49:59.158248Z"
    },
    "papermill": {
     "duration": 0.078226,
     "end_time": "2023-05-06T19:10:08.421168",
     "exception": false,
     "start_time": "2023-05-06T19:10:08.342942",
     "status": "completed"
    },
    "tags": []
   },
   "outputs": [
    {
     "data": {
      "text/plain": [
       "'L'"
      ]
     },
     "execution_count": 27,
     "metadata": {},
     "output_type": "execute_result"
    }
   ],
   "source": [
    "# Getting a specific conversion\n",
    "table.forward_table[\"CTA\"]"
   ]
  },
  {
   "cell_type": "code",
   "execution_count": 28,
   "metadata": {
    "execution": {
     "iopub.execute_input": "2023-05-06T19:10:08.569297Z",
     "iopub.status.busy": "2023-05-06T19:10:08.568451Z",
     "iopub.status.idle": "2023-05-06T19:10:08.575341Z",
     "shell.execute_reply": "2023-05-06T19:10:08.574666Z",
     "shell.execute_reply.started": "2021-10-22T17:49:59.171844Z"
    },
    "papermill": {
     "duration": 0.084104,
     "end_time": "2023-05-06T19:10:08.575548",
     "exception": false,
     "start_time": "2023-05-06T19:10:08.491444",
     "status": "completed"
    },
    "tags": []
   },
   "outputs": [
    {
     "name": "stdout",
     "output_type": "stream",
     "text": [
      "translation RNA: MRLT\n",
      "translation DNA: CNERCNSDPHPTPEIRSRG*SALLIQESLWSLLRQLWKLKSCTSRE*VAGRLPENWGSPAIPLNVICRQNLSRQNIRRDLLLLHSWMNTGIIFVNASPML\n",
      "translation DNA (alternative): CNERCNSDPHPTPEI*S*G*SALLIQESLWSLL*QLWKLKSCTS*EWVAGRLPENWGSPAMPLNVIC*QNLSRQNMRRDLLLLHSWMNTGIMFVNASPML\n"
     ]
    }
   ],
   "source": [
    "''' Translation for both DNA & RNA '''\n",
    "#  translate codon into an aminoacid\n",
    "\n",
    "rna_seq = Seq('AUGCGUUUAACU')\n",
    "print(f'translation RNA: {rna_seq.translate()}')\n",
    "\n",
    "# Translate DNA sequence using two different tables (SGC & Vertebrate Mitochondrial)\n",
    "print(f'translation DNA: {seq_gb.translate()[:100]}')\n",
    "print(f'translation DNA (alternative): {seq_gb.translate(table=\"Vertebrate Mitochondrial\")[:100]}') "
   ]
  },
  {
   "cell_type": "markdown",
   "metadata": {
    "papermill": {
     "duration": 0.068951,
     "end_time": "2023-05-06T19:10:08.715028",
     "exception": false,
     "start_time": "2023-05-06T19:10:08.646077",
     "status": "completed"
    },
    "tags": []
   },
   "source": [
    "<div style=\"color:white;display:fill;border-radius:8px;font-size:100%; letter-spacing:1.0px;\"><p style=\"padding: 5px;color:white;text-align:left;\"><b><span style='color:#E888BB'>PROTEIN IDENTIFICATION</span></b></p></div>\n",
    "\n",
    "\n",
    "- We can of course load something more realistic, an entire <b>genome</b> sequence as well & apply translation as we try to understand what proteins are encoded in the genome.\n",
    "- Let's obtain the largest <b>amino acid</b> chain in the sequence data."
   ]
  },
  {
   "cell_type": "code",
   "execution_count": 29,
   "metadata": {
    "execution": {
     "iopub.execute_input": "2023-05-06T19:10:08.862334Z",
     "iopub.status.busy": "2023-05-06T19:10:08.861567Z",
     "iopub.status.idle": "2023-05-06T19:10:08.917631Z",
     "shell.execute_reply": "2023-05-06T19:10:08.918185Z",
     "shell.execute_reply.started": "2021-10-22T17:49:59.191497Z"
    },
    "papermill": {
     "duration": 0.13403,
     "end_time": "2023-05-06T19:10:08.918392",
     "exception": false,
     "start_time": "2023-05-06T19:10:08.784362",
     "status": "completed"
    },
    "tags": []
   },
   "outputs": [
    {
     "name": "stdout",
     "output_type": "stream",
     "text": [
      "Translation length: 9967\n"
     ]
    },
    {
     "name": "stderr",
     "output_type": "stream",
     "text": [
      "/opt/conda/lib/python3.7/site-packages/Bio/Seq.py:2338: BiopythonWarning: Partial codon, len(sequence) not a multiple of three. Explicitly trim the sequence or add trailing N before translation. This may become an error in future.\n",
      "  BiopythonWarning,\n"
     ]
    },
    {
     "data": {
      "text/html": [
       "<div>\n",
       "<style scoped>\n",
       "    .dataframe tbody tr th:only-of-type {\n",
       "        vertical-align: middle;\n",
       "    }\n",
       "\n",
       "    .dataframe tbody tr th {\n",
       "        vertical-align: top;\n",
       "    }\n",
       "\n",
       "    .dataframe thead th {\n",
       "        text-align: right;\n",
       "    }\n",
       "</style>\n",
       "<table border=\"1\" class=\"dataframe\">\n",
       "  <thead>\n",
       "    <tr style=\"text-align: right;\">\n",
       "      <th></th>\n",
       "      <th>protein_chains</th>\n",
       "      <th>length</th>\n",
       "    </tr>\n",
       "  </thead>\n",
       "  <tbody>\n",
       "    <tr>\n",
       "      <th>48</th>\n",
       "      <td>CTIVFKRVCGVSAARLTPCGTGTSTDVVYRAFDIYNDKVAGFAKFL...</td>\n",
       "      <td>2701</td>\n",
       "    </tr>\n",
       "    <tr>\n",
       "      <th>61</th>\n",
       "      <td>ASAQRSQITLHINELMDLFMRIFTIGTVTLKQGEIKDATPSDFVRA...</td>\n",
       "      <td>290</td>\n",
       "    </tr>\n",
       "    <tr>\n",
       "      <th>68</th>\n",
       "      <td>TNMKIILFLALITLATCELYHYQECVRGTTVLLKEPCSSGTYEGNS...</td>\n",
       "      <td>123</td>\n",
       "    </tr>\n",
       "    <tr>\n",
       "      <th>62</th>\n",
       "      <td>AQADEYELMYSFVSEETGTLIVNSVLLFLAFVVFLLVTLAILTALR...</td>\n",
       "      <td>83</td>\n",
       "    </tr>\n",
       "    <tr>\n",
       "      <th>67</th>\n",
       "      <td>QQMFHLVDFQVTIAEILLIIMRTFKVSIWNLDYIINLIIKNLSKSL...</td>\n",
       "      <td>63</td>\n",
       "    </tr>\n",
       "  </tbody>\n",
       "</table>\n",
       "</div>"
      ],
      "text/plain": [
       "                                       protein_chains  length\n",
       "48  CTIVFKRVCGVSAARLTPCGTGTSTDVVYRAFDIYNDKVAGFAKFL...    2701\n",
       "61  ASAQRSQITLHINELMDLFMRIFTIGTVTLKQGEIKDATPSDFVRA...     290\n",
       "68  TNMKIILFLALITLATCELYHYQECVRGTTVLLKEPCSSGTYEGNS...     123\n",
       "62  AQADEYELMYSFVSEETGTLIVNSVLLFLAFVVFLLVTLAILTALR...      83\n",
       "67  QQMFHLVDFQVTIAEILLIIMRTFKVSIWNLDYIINLIIKNLSKSL...      63"
      ]
     },
     "metadata": {},
     "output_type": "display_data"
    }
   ],
   "source": [
    "# Load our sequence & apply translate\n",
    "virus_fna = '/kaggle/input/coronavirus-genome-sequence/MN908947.fna'\n",
    "virus_SeqRec = SeqIO.read(virus_fna,'fasta')\n",
    "virus_Seq = virus_SeqRec.seq\n",
    "\n",
    "translation = virus_SeqRec.translate()\n",
    "print(f'Translation length: {len(translation)}')\n",
    "\n",
    "# functional proteins are chains above 20 amino acids.\n",
    "\n",
    "# Get Proteins only\n",
    "proteins = [] \n",
    "for i in translation.seq.split('*'):\n",
    "    if(len(i) > 19):\n",
    "        proteins.append(str(i))\n",
    "\n",
    "df = pd.DataFrame({'protein_chains':proteins})\n",
    "df['length'] = df['protein_chains'].apply(len)\n",
    "df = df.sort_values(by = ['length'],ascending=False) [:10]\n",
    "display(df.head())\n",
    "\n",
    "# select one protein\n",
    "one_large_protein=df.nlargest(1,'length')\n",
    "single_prot = one_large_protein.iloc[0,0]\n",
    "\n",
    "# write to file which we'll recall later\n",
    "with open(\"/kaggle/working/protein.fasta\",\"w\") as file:\n",
    "    file.write(\">large protein\\n\" + single_prot)"
   ]
  },
  {
   "cell_type": "markdown",
   "metadata": {
    "papermill": {
     "duration": 0.069949,
     "end_time": "2023-05-06T19:10:09.061120",
     "exception": false,
     "start_time": "2023-05-06T19:10:08.991171",
     "status": "completed"
    },
    "tags": []
   },
   "source": [
    "# <div style=\"padding: 30px;color:white;margin:10;font-size:60%;text-align:left;display:fill;border-radius:10px;background-color:#FFFFFF;overflow:hidden;background-color:#E888BB\"><b><span style='color:#FFFFFF'>5 |</span></b> <b>PAIRWISE SEQUENCE ALIGNMENT</b></div>\n",
    "\n",
    "### <b><span style='color:#E888BB'> 5.1 |</span> Sequence Similarity </b>\n",
    "\n",
    "<div style=\"color:white;display:fill;border-radius:8px;font-size:100%; letter-spacing:1.0px;\"><p style=\"padding: 5px;color:white;text-align:left;\"><b><span style='color:#E888BB'>GENERATING A HYPOTHESIS</span></b></p></div>\n",
    "\n",
    "\n",
    "- We can generate a hypothesis about the biological function based on <b><span style='color:#F55AA2'>sequence similarity</span></b>.\n",
    "- If two sequences show high degree of <b><span style='color:#F55AA2'>similarity (score)</span></b>, then they have a high chance of being __homologous__, sharing similar functions. \n",
    "\n",
    "<div style=\"color:white;display:fill;border-radius:8px;font-size:100%; letter-spacing:1.0px;\"><p style=\"padding: 5px;color:white;text-align:left;\"><b><span style='color:#E888BB'>SEQUENCE COMPARISON ISSUES</span></b></p></div>\n",
    "\n",
    "\n",
    "If we try to compare sequences one by one, we might run into issues since:\n",
    "\n",
    "- Two similar sequences often have gone through  <b><span style='color:#F55AA2'>biological mutation</span></b>, which can change nucleotides, thus changing their structure.\n",
    "- Thus we cannot simply rely on a comparison of nucleotides that are __in the same order__. \n",
    "- This process is even more complicated by nucleotide  <b><span style='color:#F55AA2'>insertions</span></b> &  <b><span style='color:#F55AA2'>deletions</span></b>. \n",
    "\n",
    "As a result, we need to resort to a procedure known as <b><span style='color:#F55AA2'>Pairwise Sequence Alignment (PSA)</span></b>.\n",
    "\n",
    "<div style=\"color:white;display:fill;border-radius:8px;font-size:100%; letter-spacing:1.0px;\"><p style=\"padding: 5px;color:white;text-align:left;\"><b><span style='color:#E888BB'>TYPES OF SEQUENCE ALIGNMENT</span></b></p></div>\n",
    "\n",
    "\n",
    "There are two main groups of Sequence Alignment:\n",
    "- <b><span style='color:#F55AA2'>Global sequence alignment</span></b> (we are interested in aligning the entire sequences)\n",
    "- <b><span style='color:#F55AA2'>Local sequence alignment</span></b> (we aim to find good alignments of adjacent nucleotides of both of the sequences, whilst ignoring the rest)"
   ]
  },
  {
   "cell_type": "markdown",
   "metadata": {
    "papermill": {
     "duration": 0.069719,
     "end_time": "2023-05-06T19:10:09.201158",
     "exception": false,
     "start_time": "2023-05-06T19:10:09.131439",
     "status": "completed"
    },
    "tags": []
   },
   "source": [
    "### <b><span style='color:#E888BB'> 5.2 |</span> Biopython specifics </b>\n",
    "\n",
    "<div style=\"color:white;display:fill;border-radius:8px;font-size:100%; letter-spacing:1.0px;\"><p style=\"padding: 5px;color:white;text-align:left;\"><b><span style='color:#E888BB'>CHOOSING THE TYPE OF ALIGNMENT</span></b></p></div>\n",
    "\n",
    "\n",
    "- <code>Bio.pairwise2</code> has implementations of <b><span style='color:#F55AA2'>Dynamic Programing (DP)</span></b> Algorithms for __Pairwise Sequence Alignment__.\n",
    "- Alignment Type option is written after <code>pairwise2.align.X</code>, where <code>.X</code> is replaced by the type; <code>.global</code> and <code>.local</code>.\n",
    "- After <code>.local</code> or <code>.global</code>, two letters are written to indicate which parameters it takes; eg. <code>.localXY</code>\n",
    "\n",
    "<div style=\"color:white;display:fill;border-radius:8px;font-size:100%; letter-spacing:1.0px;\"><p style=\"padding: 5px;color:white;text-align:left;\"><b><span style='color:#E888BB'>OPTIONS FOR X & Y</span></b></p></div>\n",
    "\n",
    "- The <b><span style='color:#F55AA2'>first (X)</span></b> indicates __a substitution matrix__ or __the parameters for match/missmatches__\n",
    "- The <b><span style='color:#F55AA2'>second (Y)</span></b> indicates the parameters for the penalty of the gap.\n",
    "\n",
    "#### **THE SPECIFICS**\n",
    "\n",
    "Some more specifics<b><span style='color:#F55AA2'> (first letter)</span></b>:\n",
    "> - If __x__ is provided, a <b>score of 1</b> is considered for the alignment & a <b>mismatch score of 0</b>. <br>\n",
    "> - If __m__ is provided, the function will allow us to <b>define a match/mismatch score</b> using appropriate parameters. <br>\n",
    "> - If __d__ is provided, we can pass on a **dictionary** to the function, **defining a full substitution matrix**. <br>\n",
    "\n",
    "Some more specifics <b><span style='color:#F55AA2'>(second letter)</span></b>:\n",
    "> - If __x__ is provided, no gap penalties are imposed (g=0) <br>\n",
    "> - If __s__ is provided, we can define an affinite gap penalty model <br>\n",
    "\n",
    "<div style=\"color:white;display:fill;border-radius:8px;font-size:100%; letter-spacing:1.0px;\"><p style=\"padding: 5px;color:white;text-align:left;\"><b><span style='color:#E888BB'>INPUTS FOR SEQUENCES</span></b></p></div>\n",
    "\n",
    "- Inputs can be both <b>string</b> formats or defined <b>Seq</b> class instances."
   ]
  },
  {
   "cell_type": "markdown",
   "metadata": {
    "papermill": {
     "duration": 0.069693,
     "end_time": "2023-05-06T19:10:09.342956",
     "exception": false,
     "start_time": "2023-05-06T19:10:09.273263",
     "status": "completed"
    },
    "tags": []
   },
   "source": [
    "### <b><span style='color:#E888BB'> 5.3 |</span> Pairwise Sequence Alignment </b>\n",
    "\n",
    "<div style=\"color:white;display:fill;border-radius:8px;font-size:100%; letter-spacing:1.0px;\"><p style=\"padding: 5px;color:white;text-align:left;\"><b><span style='color:#E888BB'>GLOBAL NUCLEOTIDE SEQUENCE ALIGNMENT</span></b></p></div>\n",
    "\n",
    "\n",
    "- Let's try an an example, aligning <code>seq1</code> & <code>seq2</code>, both are <b>nucleotide</b> sequences.\n",
    "- We are looking at <b>global alignment</b> (.global), with a match <b>score of 1</b> & <b>missmatch score of 0</b> (so first letter is x) & <b>no gap penalty emposed</b> (second letter is x)."
   ]
  },
  {
   "cell_type": "code",
   "execution_count": 30,
   "metadata": {
    "execution": {
     "iopub.execute_input": "2023-05-06T19:10:09.488529Z",
     "iopub.status.busy": "2023-05-06T19:10:09.487546Z",
     "iopub.status.idle": "2023-05-06T19:10:09.496618Z",
     "shell.execute_reply": "2023-05-06T19:10:09.495980Z",
     "shell.execute_reply.started": "2021-10-22T17:49:59.271307Z"
    },
    "papermill": {
     "duration": 0.0827,
     "end_time": "2023-05-06T19:10:09.496792",
     "exception": false,
     "start_time": "2023-05-06T19:10:09.414092",
     "status": "completed"
    },
    "tags": []
   },
   "outputs": [
    {
     "name": "stdout",
     "output_type": "stream",
     "text": [
      "# alternative optimal alignments: 7\n",
      "ATG-GCAGA-TAGA\n",
      "||  | ||| ||| \n",
      "AT-AG-AGAATAG-\n",
      "  Score=9\n",
      "\n",
      "ATGGCAGA-TAGA\n",
      "||.| ||| ||| \n",
      "ATAG-AGAATAG-\n",
      "  Score=9\n",
      "\n",
      "AT-GGCAGA-TAGA\n",
      "|| |  ||| ||| \n",
      "ATAG--AGAATAG-\n",
      "  Score=9\n",
      "\n",
      "ATG-GCAG-ATAGA\n",
      "||  | || |||| \n",
      "AT-AG-AGAATAG-\n",
      "  Score=9\n",
      "\n",
      "ATGGCAG-ATAGA\n",
      "||.| || |||| \n",
      "ATAG-AGAATAG-\n",
      "  Score=9\n",
      "\n",
      "AT-GGCAG-ATAGA\n",
      "|| |  || |||| \n",
      "ATAG--AGAATAG-\n",
      "  Score=9\n",
      "\n",
      "AT-G-GCAGATAGA\n",
      "|| | | | |||| \n",
      "ATAGAG-A-ATAG-\n",
      "  Score=9\n",
      "\n"
     ]
    }
   ],
   "source": [
    "''' Global Alignment of two DNA sequences'''\n",
    "\n",
    "# String based sequences\n",
    "seq1 = 'ATGGCAGATAGA'\n",
    "seq2 = 'ATAGAGAATAG'\n",
    "\n",
    "# define an instance of Seq\n",
    "cseq1 = Seq(seq1)\n",
    "cseq2 = Seq(seq2)\n",
    "\n",
    "# - Global Alignment Problem\n",
    "# - (match score = 1, missmatch = 0), gap penalties = 0\n",
    "GDNA = pairwise2.align.globalxx(cseq1,cseq2)\n",
    "print (f'# alternative optimal alignments: {len(GDNA)}')\n",
    "\n",
    "# print all the alignments\n",
    "for i in GDNA: \n",
    "    print(format_alignment(*i))"
   ]
  },
  {
   "cell_type": "markdown",
   "metadata": {
    "papermill": {
     "duration": 0.069897,
     "end_time": "2023-05-06T19:10:09.636732",
     "exception": false,
     "start_time": "2023-05-06T19:10:09.566835",
     "status": "completed"
    },
    "tags": []
   },
   "source": [
    "<div style=\"color:white;display:fill;border-radius:8px;font-size:100%; letter-spacing:1.0px;\"><p style=\"padding: 5px;color:white;text-align:left;\"><b><span style='color:#E888BB'>GLOBAL PROTEIN SEQUENCE ALIGNMENT</span></b></p></div>\n",
    "\n",
    "- Let's try another example, aligning <code>pseq1</code> & <code>pseq2</code>, both are <b>protein</b> sequences.\n",
    "- We are looking at <b>global alignment</b> (.global), using the <b>BLOSUM62</b> match/missmatch scores (first letter d) & a <b>gap penalty</b> emposed (second letter s)"
   ]
  },
  {
   "cell_type": "code",
   "execution_count": 31,
   "metadata": {
    "execution": {
     "iopub.execute_input": "2023-05-06T19:10:09.781807Z",
     "iopub.status.busy": "2023-05-06T19:10:09.781082Z",
     "iopub.status.idle": "2023-05-06T19:10:09.788119Z",
     "shell.execute_reply": "2023-05-06T19:10:09.788575Z",
     "shell.execute_reply.started": "2021-10-22T17:49:59.284427Z"
    },
    "papermill": {
     "duration": 0.081901,
     "end_time": "2023-05-06T19:10:09.788795",
     "exception": false,
     "start_time": "2023-05-06T19:10:09.706894",
     "status": "completed"
    },
    "tags": []
   },
   "outputs": [
    {
     "name": "stdout",
     "output_type": "stream",
     "text": [
      "-EVSAW\n",
      " ||.| \n",
      "KEVLA-\n",
      "  Score=3\n",
      "\n"
     ]
    }
   ],
   "source": [
    "''' Global Alignment of two protein sequences ''' \n",
    "# - Global Alignment Problem of Protein Sequences\n",
    "# - Using a substitute matrix BLOSUM64, opening gap penalty -4, extension penalty -1\n",
    "    \n",
    "pseq1 = \"EVSAW\"\n",
    "pseq2 = \"KEVLA\"\n",
    "\n",
    "sm = MatrixInfo.blosum62 # load BLOSUM62 Substitution Matrix\n",
    "lPRT = pairwise2.align.globalds(pseq1,pseq2,sm,-4,-1)\n",
    "for i in lPRT:\n",
    "    print(format_alignment(*i))"
   ]
  },
  {
   "cell_type": "markdown",
   "metadata": {
    "papermill": {
     "duration": 0.071127,
     "end_time": "2023-05-06T19:10:09.932779",
     "exception": false,
     "start_time": "2023-05-06T19:10:09.861652",
     "status": "completed"
    },
    "tags": []
   },
   "source": [
    "<div style=\"color:white;display:fill;border-radius:8px;font-size:100%; letter-spacing:1.0px;\"><p style=\"padding: 5px;color:white;text-align:left;\"><b><span style='color:#E888BB'>LOCAL NUCLEOTIDE SEQUENCE ALIGNMENT</span></b></p></div>\n",
    "\n",
    "- Let's try another example, aligning nucleotide sequences <code>seq1</code> & <code>seq2</code>, this time <b>locally</b>.\n",
    "- Local alignment (.local), <b>match/missmatch</b> score (first letter m), gap penalty emposed (second letter s)"
   ]
  },
  {
   "cell_type": "code",
   "execution_count": 32,
   "metadata": {
    "execution": {
     "iopub.execute_input": "2023-05-06T19:10:10.084425Z",
     "iopub.status.busy": "2023-05-06T19:10:10.083711Z",
     "iopub.status.idle": "2023-05-06T19:10:10.089817Z",
     "shell.execute_reply": "2023-05-06T19:10:10.090392Z",
     "shell.execute_reply.started": "2021-10-22T17:49:59.295223Z"
    },
    "papermill": {
     "duration": 0.081763,
     "end_time": "2023-05-06T19:10:10.090571",
     "exception": false,
     "start_time": "2023-05-06T19:10:10.008808",
     "status": "completed"
    },
    "tags": []
   },
   "outputs": [
    {
     "name": "stdout",
     "output_type": "stream",
     "text": [
      "1 ATGGCAGA-TAG\n",
      "  ||.| ||| |||\n",
      "1 ATAG-AGAATAG\n",
      "  Score=19\n",
      "\n",
      "1 ATGGCAG-ATAG\n",
      "  ||.| || ||||\n",
      "1 ATAG-AGAATAG\n",
      "  Score=19\n",
      "\n"
     ]
    }
   ],
   "source": [
    "''' Local Alignment of two DNA sequences ''' \n",
    "# Local Alignment Problem of DNA Sequences\n",
    "# Match score = 3, mismatch score = -2, constant gap penalty g=-3 x2\n",
    "\n",
    "lDNA = pairwise2.align.localms(seq1,seq2, 3,-2,-3,-3)\n",
    "for i in lDNA: \n",
    "    print(format_alignment(*i))"
   ]
  },
  {
   "cell_type": "markdown",
   "metadata": {
    "papermill": {
     "duration": 0.070494,
     "end_time": "2023-05-06T19:10:10.231962",
     "exception": false,
     "start_time": "2023-05-06T19:10:10.161468",
     "status": "completed"
    },
    "tags": []
   },
   "source": [
    "<div style=\"color:white;display:fill;border-radius:8px;font-size:100%; letter-spacing:1.0px;\"><p style=\"padding: 5px;color:white;text-align:left;\"><b><span style='color:#E888BB'>LOCAL PROTEIN SEQUENCE ALIGNMENT</span></b></p></div>\n",
    "\n",
    "- Again aligning <code>pseq1</code> & <code>pseq2</code>, both are <b>protein</b> sequences, <b>locally</b>.\n",
    "- We are looking at <b>local alignment</b> (.local), using the <b>BLOSUM62</b> match/missmatch scores (first letter d) & a <b>gap penalty</b> emposed (second letter s)."
   ]
  },
  {
   "cell_type": "code",
   "execution_count": 33,
   "metadata": {
    "execution": {
     "iopub.execute_input": "2023-05-06T19:10:10.378952Z",
     "iopub.status.busy": "2023-05-06T19:10:10.378254Z",
     "iopub.status.idle": "2023-05-06T19:10:10.384108Z",
     "shell.execute_reply": "2023-05-06T19:10:10.384687Z",
     "shell.execute_reply.started": "2021-10-22T17:49:59.312778Z"
    },
    "papermill": {
     "duration": 0.081265,
     "end_time": "2023-05-06T19:10:10.384900",
     "exception": false,
     "start_time": "2023-05-06T19:10:10.303635",
     "status": "completed"
    },
    "tags": []
   },
   "outputs": [
    {
     "name": "stdout",
     "output_type": "stream",
     "text": [
      "1 EVSA\n",
      "  ||.|\n",
      "2 EVLA\n",
      "  Score=11\n",
      "\n"
     ]
    }
   ],
   "source": [
    "''' Local Alignment of Protein Sequences '''\n",
    "# - Local Alignment Problem of Protein Sequences\n",
    "# - Using a substitute matrix BLOSUM64, opening gap penalty -4, extension penalty -1\n",
    "\n",
    "pPROT = pairwise2.align.localds(pseq1,pseq2,sm,-4,-1)\n",
    "for i in pPROT:\n",
    "    print(format_alignment(*i))"
   ]
  },
  {
   "cell_type": "markdown",
   "metadata": {
    "papermill": {
     "duration": 0.071099,
     "end_time": "2023-05-06T19:10:10.528155",
     "exception": false,
     "start_time": "2023-05-06T19:10:10.457056",
     "status": "completed"
    },
    "tags": []
   },
   "source": [
    "### <b><span style='color:#E888BB'> 5.4 |</span> Unitig Sequence Alignment </b>\n",
    "\n",
    "<div style=\"color:white;display:fill;border-radius:8px;font-size:100%; letter-spacing:1.0px;\"><p style=\"padding: 5px;color:white;text-align:left;\"><b><span style='color:#E888BB'>FINDING THE BEST ALIGNMENT IN LIST</span></b></p></div>\n",
    "\n",
    "- We can utilise <code>pairwise2.align</code> in a variety of situations, eg. cycle through a list & find the best alignment case.\n",
    "- Having two lists of filled with <b>unitigs</b> (nucleotide sequences); <code>lst1</code> & <code>lst2</code> ( you can also change the input to a sequence in <code>get_bestalign</code>)\n",
    "- Using the [gonorrhoea](https://www.kaggle.com/nwheeler443/gono-unitigs) dataset, we can compare <b>a sequence from one list</b> and try to find the the best alignment in the second list.\n",
    "- In this case, we can see that the alignment is not ideal at all, resulting in lots of gaps for the input sequence & the best alignment score is due to the longer matching sequence size."
   ]
  },
  {
   "cell_type": "code",
   "execution_count": 34,
   "metadata": {
    "_kg_hide-input": true,
    "execution": {
     "iopub.execute_input": "2023-05-06T19:10:10.674390Z",
     "iopub.status.busy": "2023-05-06T19:10:10.673692Z",
     "iopub.status.idle": "2023-05-06T19:10:10.682339Z",
     "shell.execute_reply": "2023-05-06T19:10:10.682933Z",
     "shell.execute_reply.started": "2021-10-22T17:49:59.322988Z"
    },
    "papermill": {
     "duration": 0.083301,
     "end_time": "2023-05-06T19:10:10.683125",
     "exception": false,
     "start_time": "2023-05-06T19:10:10.599824",
     "status": "completed"
    },
    "tags": []
   },
   "outputs": [],
   "source": [
    "# class to used define feature matrix & target variavle \n",
    "class data:\n",
    "    \n",
    "    def __init__(self):\n",
    "        self.df = pd.read_csv('../input/gono-unitigs/metadata.csv', index_col=0)\n",
    "        self.features = self.df.columns\n",
    "        self.targets = ['azm_sr','cip_sr','cro_sr','cfx_sr','tet_sr','pen_sr']\n",
    "    \n",
    "    def get_case(self,phenotype=None):\n",
    "    \n",
    "        _metadata = self.df\n",
    "        _metadata = _metadata.dropna(subset=[phenotype])\n",
    "        _metadata = _metadata[phenotype] # choose target variable \n",
    "        \n",
    "        prefix = '../input/gono-unitigs/'\n",
    "        suffix = '_gwas_filtered_unitigs.Rtab'\n",
    "        \n",
    "        # store all file pathways\n",
    "        self.lst_files = []\n",
    "        for dirname, _, filenames in os.walk('/kaggle/input'):\n",
    "            for filename in filenames:\n",
    "                self.lst_files.append(os.path.join(dirname, filename))\n",
    "        \n",
    "        # unitig feature matrix for phenotype\n",
    "        tdf = pd.read_csv(prefix + phenotype + suffix, sep=\" \", index_col=0, low_memory=False)\n",
    "        tdf = tdf.T # align column data w/ metadata df (pattern_id = sample_idd)\n",
    "        tdf = tdf[tdf.index.isin(_metadata.index)] # keep only common rows, ie. that have resistence measure\n",
    "        self.train = tdf\n",
    "        self.target = _metadata[_metadata.index.isin(tdf.index)]"
   ]
  },
  {
   "cell_type": "code",
   "execution_count": 35,
   "metadata": {
    "execution": {
     "iopub.execute_input": "2023-05-06T19:10:10.829045Z",
     "iopub.status.busy": "2023-05-06T19:10:10.828312Z",
     "iopub.status.idle": "2023-05-06T19:10:11.848871Z",
     "shell.execute_reply": "2023-05-06T19:10:11.848306Z",
     "shell.execute_reply.started": "2021-10-22T17:49:59.344854Z"
    },
    "papermill": {
     "duration": 1.09449,
     "end_time": "2023-05-06T19:10:11.849041",
     "exception": false,
     "start_time": "2023-05-06T19:10:10.754551",
     "status": "completed"
    },
    "tags": []
   },
   "outputs": [
    {
     "name": "stdout",
     "output_type": "stream",
     "text": [
      "AZM unitigs:\n",
      "['CTTAACATATTTGCCTTTGATTTTTGAAGAAGCTGCCACGCCGGCAG', 'TACCGTAACCGGCAATGCGGATATTACGGTC', 'CAGACGGCATTTTTTTTGCGTTTTTCGGGAGG']\n",
      "\n",
      "CFX unitigs:\n",
      "['ACCGGTCAGGGCGACGGGTTTGCGCCCTTTGAT', 'TGATACGGCGTGTAGGCGGTGTACCAGCCCGGG', 'CCGCACGGGGGAAATCCTCGCCTTGGCCAATACGCCCGCCTACGATCCCAACAG']\n"
     ]
    }
   ],
   "source": [
    "gono = data()\n",
    "\n",
    "# list of nucleotides\n",
    "gono.get_case('azm_sr')\n",
    "azm_unitigs = gono.train.columns.tolist() # list of unitigs\n",
    "\n",
    "print('AZM unitigs:')\n",
    "print(azm_unitigs[:3])\n",
    "\n",
    "# List of nucleotides\n",
    "gono.get_case('cfx_sr')\n",
    "cfx_unitigs = gono.train.columns.tolist() # list of unitigs\n",
    "\n",
    "print('\\nCFX unitigs:')\n",
    "print(cfx_unitigs[:3])"
   ]
  },
  {
   "cell_type": "code",
   "execution_count": 36,
   "metadata": {
    "execution": {
     "iopub.execute_input": "2023-05-06T19:10:12.011527Z",
     "iopub.status.busy": "2023-05-06T19:10:12.006155Z",
     "iopub.status.idle": "2023-05-06T19:10:17.371453Z",
     "shell.execute_reply": "2023-05-06T19:10:17.370657Z",
     "shell.execute_reply.started": "2021-10-22T17:50:00.467655Z"
    },
    "papermill": {
     "duration": 5.450369,
     "end_time": "2023-05-06T19:10:17.371626",
     "exception": false,
     "start_time": "2023-05-06T19:10:11.921257",
     "status": "completed"
    },
    "tags": []
   },
   "outputs": [
    {
     "name": "stdout",
     "output_type": "stream",
     "text": [
      "Finding Best Alignment Score:\n",
      "For Sequence: TGGTAATGCCGGGTGAGAACGTAACCATTACTGTAGAACTGATTGCG\n",
      "\n",
      "0 ACCGGTCAGGGCGACGGGTTTGCGCCCTTTGAT 23.0\n",
      "1 TGATACGGCGTGTAGGCGGTGTACCAGCCCGGG 24.0\n",
      "2 CCGCACGGGGGAAATCCTCGCCTTGGCCAATACGCCCGCCTACGATCCCAACAG 28.0\n",
      "8 GCTTGTCGATGTGCCGGTTGATGTTTTGAGAAACAAACTCGAACAGAAA 30.0\n",
      "9 GACAAATTCTTGGCGGACGATGACGGCAACAGTACCGAGCGCGGCACCCAATGCCAGCGCG 33.0\n",
      "63 ACTGCAGGTTTGTTGAGAAGCTGGCGCAGATGGCAAAAAATCGAACAGGCAACCATGTCTTTCGGTTAT 34.0\n",
      "76 TCGATCAGAGGATTCAGACCTTGGCCTATGAAGAGTTGAACAAGGCGGTCGAATACCATCAGGCAAAAGCC 35.0\n",
      "128 CGGTTACGCCTCTGTTCGCTGTCTGCCTGACCGGGTTTGTTGGGCTCATAGGCAGGCGTATTGACCAATGCGAGGATTTCCCCAGTACGGGCATCCAACACCACCACCGTTCCGGCTTTTGCCTGATGG 41.0\n",
      "210 GTTTATCCTACTTTGGATGTGCGCGGCATTATGCAAAAATCTTCCAACGTCGGTACCAGTAAACTTTCTGCCATGTTTACGCCTAAAGAAATGTACGATTTCTATCACGATTTAGGTGTGGGCGT 42.0\n"
     ]
    }
   ],
   "source": [
    "# Select one unitig in lst1 and find the best alignment in lst2\n",
    "def get_bestalign(lst1,ids,lst2):\n",
    "    \n",
    "    # remove cases if columns exist in string\n",
    "    \n",
    "    lst2_upd = []\n",
    "    for unitig in lst2:\n",
    "        if(',' not in unitig):\n",
    "            lst2_upd.append(unitig)\n",
    "            \n",
    "    # main unitig used for comparison\n",
    "    n1 = lst1[ids]\n",
    "    print('Finding Best Alignment Score:')\n",
    "    print(f'For Sequence: {n1}\\n')\n",
    "    \n",
    "    # Cycle through all unitigs in updated list\n",
    "    \n",
    "    max_score = 0\n",
    "    best_ali = None\n",
    "    ii=-1\n",
    "    for unitig in lst2_upd:\n",
    "\n",
    "        ii+=1;\n",
    "        ALI = pairwise2.align.localxx(n1,unitig)\n",
    "        lscore = ALI[0].score\n",
    "        if(lscore > max_score):\n",
    "            print(ii,unitig,lscore)\n",
    "            max_score = lscore\n",
    "            best_ali = ALI\n",
    "            \n",
    "    return best_ali\n",
    "\n",
    "best_lalign = get_bestalign(azm_unitigs,10,cfx_unitigs)"
   ]
  },
  {
   "cell_type": "code",
   "execution_count": 37,
   "metadata": {
    "execution": {
     "iopub.execute_input": "2023-05-06T19:10:17.530133Z",
     "iopub.status.busy": "2023-05-06T19:10:17.529209Z",
     "iopub.status.idle": "2023-05-06T19:10:17.532981Z",
     "shell.execute_reply": "2023-05-06T19:10:17.533599Z",
     "shell.execute_reply.started": "2021-10-22T17:50:07.312331Z"
    },
    "papermill": {
     "duration": 0.084109,
     "end_time": "2023-05-06T19:10:17.533811",
     "exception": false,
     "start_time": "2023-05-06T19:10:17.449702",
     "status": "completed"
    },
    "tags": []
   },
   "outputs": [
    {
     "name": "stdout",
     "output_type": "stream",
     "text": [
      "3 GTA--ATGCC------GG--GTG------A----G-AA----C-------GT----A--A-----C---C----AT-T--ACTG--TA--GAA-----C--T---------GATT--G-------CG\n",
      "  ||   || ||      ||  |||      |    | ||    |       ||    |  |     |   |    || |  || |  ||  |||     |  |         ||||  |       ||\n",
      "1 GT-TTAT-CCTACTTTGGATGTGCGCGGCATTATGCAAAAATCTTCCAACGTCGGTACCAGTAAACTTTCTGCCATGTTTAC-GCCTAAAGAAATGTACGATTTCTATCACGATTTAGGTGTGGGCG\n",
      "  Score=42\n",
      "\n"
     ]
    }
   ],
   "source": [
    "print(format_alignment(*best_lalign[0]))"
   ]
  },
  {
   "cell_type": "markdown",
   "metadata": {
    "papermill": {
     "duration": 0.077527,
     "end_time": "2023-05-06T19:10:17.687915",
     "exception": false,
     "start_time": "2023-05-06T19:10:17.610388",
     "status": "completed"
    },
    "tags": []
   },
   "source": [
    "# <div style=\"padding: 30px;color:white;margin:10;font-size:60%;text-align:left;display:fill;border-radius:10px;background-color:#FFFFFF;overflow:hidden;background-color:#E888BB\"><b><span style='color:#FFFFFF'>6 |</span></b> <b>MULTIPLE SEQUENCE ALIGNMENT</b></div>\n",
    "\n",
    "### <b><span style='color:#E888BB'> 6.1 |</span> SeqRecord </b>\n",
    "\n",
    "<div style=\"color:white;display:fill;border-radius:8px;font-size:100%; letter-spacing:1.0px;\"><p style=\"padding: 5px;color:white;text-align:left;\"><b><span style='color:#E888BB'>FOR ALIGNMENT SEQUENCES</span></b></p></div>\n",
    "\n",
    "\n",
    "- We looked at <code>SeqRecord</code> earlier, a sequence read from a file is already in this format so we can instantly pass them to the alignment class.\n",
    "- If we define sequences from <b>strings</b> we'll need to define a <code>Seq</code> instance & subsequently <code>SeqRecord</code> (only needing <code>id</code>)\n",
    "- To align <b><span style='color:#F55AA2'>Multiple Sequences</span></b> together ( <b>More than two</b> ), we can use the <code>.Align</code> class & call <code>MultipleSeqAlignment</code>\n",
    "- However unlike <code>Bio.pairwise2</code>, we can't use direct <b>strings</b> in the alignment class input & need to define a <code>Seq</code> object for a particular sequence, followed by a defined <b>SeqRecord</b> instance that has its defined <b>sequence ID</b>."
   ]
  },
  {
   "cell_type": "code",
   "execution_count": 38,
   "metadata": {
    "execution": {
     "iopub.execute_input": "2023-05-06T19:10:17.852048Z",
     "iopub.status.busy": "2023-05-06T19:10:17.851213Z",
     "iopub.status.idle": "2023-05-06T19:10:17.854485Z",
     "shell.execute_reply": "2023-05-06T19:10:17.853968Z",
     "shell.execute_reply.started": "2021-10-22T17:50:07.319323Z"
    },
    "papermill": {
     "duration": 0.088075,
     "end_time": "2023-05-06T19:10:17.854664",
     "exception": false,
     "start_time": "2023-05-06T19:10:17.766589",
     "status": "completed"
    },
    "tags": []
   },
   "outputs": [],
   "source": [
    "from Bio.SeqRecord import SeqRecord\n",
    "\n",
    "# String format of alignment\n",
    "aa1 = \"MHQAIFIYQIGYPLKSGYIQSIRSPEYDNW\"\n",
    "aa2 = \"MH--IFIYQIGYALKSGYIQSIRSPEY-NW\"\n",
    "aa3 = \"MHQAIFI-QIGYALKSGY-QSIRSPEYDNW\"\n",
    "\n",
    "# Sequence Class instances\n",
    "seq_aa1 = Seq(aa1)\n",
    "seq_aa2 = Seq(aa2)\n",
    "seq_aa3 = Seq(aa3)\n",
    " \n",
    "# Create a sequence record w/ a defined ID\n",
    "seqr1 = SeqRecord(seq_aa1,id=\"seq1\")\n",
    "seqr2 = SeqRecord(seq_aa2,id=\"seq2\")\n",
    "seqr3 = SeqRecord(seq_aa3,id=\"seq3\")"
   ]
  },
  {
   "cell_type": "markdown",
   "metadata": {
    "papermill": {
     "duration": 0.076131,
     "end_time": "2023-05-06T19:10:18.008335",
     "exception": false,
     "start_time": "2023-05-06T19:10:17.932204",
     "status": "completed"
    },
    "tags": []
   },
   "source": [
    "### <b><span style='color:#E888BB'> 6.2 |</span> MultipleSeqAligmnemt </b>\n",
    "\n",
    "<div style=\"color:white;display:fill;border-radius:8px;font-size:100%; letter-spacing:1.0px;\"><p style=\"padding: 5px;color:white;text-align:left;\"><b><span style='color:#E888BB'>PUTTING IT TOGETHER</span></b></p></div>\n",
    "\n",
    "\n",
    "- Upon defining the sequence records of all the sequences we want to align, we can call <b><span style='color:#F55AA2'>MultipleSeqAlignment</span></b> with the records as inputs.\n",
    "- We can also do simple operations on these sequences as they are grouped together, as they are essentially <b>strings</b> in alignment."
   ]
  },
  {
   "cell_type": "code",
   "execution_count": 39,
   "metadata": {
    "execution": {
     "iopub.execute_input": "2023-05-06T19:10:18.164450Z",
     "iopub.status.busy": "2023-05-06T19:10:18.163447Z",
     "iopub.status.idle": "2023-05-06T19:10:18.166801Z",
     "shell.execute_reply": "2023-05-06T19:10:18.166024Z",
     "shell.execute_reply.started": "2021-10-22T17:50:07.331722Z"
    },
    "papermill": {
     "duration": 0.08439,
     "end_time": "2023-05-06T19:10:18.166982",
     "exception": false,
     "start_time": "2023-05-06T19:10:18.082592",
     "status": "completed"
    },
    "tags": []
   },
   "outputs": [],
   "source": [
    "from Bio.Align import MultipleSeqAlignment as MSA\n",
    "\n",
    "# Multiple Sequence Alignment\n",
    "alin = MSA([seqr1, seqr2, seqr3])\n",
    "sub_alin = alin[0:2,:]"
   ]
  },
  {
   "cell_type": "code",
   "execution_count": 40,
   "metadata": {
    "execution": {
     "iopub.execute_input": "2023-05-06T19:10:18.325101Z",
     "iopub.status.busy": "2023-05-06T19:10:18.324377Z",
     "iopub.status.idle": "2023-05-06T19:10:18.327914Z",
     "shell.execute_reply": "2023-05-06T19:10:18.328558Z",
     "shell.execute_reply.started": "2021-10-22T17:50:07.345051Z"
    },
    "papermill": {
     "duration": 0.085847,
     "end_time": "2023-05-06T19:10:18.328784",
     "exception": false,
     "start_time": "2023-05-06T19:10:18.242937",
     "status": "completed"
    },
    "tags": []
   },
   "outputs": [
    {
     "name": "stdout",
     "output_type": "stream",
     "text": [
      "ID: seq2\n",
      "Name: <unknown name>\n",
      "Description: <unknown description>\n",
      "Number of features: 0\n",
      "Seq('MH--IFIYQIGYALKSGYIQSIRSPEY-NW')\n",
      "Q-Q\n",
      "Alignment with 3 rows and 4 columns\n",
      "AIFI seq1\n",
      "-IFI seq2\n",
      "AIFI seq3\n",
      "MHQ\n",
      "Alignment with 2 rows and 7 columns\n",
      "FIYQIGY seq2\n",
      "FI-QIGY seq3\n"
     ]
    }
   ],
   "source": [
    "print(alin[1]) # Get the 2nd sequence in the alignment\n",
    "print(alin[:,2]) # Get the 3rd column in the alignment\n",
    "print(alin[:,3:7])  # Get multiple columns in alignment\n",
    "print(alin[0].seq[:3]) # first 3 columns of seq1\n",
    "print(alin[1:3,5:12]) # sequences 2 and 3; 4th to 10th column"
   ]
  },
  {
   "cell_type": "markdown",
   "metadata": {
    "papermill": {
     "duration": 0.075775,
     "end_time": "2023-05-06T19:10:18.482800",
     "exception": false,
     "start_time": "2023-05-06T19:10:18.407025",
     "status": "completed"
    },
    "tags": []
   },
   "source": [
    "\n",
    "### <b><span style='color:#E888BB'> 6.3 |</span> Alignment Formats </b>\n",
    "\n",
    "\n",
    "<div style=\"color:white;display:fill;border-radius:8px;font-size:100%; letter-spacing:1.0px;\"><p style=\"padding: 5px;color:white;text-align:left;\"><b><span style='color:#E888BB'>DEFINING AN ALIGNMENT</span></b></p></div>\n",
    "\n",
    "\n",
    "- Usually alignments are generated by <b><span style='color:#F55AA2'>MultipleSeqAlignment</span></b>, however we can create a blank alignment by passing a blank list to <code>MSA</code>.\n",
    "- We can also add new sequences by using <code>.add_sequence</code>."
   ]
  },
  {
   "cell_type": "code",
   "execution_count": 41,
   "metadata": {
    "execution": {
     "iopub.execute_input": "2023-05-06T19:10:18.638186Z",
     "iopub.status.busy": "2023-05-06T19:10:18.637293Z",
     "iopub.status.idle": "2023-05-06T19:10:18.640680Z",
     "shell.execute_reply": "2023-05-06T19:10:18.641231Z",
     "shell.execute_reply.started": "2021-10-22T17:50:07.359368Z"
    },
    "papermill": {
     "duration": 0.084291,
     "end_time": "2023-05-06T19:10:18.641417",
     "exception": false,
     "start_time": "2023-05-06T19:10:18.557126",
     "status": "completed"
    },
    "tags": []
   },
   "outputs": [
    {
     "name": "stdout",
     "output_type": "stream",
     "text": [
      "Alignment with 3 rows and 33 columns\n",
      "ACCGGTCAGGGCGACGGGTTTGCGCCCTTTGAT n1\n",
      "ACCGGTCATTTCGACGGGTTTGCGGCCTTTGCT n2\n",
      "CCAGGTCAGCTCGACGGGTTGGCGGCCTTTGCT n3\n"
     ]
    }
   ],
   "source": [
    "n1 = 'ACCGGTCAGGGCGACGGGTTTGCGCCCTTTGAT'\n",
    "n2 = 'ACCGGTCATTTCGACGGGTTTGCGGCCTTTGCT'\n",
    "n3 = 'CCAGGTCAGCTCGACGGGTTGGCGGCCTTTGCT'\n",
    "\n",
    "align_n = MSA([])\n",
    "align_n.add_sequence('n1',n1)\n",
    "align_n.add_sequence('n2',n2)\n",
    "align_n.add_sequence('n3',n3)\n",
    "print(align_n)"
   ]
  },
  {
   "cell_type": "markdown",
   "metadata": {
    "papermill": {
     "duration": 0.075167,
     "end_time": "2023-05-06T19:10:18.791300",
     "exception": false,
     "start_time": "2023-05-06T19:10:18.716133",
     "status": "completed"
    },
    "tags": []
   },
   "source": [
    "<div style=\"color:white;display:fill;border-radius:8px;font-size:100%; letter-spacing:1.0px;\"><p style=\"padding: 5px;color:white;text-align:left;\"><b><span style='color:#E888BB'>READING ALIGNMENT DATA</span></b></p></div>\n",
    "\n",
    "\n",
    "- As with the previously mentioned <b>FASTA</b> & <b>GENBANK</b> formats in <code>SeqIO</code>. There are formats used for <b><span style='color:#F55AA2'>saving</span></b> & <b><span style='color:#F55AA2'>loading alignments</span></b> as well.\n",
    "- As indicated in the <code>AlignIO</code> [section](https://biopython.org/wiki/AlignIO), <b><span style='color:#F55AA2'>clustal</span></b> is one of such formats & is often used. "
   ]
  },
  {
   "cell_type": "code",
   "execution_count": 42,
   "metadata": {
    "execution": {
     "iopub.execute_input": "2023-05-06T19:10:18.949245Z",
     "iopub.status.busy": "2023-05-06T19:10:18.948511Z",
     "iopub.status.idle": "2023-05-06T19:10:18.959266Z",
     "shell.execute_reply": "2023-05-06T19:10:18.958573Z",
     "shell.execute_reply.started": "2021-10-22T17:50:07.371414Z"
    },
    "papermill": {
     "duration": 0.091416,
     "end_time": "2023-05-06T19:10:18.959424",
     "exception": false,
     "start_time": "2023-05-06T19:10:18.868008",
     "status": "completed"
    },
    "tags": []
   },
   "outputs": [],
   "source": [
    "from Bio import AlignIO\n",
    "alin2 = AlignIO.read(\"/kaggle/input/biopython-genbank/PF05371_seed.aln\", \"clustal\")"
   ]
  },
  {
   "cell_type": "markdown",
   "metadata": {
    "papermill": {
     "duration": 0.074754,
     "end_time": "2023-05-06T19:10:19.109798",
     "exception": false,
     "start_time": "2023-05-06T19:10:19.035044",
     "status": "completed"
    },
    "tags": []
   },
   "source": [
    "\n",
    "<div style=\"color:white;display:fill;border-radius:8px;font-size:100%; letter-spacing:1.0px;\"><p style=\"padding: 5px;color:white;text-align:left;\"><b><span style='color:#E888BB'>DISPLAY SEQRECORD DATA</span></b></p></div>\n",
    "\n",
    "\n",
    "Once the <b>clustal</b> format is read, we are dealing with <b>SeqRecord</b> data as we defined earlier."
   ]
  },
  {
   "cell_type": "code",
   "execution_count": 43,
   "metadata": {
    "execution": {
     "iopub.execute_input": "2023-05-06T19:10:19.266213Z",
     "iopub.status.busy": "2023-05-06T19:10:19.265438Z",
     "iopub.status.idle": "2023-05-06T19:10:19.270214Z",
     "shell.execute_reply": "2023-05-06T19:10:19.269637Z",
     "shell.execute_reply.started": "2021-10-22T17:50:07.391529Z"
    },
    "papermill": {
     "duration": 0.085789,
     "end_time": "2023-05-06T19:10:19.270375",
     "exception": false,
     "start_time": "2023-05-06T19:10:19.184586",
     "status": "completed"
    },
    "tags": []
   },
   "outputs": [
    {
     "name": "stdout",
     "output_type": "stream",
     "text": [
      "Size (length): 52\n",
      "Sequence: AEPNAATNYATEAMDSLKTQAIDLISQTWPVVTTVVVAGLVIRLFKKFSSKA, ID: COATB_BPIKE/30-81\n",
      "Sequence: AEPNAATNYATEAMDSLKTQAIDLISQTWPVVTTVVVAGLVIKLFKKFVSRA, ID: Q9T0Q8_BPIKE/1-52\n",
      "Sequence: DGTSTATSYATEAMNSLKTQATDLIDQTWPVVTSVAVAGLAIRLFKKFSSKA, ID: COATB_BPI22/32-83\n",
      "Sequence: AEGDDP---AKAAFNSLQASATEYIGYAWAMVVVIVGATIGIKLFKKFTSKA, ID: COATB_BPM13/24-72\n",
      "Sequence: AEGDDP---AKAAFDSLQASATEYIGYAWAMVVVIVGATIGIKLFKKFASKA, ID: COATB_BPZJ2/1-49\n",
      "Sequence: AEGDDP---AKAAFDSLQASATEYIGYAWAMVVVIVGATIGIKLFKKFTSKA, ID: Q9T0Q9_BPFD/1-49\n",
      "Sequence: FAADDATSQAKAAFDSLTAQATEMSGYAWALVVLVVGATVGIKLFKKFVSRA, ID: COATB_BPIF1/22-73\n"
     ]
    }
   ],
   "source": [
    "# Get the length of the alignment (column size)\n",
    "print(\"Size (length):\", alin2.get_alignment_length())\n",
    "\n",
    "# Print the SeqRecord data\n",
    "for record in alin2:\n",
    "    print(f'Sequence: {record.seq}, ID: {record.id}')"
   ]
  },
  {
   "cell_type": "code",
   "execution_count": 44,
   "metadata": {
    "execution": {
     "iopub.execute_input": "2023-05-06T19:10:19.428888Z",
     "iopub.status.busy": "2023-05-06T19:10:19.428199Z",
     "iopub.status.idle": "2023-05-06T19:10:19.432194Z",
     "shell.execute_reply": "2023-05-06T19:10:19.431557Z",
     "shell.execute_reply.started": "2021-10-22T17:50:07.40457Z"
    },
    "papermill": {
     "duration": 0.084288,
     "end_time": "2023-05-06T19:10:19.432336",
     "exception": false,
     "start_time": "2023-05-06T19:10:19.348048",
     "status": "completed"
    },
    "tags": []
   },
   "outputs": [
    {
     "data": {
      "text/plain": [
       "1"
      ]
     },
     "execution_count": 44,
     "metadata": {},
     "output_type": "execute_result"
    }
   ],
   "source": [
    "# adjust alignment content & write if need be \n",
    "sub_alin2 = alin2[0:4,:]\n",
    "AlignIO.write(alin2, \"/kaggle/working/sub_alin2.fasta\", \"fasta\")"
   ]
  },
  {
   "cell_type": "markdown",
   "metadata": {
    "papermill": {
     "duration": 0.075792,
     "end_time": "2023-05-06T19:10:19.584432",
     "exception": false,
     "start_time": "2023-05-06T19:10:19.508640",
     "status": "completed"
    },
    "tags": []
   },
   "source": [
    "<div style=\"color:white;display:fill;border-radius:8px;font-size:100%; letter-spacing:1.0px;\"><p style=\"padding: 5px;color:white;text-align:left;\"><b><span style='color:#E888BB'>CONVERTING FORMATS</span></b></p></div>\n",
    "\n",
    "<b>FASTA</b> is quite a generic format, which aside from storing sequence data (which we saw above), can also store alignment data."
   ]
  },
  {
   "cell_type": "code",
   "execution_count": 45,
   "metadata": {
    "execution": {
     "iopub.execute_input": "2023-05-06T19:10:19.741724Z",
     "iopub.status.busy": "2023-05-06T19:10:19.741013Z",
     "iopub.status.idle": "2023-05-06T19:10:19.747390Z",
     "shell.execute_reply": "2023-05-06T19:10:19.746862Z",
     "shell.execute_reply.started": "2021-10-22T17:50:07.418833Z"
    },
    "papermill": {
     "duration": 0.087231,
     "end_time": "2023-05-06T19:10:19.747550",
     "exception": false,
     "start_time": "2023-05-06T19:10:19.660319",
     "status": "completed"
    },
    "tags": []
   },
   "outputs": [
    {
     "data": {
      "text/plain": [
       "1"
      ]
     },
     "execution_count": 45,
     "metadata": {},
     "output_type": "execute_result"
    }
   ],
   "source": [
    "# Write the read clustal formal\n",
    "AlignIO.write(alin2, \"example_alin.fasta\", \"fasta\")\n",
    "\n",
    "# Or directly convert it\n",
    "AlignIO.convert(\"/kaggle/input/biopython-genbank/PF05371_seed.aln\", \"clustal\", \"example_alin.fasta\", \"fasta\")"
   ]
  },
  {
   "cell_type": "markdown",
   "metadata": {
    "papermill": {
     "duration": 0.077097,
     "end_time": "2023-05-06T19:10:19.901128",
     "exception": false,
     "start_time": "2023-05-06T19:10:19.824031",
     "status": "completed"
    },
    "tags": []
   },
   "source": [
    "<div style=\"color:white;display:fill;border-radius:8px;font-size:100%; letter-spacing:1.0px;\"><p style=\"padding: 5px;color:white;text-align:left;\"><b><span style='color:#E888BB'>VISUALISING ALIGNMENTS</span></b></p></div>\n",
    "\n",
    "- It can be useful to <b><span style='color:#F55AA2'>colour code</span></b> our alignment data, so we can observe any variation in our sequence more easily. \n",
    "- We can use the <b>Bokeh</b> library to plot the sequence data using <b>gridplots</b> ( thanks to [Understanding phylogenetic trees](https://www.kaggle.com/nwheeler443/understanding-phylogenetic-trees/notebook) )"
   ]
  },
  {
   "cell_type": "code",
   "execution_count": 46,
   "metadata": {
    "_kg_hide-input": false,
    "execution": {
     "iopub.execute_input": "2023-05-06T19:10:20.062607Z",
     "iopub.status.busy": "2023-05-06T19:10:20.061856Z",
     "iopub.status.idle": "2023-05-06T19:10:21.197529Z",
     "shell.execute_reply": "2023-05-06T19:10:21.196864Z",
     "shell.execute_reply.started": "2021-10-22T17:50:07.432198Z"
    },
    "papermill": {
     "duration": 1.220602,
     "end_time": "2023-05-06T19:10:21.197693",
     "exception": false,
     "start_time": "2023-05-06T19:10:19.977091",
     "status": "completed"
    },
    "tags": []
   },
   "outputs": [
    {
     "data": {
      "application/javascript": [
       "\n",
       "(function(root) {\n",
       "  function now() {\n",
       "    return new Date();\n",
       "  }\n",
       "\n",
       "  var force = true;\n",
       "\n",
       "  if (typeof root._bokeh_onload_callbacks === \"undefined\" || force === true) {\n",
       "    root._bokeh_onload_callbacks = [];\n",
       "    root._bokeh_is_loading = undefined;\n",
       "  }\n",
       "\n",
       "  if (typeof (root._bokeh_timeout) === \"undefined\" || force === true) {\n",
       "    root._bokeh_timeout = Date.now() + 5000;\n",
       "    root._bokeh_failed_load = false;\n",
       "  }\n",
       "\n",
       "  function run_callbacks() {\n",
       "    try {\n",
       "      root._bokeh_onload_callbacks.forEach(function(callback) {\n",
       "        if (callback != null)\n",
       "          callback();\n",
       "      });\n",
       "    } finally {\n",
       "      delete root._bokeh_onload_callbacks\n",
       "    }\n",
       "    console.debug(\"Bokeh: all callbacks have finished\");\n",
       "  }\n",
       "\n",
       "  function load_libs(css_urls, js_urls, callback) {\n",
       "    if (css_urls == null) css_urls = [];\n",
       "    if (js_urls == null) js_urls = [];\n",
       "\n",
       "    root._bokeh_onload_callbacks.push(callback);\n",
       "    if (root._bokeh_is_loading > 0) {\n",
       "      console.debug(\"Bokeh: BokehJS is being loaded, scheduling callback at\", now());\n",
       "      return null;\n",
       "    }\n",
       "    if (js_urls == null || js_urls.length === 0) {\n",
       "      run_callbacks();\n",
       "      return null;\n",
       "    }\n",
       "    console.debug(\"Bokeh: BokehJS not loaded, scheduling load and callback at\", now());\n",
       "    root._bokeh_is_loading = css_urls.length + js_urls.length;\n",
       "\n",
       "    function on_load() {\n",
       "      root._bokeh_is_loading--;\n",
       "      if (root._bokeh_is_loading === 0) {\n",
       "        console.debug(\"Bokeh: all BokehJS libraries/stylesheets loaded\");\n",
       "        run_callbacks()\n",
       "      }\n",
       "    }\n",
       "\n",
       "    function on_error() {\n",
       "      console.error(\"failed to load \" + url);\n",
       "    }\n",
       "\n",
       "    for (var i = 0; i < css_urls.length; i++) {\n",
       "      var url = css_urls[i];\n",
       "      const element = document.createElement(\"link\");\n",
       "      element.onload = on_load;\n",
       "      element.onerror = on_error;\n",
       "      element.rel = \"stylesheet\";\n",
       "      element.type = \"text/css\";\n",
       "      element.href = url;\n",
       "      console.debug(\"Bokeh: injecting link tag for BokehJS stylesheet: \", url);\n",
       "      document.body.appendChild(element);\n",
       "    }\n",
       "\n",
       "    var skip = [];\n",
       "    if (window.requirejs) {\n",
       "      require([], function() {\n",
       "      })\n",
       "    }\n",
       "    for (var i = 0; i < js_urls.length; i++) {\n",
       "      var url = js_urls[i];\n",
       "      if (skip.indexOf(url) >= 0) { on_load(); continue; }\n",
       "      var element = document.createElement('script');\n",
       "      element.onload = on_load;\n",
       "      element.onerror = on_error;\n",
       "      element.async = false;\n",
       "      element.src = url;\n",
       "      console.debug(\"Bokeh: injecting script tag for BokehJS library: \", url);\n",
       "      document.head.appendChild(element);\n",
       "    }\n",
       "\tif (!js_urls.length) {\n",
       "      on_load()\n",
       "    }\n",
       "  };\n",
       "\n",
       "  function inject_raw_css(css) {\n",
       "    const element = document.createElement(\"style\");\n",
       "    element.appendChild(document.createTextNode(css));\n",
       "    document.body.appendChild(element);\n",
       "  }\n",
       "\n",
       "  var js_urls = [\"https://cdn.bokeh.org/bokeh/release/bokeh-2.2.3.min.js\", \"https://cdn.bokeh.org/bokeh/release/bokeh-widgets-2.2.3.min.js\", \"https://cdn.bokeh.org/bokeh/release/bokeh-tables-2.2.3.min.js\", \"https://unpkg.com/@holoviz/panel@^0.10.3/dist/panel.min.js\"];\n",
       "  var css_urls = [\"https://unpkg.com/@holoviz/panel@0.10.3/dist/css/markdown.css\", \"https://unpkg.com/@holoviz/panel@0.10.3/dist/css/alerts.css\", \"https://unpkg.com/@holoviz/panel@0.10.3/dist/css/json.css\", \"https://unpkg.com/@holoviz/panel@0.10.3/dist/css/widgets.css\", \"https://unpkg.com/@holoviz/panel@0.10.3/dist/css/card.css\", \"https://unpkg.com/@holoviz/panel@0.10.3/dist/css/dataframe.css\"];\n",
       "\n",
       "  var inline_js = [\n",
       "    function(Bokeh) {\n",
       "      Bokeh.set_log_level(\"info\");\n",
       "    },\n",
       "    function(Bokeh) {} // ensure no trailing comma for IE\n",
       "  ];\n",
       "\n",
       "  function run_inline_js() {\n",
       "    if ((root.Bokeh !== undefined) || (force === true)) {\n",
       "      for (var i = 0; i < inline_js.length; i++) {\n",
       "        inline_js[i].call(root, root.Bokeh);\n",
       "      }} else if (Date.now() < root._bokeh_timeout) {\n",
       "      setTimeout(run_inline_js, 100);\n",
       "    } else if (!root._bokeh_failed_load) {\n",
       "      console.log(\"Bokeh: BokehJS failed to load within specified timeout.\");\n",
       "      root._bokeh_failed_load = true;\n",
       "    }\n",
       "  }\n",
       "\n",
       "  if (root._bokeh_is_loading === 0) {\n",
       "    console.debug(\"Bokeh: BokehJS loaded, going straight to plotting\");\n",
       "    run_inline_js();\n",
       "  } else {\n",
       "    load_libs(css_urls, js_urls, function() {\n",
       "      console.debug(\"Bokeh: BokehJS plotting callback run at\", now());\n",
       "      run_inline_js();\n",
       "    });\n",
       "  }\n",
       "}(window));"
      ],
      "application/vnd.holoviews_load.v0+json": "\n(function(root) {\n  function now() {\n    return new Date();\n  }\n\n  var force = true;\n\n  if (typeof root._bokeh_onload_callbacks === \"undefined\" || force === true) {\n    root._bokeh_onload_callbacks = [];\n    root._bokeh_is_loading = undefined;\n  }\n\n  if (typeof (root._bokeh_timeout) === \"undefined\" || force === true) {\n    root._bokeh_timeout = Date.now() + 5000;\n    root._bokeh_failed_load = false;\n  }\n\n  function run_callbacks() {\n    try {\n      root._bokeh_onload_callbacks.forEach(function(callback) {\n        if (callback != null)\n          callback();\n      });\n    } finally {\n      delete root._bokeh_onload_callbacks\n    }\n    console.debug(\"Bokeh: all callbacks have finished\");\n  }\n\n  function load_libs(css_urls, js_urls, callback) {\n    if (css_urls == null) css_urls = [];\n    if (js_urls == null) js_urls = [];\n\n    root._bokeh_onload_callbacks.push(callback);\n    if (root._bokeh_is_loading > 0) {\n      console.debug(\"Bokeh: BokehJS is being loaded, scheduling callback at\", now());\n      return null;\n    }\n    if (js_urls == null || js_urls.length === 0) {\n      run_callbacks();\n      return null;\n    }\n    console.debug(\"Bokeh: BokehJS not loaded, scheduling load and callback at\", now());\n    root._bokeh_is_loading = css_urls.length + js_urls.length;\n\n    function on_load() {\n      root._bokeh_is_loading--;\n      if (root._bokeh_is_loading === 0) {\n        console.debug(\"Bokeh: all BokehJS libraries/stylesheets loaded\");\n        run_callbacks()\n      }\n    }\n\n    function on_error() {\n      console.error(\"failed to load \" + url);\n    }\n\n    for (var i = 0; i < css_urls.length; i++) {\n      var url = css_urls[i];\n      const element = document.createElement(\"link\");\n      element.onload = on_load;\n      element.onerror = on_error;\n      element.rel = \"stylesheet\";\n      element.type = \"text/css\";\n      element.href = url;\n      console.debug(\"Bokeh: injecting link tag for BokehJS stylesheet: \", url);\n      document.body.appendChild(element);\n    }\n\n    var skip = [];\n    if (window.requirejs) {\n      require([], function() {\n      })\n    }\n    for (var i = 0; i < js_urls.length; i++) {\n      var url = js_urls[i];\n      if (skip.indexOf(url) >= 0) { on_load(); continue; }\n      var element = document.createElement('script');\n      element.onload = on_load;\n      element.onerror = on_error;\n      element.async = false;\n      element.src = url;\n      console.debug(\"Bokeh: injecting script tag for BokehJS library: \", url);\n      document.head.appendChild(element);\n    }\n\tif (!js_urls.length) {\n      on_load()\n    }\n  };\n\n  function inject_raw_css(css) {\n    const element = document.createElement(\"style\");\n    element.appendChild(document.createTextNode(css));\n    document.body.appendChild(element);\n  }\n\n  var js_urls = [\"https://cdn.bokeh.org/bokeh/release/bokeh-2.2.3.min.js\", \"https://cdn.bokeh.org/bokeh/release/bokeh-widgets-2.2.3.min.js\", \"https://cdn.bokeh.org/bokeh/release/bokeh-tables-2.2.3.min.js\", \"https://unpkg.com/@holoviz/panel@^0.10.3/dist/panel.min.js\"];\n  var css_urls = [\"https://unpkg.com/@holoviz/panel@0.10.3/dist/css/markdown.css\", \"https://unpkg.com/@holoviz/panel@0.10.3/dist/css/alerts.css\", \"https://unpkg.com/@holoviz/panel@0.10.3/dist/css/json.css\", \"https://unpkg.com/@holoviz/panel@0.10.3/dist/css/widgets.css\", \"https://unpkg.com/@holoviz/panel@0.10.3/dist/css/card.css\", \"https://unpkg.com/@holoviz/panel@0.10.3/dist/css/dataframe.css\"];\n\n  var inline_js = [\n    function(Bokeh) {\n      Bokeh.set_log_level(\"info\");\n    },\n    function(Bokeh) {} // ensure no trailing comma for IE\n  ];\n\n  function run_inline_js() {\n    if ((root.Bokeh !== undefined) || (force === true)) {\n      for (var i = 0; i < inline_js.length; i++) {\n        inline_js[i].call(root, root.Bokeh);\n      }} else if (Date.now() < root._bokeh_timeout) {\n      setTimeout(run_inline_js, 100);\n    } else if (!root._bokeh_failed_load) {\n      console.log(\"Bokeh: BokehJS failed to load within specified timeout.\");\n      root._bokeh_failed_load = true;\n    }\n  }\n\n  if (root._bokeh_is_loading === 0) {\n    console.debug(\"Bokeh: BokehJS loaded, going straight to plotting\");\n    run_inline_js();\n  } else {\n    load_libs(css_urls, js_urls, function() {\n      console.debug(\"Bokeh: BokehJS plotting callback run at\", now());\n      run_inline_js();\n    });\n  }\n}(window));"
     },
     "metadata": {},
     "output_type": "display_data"
    },
    {
     "data": {
      "application/javascript": [
       "\n",
       "if ((window.PyViz === undefined) || (window.PyViz instanceof HTMLElement)) {\n",
       "  window.PyViz = {comms: {}, comm_status:{}, kernels:{}, receivers: {}, plot_index: []}\n",
       "}\n",
       "\n",
       "\n",
       "    function JupyterCommManager() {\n",
       "    }\n",
       "\n",
       "    JupyterCommManager.prototype.register_target = function(plot_id, comm_id, msg_handler) {\n",
       "      if (window.comm_manager || ((window.Jupyter !== undefined) && (Jupyter.notebook.kernel != null))) {\n",
       "        var comm_manager = window.comm_manager || Jupyter.notebook.kernel.comm_manager;\n",
       "        comm_manager.register_target(comm_id, function(comm) {\n",
       "          comm.on_msg(msg_handler);\n",
       "        });\n",
       "      } else if ((plot_id in window.PyViz.kernels) && (window.PyViz.kernels[plot_id])) {\n",
       "        window.PyViz.kernels[plot_id].registerCommTarget(comm_id, function(comm) {\n",
       "          comm.onMsg = msg_handler;\n",
       "        });\n",
       "      } else if (typeof google != 'undefined' && google.colab.kernel != null) {\n",
       "        google.colab.kernel.comms.registerTarget(comm_id, (comm) => {\n",
       "          var messages = comm.messages[Symbol.asyncIterator]();\n",
       "          function processIteratorResult(result) {\n",
       "            var message = result.value;\n",
       "            console.log(message)\n",
       "            var content = {data: message.data, comm_id};\n",
       "            var buffers = []\n",
       "            for (var buffer of message.buffers || []) {\n",
       "              buffers.push(new DataView(buffer))\n",
       "            }\n",
       "            var metadata = message.metadata || {};\n",
       "            var msg = {content, buffers, metadata}\n",
       "            msg_handler(msg);\n",
       "            return messages.next().then(processIteratorResult);\n",
       "          }\n",
       "          return messages.next().then(processIteratorResult);\n",
       "        })\n",
       "      }\n",
       "    }\n",
       "\n",
       "    JupyterCommManager.prototype.get_client_comm = function(plot_id, comm_id, msg_handler) {\n",
       "      if (comm_id in window.PyViz.comms) {\n",
       "        return window.PyViz.comms[comm_id];\n",
       "      } else if (window.comm_manager || ((window.Jupyter !== undefined) && (Jupyter.notebook.kernel != null))) {\n",
       "        var comm_manager = window.comm_manager || Jupyter.notebook.kernel.comm_manager;\n",
       "        var comm = comm_manager.new_comm(comm_id, {}, {}, {}, comm_id);\n",
       "        if (msg_handler) {\n",
       "          comm.on_msg(msg_handler);\n",
       "        }\n",
       "      } else if ((plot_id in window.PyViz.kernels) && (window.PyViz.kernels[plot_id])) {\n",
       "        var comm = window.PyViz.kernels[plot_id].connectToComm(comm_id);\n",
       "        comm.open();\n",
       "        if (msg_handler) {\n",
       "          comm.onMsg = msg_handler;\n",
       "        }\n",
       "      } else if (typeof google != 'undefined' && google.colab.kernel != null) {\n",
       "        var comm_promise = google.colab.kernel.comms.open(comm_id)\n",
       "        comm_promise.then((comm) => {\n",
       "          window.PyViz.comms[comm_id] = comm;\n",
       "          if (msg_handler) {\n",
       "            var messages = comm.messages[Symbol.asyncIterator]();\n",
       "            function processIteratorResult(result) {\n",
       "              var message = result.value;\n",
       "              var content = {data: message.data};\n",
       "              var metadata = message.metadata || {comm_id};\n",
       "              var msg = {content, metadata}\n",
       "              msg_handler(msg);\n",
       "              return messages.next().then(processIteratorResult);\n",
       "            }\n",
       "            return messages.next().then(processIteratorResult);\n",
       "          }\n",
       "        }) \n",
       "        var sendClosure = (data, metadata, buffers, disposeOnDone) => {\n",
       "          return comm_promise.then((comm) => {\n",
       "            comm.send(data, metadata, buffers, disposeOnDone);\n",
       "          });\n",
       "        };\n",
       "        var comm = {\n",
       "          send: sendClosure\n",
       "        };\n",
       "      }\n",
       "      window.PyViz.comms[comm_id] = comm;\n",
       "      return comm;\n",
       "    }\n",
       "    window.PyViz.comm_manager = new JupyterCommManager();\n",
       "    \n",
       "\n",
       "\n",
       "var JS_MIME_TYPE = 'application/javascript';\n",
       "var HTML_MIME_TYPE = 'text/html';\n",
       "var EXEC_MIME_TYPE = 'application/vnd.holoviews_exec.v0+json';\n",
       "var CLASS_NAME = 'output';\n",
       "\n",
       "/**\n",
       " * Render data to the DOM node\n",
       " */\n",
       "function render(props, node) {\n",
       "  var div = document.createElement(\"div\");\n",
       "  var script = document.createElement(\"script\");\n",
       "  node.appendChild(div);\n",
       "  node.appendChild(script);\n",
       "}\n",
       "\n",
       "/**\n",
       " * Handle when a new output is added\n",
       " */\n",
       "function handle_add_output(event, handle) {\n",
       "  var output_area = handle.output_area;\n",
       "  var output = handle.output;\n",
       "  if ((output.data == undefined) || (!output.data.hasOwnProperty(EXEC_MIME_TYPE))) {\n",
       "    return\n",
       "  }\n",
       "  var id = output.metadata[EXEC_MIME_TYPE][\"id\"];\n",
       "  var toinsert = output_area.element.find(\".\" + CLASS_NAME.split(' ')[0]);\n",
       "  if (id !== undefined) {\n",
       "    var nchildren = toinsert.length;\n",
       "    var html_node = toinsert[nchildren-1].children[0];\n",
       "    html_node.innerHTML = output.data[HTML_MIME_TYPE];\n",
       "    var scripts = [];\n",
       "    var nodelist = html_node.querySelectorAll(\"script\");\n",
       "    for (var i in nodelist) {\n",
       "      if (nodelist.hasOwnProperty(i)) {\n",
       "        scripts.push(nodelist[i])\n",
       "      }\n",
       "    }\n",
       "\n",
       "    scripts.forEach( function (oldScript) {\n",
       "      var newScript = document.createElement(\"script\");\n",
       "      var attrs = [];\n",
       "      var nodemap = oldScript.attributes;\n",
       "      for (var j in nodemap) {\n",
       "        if (nodemap.hasOwnProperty(j)) {\n",
       "          attrs.push(nodemap[j])\n",
       "        }\n",
       "      }\n",
       "      attrs.forEach(function(attr) { newScript.setAttribute(attr.name, attr.value) });\n",
       "      newScript.appendChild(document.createTextNode(oldScript.innerHTML));\n",
       "      oldScript.parentNode.replaceChild(newScript, oldScript);\n",
       "    });\n",
       "    if (JS_MIME_TYPE in output.data) {\n",
       "      toinsert[nchildren-1].children[1].textContent = output.data[JS_MIME_TYPE];\n",
       "    }\n",
       "    output_area._hv_plot_id = id;\n",
       "    if ((window.Bokeh !== undefined) && (id in Bokeh.index)) {\n",
       "      window.PyViz.plot_index[id] = Bokeh.index[id];\n",
       "    } else {\n",
       "      window.PyViz.plot_index[id] = null;\n",
       "    }\n",
       "  } else if (output.metadata[EXEC_MIME_TYPE][\"server_id\"] !== undefined) {\n",
       "    var bk_div = document.createElement(\"div\");\n",
       "    bk_div.innerHTML = output.data[HTML_MIME_TYPE];\n",
       "    var script_attrs = bk_div.children[0].attributes;\n",
       "    for (var i = 0; i < script_attrs.length; i++) {\n",
       "      toinsert[toinsert.length - 1].childNodes[1].setAttribute(script_attrs[i].name, script_attrs[i].value);\n",
       "    }\n",
       "    // store reference to server id on output_area\n",
       "    output_area._bokeh_server_id = output.metadata[EXEC_MIME_TYPE][\"server_id\"];\n",
       "  }\n",
       "}\n",
       "\n",
       "/**\n",
       " * Handle when an output is cleared or removed\n",
       " */\n",
       "function handle_clear_output(event, handle) {\n",
       "  var id = handle.cell.output_area._hv_plot_id;\n",
       "  var server_id = handle.cell.output_area._bokeh_server_id;\n",
       "  if (((id === undefined) || !(id in PyViz.plot_index)) && (server_id !== undefined)) { return; }\n",
       "  var comm = window.PyViz.comm_manager.get_client_comm(\"hv-extension-comm\", \"hv-extension-comm\", function () {});\n",
       "  if (server_id !== null) {\n",
       "    comm.send({event_type: 'server_delete', 'id': server_id});\n",
       "    return;\n",
       "  } else if (comm !== null) {\n",
       "    comm.send({event_type: 'delete', 'id': id});\n",
       "  }\n",
       "  delete PyViz.plot_index[id];\n",
       "  if ((window.Bokeh !== undefined) & (id in window.Bokeh.index)) {\n",
       "    var doc = window.Bokeh.index[id].model.document\n",
       "    doc.clear();\n",
       "    const i = window.Bokeh.documents.indexOf(doc);\n",
       "    if (i > -1) {\n",
       "      window.Bokeh.documents.splice(i, 1);\n",
       "    }\n",
       "  }\n",
       "}\n",
       "\n",
       "/**\n",
       " * Handle kernel restart event\n",
       " */\n",
       "function handle_kernel_cleanup(event, handle) {\n",
       "  delete PyViz.comms[\"hv-extension-comm\"];\n",
       "  window.PyViz.plot_index = {}\n",
       "}\n",
       "\n",
       "/**\n",
       " * Handle update_display_data messages\n",
       " */\n",
       "function handle_update_output(event, handle) {\n",
       "  handle_clear_output(event, {cell: {output_area: handle.output_area}})\n",
       "  handle_add_output(event, handle)\n",
       "}\n",
       "\n",
       "function register_renderer(events, OutputArea) {\n",
       "  function append_mime(data, metadata, element) {\n",
       "    // create a DOM node to render to\n",
       "    var toinsert = this.create_output_subarea(\n",
       "    metadata,\n",
       "    CLASS_NAME,\n",
       "    EXEC_MIME_TYPE\n",
       "    );\n",
       "    this.keyboard_manager.register_events(toinsert);\n",
       "    // Render to node\n",
       "    var props = {data: data, metadata: metadata[EXEC_MIME_TYPE]};\n",
       "    render(props, toinsert[0]);\n",
       "    element.append(toinsert);\n",
       "    return toinsert\n",
       "  }\n",
       "\n",
       "  events.on('output_added.OutputArea', handle_add_output);\n",
       "  events.on('output_updated.OutputArea', handle_update_output);\n",
       "  events.on('clear_output.CodeCell', handle_clear_output);\n",
       "  events.on('delete.Cell', handle_clear_output);\n",
       "  events.on('kernel_ready.Kernel', handle_kernel_cleanup);\n",
       "\n",
       "  OutputArea.prototype.register_mime_type(EXEC_MIME_TYPE, append_mime, {\n",
       "    safe: true,\n",
       "    index: 0\n",
       "  });\n",
       "}\n",
       "\n",
       "if (window.Jupyter !== undefined) {\n",
       "  try {\n",
       "    var events = require('base/js/events');\n",
       "    var OutputArea = require('notebook/js/outputarea').OutputArea;\n",
       "    if (OutputArea.prototype.mime_types().indexOf(EXEC_MIME_TYPE) == -1) {\n",
       "      register_renderer(events, OutputArea);\n",
       "    }\n",
       "  } catch(err) {\n",
       "  }\n",
       "}\n"
      ],
      "application/vnd.holoviews_load.v0+json": "\nif ((window.PyViz === undefined) || (window.PyViz instanceof HTMLElement)) {\n  window.PyViz = {comms: {}, comm_status:{}, kernels:{}, receivers: {}, plot_index: []}\n}\n\n\n    function JupyterCommManager() {\n    }\n\n    JupyterCommManager.prototype.register_target = function(plot_id, comm_id, msg_handler) {\n      if (window.comm_manager || ((window.Jupyter !== undefined) && (Jupyter.notebook.kernel != null))) {\n        var comm_manager = window.comm_manager || Jupyter.notebook.kernel.comm_manager;\n        comm_manager.register_target(comm_id, function(comm) {\n          comm.on_msg(msg_handler);\n        });\n      } else if ((plot_id in window.PyViz.kernels) && (window.PyViz.kernels[plot_id])) {\n        window.PyViz.kernels[plot_id].registerCommTarget(comm_id, function(comm) {\n          comm.onMsg = msg_handler;\n        });\n      } else if (typeof google != 'undefined' && google.colab.kernel != null) {\n        google.colab.kernel.comms.registerTarget(comm_id, (comm) => {\n          var messages = comm.messages[Symbol.asyncIterator]();\n          function processIteratorResult(result) {\n            var message = result.value;\n            console.log(message)\n            var content = {data: message.data, comm_id};\n            var buffers = []\n            for (var buffer of message.buffers || []) {\n              buffers.push(new DataView(buffer))\n            }\n            var metadata = message.metadata || {};\n            var msg = {content, buffers, metadata}\n            msg_handler(msg);\n            return messages.next().then(processIteratorResult);\n          }\n          return messages.next().then(processIteratorResult);\n        })\n      }\n    }\n\n    JupyterCommManager.prototype.get_client_comm = function(plot_id, comm_id, msg_handler) {\n      if (comm_id in window.PyViz.comms) {\n        return window.PyViz.comms[comm_id];\n      } else if (window.comm_manager || ((window.Jupyter !== undefined) && (Jupyter.notebook.kernel != null))) {\n        var comm_manager = window.comm_manager || Jupyter.notebook.kernel.comm_manager;\n        var comm = comm_manager.new_comm(comm_id, {}, {}, {}, comm_id);\n        if (msg_handler) {\n          comm.on_msg(msg_handler);\n        }\n      } else if ((plot_id in window.PyViz.kernels) && (window.PyViz.kernels[plot_id])) {\n        var comm = window.PyViz.kernels[plot_id].connectToComm(comm_id);\n        comm.open();\n        if (msg_handler) {\n          comm.onMsg = msg_handler;\n        }\n      } else if (typeof google != 'undefined' && google.colab.kernel != null) {\n        var comm_promise = google.colab.kernel.comms.open(comm_id)\n        comm_promise.then((comm) => {\n          window.PyViz.comms[comm_id] = comm;\n          if (msg_handler) {\n            var messages = comm.messages[Symbol.asyncIterator]();\n            function processIteratorResult(result) {\n              var message = result.value;\n              var content = {data: message.data};\n              var metadata = message.metadata || {comm_id};\n              var msg = {content, metadata}\n              msg_handler(msg);\n              return messages.next().then(processIteratorResult);\n            }\n            return messages.next().then(processIteratorResult);\n          }\n        }) \n        var sendClosure = (data, metadata, buffers, disposeOnDone) => {\n          return comm_promise.then((comm) => {\n            comm.send(data, metadata, buffers, disposeOnDone);\n          });\n        };\n        var comm = {\n          send: sendClosure\n        };\n      }\n      window.PyViz.comms[comm_id] = comm;\n      return comm;\n    }\n    window.PyViz.comm_manager = new JupyterCommManager();\n    \n\n\nvar JS_MIME_TYPE = 'application/javascript';\nvar HTML_MIME_TYPE = 'text/html';\nvar EXEC_MIME_TYPE = 'application/vnd.holoviews_exec.v0+json';\nvar CLASS_NAME = 'output';\n\n/**\n * Render data to the DOM node\n */\nfunction render(props, node) {\n  var div = document.createElement(\"div\");\n  var script = document.createElement(\"script\");\n  node.appendChild(div);\n  node.appendChild(script);\n}\n\n/**\n * Handle when a new output is added\n */\nfunction handle_add_output(event, handle) {\n  var output_area = handle.output_area;\n  var output = handle.output;\n  if ((output.data == undefined) || (!output.data.hasOwnProperty(EXEC_MIME_TYPE))) {\n    return\n  }\n  var id = output.metadata[EXEC_MIME_TYPE][\"id\"];\n  var toinsert = output_area.element.find(\".\" + CLASS_NAME.split(' ')[0]);\n  if (id !== undefined) {\n    var nchildren = toinsert.length;\n    var html_node = toinsert[nchildren-1].children[0];\n    html_node.innerHTML = output.data[HTML_MIME_TYPE];\n    var scripts = [];\n    var nodelist = html_node.querySelectorAll(\"script\");\n    for (var i in nodelist) {\n      if (nodelist.hasOwnProperty(i)) {\n        scripts.push(nodelist[i])\n      }\n    }\n\n    scripts.forEach( function (oldScript) {\n      var newScript = document.createElement(\"script\");\n      var attrs = [];\n      var nodemap = oldScript.attributes;\n      for (var j in nodemap) {\n        if (nodemap.hasOwnProperty(j)) {\n          attrs.push(nodemap[j])\n        }\n      }\n      attrs.forEach(function(attr) { newScript.setAttribute(attr.name, attr.value) });\n      newScript.appendChild(document.createTextNode(oldScript.innerHTML));\n      oldScript.parentNode.replaceChild(newScript, oldScript);\n    });\n    if (JS_MIME_TYPE in output.data) {\n      toinsert[nchildren-1].children[1].textContent = output.data[JS_MIME_TYPE];\n    }\n    output_area._hv_plot_id = id;\n    if ((window.Bokeh !== undefined) && (id in Bokeh.index)) {\n      window.PyViz.plot_index[id] = Bokeh.index[id];\n    } else {\n      window.PyViz.plot_index[id] = null;\n    }\n  } else if (output.metadata[EXEC_MIME_TYPE][\"server_id\"] !== undefined) {\n    var bk_div = document.createElement(\"div\");\n    bk_div.innerHTML = output.data[HTML_MIME_TYPE];\n    var script_attrs = bk_div.children[0].attributes;\n    for (var i = 0; i < script_attrs.length; i++) {\n      toinsert[toinsert.length - 1].childNodes[1].setAttribute(script_attrs[i].name, script_attrs[i].value);\n    }\n    // store reference to server id on output_area\n    output_area._bokeh_server_id = output.metadata[EXEC_MIME_TYPE][\"server_id\"];\n  }\n}\n\n/**\n * Handle when an output is cleared or removed\n */\nfunction handle_clear_output(event, handle) {\n  var id = handle.cell.output_area._hv_plot_id;\n  var server_id = handle.cell.output_area._bokeh_server_id;\n  if (((id === undefined) || !(id in PyViz.plot_index)) && (server_id !== undefined)) { return; }\n  var comm = window.PyViz.comm_manager.get_client_comm(\"hv-extension-comm\", \"hv-extension-comm\", function () {});\n  if (server_id !== null) {\n    comm.send({event_type: 'server_delete', 'id': server_id});\n    return;\n  } else if (comm !== null) {\n    comm.send({event_type: 'delete', 'id': id});\n  }\n  delete PyViz.plot_index[id];\n  if ((window.Bokeh !== undefined) & (id in window.Bokeh.index)) {\n    var doc = window.Bokeh.index[id].model.document\n    doc.clear();\n    const i = window.Bokeh.documents.indexOf(doc);\n    if (i > -1) {\n      window.Bokeh.documents.splice(i, 1);\n    }\n  }\n}\n\n/**\n * Handle kernel restart event\n */\nfunction handle_kernel_cleanup(event, handle) {\n  delete PyViz.comms[\"hv-extension-comm\"];\n  window.PyViz.plot_index = {}\n}\n\n/**\n * Handle update_display_data messages\n */\nfunction handle_update_output(event, handle) {\n  handle_clear_output(event, {cell: {output_area: handle.output_area}})\n  handle_add_output(event, handle)\n}\n\nfunction register_renderer(events, OutputArea) {\n  function append_mime(data, metadata, element) {\n    // create a DOM node to render to\n    var toinsert = this.create_output_subarea(\n    metadata,\n    CLASS_NAME,\n    EXEC_MIME_TYPE\n    );\n    this.keyboard_manager.register_events(toinsert);\n    // Render to node\n    var props = {data: data, metadata: metadata[EXEC_MIME_TYPE]};\n    render(props, toinsert[0]);\n    element.append(toinsert);\n    return toinsert\n  }\n\n  events.on('output_added.OutputArea', handle_add_output);\n  events.on('output_updated.OutputArea', handle_update_output);\n  events.on('clear_output.CodeCell', handle_clear_output);\n  events.on('delete.Cell', handle_clear_output);\n  events.on('kernel_ready.Kernel', handle_kernel_cleanup);\n\n  OutputArea.prototype.register_mime_type(EXEC_MIME_TYPE, append_mime, {\n    safe: true,\n    index: 0\n  });\n}\n\nif (window.Jupyter !== undefined) {\n  try {\n    var events = require('base/js/events');\n    var OutputArea = require('notebook/js/outputarea').OutputArea;\n    if (OutputArea.prototype.mime_types().indexOf(EXEC_MIME_TYPE) == -1) {\n      register_renderer(events, OutputArea);\n    }\n  } catch(err) {\n  }\n}\n"
     },
     "metadata": {},
     "output_type": "display_data"
    }
   ],
   "source": [
    "import panel as pn\n",
    "import panel.widgets as pnw\n",
    "pn.extension()\n",
    "from bokeh.plotting import figure\n",
    "from bokeh.models import ColumnDataSource, Plot, Grid, Range1d\n",
    "from bokeh.models.glyphs import Text, Rect\n",
    "from bokeh.layouts import gridplot\n",
    "\n",
    "def view_alignment(aln, fontsize=\"9pt\", plot_width=800):\n",
    "    \"\"\"Bokeh sequence alignment view\"\"\"\n",
    "\n",
    "    #make sequence and id lists from the aln object\n",
    "    seqs = [rec.seq for rec in (aln)]\n",
    "    ids = [rec.id for rec in aln]    \n",
    "    text = [i for s in list(seqs) for i in s]\n",
    "    colors = get_colors(seqs)    \n",
    "    N = len(seqs[0])\n",
    "    S = len(seqs)    \n",
    "    width = .4\n",
    "\n",
    "    x = np.arange(0.5,N+0.5)\n",
    "    y = np.arange(0,S,1)\n",
    "    #creates a 2D grid of coords from the 1D arrays\n",
    "    xx, yy = np.meshgrid(x, y)\n",
    "    #flattens the arrays\n",
    "    gx = xx.ravel()\n",
    "    gy = yy.flatten()\n",
    "    #use recty for rect coords with an offset\n",
    "    recty = gy+.5\n",
    "    h= 1/S\n",
    "    #now we can create the ColumnDataSource with all the arrays\n",
    "    source = ColumnDataSource(dict(x=gx, y=gy, recty=recty, text=text, colors=colors))\n",
    "    plot_height = len(seqs)*15+50\n",
    "    x_range = Range1d(0,N+1, bounds='auto')\n",
    "    if N>100:\n",
    "        viewlen=100\n",
    "    else:\n",
    "        viewlen=N\n",
    "    #view_range is for the close up view\n",
    "    view_range = (0,viewlen)\n",
    "    tools=\"xpan, xwheel_zoom, reset, save\" \n",
    "\n",
    "    #sequence text view with ability to scroll along x axis\n",
    "    p = figure(title=None, plot_width=plot_width, plot_height=plot_height,\n",
    "                x_range=view_range, y_range=ids, tools=\"xpan,reset\",\n",
    "                min_border=0, toolbar_location='below')#, lod_factor=1)          \n",
    "    glyph = Text(x=\"x\", y=\"y\", text=\"text\", text_align='center',text_color=\"black\",\n",
    "                text_font=\"monospace\",text_font_size=fontsize)\n",
    "    rects = Rect(x=\"x\", y=\"recty\",  width=1, height=1, fill_color=\"colors\",\n",
    "                line_color=None, fill_alpha=0.4)\n",
    "    p.add_glyph(source, glyph)\n",
    "    p.add_glyph(source, rects)\n",
    "\n",
    "    p.grid.visible = False\n",
    "    p.xaxis.major_label_text_font_style = \"bold\"\n",
    "    p.yaxis.minor_tick_line_width = 0\n",
    "    p.yaxis.major_tick_line_width = 0\n",
    "\n",
    "    p = gridplot([[p]], toolbar_location='below')\n",
    "    return p\n",
    "\n",
    "# Mapping Function for nucleotide sequences\n",
    "def get_colors(seqs):\n",
    "    \"\"\"make colors for bases in sequence\"\"\"\n",
    "    text = [i for s in list(seqs) for i in s]\n",
    "    clrs =  {'A':'red','T':'green','G':'orange','C':'blue','-':'white'}\n",
    "    colors = [clrs[i] for i in text]\n",
    "    return colors"
   ]
  },
  {
   "cell_type": "code",
   "execution_count": 47,
   "metadata": {
    "execution": {
     "iopub.execute_input": "2023-05-06T19:10:21.358409Z",
     "iopub.status.busy": "2023-05-06T19:10:21.357671Z",
     "iopub.status.idle": "2023-05-06T19:10:21.407154Z",
     "shell.execute_reply": "2023-05-06T19:10:21.406408Z",
     "shell.execute_reply.started": "2021-10-22T17:50:08.683385Z"
    },
    "papermill": {
     "duration": 0.132154,
     "end_time": "2023-05-06T19:10:21.407317",
     "exception": false,
     "start_time": "2023-05-06T19:10:21.275163",
     "status": "completed"
    },
    "tags": []
   },
   "outputs": [
    {
     "data": {},
     "metadata": {},
     "output_type": "display_data"
    },
    {
     "data": {
      "application/vnd.holoviews_exec.v0+json": "",
      "text/html": [
       "<div id='1043'>\n",
       "\n",
       "\n",
       "\n",
       "\n",
       "\n",
       "  <div class=\"bk-root\" id=\"bff2ff5b-3bce-4a0c-b396-42f05ad76298\" data-root-id=\"1043\"></div>\n",
       "</div>\n",
       "<script type=\"application/javascript\">(function(root) {\n",
       "  function embed_document(root) {\n",
       "    var docs_json = {\"0d54796b-a40f-4970-bc52-f96589c0b6d3\":{\"roots\":{\"references\":[{\"attributes\":{\"active_drag\":\"auto\",\"active_inspect\":\"auto\",\"active_multi\":null,\"active_scroll\":\"auto\",\"active_tap\":\"auto\",\"tools\":[{\"id\":\"1020\"},{\"id\":\"1021\"}]},\"id\":\"1022\",\"type\":\"Toolbar\"},{\"attributes\":{\"client_comm_id\":\"c771b84ee56b4c378a047d6d7d0fb600\",\"comm_id\":\"8cb12fd5af504572b0d07840d1a067d3\",\"plot_id\":\"1043\"},\"id\":\"1079\",\"type\":\"panel.models.comm_manager.CommManager\"},{\"attributes\":{\"formatter\":{\"id\":\"1032\"},\"major_tick_line_width\":0,\"minor_tick_line_width\":0,\"ticker\":{\"id\":\"1018\"}},\"id\":\"1017\",\"type\":\"CategoricalAxis\"},{\"attributes\":{\"data\":{\"colors\":[\"red\",\"blue\",\"blue\",\"orange\",\"orange\",\"green\",\"blue\",\"red\",\"orange\",\"orange\",\"orange\",\"blue\",\"orange\",\"red\",\"blue\",\"orange\",\"orange\",\"orange\",\"green\",\"green\",\"green\",\"orange\",\"blue\",\"orange\",\"blue\",\"blue\",\"blue\",\"green\",\"green\",\"green\",\"orange\",\"red\",\"green\",\"red\",\"blue\",\"blue\",\"orange\",\"orange\",\"green\",\"blue\",\"red\",\"green\",\"green\",\"green\",\"blue\",\"orange\",\"red\",\"blue\",\"orange\",\"orange\",\"orange\",\"green\",\"green\",\"green\",\"orange\",\"blue\",\"orange\",\"orange\",\"blue\",\"blue\",\"green\",\"green\",\"green\",\"orange\",\"blue\",\"green\",\"blue\",\"blue\",\"red\",\"orange\",\"orange\",\"green\",\"blue\",\"red\",\"orange\",\"blue\",\"green\",\"blue\",\"orange\",\"red\",\"blue\",\"orange\",\"orange\",\"orange\",\"green\",\"green\",\"orange\",\"orange\",\"blue\",\"orange\",\"orange\",\"blue\",\"blue\",\"green\",\"green\",\"green\",\"orange\",\"blue\",\"green\"],\"recty\":{\"__ndarray__\":\"AAAAAAAA4D8AAAAAAADgPwAAAAAAAOA/AAAAAAAA4D8AAAAAAADgPwAAAAAAAOA/AAAAAAAA4D8AAAAAAADgPwAAAAAAAOA/AAAAAAAA4D8AAAAAAADgPwAAAAAAAOA/AAAAAAAA4D8AAAAAAADgPwAAAAAAAOA/AAAAAAAA4D8AAAAAAADgPwAAAAAAAOA/AAAAAAAA4D8AAAAAAADgPwAAAAAAAOA/AAAAAAAA4D8AAAAAAADgPwAAAAAAAOA/AAAAAAAA4D8AAAAAAADgPwAAAAAAAOA/AAAAAAAA4D8AAAAAAADgPwAAAAAAAOA/AAAAAAAA4D8AAAAAAADgPwAAAAAAAOA/AAAAAAAA+D8AAAAAAAD4PwAAAAAAAPg/AAAAAAAA+D8AAAAAAAD4PwAAAAAAAPg/AAAAAAAA+D8AAAAAAAD4PwAAAAAAAPg/AAAAAAAA+D8AAAAAAAD4PwAAAAAAAPg/AAAAAAAA+D8AAAAAAAD4PwAAAAAAAPg/AAAAAAAA+D8AAAAAAAD4PwAAAAAAAPg/AAAAAAAA+D8AAAAAAAD4PwAAAAAAAPg/AAAAAAAA+D8AAAAAAAD4PwAAAAAAAPg/AAAAAAAA+D8AAAAAAAD4PwAAAAAAAPg/AAAAAAAA+D8AAAAAAAD4PwAAAAAAAPg/AAAAAAAA+D8AAAAAAAD4PwAAAAAAAPg/AAAAAAAABEAAAAAAAAAEQAAAAAAAAARAAAAAAAAABEAAAAAAAAAEQAAAAAAAAARAAAAAAAAABEAAAAAAAAAEQAAAAAAAAARAAAAAAAAABEAAAAAAAAAEQAAAAAAAAARAAAAAAAAABEAAAAAAAAAEQAAAAAAAAARAAAAAAAAABEAAAAAAAAAEQAAAAAAAAARAAAAAAAAABEAAAAAAAAAEQAAAAAAAAARAAAAAAAAABEAAAAAAAAAEQAAAAAAAAARAAAAAAAAABEAAAAAAAAAEQAAAAAAAAARAAAAAAAAABEAAAAAAAAAEQAAAAAAAAARAAAAAAAAABEAAAAAAAAAEQAAAAAAAAARA\",\"dtype\":\"float64\",\"order\":\"little\",\"shape\":[99]},\"text\":[\"A\",\"C\",\"C\",\"G\",\"G\",\"T\",\"C\",\"A\",\"G\",\"G\",\"G\",\"C\",\"G\",\"A\",\"C\",\"G\",\"G\",\"G\",\"T\",\"T\",\"T\",\"G\",\"C\",\"G\",\"C\",\"C\",\"C\",\"T\",\"T\",\"T\",\"G\",\"A\",\"T\",\"A\",\"C\",\"C\",\"G\",\"G\",\"T\",\"C\",\"A\",\"T\",\"T\",\"T\",\"C\",\"G\",\"A\",\"C\",\"G\",\"G\",\"G\",\"T\",\"T\",\"T\",\"G\",\"C\",\"G\",\"G\",\"C\",\"C\",\"T\",\"T\",\"T\",\"G\",\"C\",\"T\",\"C\",\"C\",\"A\",\"G\",\"G\",\"T\",\"C\",\"A\",\"G\",\"C\",\"T\",\"C\",\"G\",\"A\",\"C\",\"G\",\"G\",\"G\",\"T\",\"T\",\"G\",\"G\",\"C\",\"G\",\"G\",\"C\",\"C\",\"T\",\"T\",\"T\",\"G\",\"C\",\"T\"],\"x\":{\"__ndarray__\":\"AAAAAAAA4D8AAAAAAAD4PwAAAAAAAARAAAAAAAAADEAAAAAAAAASQAAAAAAAABZAAAAAAAAAGkAAAAAAAAAeQAAAAAAAACFAAAAAAAAAI0AAAAAAAAAlQAAAAAAAACdAAAAAAAAAKUAAAAAAAAArQAAAAAAAAC1AAAAAAAAAL0AAAAAAAIAwQAAAAAAAgDFAAAAAAACAMkAAAAAAAIAzQAAAAAAAgDRAAAAAAACANUAAAAAAAIA2QAAAAAAAgDdAAAAAAACAOEAAAAAAAIA5QAAAAAAAgDpAAAAAAACAO0AAAAAAAIA8QAAAAAAAgD1AAAAAAACAPkAAAAAAAIA/QAAAAAAAQEBAAAAAAAAA4D8AAAAAAAD4PwAAAAAAAARAAAAAAAAADEAAAAAAAAASQAAAAAAAABZAAAAAAAAAGkAAAAAAAAAeQAAAAAAAACFAAAAAAAAAI0AAAAAAAAAlQAAAAAAAACdAAAAAAAAAKUAAAAAAAAArQAAAAAAAAC1AAAAAAAAAL0AAAAAAAIAwQAAAAAAAgDFAAAAAAACAMkAAAAAAAIAzQAAAAAAAgDRAAAAAAACANUAAAAAAAIA2QAAAAAAAgDdAAAAAAACAOEAAAAAAAIA5QAAAAAAAgDpAAAAAAACAO0AAAAAAAIA8QAAAAAAAgD1AAAAAAACAPkAAAAAAAIA/QAAAAAAAQEBAAAAAAAAA4D8AAAAAAAD4PwAAAAAAAARAAAAAAAAADEAAAAAAAAASQAAAAAAAABZAAAAAAAAAGkAAAAAAAAAeQAAAAAAAACFAAAAAAAAAI0AAAAAAAAAlQAAAAAAAACdAAAAAAAAAKUAAAAAAAAArQAAAAAAAAC1AAAAAAAAAL0AAAAAAAIAwQAAAAAAAgDFAAAAAAACAMkAAAAAAAIAzQAAAAAAAgDRAAAAAAACANUAAAAAAAIA2QAAAAAAAgDdAAAAAAACAOEAAAAAAAIA5QAAAAAAAgDpAAAAAAACAO0AAAAAAAIA8QAAAAAAAgD1AAAAAAACAPkAAAAAAAIA/QAAAAAAAQEBA\",\"dtype\":\"float64\",\"order\":\"little\",\"shape\":[99]},\"y\":[0,0,0,0,0,0,0,0,0,0,0,0,0,0,0,0,0,0,0,0,0,0,0,0,0,0,0,0,0,0,0,0,0,1,1,1,1,1,1,1,1,1,1,1,1,1,1,1,1,1,1,1,1,1,1,1,1,1,1,1,1,1,1,1,1,1,2,2,2,2,2,2,2,2,2,2,2,2,2,2,2,2,2,2,2,2,2,2,2,2,2,2,2,2,2,2,2,2,2]},\"selected\":{\"id\":\"1037\"},\"selection_policy\":{\"id\":\"1036\"}},\"id\":\"1001\",\"type\":\"ColumnDataSource\"},{\"attributes\":{},\"id\":\"1036\",\"type\":\"UnionRenderers\"},{\"attributes\":{\"text_align\":\"center\",\"text_color\":{\"value\":\"black\"},\"text_font\":\"monospace\",\"text_font_size\":{\"value\":\"9pt\"},\"x\":{\"field\":\"x\"},\"y\":{\"field\":\"y\"}},\"id\":\"1025\",\"type\":\"Text\"},{\"attributes\":{\"below\":[{\"id\":\"1013\"}],\"center\":[{\"id\":\"1016\"},{\"id\":\"1019\"}],\"left\":[{\"id\":\"1017\"}],\"min_border\":0,\"plot_height\":95,\"plot_width\":800,\"renderers\":[{\"id\":\"1027\"},{\"id\":\"1029\"}],\"title\":null,\"toolbar\":{\"id\":\"1022\"},\"toolbar_location\":null,\"x_range\":{\"id\":\"1005\"},\"x_scale\":{\"id\":\"1009\"},\"y_range\":{\"id\":\"1007\"},\"y_scale\":{\"id\":\"1011\"}},\"id\":\"1003\",\"subtype\":\"Figure\",\"type\":\"Plot\"},{\"attributes\":{\"children\":[{\"id\":\"1039\"},{\"id\":\"1041\"}]},\"id\":\"1042\",\"type\":\"Column\"},{\"attributes\":{\"toolbar\":{\"id\":\"1040\"},\"toolbar_location\":\"below\"},\"id\":\"1041\",\"type\":\"ToolbarBox\"},{\"attributes\":{},\"id\":\"1034\",\"type\":\"BasicTickFormatter\"},{\"attributes\":{\"data_source\":{\"id\":\"1001\"},\"glyph\":{\"id\":\"1026\"},\"hover_glyph\":null,\"muted_glyph\":null,\"view\":{\"id\":\"1030\"}},\"id\":\"1029\",\"type\":\"GlyphRenderer\"},{\"attributes\":{\"formatter\":{\"id\":\"1034\"},\"major_label_text_font_style\":\"bold\",\"ticker\":{\"id\":\"1014\"}},\"id\":\"1013\",\"type\":\"LinearAxis\"},{\"attributes\":{\"children\":[{\"id\":\"1042\"}],\"margin\":[0,0,0,0],\"name\":\"Row00008\"},\"id\":\"1043\",\"type\":\"Row\"},{\"attributes\":{\"source\":{\"id\":\"1001\"}},\"id\":\"1028\",\"type\":\"CDSView\"},{\"attributes\":{},\"id\":\"1032\",\"type\":\"CategoricalTickFormatter\"},{\"attributes\":{\"reload\":false},\"id\":\"1101\",\"type\":\"panel.models.location.Location\"},{\"attributes\":{\"source\":{\"id\":\"1001\"}},\"id\":\"1030\",\"type\":\"CDSView\"},{\"attributes\":{\"axis\":{\"id\":\"1017\"},\"dimension\":1,\"ticker\":null,\"visible\":false},\"id\":\"1019\",\"type\":\"Grid\"},{\"attributes\":{},\"id\":\"1011\",\"type\":\"CategoricalScale\"},{\"attributes\":{\"data_source\":{\"id\":\"1001\"},\"glyph\":{\"id\":\"1025\"},\"hover_glyph\":null,\"muted_glyph\":null,\"view\":{\"id\":\"1028\"}},\"id\":\"1027\",\"type\":\"GlyphRenderer\"},{\"attributes\":{},\"id\":\"1021\",\"type\":\"ResetTool\"},{\"attributes\":{},\"id\":\"1009\",\"type\":\"LinearScale\"},{\"attributes\":{\"factors\":[\"n1\",\"n2\",\"n3\"]},\"id\":\"1007\",\"type\":\"FactorRange\"},{\"attributes\":{\"axis\":{\"id\":\"1013\"},\"ticker\":null,\"visible\":false},\"id\":\"1016\",\"type\":\"Grid\"},{\"attributes\":{},\"id\":\"1014\",\"type\":\"BasicTicker\"},{\"attributes\":{},\"id\":\"1018\",\"type\":\"CategoricalTicker\"},{\"attributes\":{\"children\":[[{\"id\":\"1003\"},0,0]]},\"id\":\"1039\",\"type\":\"GridBox\"},{\"attributes\":{\"toolbars\":[{\"id\":\"1022\"}],\"tools\":[{\"id\":\"1020\"},{\"id\":\"1021\"}]},\"id\":\"1040\",\"type\":\"ProxyToolbar\"},{\"attributes\":{\"dimensions\":\"width\"},\"id\":\"1020\",\"type\":\"PanTool\"},{\"attributes\":{},\"id\":\"1037\",\"type\":\"Selection\"},{\"attributes\":{\"fill_alpha\":{\"value\":0.4},\"fill_color\":{\"field\":\"colors\"},\"height\":{\"units\":\"data\",\"value\":1},\"line_color\":{\"value\":null},\"width\":{\"units\":\"data\",\"value\":1},\"x\":{\"field\":\"x\"},\"y\":{\"field\":\"recty\"}},\"id\":\"1026\",\"type\":\"Rect\"},{\"attributes\":{\"end\":33},\"id\":\"1005\",\"type\":\"Range1d\"}],\"root_ids\":[\"1043\",\"1079\",\"1101\"]},\"title\":\"Bokeh Application\",\"version\":\"2.2.3\"}};\n",
       "    var render_items = [{\"docid\":\"0d54796b-a40f-4970-bc52-f96589c0b6d3\",\"root_ids\":[\"1043\"],\"roots\":{\"1043\":\"bff2ff5b-3bce-4a0c-b396-42f05ad76298\"}}];\n",
       "    root.Bokeh.embed.embed_items_notebook(docs_json, render_items);\n",
       "  }\n",
       "  if (root.Bokeh !== undefined && root.Bokeh.Panel !== undefined) {\n",
       "    embed_document(root);\n",
       "  } else {\n",
       "    var attempts = 0;\n",
       "    var timer = setInterval(function(root) {\n",
       "      if (root.Bokeh !== undefined && root.Bokeh.Panel !== undefined) {\n",
       "        clearInterval(timer);\n",
       "        embed_document(root);\n",
       "      } else if (document.readyState == \"complete\") {\n",
       "        attempts++;\n",
       "        if (attempts > 100) {\n",
       "          clearInterval(timer);\n",
       "          console.log(\"Bokeh: ERROR: Unable to run BokehJS code because BokehJS library is missing\");\n",
       "        }\n",
       "      }\n",
       "    }, 10, root)\n",
       "  }\n",
       "})(window);</script>"
      ],
      "text/plain": [
       "Bokeh(Column)"
      ]
     },
     "execution_count": 47,
     "metadata": {
      "application/vnd.holoviews_exec.v0+json": {
       "id": "1043"
      }
     },
     "output_type": "execute_result"
    }
   ],
   "source": [
    "p = view_alignment(align_n, fontsize=\"9pt\", plot_width=800)\n",
    "pn.pane.Bokeh(p)"
   ]
  },
  {
   "cell_type": "markdown",
   "metadata": {
    "papermill": {
     "duration": 0.077657,
     "end_time": "2023-05-06T19:10:21.563473",
     "exception": false,
     "start_time": "2023-05-06T19:10:21.485816",
     "status": "completed"
    },
    "tags": []
   },
   "source": [
    "# <div style=\"padding: 30px;color:white;margin:10;font-size:60%;text-align:left;display:fill;border-radius:10px;background-color:#FFFFFF;overflow:hidden;background-color:#E888BB\"><b><span style='color:#FFFFFF'>7 |</span></b> <b>BLAST</b></div>\n",
    "\n",
    "### <b><span style='color:#E888BB'> 7.1 |</span> NCBI Queries </b>\n",
    "\n",
    "<div style=\"color:white;display:fill;border-radius:8px;font-size:100%; letter-spacing:1.0px;\"><p style=\"padding: 5px;color:white;text-align:left;\"><b><span style='color:#E888BB'>USING DATABASES TO UNDERSTAND OUR SEQUENCE</span></b></p></div>\n",
    "\n",
    "- There are are ways to do <b>Sequence Alignment</b> via websites like [ebi.ac.uk](https://www.ebi.ac.uk/Tools/sss/), which uses an approach called <b><span style='color:#F55AA2'>BLAST</span></b>.\n",
    "- <b><span style='color:#F55AA2'>Basic Local Alignment Search Tool (BLAST)</span></b> uses the same alignment methods as implemented in <b>Biopython</b>, except the comparison sequences are called from a database.\n",
    "- BioPython also includes a <b>BLAST</b> module that can be used to search for similar sequences, like we did in <b>Section 4</b> & <b>5</b>; <code>Bio.Blast</code>.\n",
    "- The alignment requests are <b>made remotely</b>, and it can involve waiting time as our request is processed, however using BLAST locally is also an option in Biopython.\n",
    "\n",
    "\n",
    "<div style=\"color:white;display:fill;border-radius:8px;font-size:100%; letter-spacing:1.0px;\"><p style=\"padding: 5px;color:white;text-align:left;\"><b><span style='color:#E888BB'>BIOPYTHON BLAST CLASSES</span></b></p></div>\n",
    "\n",
    "- <code>NCBIWWW</code> : Code to invoke the NCBI BLAST server over the internet (uses [nih.gov](https://blast.ncbi.nlm.nih.gov/Blast.cgi))\n",
    "- <code>NCBIXML</code> : Code to work with the BLAST XML output. (we need to interpret the received results)\n",
    "\n",
    "\n",
    "<div style=\"color:white;display:fill;border-radius:8px;font-size:100%; letter-spacing:1.0px;\"><p style=\"padding: 5px;color:white;text-align:left;\"><b><span style='color:#E888BB'>SENDING A QUERY</span></b></p></div>\n",
    "\n",
    "- <code>NCBIWWW.qblast</code> is used to send a request to NCBI BLAST.\n",
    "- The main parameters used with the <code>NCBIWWW.qblast function</code>: | ([All parameter inputs](https://biopython.org/docs/1.75/api/Bio.Blast.NCBIWWW.html))\n",
    "> - The function takes in the <code>program option</code> (<b><span style='color:#F55AA2'>\"blastn\"</span></b>,<b><span style='color:#F55AA2'>\"blastp\"</span></b>,<b><span style='color:#F55AA2'>\"blastx\"</span></b>,<b><span style='color:#F55AA2'>\"tblastn\"</span></b>,<b><span style='color:#F55AA2'>\"tblastx\"</span></b>)\n",
    "> - The <code>database</code> to search (eg. <b><span style='color:#F55AA2'>\"nr\"</span></b>,<b><span style='color:#F55AA2'>\"nt\"</span></b>, <b><span style='color:#F55AA2'>\"pdb\"</span></b>)\n",
    "> - The <code>sequence</code> to be used in the query ( can search by the <b>gi identifier</b> if you have it )"
   ]
  },
  {
   "cell_type": "markdown",
   "metadata": {
    "papermill": {
     "duration": 0.078085,
     "end_time": "2023-05-06T19:10:21.719145",
     "exception": false,
     "start_time": "2023-05-06T19:10:21.641060",
     "status": "completed"
    },
    "tags": []
   },
   "source": [
    "### <b><span style='color:#E888BB'> 7.2 |</span> Python Strings to Sequences </b>\n",
    "\n",
    "<div style=\"color:white;display:fill;border-radius:8px;font-size:100%; letter-spacing:1.0px;\"><p style=\"padding: 5px;color:white;text-align:left;\"><b><span style='color:#E888BB'>LOADING A SEQUENCE</span></b></p></div>\n",
    "\n",
    "- We'll use a <b>FASTA</b> file whos description contains the actual sequence identification, so we'll be able to see if we have a hit in the database of existing sequences.\n",
    "- The actual description is not used in the alignment process, it's only there for us to visually confirm we have a match in the database."
   ]
  },
  {
   "cell_type": "code",
   "execution_count": 48,
   "metadata": {
    "execution": {
     "iopub.execute_input": "2023-05-06T19:10:21.881537Z",
     "iopub.status.busy": "2023-05-06T19:10:21.880810Z",
     "iopub.status.idle": "2023-05-06T19:10:21.891409Z",
     "shell.execute_reply": "2023-05-06T19:10:21.892122Z",
     "shell.execute_reply.started": "2021-10-22T17:50:08.748724Z"
    },
    "papermill": {
     "duration": 0.095176,
     "end_time": "2023-05-06T19:10:21.892351",
     "exception": false,
     "start_time": "2023-05-06T19:10:21.797175",
     "status": "completed"
    },
    "tags": []
   },
   "outputs": [
    {
     "name": "stdout",
     "output_type": "stream",
     "text": [
      "ID: gi|45478711|ref|NC_005816.1|\n",
      "Name: gi|45478711|ref|NC_005816.1|\n",
      "Description: gi|45478711|ref|NC_005816.1| Yersinia pestis biovar Microtus str. 91001 plasmid pPCP1, complete sequence\n",
      "Number of features: 0\n",
      "Seq('TGTAACGAACGGTGCAATAGTGATCCACACCCAACGCCTGAAATCAGATCCAGG...CTG')\n",
      "Length of Nucleotide Sequence: 9609\n"
     ]
    }
   ],
   "source": [
    "# File which we want to align\n",
    "# Description is included so we can compare results\n",
    "file_fasta = '/kaggle/input/biopython-genbank/NC_005816.fna'\n",
    "\n",
    "record = SeqIO.read(open(file_fasta),format='fasta')\n",
    "print(record)\n",
    "print(f'Length of Nucleotide Sequence: {len(record)}')"
   ]
  },
  {
   "cell_type": "markdown",
   "metadata": {
    "papermill": {
     "duration": 0.077486,
     "end_time": "2023-05-06T19:10:22.048273",
     "exception": false,
     "start_time": "2023-05-06T19:10:21.970787",
     "status": "completed"
    },
    "tags": []
   },
   "source": [
    "<div style=\"color:white;display:fill;border-radius:8px;font-size:100%; letter-spacing:1.0px;\"><p style=\"padding: 5px;color:white;text-align:left;\"><b><span style='color:#E888BB'>BLAST QUERY AND SAVING CONTENT</span></b></p></div>\n",
    "\n",
    "\n",
    "- Our sequence (let's say we didn't know the NBCI <b>gi</b> identifier) is made up of <b>nucleotide</b> content, so we'll use <code>'blastn'</code> option when calling <code>.qblast()</code>\n",
    "- The query can be <b><span style='color:#F55AA2'>saved to a file</span></b> as we would with a normal python file. The content is saved using <code>.read()</code> and saved with the <b>xml</b> extension."
   ]
  },
  {
   "cell_type": "code",
   "execution_count": 49,
   "metadata": {
    "execution": {
     "iopub.execute_input": "2023-05-06T19:10:22.213454Z",
     "iopub.status.busy": "2023-05-06T19:10:22.212422Z",
     "iopub.status.idle": "2023-05-06T19:11:23.300268Z",
     "shell.execute_reply": "2023-05-06T19:11:23.300840Z",
     "shell.execute_reply.started": "2021-10-22T17:50:08.764141Z"
    },
    "papermill": {
     "duration": 61.171907,
     "end_time": "2023-05-06T19:11:23.301103",
     "exception": false,
     "start_time": "2023-05-06T19:10:22.129196",
     "status": "completed"
    },
    "tags": []
   },
   "outputs": [],
   "source": [
    "if(blast_id):\n",
    "    \n",
    "    # BLAST query instance\n",
    "    result_handle = NCBIWWW.qblast('blastn','nt',record.format('fasta'))\n",
    "\n",
    "    # Read the file (call only once)\n",
    "    with open(\"/kaggle/working/NC_005816_blast.xml\", \"w\") as save_to:\n",
    "        save_to.write(result_handle.read())\n",
    "        result_handle.close()"
   ]
  },
  {
   "cell_type": "markdown",
   "metadata": {
    "papermill": {
     "duration": 0.078327,
     "end_time": "2023-05-06T19:11:23.459397",
     "exception": false,
     "start_time": "2023-05-06T19:11:23.381070",
     "status": "completed"
    },
    "tags": []
   },
   "source": [
    "<div style=\"color:white;display:fill;border-radius:8px;font-size:100%; letter-spacing:1.0px;\"><p style=\"padding: 5px;color:white;text-align:left;\"><b><span style='color:#E888BB'>READING BLAST SEARCH RESULT CONTENT</span></b></p></div>\n",
    "\n",
    "\n",
    "- When we want to read the <b>BLAST</b> search results, we can open it as we would any other file with python's <code>open()</code>.\n",
    "- We need to <b>parse</b> the stored file (<code>NCBIXML.parse</code>), which returns the <code>Record</code> objects, which we can read through using <code>for</code> loops."
   ]
  },
  {
   "cell_type": "code",
   "execution_count": 50,
   "metadata": {
    "execution": {
     "iopub.execute_input": "2023-05-06T19:11:23.622134Z",
     "iopub.status.busy": "2023-05-06T19:11:23.621177Z",
     "iopub.status.idle": "2023-05-06T19:11:23.627520Z",
     "shell.execute_reply": "2023-05-06T19:11:23.628229Z",
     "shell.execute_reply.started": "2021-10-22T17:50:08.770387Z"
    },
    "papermill": {
     "duration": 0.090123,
     "end_time": "2023-05-06T19:11:23.628425",
     "exception": false,
     "start_time": "2023-05-06T19:11:23.538302",
     "status": "completed"
    },
    "tags": []
   },
   "outputs": [],
   "source": [
    "if(blast_id):\n",
    "    result_handle = open('/kaggle/input/biopython-genbank/NC_005816_blast.xml','r')\n",
    "    blast_records = NCBIXML.parse(result_handle)"
   ]
  },
  {
   "cell_type": "code",
   "execution_count": 51,
   "metadata": {
    "execution": {
     "iopub.execute_input": "2023-05-06T19:11:23.790784Z",
     "iopub.status.busy": "2023-05-06T19:11:23.789838Z",
     "iopub.status.idle": "2023-05-06T19:11:23.847771Z",
     "shell.execute_reply": "2023-05-06T19:11:23.847213Z",
     "shell.execute_reply.started": "2021-10-22T17:50:08.785714Z"
    },
    "papermill": {
     "duration": 0.139998,
     "end_time": "2023-05-06T19:11:23.847933",
     "exception": false,
     "start_time": "2023-05-06T19:11:23.707935",
     "status": "completed"
    },
    "tags": []
   },
   "outputs": [
    {
     "name": "stdout",
     "output_type": "stream",
     "text": [
      "\n",
      "Alignment #0\n",
      "***** Alignment *****\n",
      "sequence: gi|45357364|gb|AE017046.1| Yersinia pestis biovar Microtus str. 91001 plasmid pPCP1, complete sequence\n",
      "length: 9609\n",
      "e value: 0.0\n",
      "\n",
      "Alignment #1\n",
      "***** Alignment *****\n",
      "sequence: gi|311902116|gb|HM807366.1| Yersinia pestis strain C790 plasmid pPCP1, complete sequence\n",
      "length: 9610\n",
      "e value: 0.0\n",
      "\n",
      "Alignment #2\n",
      "***** Alignment *****\n",
      "sequence: gi|262363963|gb|CP001588.1| Yersinia pestis D106004 plasmid pPCY1, complete sequence\n",
      "length: 9611\n",
      "e value: 0.0\n",
      "\n",
      "Alignment #3\n",
      "***** Alignment *****\n",
      "sequence: gi|1518099693|gb|CP033698.1| Yersinia pestis strain FDAARGOS_601 plasmid unnamed2, complete sequence\n",
      "length: 19216\n",
      "e value: 0.0\n",
      "***** Alignment *****\n",
      "sequence: gi|1518099693|gb|CP033698.1| Yersinia pestis strain FDAARGOS_601 plasmid unnamed2, complete sequence\n",
      "length: 19216\n",
      "e value: 0.0\n",
      "***** Alignment *****\n",
      "sequence: gi|1518099693|gb|CP033698.1| Yersinia pestis strain FDAARGOS_601 plasmid unnamed2, complete sequence\n",
      "length: 19216\n",
      "e value: 0.0\n",
      "\n",
      "Alignment #4\n",
      "***** Alignment *****\n",
      "sequence: gi|1046916732|gb|CP016276.1| Yersinia pestis strain Cadman plasmid pPCP1, complete sequence\n",
      "length: 9612\n",
      "e value: 0.0\n"
     ]
    }
   ],
   "source": [
    "if(blast_id):\n",
    "     \n",
    "    e_thresh = 0.00; # display only perfect matches\n",
    "    len_id = 5 # show only 5 results\n",
    "    for blast_record in blast_records: # go through all blast records\n",
    "        \n",
    "        jj=-1\n",
    "        for alignment in blast_record.alignments:\n",
    "            jj+=1;\n",
    "            if(jj < len_id):\n",
    "                print(f'\\nAlignment #{jj}')\n",
    "                for hsp in alignment.hsps:\n",
    "                    if(hsp.expect <= e_thresh):\n",
    "                        print('***** Alignment *****')\n",
    "                        print(f'sequence: {alignment.title}')\n",
    "                        print(f'length: {alignment.length}')\n",
    "                        print(f'e value: {hsp.expect}')"
   ]
  },
  {
   "cell_type": "markdown",
   "metadata": {
    "papermill": {
     "duration": 0.078382,
     "end_time": "2023-05-06T19:11:24.060435",
     "exception": false,
     "start_time": "2023-05-06T19:11:23.982053",
     "status": "completed"
    },
    "tags": []
   },
   "source": [
    "### <b><span style='color:#E888BB'> 7.3 |</span> BLAST Protein Sequence Query </b>\n",
    "\n",
    "<div style=\"color:white;display:fill;border-radius:8px;font-size:100%; letter-spacing:1.0px;\"><p style=\"padding: 5px;color:white;text-align:left;\"><b><span style='color:#E888BB'>READING BLAST SEARCH RESULT CONTENT</span></b></p></div>\n",
    "\n",
    "- In <b>Section 4.3</b>, we identified the longest <b>amino acid</b> chain in the genome in question, let's search for it using <b>BLAST</b>.\n",
    "- Instead of using <code>NCBIXML.parse</code>, we can also use <code>SearchIO</code> to read our <b>BLAST XML</b> query results.\n",
    "- For <b>Proteins</b>, we'll need to use <code>\"blastp\"</code> in our <code>NCBIWWW.qblast</code> query & search in the <code>pdb</code> database."
   ]
  },
  {
   "cell_type": "code",
   "execution_count": 52,
   "metadata": {
    "execution": {
     "iopub.execute_input": "2023-05-06T19:11:24.221891Z",
     "iopub.status.busy": "2023-05-06T19:11:24.221170Z",
     "iopub.status.idle": "2023-05-06T19:11:24.228713Z",
     "shell.execute_reply": "2023-05-06T19:11:24.227925Z",
     "shell.execute_reply.started": "2021-10-31T12:02:28.811025Z"
    },
    "papermill": {
     "duration": 0.089964,
     "end_time": "2023-05-06T19:11:24.228922",
     "exception": false,
     "start_time": "2023-05-06T19:11:24.138958",
     "status": "completed"
    },
    "tags": []
   },
   "outputs": [],
   "source": [
    "def read_blast(result_handle,hit_id=0,show_top=5):\n",
    "\n",
    "    blast_qresult = SearchIO.read(result_handle,\"blast-xml\")\n",
    "    print(blast_qresult[0:show_top])\n",
    "\n",
    "    #fetch the id, description, evalue, bitscore & alignment\n",
    "    print(f'Showing BLAST query result #{hit_id}')\n",
    "    seqid = blast_qresult[hit_id]\n",
    "    details = seqid[hit_id]\n",
    "          \n",
    "    print(f'\\nSequence ID: {seqid.id}')\n",
    "    print(f'Description: {seqid.description}')\n",
    "    print(f'e-value: {details.evalue}')\n",
    "    print(f'Bit Score: {details.bitscore}')\n",
    "          \n",
    "    print('\\nShowing Alignment:')\n",
    "    print(f\"\\nalignment:\\n{details.aln}\")"
   ]
  },
  {
   "cell_type": "code",
   "execution_count": 53,
   "metadata": {
    "execution": {
     "iopub.execute_input": "2023-05-06T19:11:24.404635Z",
     "iopub.status.busy": "2023-05-06T19:11:24.403942Z",
     "iopub.status.idle": "2023-05-06T19:12:43.316730Z",
     "shell.execute_reply": "2023-05-06T19:12:43.317334Z",
     "shell.execute_reply.started": "2021-10-22T17:50:08.819365Z"
    },
    "papermill": {
     "duration": 79.005922,
     "end_time": "2023-05-06T19:12:43.317536",
     "exception": false,
     "start_time": "2023-05-06T19:11:24.311614",
     "status": "completed"
    },
    "tags": []
   },
   "outputs": [
    {
     "name": "stdout",
     "output_type": "stream",
     "text": [
      "Program: blastp (2.14.0+)\n",
      "  Query: unnamed (2701)\n",
      "         protein product\n",
      " Target: pdb\n",
      "   Hits: ----  -----  ----------------------------------------------------------\n",
      "            #  # HSP  ID + description\n",
      "         ----  -----  ----------------------------------------------------------\n",
      "            0      1  pdb|7D4F|A  Chain A, RNA-directed RNA polymerase [Sever...\n",
      "            1      1  pdb|6YYT|A  Chain A, nsp12 [Severe acute respiratory sy...\n",
      "            2      1  pdb|6XEZ|A  Chain A, RNA-directed RNA polymerase [Sever...\n",
      "            3      1  pdb|7BW4|A  Chain A, RNA-directed RNA polymerase [Sever...\n",
      "            4      1  pdb|6XQB|A  Chain A, RNA-directed RNA polymerase [Sever...\n",
      "Showing BLAST query result #0\n",
      "\n",
      "Sequence ID: pdb|7D4F|A\n",
      "Description: Chain A, RNA-directed RNA polymerase [Severe acute respiratory syndrome coronavirus 2]\n",
      "e-value: 0.0\n",
      "Bit Score: 1938.7\n",
      "\n",
      "Showing Alignment:\n",
      "\n",
      "alignment:\n",
      "Alignment with 2 rows and 926 columns\n",
      "FKRVCGVSAARLTPCGTGTSTDVVYRAFDIYNDKVAGFAKFLKT...LQA unnamed\n",
      "LNRVCGVSAARLTPCGTGTSTDVVYRAFDIYNDKVAGFAKFLKT...LQG pdb|7D4F|A\n"
     ]
    }
   ],
   "source": [
    "# read file\n",
    "if(blast_id):\n",
    "    c19_protein = SeqIO.read(\"/kaggle/working/protein.fasta\", \"fasta\")\n",
    "    result_handle = NCBIWWW.qblast(\"blastp\",\"pdb\",c19_protein.seq)\n",
    "    read_blast(result_handle) # read qblast result & show first hit only"
   ]
  },
  {
   "cell_type": "markdown",
   "metadata": {
    "papermill": {
     "duration": 0.080107,
     "end_time": "2023-05-06T19:12:43.476846",
     "exception": false,
     "start_time": "2023-05-06T19:12:43.396739",
     "status": "completed"
    },
    "tags": []
   },
   "source": [
    "# <div style=\"padding: 30px;color:white;margin:10;font-size:60%;text-align:left;display:fill;border-radius:10px;background-color:#FFFFFF;overflow:hidden;background-color:#E888BB\"><b><span style='color:#FFFFFF'>8 |</span></b> <b>PHYLOGENETIC ANALYSIS</b></div>\n",
    "\n",
    "<div style=\"color:white;display:fill;border-radius:8px;font-size:100%; letter-spacing:1.0px;\"><p style=\"padding: 5px;color:white;text-align:left;\"><b><span style='color:#E888BB'>SEQUENCE EVOLUTION</span></b></p></div>\n",
    "\n",
    "\n",
    "- One of the more practical modules applications in BioPython, <code>Bio.Phylo</code> allows us to understand the relation between difference <b>aligned sequences</b>\n",
    "- **<span style='color:#F55AA2'>Phylogenetic analysis analysis</span>** - concerned with determining how a given <b>set of sequences</b> (alignment) has evolved from a <b>common ancestor</b> through the process of natural evolution.\n",
    "- The process of evolution is depicted in the form of **<span style='color:#F55AA2'>an evolutionary tree</span>** & bifurcations represent <b>events of mutation</b> from a common ancestor, that gives rise to <b>branches</b>.\n",
    "- A **<span style='color:#F55AA2'>Phylogenetic tree</span>** will represent known sequences in its leaves & internal tree nodes will represent common ancestors of the sequence below it.\n",
    "\n",
    "<div style=\"color:white;display:fill;border-radius:8px;font-size:100%; letter-spacing:1.0px;\"><p style=\"padding: 5px;color:white;text-align:left;\"><b><span style='color:#E888BB'>USEFUL INFORMATION</span></b></p></div>\n",
    "\n",
    "\n",
    "- [<b>www <span style='color:#F55AA2'> // </span> PHYLOGENETIC TREES LECTURE</b>](https://www.ncbi.nlm.nih.gov/CBBresearch/Przytycka/download/lectures/PCB_Lect11_Phylogen_Trees.pdf)\n",
    "- [<b>www <span style='color:#F55AA2'> // </span> INTERFACING WITH PAML</b>](https://biopython.org/wiki/PAML)\n",
    "- [<b>www <span style='color:#F55AA2'> // </span> WORKING WITH PHYLOGENETIC TREES</b>](https://biopython.org/wiki/PhyloL)\n",
    "- [<b>www <span style='color:#F55AA2'> // </span> PHYLOGENETIC COOKBOOK</b>](https://biopython.org/wiki/Phylo_cookbook)"
   ]
  },
  {
   "cell_type": "markdown",
   "metadata": {
    "papermill": {
     "duration": 0.078551,
     "end_time": "2023-05-06T19:12:43.637635",
     "exception": false,
     "start_time": "2023-05-06T19:12:43.559084",
     "status": "completed"
    },
    "tags": []
   },
   "source": [
    "### <b><span style='color:#E888BB'> 8.1 |</span> Tree Construction </b>\n",
    "\n",
    "\n",
    "<div style=\"color:white;display:fill;border-radius:8px;font-size:100%; letter-spacing:1.0px;\"><p style=\"padding: 5px;color:white;text-align:left;\"><b><span style='color:#E888BB'>BIOPYTHON IMPLEMENTATION</span></b></p></div>\n",
    "\n",
    "\n",
    "- <code>Bio.Phylo.TreeConstruction</code> - Biopython provides several tree construction algorithm implementations in pure python.\n",
    "- There are a couple of approaches used to construct a <b><span style='color:#F55AA2'>phylogenetic tree</span></b>:\n",
    "> - <b><span style='color:#F55AA2'>Distance Matrix based</span></b> (<b>implemented in biopython</b>)\n",
    "> - <b><span style='color:#F55AA2'>Parsimony</span></b> (<b>implemented in biopython</b>)\n",
    "> - Maximum Likelihood based ( Accessable via <b>external library wrapper</b> )\n",
    "\n",
    "<div style=\"color:white;display:fill;border-radius:8px;font-size:100%; letter-spacing:1.0px;\"><p style=\"padding: 5px;color:white;text-align:left;\"><b><span style='color:#E888BB'>EXTERNAL LIBRARY WRAPPERS</span></b></p></div>\n",
    "\n",
    "\n",
    "> - <code>Bio.Phylo.PhymlCommandline</code>\n",
    "> - <code>Bio.Phylo.PAML</code>\n",
    "\n",
    "<div style=\"color:white;display:fill;border-radius:8px;font-size:100%; letter-spacing:1.0px;\"><p style=\"padding: 5px;color:white;text-align:left;\"><b><span style='color:#E888BB'>DISTANCE MATRIX BASED APPROACH</span></b></p></div>\n",
    "\n"
   ]
  },
  {
   "cell_type": "code",
   "execution_count": 54,
   "metadata": {
    "execution": {
     "iopub.execute_input": "2023-05-06T19:12:43.801801Z",
     "iopub.status.busy": "2023-05-06T19:12:43.800959Z",
     "iopub.status.idle": "2023-05-06T19:12:43.804366Z",
     "shell.execute_reply": "2023-05-06T19:12:43.804893Z",
     "shell.execute_reply.started": "2021-10-22T17:50:08.830288Z"
    },
    "papermill": {
     "duration": 0.08853,
     "end_time": "2023-05-06T19:12:43.805094",
     "exception": false,
     "start_time": "2023-05-06T19:12:43.716564",
     "status": "completed"
    },
    "tags": []
   },
   "outputs": [
    {
     "name": "stdout",
     "output_type": "stream",
     "text": [
      "Alignment with 7 rows and 52 columns\n",
      "AEPNAATNYATEAMDSLKTQAIDLISQTWPVVTTVVVAGLVIRL...SKA COATB_BPIKE/30-81\n",
      "AEPNAATNYATEAMDSLKTQAIDLISQTWPVVTTVVVAGLVIKL...SRA Q9T0Q8_BPIKE/1-52\n",
      "DGTSTATSYATEAMNSLKTQATDLIDQTWPVVTSVAVAGLAIRL...SKA COATB_BPI22/32-83\n",
      "AEGDDP---AKAAFNSLQASATEYIGYAWAMVVVIVGATIGIKL...SKA COATB_BPM13/24-72\n",
      "AEGDDP---AKAAFDSLQASATEYIGYAWAMVVVIVGATIGIKL...SKA COATB_BPZJ2/1-49\n",
      "AEGDDP---AKAAFDSLQASATEYIGYAWAMVVVIVGATIGIKL...SKA Q9T0Q9_BPFD/1-49\n",
      "FAADDATSQAKAAFDSLTAQATEMSGYAWALVVLVVGATVGIKL...SRA COATB_BPIF1/22-73 \n",
      "\n"
     ]
    }
   ],
   "source": [
    "# Recall Alignment\n",
    "print(alin2,'\\n')"
   ]
  },
  {
   "cell_type": "code",
   "execution_count": 55,
   "metadata": {
    "execution": {
     "iopub.execute_input": "2023-05-06T19:12:43.971906Z",
     "iopub.status.busy": "2023-05-06T19:12:43.971069Z",
     "iopub.status.idle": "2023-05-06T19:12:43.975259Z",
     "shell.execute_reply": "2023-05-06T19:12:43.974612Z",
     "shell.execute_reply.started": "2021-10-22T17:50:08.844453Z"
    },
    "papermill": {
     "duration": 0.090473,
     "end_time": "2023-05-06T19:12:43.975411",
     "exception": false,
     "start_time": "2023-05-06T19:12:43.884938",
     "status": "completed"
    },
    "tags": []
   },
   "outputs": [
    {
     "name": "stdout",
     "output_type": "stream",
     "text": [
      "Alignment with 7 rows and 52 columns\n",
      "AEPNAATNYATEAMDSLKTQAIDLISQTWPVVTTVVVAGLVIRL...SKA COATB_BPIKE/30-81\n",
      "AEPNAATNYATEAMDSLKTQAIDLISQTWPVVTTVVVAGLVIKL...SRA Q9T0Q8_BPIKE/1-52\n",
      "DGTSTATSYATEAMNSLKTQATDLIDQTWPVVTSVAVAGLAIRL...SKA COATB_BPI22/32-83\n",
      "AEGDDP---AKAAFNSLQASATEYIGYAWAMVVVIVGATIGIKL...SKA COATB_BPM13/24-72\n",
      "AEGDDP---AKAAFDSLQASATEYIGYAWAMVVVIVGATIGIKL...SKA COATB_BPZJ2/1-49\n",
      "AEGDDP---AKAAFDSLQASATEYIGYAWAMVVVIVGATIGIKL...SKA Q9T0Q9_BPFD/1-49\n",
      "FAADDATSQAKAAFDSLTAQATEMSGYAWALVVLVVGATVGIKL...SRA COATB_BPIF1/22-73 \n",
      "\n",
      "Distance Matrix\n",
      "COATB_BPIKE/30-81\t0\n",
      "Q9T0Q8_BPIKE/1-52\t0.05769230769230771\t0\n",
      "COATB_BPI22/32-83\t0.23076923076923073\t0.28846153846153844\t0\n",
      "COATB_BPM13/24-72\t0.5961538461538461\t0.5961538461538461\t0.6153846153846154\t0\n",
      "COATB_BPZJ2/1-49\t0.5769230769230769\t0.5769230769230769\t0.6346153846153846\t0.038461538461538436\t0\n",
      "Q9T0Q9_BPFD/1-49\t0.5769230769230769\t0.5769230769230769\t0.6346153846153846\t0.019230769230769273\t0.019230769230769273\t0\n",
      "COATB_BPIF1/22-73\t0.5769230769230769\t0.5192307692307692\t0.5769230769230769\t0.34615384615384615\t0.32692307692307687\t0.32692307692307687\t0\n",
      "\tCOATB_BPIKE/30-81\tQ9T0Q8_BPIKE/1-52\tCOATB_BPI22/32-83\tCOATB_BPM13/24-72\tCOATB_BPZJ2/1-49\tQ9T0Q9_BPFD/1-49\tCOATB_BPIF1/22-73\n"
     ]
    }
   ],
   "source": [
    "# Recall Alignment\n",
    "print(alin2,'\\n')\n",
    "\n",
    "''' Calculate Distance Matrix'''\n",
    "# From raw MSE alignment\n",
    "# The ‘identity’ model can be used both for DNA and protein sequences\n",
    "\n",
    "print('Distance Matrix')\n",
    "calculator = DistanceCalculator('identity') # create calculator\n",
    "dist_mat = calculator.get_distance(alin2) # get the distance matrix of a given alignment object\n",
    "print(dist_mat)"
   ]
  },
  {
   "cell_type": "code",
   "execution_count": 56,
   "metadata": {
    "execution": {
     "iopub.execute_input": "2023-05-06T19:12:44.144445Z",
     "iopub.status.busy": "2023-05-06T19:12:44.143696Z",
     "iopub.status.idle": "2023-05-06T19:12:44.147825Z",
     "shell.execute_reply": "2023-05-06T19:12:44.147213Z",
     "shell.execute_reply.started": "2021-10-22T17:50:08.861143Z"
    },
    "papermill": {
     "duration": 0.092188,
     "end_time": "2023-05-06T19:12:44.147989",
     "exception": false,
     "start_time": "2023-05-06T19:12:44.055801",
     "status": "completed"
    },
    "tags": []
   },
   "outputs": [
    {
     "name": "stdout",
     "output_type": "stream",
     "text": [
      "Tree(rooted=False)\n",
      "    Clade(branch_length=0, name='Inner5')\n",
      "        Clade(branch_length=0.007211538461538464, name='Inner4')\n",
      "            Clade(branch_length=0.012019230769230754, name='COATB_BPZJ2/1-49')\n",
      "            Clade(branch_length=0.17307692307692302, name='Inner3')\n",
      "                Clade(branch_length=0.14503205128205127, name='COATB_BPIF1/22-73')\n",
      "                Clade(branch_length=0.2876602564102564, name='Inner2')\n",
      "                    Clade(branch_length=0.08052884615384609, name='Inner1')\n",
      "                        Clade(branch_length=0.028846153846153855, name='COATB_BPIKE/30-81')\n",
      "                        Clade(branch_length=0.028846153846153855, name='Q9T0Q8_BPIKE/1-52')\n",
      "                    Clade(branch_length=0.15024038461538464, name='COATB_BPI22/32-83')\n",
      "        Clade(branch_length=0.0168269230769231, name='COATB_BPM13/24-72')\n",
      "        Clade(branch_length=0.002403846153846173, name='Q9T0Q9_BPFD/1-49')\n"
     ]
    }
   ],
   "source": [
    "''' Distance Tree Constructor '''\n",
    "# 'nj' / 'upgma' tree construction approaches \n",
    "\n",
    "constructor = DistanceTreeConstructor(calculator,'nj') # initialise\n",
    "tree = constructor.build_tree(alin2) # main algorithm\n",
    "print(tree)"
   ]
  },
  {
   "cell_type": "code",
   "execution_count": 57,
   "metadata": {
    "execution": {
     "iopub.execute_input": "2023-05-06T19:12:44.329267Z",
     "iopub.status.busy": "2023-05-06T19:12:44.328529Z",
     "iopub.status.idle": "2023-05-06T19:12:44.623945Z",
     "shell.execute_reply": "2023-05-06T19:12:44.623384Z",
     "shell.execute_reply.started": "2021-10-22T17:50:08.878021Z"
    },
    "papermill": {
     "duration": 0.395825,
     "end_time": "2023-05-06T19:12:44.624097",
     "exception": false,
     "start_time": "2023-05-06T19:12:44.228272",
     "status": "completed"
    },
    "tags": []
   },
   "outputs": [
    {
     "data": {
      "image/png": "[encoded data removed]",
      "text/plain": [
       "<Figure size 864x432 with 1 Axes>"
      ]
     },
     "metadata": {},
     "output_type": "display_data"
    }
   ],
   "source": [
    "# Plot Tree \n",
    "fig,axes = plt.subplots(1,1,figsize=(12,6))\n",
    "treep = Phylogeny.from_tree(tree)\n",
    "Phylo.draw(treep,axes=axes)"
   ]
  },
  {
   "cell_type": "markdown",
   "metadata": {
    "papermill": {
     "duration": 0.082661,
     "end_time": "2023-05-06T19:12:44.787949",
     "exception": false,
     "start_time": "2023-05-06T19:12:44.705288",
     "status": "completed"
    },
    "tags": []
   },
   "source": [
    "<div style=\"color:white;display:fill;border-radius:8px;font-size:100%; letter-spacing:1.0px;\"><p style=\"padding: 5px;color:white;text-align:left;\"><b><span style='color:#E888BB'>PARSIMONY BASED APPROACH</span></b></p></div>\n",
    "\n"
   ]
  },
  {
   "cell_type": "code",
   "execution_count": 58,
   "metadata": {
    "execution": {
     "iopub.execute_input": "2023-05-06T19:12:44.959786Z",
     "iopub.status.busy": "2023-05-06T19:12:44.959112Z",
     "iopub.status.idle": "2023-05-06T19:12:44.962473Z",
     "shell.execute_reply": "2023-05-06T19:12:44.961857Z",
     "shell.execute_reply.started": "2021-10-22T17:50:09.231118Z"
    },
    "papermill": {
     "duration": 0.093759,
     "end_time": "2023-05-06T19:12:44.962619",
     "exception": false,
     "start_time": "2023-05-06T19:12:44.868860",
     "status": "completed"
    },
    "tags": []
   },
   "outputs": [],
   "source": [
    "''' Create a starting tree '''\n",
    "\n",
    "# sub_alin2 =  \"/kaggle/working/sub_alin2.fasta\"\n",
    "sub_alin2 = AlignIO.read(\"/kaggle/working/sub_alin2.fasta\", \"fasta\")\n",
    "\n",
    "calculator = DistanceCalculator('identity') # create calculator\n",
    "dist_mat = calculator.get_distance(sub_alin2) # get the distance matrix of a given alignment object\n",
    "constructor = DistanceTreeConstructor(calculator,'nj') # initialise\n",
    "tree_0 = constructor.build_tree(sub_alin2) # main algorithm"
   ]
  },
  {
   "cell_type": "code",
   "execution_count": 59,
   "metadata": {
    "execution": {
     "iopub.execute_input": "2023-05-06T19:12:45.129407Z",
     "iopub.status.busy": "2023-05-06T19:12:45.128770Z",
     "iopub.status.idle": "2023-05-06T19:12:45.132655Z",
     "shell.execute_reply": "2023-05-06T19:12:45.132150Z",
     "shell.execute_reply.started": "2021-10-22T17:50:09.244126Z"
    },
    "papermill": {
     "duration": 0.089392,
     "end_time": "2023-05-06T19:12:45.132820",
     "exception": false,
     "start_time": "2023-05-06T19:12:45.043428",
     "status": "completed"
    },
    "tags": []
   },
   "outputs": [
    {
     "name": "stdout",
     "output_type": "stream",
     "text": [
      "Alignment with 7 rows and 52 columns\n",
      "AEPNAATNYATEAMDSLKTQAIDLISQTWPVVTTVVVAGLVIRL...SKA COATB_BPIKE/30-81\n",
      "AEPNAATNYATEAMDSLKTQAIDLISQTWPVVTTVVVAGLVIKL...SRA Q9T0Q8_BPIKE/1-52\n",
      "DGTSTATSYATEAMNSLKTQATDLIDQTWPVVTSVAVAGLAIRL...SKA COATB_BPI22/32-83\n",
      "AEGDDP---AKAAFNSLQASATEYIGYAWAMVVVIVGATIGIKL...SKA COATB_BPM13/24-72\n",
      "AEGDDP---AKAAFDSLQASATEYIGYAWAMVVVIVGATIGIKL...SKA COATB_BPZJ2/1-49\n",
      "AEGDDP---AKAAFDSLQASATEYIGYAWAMVVVIVGATIGIKL...SKA Q9T0Q9_BPFD/1-49\n",
      "FAADDATSQAKAAFDSLTAQATEMSGYAWALVVLVVGATVGIKL...SRA COATB_BPIF1/22-73 \n",
      "\n"
     ]
    }
   ],
   "source": [
    "# Recall Alignment\n",
    "print(alin2,'\\n')"
   ]
  },
  {
   "cell_type": "code",
   "execution_count": 60,
   "metadata": {
    "execution": {
     "iopub.execute_input": "2023-05-06T19:12:45.315004Z",
     "iopub.status.busy": "2023-05-06T19:12:45.309841Z",
     "iopub.status.idle": "2023-05-06T19:12:45.328579Z",
     "shell.execute_reply": "2023-05-06T19:12:45.329210Z",
     "shell.execute_reply.started": "2021-10-22T17:50:09.258757Z"
    },
    "papermill": {
     "duration": 0.116183,
     "end_time": "2023-05-06T19:12:45.329392",
     "exception": false,
     "start_time": "2023-05-06T19:12:45.213209",
     "status": "completed"
    },
    "tags": []
   },
   "outputs": [
    {
     "name": "stdout",
     "output_type": "stream",
     "text": [
      "Tree(rooted=True)\n",
      "    Clade(branch_length=0)\n",
      "        Clade(branch_length=0.1672676282051282, name='Inner2')\n",
      "            Clade(branch_length=0.15024038461538464, name='COATB_BPI22/32-83')\n",
      "            Clade(branch_length=0.08052884615384609, name='Inner1')\n",
      "                Clade(branch_length=0.028846153846153855, name='Q9T0Q8_BPIKE/1-52')\n",
      "                Clade(branch_length=0.028846153846153855, name='COATB_BPIKE/30-81')\n",
      "        Clade(branch_length=0.1203926282051282, name='Inner3')\n",
      "            Clade(branch_length=0.17307692307692302, name='Inner4')\n",
      "                Clade(branch_length=0.007211538461538464, name='Inner5')\n",
      "                    Clade(branch_length=0.002403846153846173, name='Q9T0Q9_BPFD/1-49')\n",
      "                    Clade(branch_length=0.0168269230769231, name='COATB_BPM13/24-72')\n",
      "                Clade(branch_length=0.012019230769230754, name='COATB_BPZJ2/1-49')\n",
      "            Clade(branch_length=0.14503205128205127, name='COATB_BPIF1/22-73')\n"
     ]
    }
   ],
   "source": [
    "from Bio.Phylo.TreeConstruction import ParsimonyScorer, NNITreeSearcher,ParsimonyTreeConstructor\n",
    "\n",
    "scorer = ParsimonyScorer()\n",
    "searcher = NNITreeSearcher(scorer)\n",
    "constructor = ParsimonyTreeConstructor(searcher,tree_0)\n",
    "pars_tree = constructor.build_tree(alin2)\n",
    "print(pars_tree)"
   ]
  },
  {
   "cell_type": "code",
   "execution_count": 61,
   "metadata": {
    "execution": {
     "iopub.execute_input": "2023-05-06T19:12:45.528857Z",
     "iopub.status.busy": "2023-05-06T19:12:45.527166Z",
     "iopub.status.idle": "2023-05-06T19:12:45.774816Z",
     "shell.execute_reply": "2023-05-06T19:12:45.774262Z",
     "shell.execute_reply.started": "2021-10-22T17:50:09.294306Z"
    },
    "papermill": {
     "duration": 0.364012,
     "end_time": "2023-05-06T19:12:45.774974",
     "exception": false,
     "start_time": "2023-05-06T19:12:45.410962",
     "status": "completed"
    },
    "tags": []
   },
   "outputs": [
    {
     "data": {
      "image/png": "[encoded data removed]",
      "text/plain": [
       "<Figure size 864x432 with 1 Axes>"
      ]
     },
     "metadata": {},
     "output_type": "display_data"
    }
   ],
   "source": [
    "# Plot Tree \n",
    "fig,axes = plt.subplots(1,1,figsize=(12,6))\n",
    "treep = Phylogeny.from_tree(pars_tree)\n",
    "Phylo.draw(treep,axes=axes)"
   ]
  },
  {
   "cell_type": "markdown",
   "metadata": {
    "papermill": {
     "duration": 0.082422,
     "end_time": "2023-05-06T19:12:45.941411",
     "exception": false,
     "start_time": "2023-05-06T19:12:45.858989",
     "status": "completed"
    },
    "tags": []
   },
   "source": [
    "### <b><span style='color:#E888BB'> 8.2 |</span> Tree visualisation </b>"
   ]
  },
  {
   "cell_type": "code",
   "execution_count": 62,
   "metadata": {
    "execution": {
     "iopub.execute_input": "2023-05-06T19:12:46.113675Z",
     "iopub.status.busy": "2023-05-06T19:12:46.112983Z",
     "iopub.status.idle": "2023-05-06T19:12:46.116946Z",
     "shell.execute_reply": "2023-05-06T19:12:46.116408Z",
     "shell.execute_reply.started": "2021-10-22T17:50:09.598606Z"
    },
    "papermill": {
     "duration": 0.092827,
     "end_time": "2023-05-06T19:12:46.117105",
     "exception": false,
     "start_time": "2023-05-06T19:12:46.024278",
     "status": "completed"
    },
    "tags": []
   },
   "outputs": [
    {
     "name": "stdout",
     "output_type": "stream",
     "text": [
      "Tree(rooted=False, weight=1.0)\n",
      "    Clade()\n",
      "        Clade()\n",
      "            Clade()\n",
      "                Clade(name='A')\n",
      "                Clade(name='B')\n",
      "            Clade()\n",
      "                Clade(name='C')\n",
      "                Clade(name='D')\n",
      "            Clade()\n",
      "                Clade(name='E')\n",
      "                Clade(name='F')\n",
      "                Clade(name='G')\n"
     ]
    }
   ],
   "source": [
    "simple = open(\"/kaggle/working/example.dnd\", \"w\")\n",
    "simple.write('(((A,B),(C,D),(E,F,G)));')\n",
    "simple.close()\n",
    "\n",
    "tree = Phylo.read('/kaggle/working/example.dnd','newick')\n",
    "print(tree)"
   ]
  },
  {
   "cell_type": "code",
   "execution_count": 63,
   "metadata": {
    "execution": {
     "iopub.execute_input": "2023-05-06T19:12:46.287948Z",
     "iopub.status.busy": "2023-05-06T19:12:46.287231Z",
     "iopub.status.idle": "2023-05-06T19:12:46.291945Z",
     "shell.execute_reply": "2023-05-06T19:12:46.291264Z",
     "shell.execute_reply.started": "2021-10-22T17:50:09.60903Z"
    },
    "papermill": {
     "duration": 0.092207,
     "end_time": "2023-05-06T19:12:46.292101",
     "exception": false,
     "start_time": "2023-05-06T19:12:46.199894",
     "status": "completed"
    },
    "tags": []
   },
   "outputs": [
    {
     "name": "stdout",
     "output_type": "stream",
     "text": [
      "                                                    ________________________ A\n",
      "                           ________________________|\n",
      "                          |                        |________________________ B\n",
      "                          |\n",
      "                          |                         ________________________ C\n",
      "_ ________________________|________________________|\n",
      "                          |                        |________________________ D\n",
      "                          |\n",
      "                          |                         ________________________ E\n",
      "                          |                        |\n",
      "                          |________________________|________________________ F\n",
      "                                                   |\n",
      "                                                   |________________________ G\n",
      "\n"
     ]
    }
   ],
   "source": [
    "Phylo.draw_ascii(tree)"
   ]
  },
  {
   "cell_type": "code",
   "execution_count": 64,
   "metadata": {
    "execution": {
     "iopub.execute_input": "2023-05-06T19:12:46.466107Z",
     "iopub.status.busy": "2023-05-06T19:12:46.465447Z",
     "iopub.status.idle": "2023-05-06T19:12:46.469679Z",
     "shell.execute_reply": "2023-05-06T19:12:46.469083Z",
     "shell.execute_reply.started": "2021-10-22T17:50:09.621017Z"
    },
    "papermill": {
     "duration": 0.094284,
     "end_time": "2023-05-06T19:12:46.469853",
     "exception": false,
     "start_time": "2023-05-06T19:12:46.375569",
     "status": "completed"
    },
    "tags": []
   },
   "outputs": [
    {
     "name": "stdout",
     "output_type": "stream",
     "text": [
      "Phylogeny(rooted=False)\n",
      "    Clade()\n",
      "        Clade()\n",
      "            Clade()\n",
      "                Clade(name='A')\n",
      "                Clade(name='B')\n",
      "            Clade()\n",
      "                Clade(name='C')\n",
      "                Clade(name='D')\n",
      "            Clade()\n",
      "                Clade(name='E')\n",
      "                Clade(name='F')\n",
      "                Clade(name='G')\n"
     ]
    }
   ],
   "source": [
    "Phylo.convert('/kaggle/working/example.dnd','newick',\n",
    "              '/kaggle/working/tree.xml','phyloxml')\n",
    "trees = Phylo.parse('/kaggle/working/tree.xml','phyloxml')\n",
    "for t in trees:\n",
    "    print(t)"
   ]
  },
  {
   "cell_type": "code",
   "execution_count": 65,
   "metadata": {
    "execution": {
     "iopub.execute_input": "2023-05-06T19:12:46.671076Z",
     "iopub.status.busy": "2023-05-06T19:12:46.657608Z",
     "iopub.status.idle": "2023-05-06T19:12:46.869763Z",
     "shell.execute_reply": "2023-05-06T19:12:46.869034Z",
     "shell.execute_reply.started": "2021-10-22T17:50:09.636094Z"
    },
    "papermill": {
     "duration": 0.315492,
     "end_time": "2023-05-06T19:12:46.869921",
     "exception": false,
     "start_time": "2023-05-06T19:12:46.554429",
     "status": "completed"
    },
    "tags": []
   },
   "outputs": [
    {
     "data": {
      "image/png": "[encoded data removed]",
      "text/plain": [
       "<Figure size 432x288 with 1 Axes>"
      ]
     },
     "metadata": {},
     "output_type": "display_data"
    }
   ],
   "source": [
    "treep = Phylogeny.from_tree(tree)\n",
    "Phylo.draw(treep)"
   ]
  },
  {
   "cell_type": "code",
   "execution_count": 66,
   "metadata": {
    "execution": {
     "iopub.execute_input": "2023-05-06T19:12:47.046074Z",
     "iopub.status.busy": "2023-05-06T19:12:47.045399Z",
     "iopub.status.idle": "2023-05-06T19:12:47.269673Z",
     "shell.execute_reply": "2023-05-06T19:12:47.269043Z",
     "shell.execute_reply.started": "2021-10-22T17:50:09.895272Z"
    },
    "papermill": {
     "duration": 0.315357,
     "end_time": "2023-05-06T19:12:47.269834",
     "exception": false,
     "start_time": "2023-05-06T19:12:46.954477",
     "status": "completed"
    },
    "tags": []
   },
   "outputs": [
    {
     "data": {
      "image/png": "[encoded data removed]",
      "text/plain": [
       "<Figure size 432x288 with 1 Axes>"
      ]
     },
     "metadata": {},
     "output_type": "display_data"
    }
   ],
   "source": [
    "treep.root.color = 'gray'\n",
    "mrca = treep.common_ancestor({'name':'E'},{'name':'F'})\n",
    "mrca.color = 'salmon'\n",
    "treep.clade[0,1].color = 'blue'\n",
    "Phylo.draw(treep)"
   ]
  }
 ],
 "metadata": {
  "kernelspec": {
   "display_name": "Python 3",
   "language": "python",
   "name": "python3"
  },
  "language_info": {
   "codemirror_mode": {
    "name": "ipython",
    "version": 3
   },
   "file_extension": ".py",
   "mimetype": "text/x-python",
   "name": "python",
   "nbconvert_exporter": "python",
   "pygments_lexer": "ipython3",
   "version": "3.7.9"
  },
  "papermill": {
   "default_parameters": {},
   "duration": 172.706651,
   "end_time": "2023-05-06T19:12:48.166109",
   "environment_variables": {},
   "exception": null,
   "input_path": "__notebook__.ipynb",
   "output_path": "__notebook__.ipynb",
   "parameters": {},
   "start_time": "2023-05-06T19:09:55.459458",
   "version": "2.2.2"
  }
 },
 "nbformat": 4,
 "nbformat_minor": 4
}
